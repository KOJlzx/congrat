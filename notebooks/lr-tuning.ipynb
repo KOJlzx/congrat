{
 "cells": [
  {
   "cell_type": "code",
   "execution_count": 1,
   "id": "1b3c874e-9130-4c4a-b46a-bd5d4aa53a67",
   "metadata": {
    "tags": []
   },
   "outputs": [
    {
     "name": "stderr",
     "output_type": "stream",
     "text": [
      "Matplotlib created a temporary config/cache directory at /tmp/matplotlib-ziud9k5c because the default path (/mas/u/wbrannon/.config/matplotlib) is not a writable directory; it is highly recommended to set the MPLCONFIGDIR environment variable to a writable directory, in particular to speed up the import of Matplotlib and to better support multiprocessing.\n"
     ]
    }
   ],
   "source": [
    "import os\n",
    "\n",
    "import pytorch_lightning as pl\n",
    "\n",
    "import matplotlib as mp\n",
    "%matplotlib inline\n",
    "import matplotlib.pyplot as plt\n",
    "\n",
    "from clip_graph import lit as lg\n",
    "from clip_graph import GraphTextsDataModule"
   ]
  },
  {
   "cell_type": "code",
   "execution_count": 2,
   "id": "a107a912-4c1c-4a3a-bced-1ab02b5cc48a",
   "metadata": {},
   "outputs": [],
   "source": [
    "os.chdir(os.path.expanduser('~/github/clip-graph'))"
   ]
  },
  {
   "cell_type": "code",
   "execution_count": 3,
   "id": "8f93b777-279e-4bce-8777-5f4751d4d745",
   "metadata": {},
   "outputs": [],
   "source": [
    "seed = 2969591811"
   ]
  },
  {
   "cell_type": "code",
   "execution_count": 4,
   "id": "989ead9a-b8e9-4e3a-84a3-f5d127501a0a",
   "metadata": {},
   "outputs": [
    {
     "name": "stderr",
     "output_type": "stream",
     "text": [
      "Global seed set to 2969591811\n"
     ]
    },
    {
     "data": {
      "text/plain": [
       "2969591811"
      ]
     },
     "execution_count": 4,
     "metadata": {},
     "output_type": "execute_result"
    }
   ],
   "source": [
    "pl.seed_everything(seed, workers=True)"
   ]
  },
  {
   "cell_type": "markdown",
   "id": "98d7e81a-d6e6-48bc-818f-0cb7788b665f",
   "metadata": {},
   "source": [
    "# Load data"
   ]
  },
  {
   "cell_type": "code",
   "execution_count": 5,
   "id": "98be59c0-647d-4286-a811-13a94c2ae2b9",
   "metadata": {},
   "outputs": [
    {
     "data": {
      "text/plain": [
       "<clip_graph.data.datamodule.GraphTextsDataModule at 0x7f60cdf44430>"
      ]
     },
     "execution_count": 5,
     "metadata": {},
     "output_type": "execute_result"
    }
   ],
   "source": [
    "dm = GraphTextsDataModule(\n",
    "    data_dir = 'data',\n",
    "    mlm = False,\n",
    "    batch_size = 64,\n",
    "    num_workers = -1,\n",
    "    pin_memory = True,\n",
    "\n",
    "    # should match what was used for mpnet pretraining and our pretraining\n",
    "    tokenizer = 'sentence-transformers/all-mpnet-base-v2',\n",
    ")\n",
    "\n",
    "dm.prepare_data()\n",
    "dm.setup()"
   ]
  },
  {
   "cell_type": "markdown",
   "id": "abbaedd9-396a-41b9-8583-185d8adbb12c",
   "metadata": {},
   "source": [
    "# Load models"
   ]
  },
  {
   "cell_type": "code",
   "execution_count": 6,
   "id": "be024a75-f548-44a3-8234-6a6cc9a212cd",
   "metadata": {},
   "outputs": [
    {
     "name": "stderr",
     "output_type": "stream",
     "text": [
      "Some weights of MPNetForMaskedLM were not initialized from the model checkpoint at sentence-transformers/all-mpnet-base-v2 and are newly initialized: ['lm_head.decoder.bias', 'lm_head.bias', 'lm_head.layer_norm.bias', 'lm_head.dense.bias', 'lm_head.decoder.weight', 'lm_head.layer_norm.weight', 'lm_head.dense.weight']\n",
      "You should probably TRAIN this model on a down-stream task to be able to use it for predictions and inference.\n"
     ]
    }
   ],
   "source": [
    "trainable = lg.LitClipGraph(\n",
    "        embed_dim = 768,\n",
    "        dropout = 0.0,\n",
    "        tau_init = 3.07,\n",
    "\n",
    "        gnn_ckpt_path = 'lightning_logs/version_628/checkpoints/epoch=148-step=149.ckpt',\n",
    "        gnn_ckpt_dropout = 0,\n",
    "    \n",
    "        lm_ckpt_path = 'lightning_logs/version_557/checkpoints/epoch=2-step=197361.ckpt',\n",
    "        lm_pooling_mode = 'mean',\n",
    "        lm_normalize = True,\n",
    "\n",
    "        lr = 1.0e-4,\n",
    "        weight_decay = 0,\n",
    "        eps = 1.0e-6,\n",
    "        betas = (0.9, 0.999),\n",
    ")"
   ]
  },
  {
   "cell_type": "code",
   "execution_count": 7,
   "id": "febf67f2-e16d-4299-89d7-cec1a213cc4c",
   "metadata": {},
   "outputs": [
    {
     "name": "stderr",
     "output_type": "stream",
     "text": [
      "/u/wbrannon/miniconda3/envs/dl/lib/python3.9/site-packages/pytorch_lightning/loops/utilities.py:91: PossibleUserWarning: `max_epochs` was not set. Setting it to 1000 epochs. To train without an epoch limit, set `max_epochs=-1`.\n",
      "  rank_zero_warn(\n",
      "GPU available: True, used: True\n",
      "TPU available: False, using: 0 TPU cores\n",
      "IPU available: False, using: 0 IPUs\n",
      "HPU available: False, using: 0 HPUs\n"
     ]
    }
   ],
   "source": [
    "train_args = {\n",
    "    'gpus': [1],\n",
    "    'strategy': 'dp',\n",
    "    \n",
    "    'logger': False,\n",
    "    'enable_checkpointing': False,\n",
    "\n",
    "    'auto_lr_find': True,\n",
    "}\n",
    "\n",
    "trainer = pl.Trainer(**train_args)"
   ]
  },
  {
   "cell_type": "markdown",
   "id": "26a732cb-d898-47f9-9249-002bd9b73211",
   "metadata": {},
   "source": [
    "# Tune LR"
   ]
  },
  {
   "cell_type": "code",
   "execution_count": 8,
   "id": "3d40bdc3-38e4-4d49-807b-252ff7f0b003",
   "metadata": {},
   "outputs": [
    {
     "name": "stderr",
     "output_type": "stream",
     "text": [
      "LOCAL_RANK: 0 - CUDA_VISIBLE_DEVICES: [0,1,2,3]\n"
     ]
    },
    {
     "data": {
      "application/vnd.jupyter.widget-view+json": {
       "model_id": "d3bdc48977424699b42810fa6321e0da",
       "version_major": 2,
       "version_minor": 0
      },
      "text/plain": [
       "Finding best initial lr:   0%|          | 0/100 [00:00<?, ?it/s]"
      ]
     },
     "metadata": {},
     "output_type": "display_data"
    },
    {
     "name": "stderr",
     "output_type": "stream",
     "text": [
      "Restoring states from the checkpoint path at /u/wbrannon/github/clip-graph/.lr_find_5d860ace-53b1-455e-bdc7-1b91bdccbda3.ckpt\n",
      "Learning rate set to 0.0199526231496888\n"
     ]
    },
    {
     "data": {
      "image/png": "[encoded data removed]",
      "text/plain": [
       "<Figure size 432x288 with 1 Axes>"
      ]
     },
     "metadata": {
      "needs_background": "light"
     },
     "output_type": "display_data"
    }
   ],
   "source": [
    "finder = trainer.tune(\n",
    "    trainable,\n",
    "    dm.train_dataloader(),\n",
    "    dm.val_dataloader(),\n",
    "    lr_find_kwargs={'max_lr': 100}\n",
    ")['lr_find']\n",
    "\n",
    "lr = finder.suggestion()\n",
    "fig = finder.plot(suggest=True)\n",
    "plt.title('Best LR = ' + str(lr))\n",
    "plt.show()"
   ]
  },
  {
   "cell_type": "code",
   "execution_count": null,
   "id": "e2df621b-df49-4be3-98b0-9ac338e938bb",
   "metadata": {},
   "outputs": [],
   "source": []
  }
 ],
 "metadata": {
  "kernelspec": {
   "display_name": "DL (ipykernel)",
   "language": "python",
   "name": "dl"
  },
  "language_info": {
   "codemirror_mode": {
    "name": "ipython",
    "version": 3
   },
   "file_extension": ".py",
   "mimetype": "text/x-python",
   "name": "python",
   "nbconvert_exporter": "python",
   "pygments_lexer": "ipython3",
   "version": "3.9.0"
  },
  "widgets": {
   "application/vnd.jupyter.widget-state+json": {
    "state": {
     "0003d6a455014136b221f95ea78e45d3": {
      "model_module": "@jupyter-widgets/controls",
      "model_module_version": "1.5.0",
      "model_name": "ProgressStyleModel",
      "state": {
       "description_width": "initial"
      }
     },
     "00f258a3f84e44eead5dc1fb9e57d2da": {
      "model_module": "@jupyter-widgets/base",
      "model_module_version": "1.2.0",
      "model_name": "LayoutModel",
      "state": {
       "flex": "2"
      }
     },
     "015d77945d9a4ae78129f7a16963dd2d": {
      "model_module": "@jupyter-widgets/controls",
      "model_module_version": "1.5.0",
      "model_name": "DescriptionStyleModel",
      "state": {
       "description_width": ""
      }
     },
     "025e2c4ce4b74c1790144eba920145cd": {
      "model_module": "@jupyter-widgets/controls",
      "model_module_version": "1.5.0",
      "model_name": "HBoxModel",
      "state": {
       "children": [
        "IPY_MODEL_83ac2c74f328404ebf45f05cfbeff8ec",
        "IPY_MODEL_906b3bd771b147eb93a50d10a2ad0e71"
       ],
       "layout": "IPY_MODEL_d3992ef8d1804bb0a6032246ba698b83"
      }
     },
     "0538d933a3d748679a9d049d180cff62": {
      "model_module": "@jupyter-widgets/controls",
      "model_module_version": "1.5.0",
      "model_name": "HTMLModel",
      "state": {
       "layout": "IPY_MODEL_9a59522dc5a647cf9680d9d3c39dc3a8",
       "style": "IPY_MODEL_a83aa1f13b154d878897376e85362233",
       "value": " 1/1 [00:00&lt;00:00, 45.33it/s]"
      }
     },
     "07892403222e4d94a9c904537ca9d307": {
      "model_module": "@jupyter-widgets/base",
      "model_module_version": "1.2.0",
      "model_name": "LayoutModel",
      "state": {
       "flex": "2"
      }
     },
     "07b480cbdc484456a943bb6a99a2aecb": {
      "model_module": "@jupyter-widgets/controls",
      "model_module_version": "1.5.0",
      "model_name": "DescriptionStyleModel",
      "state": {
       "description_width": ""
      }
     },
     "080170da415d47909c78e7d0237688f6": {
      "model_module": "@jupyter-widgets/controls",
      "model_module_version": "1.5.0",
      "model_name": "HBoxModel",
      "state": {
       "children": [
        "IPY_MODEL_a1f15474775e41f9add2e31d5bff9078",
        "IPY_MODEL_f778307e3ace42759a95dce8693fbfbf"
       ],
       "layout": "IPY_MODEL_e615169d0f0f4b70b229cb671292573d"
      }
     },
     "0bf2df5c69704ab1b4d93429531ddf73": {
      "model_module": "@jupyter-widgets/controls",
      "model_module_version": "1.5.0",
      "model_name": "FloatProgressModel",
      "state": {
       "bar_style": "info",
       "description": "Validating: 100%",
       "layout": "IPY_MODEL_398f86f9898949078acb4b60a4d58463",
       "max": 1,
       "style": "IPY_MODEL_9ab2857c182f4ba6b963cd0019d4a8fb",
       "value": 1
      }
     },
     "0c1505619b4a42fd936bb8e0aed014ea": {
      "model_module": "@jupyter-widgets/base",
      "model_module_version": "1.2.0",
      "model_name": "LayoutModel",
      "state": {}
     },
     "0d37cf54c87541989aac5fc0bcbc8d31": {
      "model_module": "@jupyter-widgets/controls",
      "model_module_version": "1.5.0",
      "model_name": "FloatProgressModel",
      "state": {
       "bar_style": "info",
       "description": "Validating: 100%",
       "layout": "IPY_MODEL_30a9c096f0d64fcaabf9659fc374d671",
       "max": 1,
       "style": "IPY_MODEL_a778835609054602a28c4bbf597b0901",
       "value": 1
      }
     },
     "0e103b21adcb47de8706c55daba54c2a": {
      "model_module": "@jupyter-widgets/base",
      "model_module_version": "1.2.0",
      "model_name": "LayoutModel",
      "state": {}
     },
     "0e7200f60add415a89dadf1792fff55b": {
      "model_module": "@jupyter-widgets/controls",
      "model_module_version": "1.5.0",
      "model_name": "FloatProgressModel",
      "state": {
       "bar_style": "info",
       "description": "Validation sanity check: 100%",
       "layout": "IPY_MODEL_fc068e52e95940b38f6db68b89525bee",
       "max": 1,
       "style": "IPY_MODEL_3c8b635155a3497e91ca24f78c2e30b9",
       "value": 1
      }
     },
     "0ebfe7c734634c11bff82e852d6f1919": {
      "model_module": "@jupyter-widgets/controls",
      "model_module_version": "1.5.0",
      "model_name": "HBoxModel",
      "state": {
       "children": [
        "IPY_MODEL_287179ee1f064e94b654dc9098066a68",
        "IPY_MODEL_159169f4d79943c3b80d048c89d220f2"
       ],
       "layout": "IPY_MODEL_24292ab96b694b0ba71d1afb631577a4"
      }
     },
     "11b14c9878dd4a4aa10d5bbdb5699b5e": {
      "model_module": "@jupyter-widgets/controls",
      "model_module_version": "1.5.0",
      "model_name": "DescriptionStyleModel",
      "state": {
       "description_width": ""
      }
     },
     "14778f298a9b4896be8420c3ab156018": {
      "model_module": "@jupyter-widgets/base",
      "model_module_version": "1.2.0",
      "model_name": "LayoutModel",
      "state": {
       "flex": "2"
      }
     },
     "159169f4d79943c3b80d048c89d220f2": {
      "model_module": "@jupyter-widgets/controls",
      "model_module_version": "1.5.0",
      "model_name": "HTMLModel",
      "state": {
       "layout": "IPY_MODEL_60e926c2d83f44978b8b8f05bbaba597",
       "style": "IPY_MODEL_96b6211231d24d459eb0b245d37fdcad",
       "value": " 1/1 [00:00&lt;00:00, 18.13it/s]"
      }
     },
     "15bb60cac730494ca1ba61943cfeaf30": {
      "model_module": "@jupyter-widgets/controls",
      "model_module_version": "1.5.0",
      "model_name": "ProgressStyleModel",
      "state": {
       "description_width": "initial"
      }
     },
     "165a36b1a26b4416aa0ddf17795e4550": {
      "model_module": "@jupyter-widgets/base",
      "model_module_version": "1.2.0",
      "model_name": "LayoutModel",
      "state": {}
     },
     "16cf75c0817843e5bf0f0d99ba2fac6a": {
      "model_module": "@jupyter-widgets/base",
      "model_module_version": "1.2.0",
      "model_name": "LayoutModel",
      "state": {
       "display": "inline-flex",
       "flex_flow": "row wrap",
       "width": "100%"
      }
     },
     "183e87918fd64b4eb0e4aebee4475277": {
      "model_module": "@jupyter-widgets/base",
      "model_module_version": "1.2.0",
      "model_name": "LayoutModel",
      "state": {
       "display": "inline-flex",
       "flex_flow": "row wrap",
       "width": "100%"
      }
     },
     "185fb7cae59f4a0b890107e2d5ffdee3": {
      "model_module": "@jupyter-widgets/controls",
      "model_module_version": "1.5.0",
      "model_name": "ProgressStyleModel",
      "state": {
       "description_width": "initial"
      }
     },
     "196729d62b664e208022c40118329f23": {
      "model_module": "@jupyter-widgets/base",
      "model_module_version": "1.2.0",
      "model_name": "LayoutModel",
      "state": {
       "display": "inline-flex",
       "flex_flow": "row wrap",
       "width": "100%"
      }
     },
     "1b28e98145274e77a1094d07cb45ed79": {
      "model_module": "@jupyter-widgets/controls",
      "model_module_version": "1.5.0",
      "model_name": "DescriptionStyleModel",
      "state": {
       "description_width": ""
      }
     },
     "1d4ed966a60e4e1daffccbac58060a9c": {
      "model_module": "@jupyter-widgets/controls",
      "model_module_version": "1.5.0",
      "model_name": "ProgressStyleModel",
      "state": {
       "description_width": "initial"
      }
     },
     "1d57c12cd627417ab162ea1765f09dad": {
      "model_module": "@jupyter-widgets/controls",
      "model_module_version": "1.5.0",
      "model_name": "DescriptionStyleModel",
      "state": {
       "description_width": ""
      }
     },
     "1d7b4eaf8c594e94bbabe3b506fc8ad1": {
      "model_module": "@jupyter-widgets/controls",
      "model_module_version": "1.5.0",
      "model_name": "ProgressStyleModel",
      "state": {
       "description_width": "initial"
      }
     },
     "20cccd2c4ada44bbbcc953ee80a44f45": {
      "model_module": "@jupyter-widgets/controls",
      "model_module_version": "1.5.0",
      "model_name": "HTMLModel",
      "state": {
       "layout": "IPY_MODEL_458057a57a684ad2ba6ce0252370182b",
       "style": "IPY_MODEL_cb0900b0042f4c2f988cd3d37db2418e",
       "value": " 1/1 [00:00&lt;00:00, 17.81it/s]"
      }
     },
     "2111364703594ae8baf69effca73a0ac": {
      "model_module": "@jupyter-widgets/controls",
      "model_module_version": "1.5.0",
      "model_name": "FloatProgressModel",
      "state": {
       "bar_style": "success",
       "description": "Epoch 0: 100%",
       "layout": "IPY_MODEL_2f9b694de60f404ba93ec4bf77ac6e95",
       "max": 101,
       "style": "IPY_MODEL_84b8096320af4de8a23d3f68e707ac3a",
       "value": 101
      }
     },
     "24292ab96b694b0ba71d1afb631577a4": {
      "model_module": "@jupyter-widgets/base",
      "model_module_version": "1.2.0",
      "model_name": "LayoutModel",
      "state": {
       "display": "inline-flex",
       "flex_flow": "row wrap",
       "width": "100%"
      }
     },
     "2554cb56f76e4a2db7af322b574dc4a7": {
      "model_module": "@jupyter-widgets/base",
      "model_module_version": "1.2.0",
      "model_name": "LayoutModel",
      "state": {
       "display": "inline-flex",
       "flex_flow": "row wrap",
       "width": "100%"
      }
     },
     "25978e6f743c40479d02d5a155c55885": {
      "model_module": "@jupyter-widgets/base",
      "model_module_version": "1.2.0",
      "model_name": "LayoutModel",
      "state": {
       "flex": "2"
      }
     },
     "287179ee1f064e94b654dc9098066a68": {
      "model_module": "@jupyter-widgets/controls",
      "model_module_version": "1.5.0",
      "model_name": "FloatProgressModel",
      "state": {
       "bar_style": "success",
       "description": "Testing: 100%",
       "layout": "IPY_MODEL_56cf0952d7db46d4b95f321ff5f83ba8",
       "max": 1,
       "style": "IPY_MODEL_f2244a41d0df49f88827c4a0b5dec090",
       "value": 1
      }
     },
     "28f9ff88b9c64c429723d3372cf1793d": {
      "model_module": "@jupyter-widgets/controls",
      "model_module_version": "1.5.0",
      "model_name": "HTMLModel",
      "state": {
       "layout": "IPY_MODEL_779433455d0b4a4aa94a0587c01955c1",
       "style": "IPY_MODEL_4d5271081104454ab4c6fe9e93e7e68a",
       "value": " 1/1 [00:00&lt;00:00, 51.24it/s]"
      }
     },
     "298b7f4e92bf4c43bae2aeec756ca0c3": {
      "model_module": "@jupyter-widgets/controls",
      "model_module_version": "1.5.0",
      "model_name": "HTMLModel",
      "state": {
       "layout": "IPY_MODEL_5e3fd9ae7f0f41a29b3ad426d7422b8c",
       "style": "IPY_MODEL_9d0f1954c05f41b0abaa8c8078f8ddb9",
       "value": " 1/1 [00:00&lt;00:00, 50.98it/s]"
      }
     },
     "2a16742076094c09b157de7a842154fb": {
      "model_module": "@jupyter-widgets/base",
      "model_module_version": "1.2.0",
      "model_name": "LayoutModel",
      "state": {}
     },
     "2c12e3c6d1234d04aae644a8eb0a4abd": {
      "model_module": "@jupyter-widgets/base",
      "model_module_version": "1.2.0",
      "model_name": "LayoutModel",
      "state": {
       "display": "inline-flex",
       "flex_flow": "row wrap",
       "width": "100%"
      }
     },
     "2e5fa9a5d1394b9abf3ed5fbb3930ec0": {
      "model_module": "@jupyter-widgets/base",
      "model_module_version": "1.2.0",
      "model_name": "LayoutModel",
      "state": {
       "display": "inline-flex",
       "flex_flow": "row wrap",
       "width": "100%"
      }
     },
     "2ed17e96c9884f33b92c4fa2a8e81fc9": {
      "model_module": "@jupyter-widgets/base",
      "model_module_version": "1.2.0",
      "model_name": "LayoutModel",
      "state": {}
     },
     "2f9b694de60f404ba93ec4bf77ac6e95": {
      "model_module": "@jupyter-widgets/base",
      "model_module_version": "1.2.0",
      "model_name": "LayoutModel",
      "state": {
       "flex": "2"
      }
     },
     "30a9c096f0d64fcaabf9659fc374d671": {
      "model_module": "@jupyter-widgets/base",
      "model_module_version": "1.2.0",
      "model_name": "LayoutModel",
      "state": {
       "flex": "2"
      }
     },
     "30e8194423ba4620a977970afa8c619a": {
      "model_module": "@jupyter-widgets/controls",
      "model_module_version": "1.5.0",
      "model_name": "ProgressStyleModel",
      "state": {
       "description_width": "initial"
      }
     },
     "310fefb550c0414b9478269fdcb4dc0a": {
      "model_module": "@jupyter-widgets/controls",
      "model_module_version": "1.5.0",
      "model_name": "DescriptionStyleModel",
      "state": {
       "description_width": ""
      }
     },
     "326fd80cfb5d4f18b8d278caddd5f9be": {
      "model_module": "@jupyter-widgets/base",
      "model_module_version": "1.2.0",
      "model_name": "LayoutModel",
      "state": {}
     },
     "34ffea98cc97429786a33fda1643a3c4": {
      "model_module": "@jupyter-widgets/controls",
      "model_module_version": "1.5.0",
      "model_name": "ProgressStyleModel",
      "state": {
       "description_width": "initial"
      }
     },
     "366001e8e71142449911ac620b23dbcb": {
      "model_module": "@jupyter-widgets/controls",
      "model_module_version": "1.5.0",
      "model_name": "DescriptionStyleModel",
      "state": {
       "description_width": ""
      }
     },
     "37d577a6d83945a483d9cf0df0d2c3ad": {
      "model_module": "@jupyter-widgets/base",
      "model_module_version": "1.2.0",
      "model_name": "LayoutModel",
      "state": {
       "display": "inline-flex",
       "flex_flow": "row wrap",
       "width": "100%"
      }
     },
     "390164146937410faf27a518aff5c306": {
      "model_module": "@jupyter-widgets/controls",
      "model_module_version": "1.5.0",
      "model_name": "HTMLModel",
      "state": {
       "layout": "IPY_MODEL_b8a071c275064d62bae25f349e80f635",
       "style": "IPY_MODEL_310fefb550c0414b9478269fdcb4dc0a",
       "value": " 101/101 [00:42&lt;00:00,  2.40it/s, loss=0.0146, v_num=57, val_loss_step=0.0136, val_loss_epoch=0.0136, train_loss_step=0.0145, train_loss_epoch=0.0264]"
      }
     },
     "398f86f9898949078acb4b60a4d58463": {
      "model_module": "@jupyter-widgets/base",
      "model_module_version": "1.2.0",
      "model_name": "LayoutModel",
      "state": {
       "flex": "2"
      }
     },
     "3a1bb3ede5a84bc8a94f0076009abceb": {
      "model_module": "@jupyter-widgets/base",
      "model_module_version": "1.2.0",
      "model_name": "LayoutModel",
      "state": {
       "display": "inline-flex",
       "flex_flow": "row wrap",
       "width": "100%"
      }
     },
     "3a6e1c9882ed4d6b946e3237ab4a3323": {
      "model_module": "@jupyter-widgets/base",
      "model_module_version": "1.2.0",
      "model_name": "LayoutModel",
      "state": {}
     },
     "3af9be13724f411eb418c54ead642207": {
      "model_module": "@jupyter-widgets/base",
      "model_module_version": "1.2.0",
      "model_name": "LayoutModel",
      "state": {
       "flex": "2"
      }
     },
     "3b2ecebb49b5481c87fb1d693f55f07c": {
      "model_module": "@jupyter-widgets/base",
      "model_module_version": "1.2.0",
      "model_name": "LayoutModel",
      "state": {
       "flex": "2"
      }
     },
     "3b61f0ba3ebf4c069ab3ad26bdbbda0a": {
      "model_module": "@jupyter-widgets/base",
      "model_module_version": "1.2.0",
      "model_name": "LayoutModel",
      "state": {
       "flex": "2"
      }
     },
     "3c8b635155a3497e91ca24f78c2e30b9": {
      "model_module": "@jupyter-widgets/controls",
      "model_module_version": "1.5.0",
      "model_name": "ProgressStyleModel",
      "state": {
       "description_width": "initial"
      }
     },
     "41687017647446339bca960de88a82f1": {
      "model_module": "@jupyter-widgets/base",
      "model_module_version": "1.2.0",
      "model_name": "LayoutModel",
      "state": {
       "flex": "2"
      }
     },
     "423f0547179547d4ab6f0397bd4a4698": {
      "model_module": "@jupyter-widgets/base",
      "model_module_version": "1.2.0",
      "model_name": "LayoutModel",
      "state": {
       "display": "inline-flex",
       "flex_flow": "row wrap",
       "width": "100%"
      }
     },
     "42566d4ebc724601abd82383af2f449d": {
      "model_module": "@jupyter-widgets/controls",
      "model_module_version": "1.5.0",
      "model_name": "ProgressStyleModel",
      "state": {
       "description_width": "initial"
      }
     },
     "42ef3674e8544646898ef4578e9e661b": {
      "model_module": "@jupyter-widgets/controls",
      "model_module_version": "1.5.0",
      "model_name": "DescriptionStyleModel",
      "state": {
       "description_width": ""
      }
     },
     "446fa871a98e4ec499a5bd8a44b671a9": {
      "model_module": "@jupyter-widgets/controls",
      "model_module_version": "1.5.0",
      "model_name": "DescriptionStyleModel",
      "state": {
       "description_width": ""
      }
     },
     "44bebafdb2ff4e5f889faabe7494a654": {
      "model_module": "@jupyter-widgets/base",
      "model_module_version": "1.2.0",
      "model_name": "LayoutModel",
      "state": {
       "display": "inline-flex",
       "flex_flow": "row wrap",
       "width": "100%"
      }
     },
     "458057a57a684ad2ba6ce0252370182b": {
      "model_module": "@jupyter-widgets/base",
      "model_module_version": "1.2.0",
      "model_name": "LayoutModel",
      "state": {}
     },
     "460b28facd0545b68fb1d6224238def9": {
      "model_module": "@jupyter-widgets/controls",
      "model_module_version": "1.5.0",
      "model_name": "DescriptionStyleModel",
      "state": {
       "description_width": ""
      }
     },
     "464052d5dee14de4b6b56e0d97dfc677": {
      "model_module": "@jupyter-widgets/base",
      "model_module_version": "1.2.0",
      "model_name": "LayoutModel",
      "state": {
       "display": "inline-flex",
       "flex_flow": "row wrap",
       "width": "100%"
      }
     },
     "4793febe8177478091e33aa9644ff21d": {
      "model_module": "@jupyter-widgets/controls",
      "model_module_version": "1.5.0",
      "model_name": "ProgressStyleModel",
      "state": {
       "description_width": "initial"
      }
     },
     "48bb10308a5b43dbb77c4233bf24878d": {
      "model_module": "@jupyter-widgets/controls",
      "model_module_version": "1.5.0",
      "model_name": "FloatProgressModel",
      "state": {
       "bar_style": "info",
       "description": "Validating: 100%",
       "layout": "IPY_MODEL_f2a89764ca8a409faf3ecad116ad5598",
       "max": 1,
       "style": "IPY_MODEL_34ffea98cc97429786a33fda1643a3c4",
       "value": 1
      }
     },
     "49a8780ea47c485aba25a2c612e791ba": {
      "model_module": "@jupyter-widgets/controls",
      "model_module_version": "1.5.0",
      "model_name": "HTMLModel",
      "state": {
       "layout": "IPY_MODEL_86bf42a1e0f642e0ad57515dede998cd",
       "style": "IPY_MODEL_015d77945d9a4ae78129f7a16963dd2d",
       "value": " 1/1 [00:00&lt;00:00, 46.53it/s]"
      }
     },
     "4a0a1b3f0a364069874736495133bdcc": {
      "model_module": "@jupyter-widgets/controls",
      "model_module_version": "1.5.0",
      "model_name": "FloatProgressModel",
      "state": {
       "bar_style": "info",
       "description": "Validating: 100%",
       "layout": "IPY_MODEL_5c0b071cf7984ed58934235c94efc02c",
       "max": 1,
       "style": "IPY_MODEL_914c7b93cbf04807b538f7948025bfbd",
       "value": 1
      }
     },
     "4a43b6b846694564bace217dea769955": {
      "model_module": "@jupyter-widgets/base",
      "model_module_version": "1.2.0",
      "model_name": "LayoutModel",
      "state": {
       "flex": "2"
      }
     },
     "4b83edbf49884e28a224a578e6194f29": {
      "model_module": "@jupyter-widgets/controls",
      "model_module_version": "1.5.0",
      "model_name": "FloatProgressModel",
      "state": {
       "bar_style": "success",
       "description": "Epoch 0: 100%",
       "layout": "IPY_MODEL_4a43b6b846694564bace217dea769955",
       "max": 101,
       "style": "IPY_MODEL_1d4ed966a60e4e1daffccbac58060a9c",
       "value": 101
      }
     },
     "4ca9677af00d4df08f56fbe225e37452": {
      "model_module": "@jupyter-widgets/base",
      "model_module_version": "1.2.0",
      "model_name": "LayoutModel",
      "state": {
       "flex": "2"
      }
     },
     "4d26f45502ac4085adab2825b21493d5": {
      "model_module": "@jupyter-widgets/base",
      "model_module_version": "1.2.0",
      "model_name": "LayoutModel",
      "state": {}
     },
     "4d4447dd675c41b5bc73f1d1903e9f68": {
      "model_module": "@jupyter-widgets/controls",
      "model_module_version": "1.5.0",
      "model_name": "DescriptionStyleModel",
      "state": {
       "description_width": ""
      }
     },
     "4d5271081104454ab4c6fe9e93e7e68a": {
      "model_module": "@jupyter-widgets/controls",
      "model_module_version": "1.5.0",
      "model_name": "DescriptionStyleModel",
      "state": {
       "description_width": ""
      }
     },
     "4d9ac91c1bd44cb0a796475eda7aa668": {
      "model_module": "@jupyter-widgets/controls",
      "model_module_version": "1.5.0",
      "model_name": "FloatProgressModel",
      "state": {
       "bar_style": "info",
       "description": "Validation sanity check: 100%",
       "layout": "IPY_MODEL_9bc092557c4146dda870821ed674b624",
       "max": 1,
       "style": "IPY_MODEL_1d7b4eaf8c594e94bbabe3b506fc8ad1",
       "value": 1
      }
     },
     "4da86c262d024386ad6847bf466b20fa": {
      "model_module": "@jupyter-widgets/controls",
      "model_module_version": "1.5.0",
      "model_name": "HBoxModel",
      "state": {
       "children": [
        "IPY_MODEL_50d8cdf3371745bb86d4b9ebd9baa781",
        "IPY_MODEL_f2bfd40eeece4fb38c443b04b34b8b60"
       ],
       "layout": "IPY_MODEL_9b0a8e9b716d43df9efc62894c3be438"
      }
     },
     "4db88e9d7a8b41429068abdff5c0392c": {
      "model_module": "@jupyter-widgets/controls",
      "model_module_version": "1.5.0",
      "model_name": "DescriptionStyleModel",
      "state": {
       "description_width": ""
      }
     },
     "4e6b67711eaa4449b6c0bc43317e4398": {
      "model_module": "@jupyter-widgets/base",
      "model_module_version": "1.2.0",
      "model_name": "LayoutModel",
      "state": {
       "display": "inline-flex",
       "flex_flow": "row wrap",
       "width": "100%"
      }
     },
     "4f01f4f6b13b4d6d9e73de11e00fa8c2": {
      "model_module": "@jupyter-widgets/controls",
      "model_module_version": "1.5.0",
      "model_name": "HTMLModel",
      "state": {
       "layout": "IPY_MODEL_0c1505619b4a42fd936bb8e0aed014ea",
       "style": "IPY_MODEL_07b480cbdc484456a943bb6a99a2aecb",
       "value": " 101/101 [00:24&lt;00:00,  4.09it/s, loss=0.253, v_num=58, val_loss_step=1.680, val_loss_epoch=1.680, train_loss_step=0.223, train_loss_epoch=0.604]"
      }
     },
     "4f372a3c5c4a45cba207e5b7a77b2838": {
      "model_module": "@jupyter-widgets/base",
      "model_module_version": "1.2.0",
      "model_name": "LayoutModel",
      "state": {}
     },
     "50d8cdf3371745bb86d4b9ebd9baa781": {
      "model_module": "@jupyter-widgets/controls",
      "model_module_version": "1.5.0",
      "model_name": "FloatProgressModel",
      "state": {
       "bar_style": "success",
       "description": "Epoch 0: 100%",
       "layout": "IPY_MODEL_9aa49bdcc8174b16b0c8bbef17e4bf0c",
       "max": 101,
       "style": "IPY_MODEL_88793dd4fcae407ab5972226ab47eb67",
       "value": 101
      }
     },
     "514c9083de484b199fba702857d84c14": {
      "model_module": "@jupyter-widgets/base",
      "model_module_version": "1.2.0",
      "model_name": "LayoutModel",
      "state": {
       "display": "inline-flex",
       "flex_flow": "row wrap",
       "width": "100%"
      }
     },
     "526eed9c685740b78ce897cdf9fa1348": {
      "model_module": "@jupyter-widgets/controls",
      "model_module_version": "1.5.0",
      "model_name": "FloatProgressModel",
      "state": {
       "bar_style": "info",
       "description": "Validation sanity check: 100%",
       "layout": "IPY_MODEL_3b61f0ba3ebf4c069ab3ad26bdbbda0a",
       "max": 1,
       "style": "IPY_MODEL_a54387c88d284f78a2099ab0d4d7feff",
       "value": 1
      }
     },
     "52d53b92a2dc4b8395ce6ffd7eafde5c": {
      "model_module": "@jupyter-widgets/controls",
      "model_module_version": "1.5.0",
      "model_name": "HTMLModel",
      "state": {
       "layout": "IPY_MODEL_d6bce9912c10427688627643748dd332",
       "style": "IPY_MODEL_be647b6bdd7444798d24e708ba5c039b",
       "value": " 1/1 [00:00&lt;00:00, 53.15it/s]"
      }
     },
     "52f23c0daf7949d6b20da2816a821d0e": {
      "model_module": "@jupyter-widgets/controls",
      "model_module_version": "1.5.0",
      "model_name": "FloatProgressModel",
      "state": {
       "bar_style": "success",
       "description": "Testing: 100%",
       "layout": "IPY_MODEL_07892403222e4d94a9c904537ca9d307",
       "max": 1,
       "style": "IPY_MODEL_e367725a2b774e28bd950338362884b1",
       "value": 1
      }
     },
     "53daba5539834ab380c68226cb51f04b": {
      "model_module": "@jupyter-widgets/base",
      "model_module_version": "1.2.0",
      "model_name": "LayoutModel",
      "state": {}
     },
     "553aecf5f19149e0b2bce68fd3711e0f": {
      "model_module": "@jupyter-widgets/controls",
      "model_module_version": "1.5.0",
      "model_name": "FloatProgressModel",
      "state": {
       "bar_style": "info",
       "description": "Validating: 100%",
       "layout": "IPY_MODEL_00f258a3f84e44eead5dc1fb9e57d2da",
       "max": 1,
       "style": "IPY_MODEL_b8c702bee7d542848dec2dae8027ceca",
       "value": 1
      }
     },
     "555c420d59464fca883285d616d09826": {
      "model_module": "@jupyter-widgets/base",
      "model_module_version": "1.2.0",
      "model_name": "LayoutModel",
      "state": {
       "flex": "2"
      }
     },
     "55d3a8f1cfdc4275a5b3b2e349b9cc83": {
      "model_module": "@jupyter-widgets/base",
      "model_module_version": "1.2.0",
      "model_name": "LayoutModel",
      "state": {
       "display": "inline-flex",
       "flex_flow": "row wrap",
       "width": "100%"
      }
     },
     "56cf0952d7db46d4b95f321ff5f83ba8": {
      "model_module": "@jupyter-widgets/base",
      "model_module_version": "1.2.0",
      "model_name": "LayoutModel",
      "state": {
       "flex": "2"
      }
     },
     "5959736a822544fdbb41163cf999902a": {
      "model_module": "@jupyter-widgets/controls",
      "model_module_version": "1.5.0",
      "model_name": "FloatProgressModel",
      "state": {
       "bar_style": "info",
       "description": "Validating: 100%",
       "layout": "IPY_MODEL_f831543dce424746881e8dc87f761c4c",
       "max": 1,
       "style": "IPY_MODEL_4793febe8177478091e33aa9644ff21d",
       "value": 1
      }
     },
     "59c596e250b74c85ae725e3b0f4a352d": {
      "model_module": "@jupyter-widgets/controls",
      "model_module_version": "1.5.0",
      "model_name": "HTMLModel",
      "state": {
       "layout": "IPY_MODEL_326fd80cfb5d4f18b8d278caddd5f9be",
       "style": "IPY_MODEL_446fa871a98e4ec499a5bd8a44b671a9",
       "value": " 101/101 [00:24&lt;00:00,  4.12it/s, loss=0.0197, v_num=59, val_loss_step=0.00268, val_loss_epoch=0.00268, train_loss_step=0.0177, train_loss_epoch=0.0397]"
      }
     },
     "5c0b071cf7984ed58934235c94efc02c": {
      "model_module": "@jupyter-widgets/base",
      "model_module_version": "1.2.0",
      "model_name": "LayoutModel",
      "state": {
       "flex": "2"
      }
     },
     "5c4264b8f9c34babb46e06057f5915a0": {
      "model_module": "@jupyter-widgets/base",
      "model_module_version": "1.2.0",
      "model_name": "LayoutModel",
      "state": {}
     },
     "5c64e7f632874475984890827a486c79": {
      "model_module": "@jupyter-widgets/base",
      "model_module_version": "1.2.0",
      "model_name": "LayoutModel",
      "state": {
       "flex": "2"
      }
     },
     "5d883a18261f4986a369a650499c04e7": {
      "model_module": "@jupyter-widgets/controls",
      "model_module_version": "1.5.0",
      "model_name": "FloatProgressModel",
      "state": {
       "bar_style": "info",
       "description": "Validating: 100%",
       "layout": "IPY_MODEL_3b2ecebb49b5481c87fb1d693f55f07c",
       "max": 1,
       "style": "IPY_MODEL_6eed0067f26449aeaee21f9888431ba0",
       "value": 1
      }
     },
     "5e3ef5a11e1c45d2866ca3df7f7bafd3": {
      "model_module": "@jupyter-widgets/controls",
      "model_module_version": "1.5.0",
      "model_name": "ProgressStyleModel",
      "state": {
       "description_width": "initial"
      }
     },
     "5e3fd9ae7f0f41a29b3ad426d7422b8c": {
      "model_module": "@jupyter-widgets/base",
      "model_module_version": "1.2.0",
      "model_name": "LayoutModel",
      "state": {}
     },
     "5f8e308e83454795a83e9ccd462e875d": {
      "model_module": "@jupyter-widgets/base",
      "model_module_version": "1.2.0",
      "model_name": "LayoutModel",
      "state": {}
     },
     "5ffe2c566e8644a6961b858ad8da0c60": {
      "model_module": "@jupyter-widgets/controls",
      "model_module_version": "1.5.0",
      "model_name": "HTMLModel",
      "state": {
       "layout": "IPY_MODEL_d437e5bf8ae949bbb4dbea8f393f711c",
       "style": "IPY_MODEL_460b28facd0545b68fb1d6224238def9",
       "value": " 1/1 [00:00&lt;00:00, 40.78it/s]"
      }
     },
     "60e926c2d83f44978b8b8f05bbaba597": {
      "model_module": "@jupyter-widgets/base",
      "model_module_version": "1.2.0",
      "model_name": "LayoutModel",
      "state": {}
     },
     "630e43d69d5746afae8f5ab910c979f9": {
      "model_module": "@jupyter-widgets/controls",
      "model_module_version": "1.5.0",
      "model_name": "FloatProgressModel",
      "state": {
       "bar_style": "info",
       "description": "Validating: 100%",
       "layout": "IPY_MODEL_9be7c13d142a430ba8f69348f7b4f18a",
       "max": 1,
       "style": "IPY_MODEL_f2943de4960a4106abeac6e8f41161b8",
       "value": 1
      }
     },
     "66c40789a77c497d9be18a1af5bf6829": {
      "model_module": "@jupyter-widgets/controls",
      "model_module_version": "1.5.0",
      "model_name": "ProgressStyleModel",
      "state": {
       "description_width": "initial"
      }
     },
     "676ccfac02b34a87ba52c50d4bf9df15": {
      "model_module": "@jupyter-widgets/base",
      "model_module_version": "1.2.0",
      "model_name": "LayoutModel",
      "state": {}
     },
     "67e9cef0fba74b598be0ffce2ae747aa": {
      "model_module": "@jupyter-widgets/controls",
      "model_module_version": "1.5.0",
      "model_name": "ProgressStyleModel",
      "state": {
       "description_width": "initial"
      }
     },
     "68d84112ba4f43e58587bbc3798a00a8": {
      "model_module": "@jupyter-widgets/controls",
      "model_module_version": "1.5.0",
      "model_name": "DescriptionStyleModel",
      "state": {
       "description_width": ""
      }
     },
     "6baa3b03dd834295950b292a153710f6": {
      "model_module": "@jupyter-widgets/base",
      "model_module_version": "1.2.0",
      "model_name": "LayoutModel",
      "state": {
       "display": "inline-flex",
       "flex_flow": "row wrap",
       "width": "100%"
      }
     },
     "6bc149809d014350acfd15fadb693c18": {
      "model_module": "@jupyter-widgets/base",
      "model_module_version": "1.2.0",
      "model_name": "LayoutModel",
      "state": {
       "display": "inline-flex",
       "flex_flow": "row wrap",
       "width": "100%"
      }
     },
     "6c03a430712b4a0ebcb57c8d68d75fb6": {
      "model_module": "@jupyter-widgets/controls",
      "model_module_version": "1.5.0",
      "model_name": "DescriptionStyleModel",
      "state": {
       "description_width": ""
      }
     },
     "6cf57ed59d0444ecbc585deb3961d5b8": {
      "model_module": "@jupyter-widgets/controls",
      "model_module_version": "1.5.0",
      "model_name": "FloatProgressModel",
      "state": {
       "bar_style": "info",
       "description": "Validating: 100%",
       "layout": "IPY_MODEL_9ca4e29685ba46b99ea471326d959812",
       "max": 1,
       "style": "IPY_MODEL_e571676463e94c75987b912b6c33a029",
       "value": 1
      }
     },
     "6ebd9bbbfcc74d2ab767ad2e249910e8": {
      "model_module": "@jupyter-widgets/base",
      "model_module_version": "1.2.0",
      "model_name": "LayoutModel",
      "state": {
       "display": "inline-flex",
       "flex_flow": "row wrap",
       "width": "100%"
      }
     },
     "6eed0067f26449aeaee21f9888431ba0": {
      "model_module": "@jupyter-widgets/controls",
      "model_module_version": "1.5.0",
      "model_name": "ProgressStyleModel",
      "state": {
       "description_width": "initial"
      }
     },
     "6f8ed32efe854c01885be5004c285d03": {
      "model_module": "@jupyter-widgets/controls",
      "model_module_version": "1.5.0",
      "model_name": "HTMLModel",
      "state": {
       "layout": "IPY_MODEL_7a7e61213a2a413d9e7f0cb12d512b76",
       "style": "IPY_MODEL_68d84112ba4f43e58587bbc3798a00a8",
       "value": " 1/1 [00:00&lt;00:00, 40.24it/s]"
      }
     },
     "6fce092df4134c0fbb1c810e363a5b8b": {
      "model_module": "@jupyter-widgets/controls",
      "model_module_version": "1.5.0",
      "model_name": "HBoxModel",
      "state": {
       "children": [
        "IPY_MODEL_df40edd0e29e41ab85b1011c1349fb79",
        "IPY_MODEL_390164146937410faf27a518aff5c306"
       ],
       "layout": "IPY_MODEL_514c9083de484b199fba702857d84c14"
      }
     },
     "713b79ec476b46778c87bf8c908e6731": {
      "model_module": "@jupyter-widgets/controls",
      "model_module_version": "1.5.0",
      "model_name": "DescriptionStyleModel",
      "state": {
       "description_width": ""
      }
     },
     "71f9922f2414485d8208ddda061c8efc": {
      "model_module": "@jupyter-widgets/controls",
      "model_module_version": "1.5.0",
      "model_name": "HTMLModel",
      "state": {
       "layout": "IPY_MODEL_3a6e1c9882ed4d6b946e3237ab4a3323",
       "style": "IPY_MODEL_42ef3674e8544646898ef4578e9e661b",
       "value": " 1/1 [00:00&lt;00:00, 42.69it/s]"
      }
     },
     "7326e354729a433aa1457a65c9ed6eb7": {
      "model_module": "@jupyter-widgets/base",
      "model_module_version": "1.2.0",
      "model_name": "LayoutModel",
      "state": {
       "flex": "2"
      }
     },
     "73b33180f8544cfc9d75bcec69780875": {
      "model_module": "@jupyter-widgets/controls",
      "model_module_version": "1.5.0",
      "model_name": "FloatProgressModel",
      "state": {
       "bar_style": "info",
       "description": "Validation sanity check: 100%",
       "layout": "IPY_MODEL_555c420d59464fca883285d616d09826",
       "max": 1,
       "style": "IPY_MODEL_9d8ed6f2de334c4f8366f32b99116c44",
       "value": 1
      }
     },
     "74eeb016500642fcbb3ceb681836461b": {
      "model_module": "@jupyter-widgets/controls",
      "model_module_version": "1.5.0",
      "model_name": "HTMLModel",
      "state": {
       "layout": "IPY_MODEL_daf3794f2ba14ee2936daeeb23aefc57",
       "style": "IPY_MODEL_c93c3d499c97444492917ffe729a3176",
       "value": " 1/1 [00:00&lt;00:00, 41.80it/s]"
      }
     },
     "7501b706a6a84b9db7f4018666be2ec3": {
      "model_module": "@jupyter-widgets/base",
      "model_module_version": "1.2.0",
      "model_name": "LayoutModel",
      "state": {}
     },
     "779433455d0b4a4aa94a0587c01955c1": {
      "model_module": "@jupyter-widgets/base",
      "model_module_version": "1.2.0",
      "model_name": "LayoutModel",
      "state": {}
     },
     "7a7e61213a2a413d9e7f0cb12d512b76": {
      "model_module": "@jupyter-widgets/base",
      "model_module_version": "1.2.0",
      "model_name": "LayoutModel",
      "state": {}
     },
     "7b7673fad4a844c99acbb41356791964": {
      "model_module": "@jupyter-widgets/controls",
      "model_module_version": "1.5.0",
      "model_name": "ProgressStyleModel",
      "state": {
       "description_width": "initial"
      }
     },
     "7c2578394a04417d8bfa48a71db700cb": {
      "model_module": "@jupyter-widgets/base",
      "model_module_version": "1.2.0",
      "model_name": "LayoutModel",
      "state": {}
     },
     "7c3ca78bd31d4266b02be038c9888ba0": {
      "model_module": "@jupyter-widgets/controls",
      "model_module_version": "1.5.0",
      "model_name": "HBoxModel",
      "state": {
       "children": [
        "IPY_MODEL_52f23c0daf7949d6b20da2816a821d0e",
        "IPY_MODEL_fa7fda5091c44017bfb159bfb37b90df"
       ],
       "layout": "IPY_MODEL_183e87918fd64b4eb0e4aebee4475277"
      }
     },
     "7d8efb6921dd41aab6a9acbbd0f6d27d": {
      "model_module": "@jupyter-widgets/controls",
      "model_module_version": "1.5.0",
      "model_name": "HTMLModel",
      "state": {
       "layout": "IPY_MODEL_4f372a3c5c4a45cba207e5b7a77b2838",
       "style": "IPY_MODEL_1b28e98145274e77a1094d07cb45ed79",
       "value": " 1/1 [00:00&lt;00:00, 48.96it/s]"
      }
     },
     "7f3ff854185a4f9b85442ba17e789c72": {
      "model_module": "@jupyter-widgets/controls",
      "model_module_version": "1.5.0",
      "model_name": "FloatProgressModel",
      "state": {
       "bar_style": "success",
       "description": "Epoch 0: 100%",
       "layout": "IPY_MODEL_5c64e7f632874475984890827a486c79",
       "max": 101,
       "style": "IPY_MODEL_67e9cef0fba74b598be0ffce2ae747aa",
       "value": 101
      }
     },
     "80eccc29d18b4758a5e68c874e0952ae": {
      "model_module": "@jupyter-widgets/controls",
      "model_module_version": "1.5.0",
      "model_name": "HTMLModel",
      "state": {
       "layout": "IPY_MODEL_850c904ad72044cd875937224b19532b",
       "style": "IPY_MODEL_1d57c12cd627417ab162ea1765f09dad",
       "value": " 1/1 [00:00&lt;00:00, 49.67it/s]"
      }
     },
     "83ac2c74f328404ebf45f05cfbeff8ec": {
      "model_module": "@jupyter-widgets/controls",
      "model_module_version": "1.5.0",
      "model_name": "FloatProgressModel",
      "state": {
       "bar_style": "success",
       "description": "Testing: 100%",
       "layout": "IPY_MODEL_df63a7f01c414c3e8c040f2f99f78488",
       "max": 1,
       "style": "IPY_MODEL_5e3ef5a11e1c45d2866ca3df7f7bafd3",
       "value": 1
      }
     },
     "84b8096320af4de8a23d3f68e707ac3a": {
      "model_module": "@jupyter-widgets/controls",
      "model_module_version": "1.5.0",
      "model_name": "ProgressStyleModel",
      "state": {
       "description_width": "initial"
      }
     },
     "850c904ad72044cd875937224b19532b": {
      "model_module": "@jupyter-widgets/base",
      "model_module_version": "1.2.0",
      "model_name": "LayoutModel",
      "state": {}
     },
     "854d7fdd2d86447a813451dbeb9803dc": {
      "model_module": "@jupyter-widgets/base",
      "model_module_version": "1.2.0",
      "model_name": "LayoutModel",
      "state": {
       "display": "inline-flex",
       "flex_flow": "row wrap",
       "width": "100%"
      }
     },
     "86bf42a1e0f642e0ad57515dede998cd": {
      "model_module": "@jupyter-widgets/base",
      "model_module_version": "1.2.0",
      "model_name": "LayoutModel",
      "state": {}
     },
     "86d29c613912466e8f15ff2a052ab2e0": {
      "model_module": "@jupyter-widgets/controls",
      "model_module_version": "1.5.0",
      "model_name": "FloatProgressModel",
      "state": {
       "bar_style": "success",
       "description": "Testing: 100%",
       "layout": "IPY_MODEL_df7570e474e2473c82b7bedf44073b01",
       "max": 1,
       "style": "IPY_MODEL_d625fd2a583a45f08b10969a34824a05",
       "value": 1
      }
     },
     "883ab484211545319bdaf855c8161e67": {
      "model_module": "@jupyter-widgets/base",
      "model_module_version": "1.2.0",
      "model_name": "LayoutModel",
      "state": {
       "display": "inline-flex",
       "flex_flow": "row wrap",
       "width": "100%"
      }
     },
     "88793dd4fcae407ab5972226ab47eb67": {
      "model_module": "@jupyter-widgets/controls",
      "model_module_version": "1.5.0",
      "model_name": "ProgressStyleModel",
      "state": {
       "description_width": "initial"
      }
     },
     "8c4cc94c7c2f41969bfd49adc18c6270": {
      "model_module": "@jupyter-widgets/controls",
      "model_module_version": "1.5.0",
      "model_name": "DescriptionStyleModel",
      "state": {
       "description_width": ""
      }
     },
     "8e8039c484414c998641e588bac12f9a": {
      "model_module": "@jupyter-widgets/controls",
      "model_module_version": "1.5.0",
      "model_name": "HTMLModel",
      "state": {
       "layout": "IPY_MODEL_d21c528844fd480fa4f43c308d1c2e1d",
       "style": "IPY_MODEL_4d4447dd675c41b5bc73f1d1903e9f68",
       "value": " 1/1 [00:00&lt;00:00, 18.20it/s]"
      }
     },
     "8eaf63cba866450a87d66642d2903c27": {
      "model_module": "@jupyter-widgets/controls",
      "model_module_version": "1.5.0",
      "model_name": "FloatProgressModel",
      "state": {
       "bar_style": "info",
       "description": "Validating: 100%",
       "layout": "IPY_MODEL_e747edb1d8be4d86901867d957d55ede",
       "max": 1,
       "style": "IPY_MODEL_c7bf07635b7843cd8f66408c2a2d1394",
       "value": 1
      }
     },
     "8ff0dcb3c9d44d018823a19087a7a664": {
      "model_module": "@jupyter-widgets/controls",
      "model_module_version": "1.5.0",
      "model_name": "HBoxModel",
      "state": {
       "children": [
        "IPY_MODEL_ab2da7680d5e41c2b63dbe9c4e7207fd",
        "IPY_MODEL_9dd88831324d44339c24fd81811e501e"
       ],
       "layout": "IPY_MODEL_f0743bc089b14747b09f9c7d94fcdf64"
      }
     },
     "906b3bd771b147eb93a50d10a2ad0e71": {
      "model_module": "@jupyter-widgets/controls",
      "model_module_version": "1.5.0",
      "model_name": "HTMLModel",
      "state": {
       "layout": "IPY_MODEL_676ccfac02b34a87ba52c50d4bf9df15",
       "style": "IPY_MODEL_ccaf35775fa24d5990b6e20ecdb4da8b",
       "value": " 1/1 [00:00&lt;00:00, 17.99it/s]"
      }
     },
     "914c7b93cbf04807b538f7948025bfbd": {
      "model_module": "@jupyter-widgets/controls",
      "model_module_version": "1.5.0",
      "model_name": "ProgressStyleModel",
      "state": {
       "description_width": "initial"
      }
     },
     "96b6211231d24d459eb0b245d37fdcad": {
      "model_module": "@jupyter-widgets/controls",
      "model_module_version": "1.5.0",
      "model_name": "DescriptionStyleModel",
      "state": {
       "description_width": ""
      }
     },
     "9714ea3687a24d989207f9e3078584bb": {
      "model_module": "@jupyter-widgets/controls",
      "model_module_version": "1.5.0",
      "model_name": "HTMLModel",
      "state": {
       "layout": "IPY_MODEL_d527c6a3b7cd4d278375aa98dcbee7f1",
       "style": "IPY_MODEL_6c03a430712b4a0ebcb57c8d68d75fb6",
       "value": " 1/1 [00:00&lt;00:00,  1.19it/s]"
      }
     },
     "97228470b2f9412f97d8b47f39475bce": {
      "model_module": "@jupyter-widgets/controls",
      "model_module_version": "1.5.0",
      "model_name": "HBoxModel",
      "state": {
       "children": [
        "IPY_MODEL_4b83edbf49884e28a224a578e6194f29",
        "IPY_MODEL_bf3b961f89f04039a74bd65ab3c05269"
       ],
       "layout": "IPY_MODEL_6baa3b03dd834295950b292a153710f6"
      }
     },
     "97d1d7f7ee584954ba8f9ec497b42844": {
      "model_module": "@jupyter-widgets/base",
      "model_module_version": "1.2.0",
      "model_name": "LayoutModel",
      "state": {}
     },
     "9a59522dc5a647cf9680d9d3c39dc3a8": {
      "model_module": "@jupyter-widgets/base",
      "model_module_version": "1.2.0",
      "model_name": "LayoutModel",
      "state": {}
     },
     "9aa49bdcc8174b16b0c8bbef17e4bf0c": {
      "model_module": "@jupyter-widgets/base",
      "model_module_version": "1.2.0",
      "model_name": "LayoutModel",
      "state": {
       "flex": "2"
      }
     },
     "9ab2857c182f4ba6b963cd0019d4a8fb": {
      "model_module": "@jupyter-widgets/controls",
      "model_module_version": "1.5.0",
      "model_name": "ProgressStyleModel",
      "state": {
       "description_width": "initial"
      }
     },
     "9b0a8e9b716d43df9efc62894c3be438": {
      "model_module": "@jupyter-widgets/base",
      "model_module_version": "1.2.0",
      "model_name": "LayoutModel",
      "state": {
       "display": "inline-flex",
       "flex_flow": "row wrap",
       "width": "100%"
      }
     },
     "9bc092557c4146dda870821ed674b624": {
      "model_module": "@jupyter-widgets/base",
      "model_module_version": "1.2.0",
      "model_name": "LayoutModel",
      "state": {
       "flex": "2"
      }
     },
     "9be7c13d142a430ba8f69348f7b4f18a": {
      "model_module": "@jupyter-widgets/base",
      "model_module_version": "1.2.0",
      "model_name": "LayoutModel",
      "state": {
       "flex": "2"
      }
     },
     "9ca4e29685ba46b99ea471326d959812": {
      "model_module": "@jupyter-widgets/base",
      "model_module_version": "1.2.0",
      "model_name": "LayoutModel",
      "state": {
       "flex": "2"
      }
     },
     "9d0f1954c05f41b0abaa8c8078f8ddb9": {
      "model_module": "@jupyter-widgets/controls",
      "model_module_version": "1.5.0",
      "model_name": "DescriptionStyleModel",
      "state": {
       "description_width": ""
      }
     },
     "9d6bd0ead6a947e4a717c527c8fa9903": {
      "model_module": "@jupyter-widgets/controls",
      "model_module_version": "1.5.0",
      "model_name": "HBoxModel",
      "state": {
       "children": [
        "IPY_MODEL_d009a3f244d5420891f314918ceab614",
        "IPY_MODEL_8e8039c484414c998641e588bac12f9a"
       ],
       "layout": "IPY_MODEL_196729d62b664e208022c40118329f23"
      }
     },
     "9d8ed6f2de334c4f8366f32b99116c44": {
      "model_module": "@jupyter-widgets/controls",
      "model_module_version": "1.5.0",
      "model_name": "ProgressStyleModel",
      "state": {
       "description_width": "initial"
      }
     },
     "9dd88831324d44339c24fd81811e501e": {
      "model_module": "@jupyter-widgets/controls",
      "model_module_version": "1.5.0",
      "model_name": "HTMLModel",
      "state": {
       "layout": "IPY_MODEL_5c4264b8f9c34babb46e06057f5915a0",
       "style": "IPY_MODEL_cf6d362887e84fac9701dd958a98230a",
       "value": " 101/101 [00:22&lt;00:00,  4.46it/s, loss=0.00275, v_num=55, val_loss_step=0.00364, val_loss_epoch=0.00364, train_loss_step=0.0026, train_loss_epoch=0.00652]"
      }
     },
     "9df1ce3508a142ae9ffd305da8b6881b": {
      "model_module": "@jupyter-widgets/controls",
      "model_module_version": "1.5.0",
      "model_name": "ProgressStyleModel",
      "state": {
       "description_width": "initial"
      }
     },
     "9eaba7cb7e4c46bc97f56a975e4a4593": {
      "model_module": "@jupyter-widgets/base",
      "model_module_version": "1.2.0",
      "model_name": "LayoutModel",
      "state": {
       "flex": "2"
      }
     },
     "a03bb575fa6e45baa7298f4e3c367833": {
      "model_module": "@jupyter-widgets/controls",
      "model_module_version": "1.5.0",
      "model_name": "ProgressStyleModel",
      "state": {
       "description_width": "initial"
      }
     },
     "a1f15474775e41f9add2e31d5bff9078": {
      "model_module": "@jupyter-widgets/controls",
      "model_module_version": "1.5.0",
      "model_name": "FloatProgressModel",
      "state": {
       "bar_style": "success",
       "description": "Testing: 100%",
       "layout": "IPY_MODEL_bbaf046eb6c94012919a75eddb160dd9",
       "max": 1,
       "style": "IPY_MODEL_7b7673fad4a844c99acbb41356791964",
       "value": 1
      }
     },
     "a34e655064e4491b824b4b3fac846be5": {
      "model_module": "@jupyter-widgets/controls",
      "model_module_version": "1.5.0",
      "model_name": "DescriptionStyleModel",
      "state": {
       "description_width": ""
      }
     },
     "a54387c88d284f78a2099ab0d4d7feff": {
      "model_module": "@jupyter-widgets/controls",
      "model_module_version": "1.5.0",
      "model_name": "ProgressStyleModel",
      "state": {
       "description_width": "initial"
      }
     },
     "a5750dbec09d420caaceb2ca67f0b74c": {
      "model_module": "@jupyter-widgets/controls",
      "model_module_version": "1.5.0",
      "model_name": "HBoxModel",
      "state": {
       "children": [
        "IPY_MODEL_86d29c613912466e8f15ff2a052ab2e0",
        "IPY_MODEL_20cccd2c4ada44bbbcc953ee80a44f45"
       ],
       "layout": "IPY_MODEL_854d7fdd2d86447a813451dbeb9803dc"
      }
     },
     "a59bbcbd8310401a8e74bfec6d177f15": {
      "model_module": "@jupyter-widgets/base",
      "model_module_version": "1.2.0",
      "model_name": "LayoutModel",
      "state": {}
     },
     "a6b35405326c4129bd89ed8f64fb84a4": {
      "model_module": "@jupyter-widgets/controls",
      "model_module_version": "1.5.0",
      "model_name": "HTMLModel",
      "state": {
       "layout": "IPY_MODEL_5f8e308e83454795a83e9ccd462e875d",
       "style": "IPY_MODEL_713b79ec476b46778c87bf8c908e6731",
       "value": " 1/1 [00:00&lt;00:00, 47.04it/s]"
      }
     },
     "a7339cbcce714d89aecf9506e3731680": {
      "model_module": "@jupyter-widgets/controls",
      "model_module_version": "1.5.0",
      "model_name": "ProgressStyleModel",
      "state": {
       "description_width": "initial"
      }
     },
     "a778835609054602a28c4bbf597b0901": {
      "model_module": "@jupyter-widgets/controls",
      "model_module_version": "1.5.0",
      "model_name": "ProgressStyleModel",
      "state": {
       "description_width": "initial"
      }
     },
     "a790c8ea792a4981a439660b5847909c": {
      "model_module": "@jupyter-widgets/controls",
      "model_module_version": "1.5.0",
      "model_name": "HBoxModel",
      "state": {
       "children": [
        "IPY_MODEL_2111364703594ae8baf69effca73a0ac",
        "IPY_MODEL_4f01f4f6b13b4d6d9e73de11e00fa8c2"
       ],
       "layout": "IPY_MODEL_44bebafdb2ff4e5f889faabe7494a654"
      }
     },
     "a83aa1f13b154d878897376e85362233": {
      "model_module": "@jupyter-widgets/controls",
      "model_module_version": "1.5.0",
      "model_name": "DescriptionStyleModel",
      "state": {
       "description_width": ""
      }
     },
     "a88a6ad8b4954b938361cc3f215e0dc1": {
      "model_module": "@jupyter-widgets/base",
      "model_module_version": "1.2.0",
      "model_name": "LayoutModel",
      "state": {}
     },
     "ab2da7680d5e41c2b63dbe9c4e7207fd": {
      "model_module": "@jupyter-widgets/controls",
      "model_module_version": "1.5.0",
      "model_name": "FloatProgressModel",
      "state": {
       "bar_style": "success",
       "description": "Epoch 0: 100%",
       "layout": "IPY_MODEL_9eaba7cb7e4c46bc97f56a975e4a4593",
       "max": 101,
       "style": "IPY_MODEL_d62f0ccd19294620b2aab5bd3e8f2d7d",
       "value": 101
      }
     },
     "ad06c669fb894674810f0be875d78d53": {
      "model_module": "@jupyter-widgets/base",
      "model_module_version": "1.2.0",
      "model_name": "LayoutModel",
      "state": {
       "flex": "2"
      }
     },
     "ad7876140dbb426fa78d7272f91eed15": {
      "model_module": "@jupyter-widgets/base",
      "model_module_version": "1.2.0",
      "model_name": "LayoutModel",
      "state": {
       "flex": "2"
      }
     },
     "ae1bfb05282d4297b7a6905d743467af": {
      "model_module": "@jupyter-widgets/controls",
      "model_module_version": "1.5.0",
      "model_name": "DescriptionStyleModel",
      "state": {
       "description_width": ""
      }
     },
     "aec55609432345439dfc3771a193d8b0": {
      "model_module": "@jupyter-widgets/base",
      "model_module_version": "1.2.0",
      "model_name": "LayoutModel",
      "state": {
       "display": "inline-flex",
       "flex_flow": "row wrap",
       "width": "100%"
      }
     },
     "b102dc891e114211ac5bf7637b92451f": {
      "model_module": "@jupyter-widgets/controls",
      "model_module_version": "1.5.0",
      "model_name": "ProgressStyleModel",
      "state": {
       "description_width": "initial"
      }
     },
     "b10fcf006eff4a3784a9bccde5b91dbd": {
      "model_module": "@jupyter-widgets/base",
      "model_module_version": "1.2.0",
      "model_name": "LayoutModel",
      "state": {
       "display": "inline-flex",
       "flex_flow": "row wrap",
       "width": "100%"
      }
     },
     "b2b6bddd5cab477ca8c00b56ad195d4b": {
      "model_module": "@jupyter-widgets/controls",
      "model_module_version": "1.5.0",
      "model_name": "DescriptionStyleModel",
      "state": {
       "description_width": ""
      }
     },
     "b2ee24cdbc524042a3562da068b338f9": {
      "model_module": "@jupyter-widgets/controls",
      "model_module_version": "1.5.0",
      "model_name": "HBoxModel",
      "state": {
       "children": [
        "IPY_MODEL_7f3ff854185a4f9b85442ba17e789c72",
        "IPY_MODEL_59c596e250b74c85ae725e3b0f4a352d"
       ],
       "layout": "IPY_MODEL_b309f7ffa4bc4e85aacaf319c4dd4994"
      }
     },
     "b309f7ffa4bc4e85aacaf319c4dd4994": {
      "model_module": "@jupyter-widgets/base",
      "model_module_version": "1.2.0",
      "model_name": "LayoutModel",
      "state": {
       "display": "inline-flex",
       "flex_flow": "row wrap",
       "width": "100%"
      }
     },
     "b3ceebc9d4de47e3b3f7ccd0987faafd": {
      "model_module": "@jupyter-widgets/controls",
      "model_module_version": "1.5.0",
      "model_name": "HTMLModel",
      "state": {
       "layout": "IPY_MODEL_fc2ba999246341e48631a3ee4a52b6bd",
       "style": "IPY_MODEL_c2c3cbe7b0e04fe09d1c437551ca9919",
       "value": " 1/1 [00:00&lt;00:00, 50.46it/s]"
      }
     },
     "b40b463f5d8843a89ab3e9ab6eda5425": {
      "model_module": "@jupyter-widgets/controls",
      "model_module_version": "1.5.0",
      "model_name": "DescriptionStyleModel",
      "state": {
       "description_width": ""
      }
     },
     "b45ba7d5a6a14352bcdf964c7f5e9d3e": {
      "model_module": "@jupyter-widgets/controls",
      "model_module_version": "1.5.0",
      "model_name": "DescriptionStyleModel",
      "state": {
       "description_width": ""
      }
     },
     "b8a071c275064d62bae25f349e80f635": {
      "model_module": "@jupyter-widgets/base",
      "model_module_version": "1.2.0",
      "model_name": "LayoutModel",
      "state": {}
     },
     "b8c702bee7d542848dec2dae8027ceca": {
      "model_module": "@jupyter-widgets/controls",
      "model_module_version": "1.5.0",
      "model_name": "ProgressStyleModel",
      "state": {
       "description_width": "initial"
      }
     },
     "ba6c1c803e9e41a2b0e5cf1e57e90cf2": {
      "model_module": "@jupyter-widgets/controls",
      "model_module_version": "1.5.0",
      "model_name": "ProgressStyleModel",
      "state": {
       "description_width": "initial"
      }
     },
     "ba7167d13d3b4db09b95246caf78ad4e": {
      "model_module": "@jupyter-widgets/base",
      "model_module_version": "1.2.0",
      "model_name": "LayoutModel",
      "state": {
       "display": "inline-flex",
       "flex_flow": "row wrap",
       "width": "100%"
      }
     },
     "bbaf046eb6c94012919a75eddb160dd9": {
      "model_module": "@jupyter-widgets/base",
      "model_module_version": "1.2.0",
      "model_name": "LayoutModel",
      "state": {
       "flex": "2"
      }
     },
     "bcff31b346cc49e99a947424f900328d": {
      "model_module": "@jupyter-widgets/controls",
      "model_module_version": "1.5.0",
      "model_name": "FloatProgressModel",
      "state": {
       "bar_style": "info",
       "description": "Validating: 100%",
       "layout": "IPY_MODEL_25978e6f743c40479d02d5a155c55885",
       "max": 1,
       "style": "IPY_MODEL_30e8194423ba4620a977970afa8c619a",
       "value": 1
      }
     },
     "bdf6d0028685493d9cd93d0f1d78d62c": {
      "model_module": "@jupyter-widgets/controls",
      "model_module_version": "1.5.0",
      "model_name": "DescriptionStyleModel",
      "state": {
       "description_width": ""
      }
     },
     "be647b6bdd7444798d24e708ba5c039b": {
      "model_module": "@jupyter-widgets/controls",
      "model_module_version": "1.5.0",
      "model_name": "DescriptionStyleModel",
      "state": {
       "description_width": ""
      }
     },
     "bf3b961f89f04039a74bd65ab3c05269": {
      "model_module": "@jupyter-widgets/controls",
      "model_module_version": "1.5.0",
      "model_name": "HTMLModel",
      "state": {
       "layout": "IPY_MODEL_7501b706a6a84b9db7f4018666be2ec3",
       "style": "IPY_MODEL_4db88e9d7a8b41429068abdff5c0392c",
       "value": " 101/101 [00:41&lt;00:00,  2.44it/s, loss=1.43, v_num=56, val_loss_step=1.380, val_loss_epoch=1.380, train_loss_step=1.390, train_loss_epoch=1.520]"
      }
     },
     "c00fba15c8b5406e99e6466b092fb511": {
      "model_module": "@jupyter-widgets/controls",
      "model_module_version": "1.5.0",
      "model_name": "HTMLModel",
      "state": {
       "layout": "IPY_MODEL_165a36b1a26b4416aa0ddf17795e4550",
       "style": "IPY_MODEL_8c4cc94c7c2f41969bfd49adc18c6270",
       "value": " 1/1 [00:00&lt;00:00, 56.36it/s]"
      }
     },
     "c1a2c622aea141ce9a939203b441b76f": {
      "model_module": "@jupyter-widgets/base",
      "model_module_version": "1.2.0",
      "model_name": "LayoutModel",
      "state": {}
     },
     "c2a05366c6344d97a735f4528431c7c6": {
      "model_module": "@jupyter-widgets/base",
      "model_module_version": "1.2.0",
      "model_name": "LayoutModel",
      "state": {
       "display": "inline-flex",
       "flex_flow": "row wrap",
       "width": "100%"
      }
     },
     "c2c3cbe7b0e04fe09d1c437551ca9919": {
      "model_module": "@jupyter-widgets/controls",
      "model_module_version": "1.5.0",
      "model_name": "DescriptionStyleModel",
      "state": {
       "description_width": ""
      }
     },
     "c50f48bee8e845e6ad0d12d363079f05": {
      "model_module": "@jupyter-widgets/controls",
      "model_module_version": "1.5.0",
      "model_name": "HTMLModel",
      "state": {
       "layout": "IPY_MODEL_a59bbcbd8310401a8e74bfec6d177f15",
       "style": "IPY_MODEL_a34e655064e4491b824b4b3fac846be5",
       "value": " 1/1 [00:00&lt;00:00, 42.07it/s]"
      }
     },
     "c56d190c5ff746deb18150a4dc27c2b4": {
      "model_module": "@jupyter-widgets/controls",
      "model_module_version": "1.5.0",
      "model_name": "FloatProgressModel",
      "state": {
       "bar_style": "info",
       "description": "Validating: 100%",
       "layout": "IPY_MODEL_f71be67a8d0748419c261ecca0e14277",
       "max": 1,
       "style": "IPY_MODEL_185fb7cae59f4a0b890107e2d5ffdee3",
       "value": 1
      }
     },
     "c767ffed87224a36845b56acca007c74": {
      "model_module": "@jupyter-widgets/controls",
      "model_module_version": "1.5.0",
      "model_name": "FloatProgressModel",
      "state": {
       "bar_style": "info",
       "description": "Validating: 100%",
       "layout": "IPY_MODEL_ad7876140dbb426fa78d7272f91eed15",
       "max": 1,
       "style": "IPY_MODEL_66c40789a77c497d9be18a1af5bf6829",
       "value": 1
      }
     },
     "c7bf07635b7843cd8f66408c2a2d1394": {
      "model_module": "@jupyter-widgets/controls",
      "model_module_version": "1.5.0",
      "model_name": "ProgressStyleModel",
      "state": {
       "description_width": "initial"
      }
     },
     "c85f278cf376450c9521dba2ab3a4e1b": {
      "model_module": "@jupyter-widgets/base",
      "model_module_version": "1.2.0",
      "model_name": "LayoutModel",
      "state": {
       "display": "inline-flex",
       "flex_flow": "row wrap",
       "width": "100%"
      }
     },
     "c900c652543040e1a7a5d8fd5e2cc8e0": {
      "model_module": "@jupyter-widgets/controls",
      "model_module_version": "1.5.0",
      "model_name": "DescriptionStyleModel",
      "state": {
       "description_width": ""
      }
     },
     "c93c3d499c97444492917ffe729a3176": {
      "model_module": "@jupyter-widgets/controls",
      "model_module_version": "1.5.0",
      "model_name": "DescriptionStyleModel",
      "state": {
       "description_width": ""
      }
     },
     "cb0900b0042f4c2f988cd3d37db2418e": {
      "model_module": "@jupyter-widgets/controls",
      "model_module_version": "1.5.0",
      "model_name": "DescriptionStyleModel",
      "state": {
       "description_width": ""
      }
     },
     "cb38632ae3a144bbb1e35ef2256e94cb": {
      "model_module": "@jupyter-widgets/controls",
      "model_module_version": "1.5.0",
      "model_name": "HTMLModel",
      "state": {
       "layout": "IPY_MODEL_2a16742076094c09b157de7a842154fb",
       "style": "IPY_MODEL_cb6d006a7f6f4c29b9ea37c4296d27c0",
       "value": " 1/1 [00:00&lt;00:00, 49.02it/s]"
      }
     },
     "cb65a56fd25f4adca28d6828a252ac84": {
      "model_module": "@jupyter-widgets/controls",
      "model_module_version": "1.5.0",
      "model_name": "HTMLModel",
      "state": {
       "layout": "IPY_MODEL_53daba5539834ab380c68226cb51f04b",
       "style": "IPY_MODEL_366001e8e71142449911ac620b23dbcb",
       "value": " 1/1 [00:00&lt;00:00, 28.75it/s]"
      }
     },
     "cb6d006a7f6f4c29b9ea37c4296d27c0": {
      "model_module": "@jupyter-widgets/controls",
      "model_module_version": "1.5.0",
      "model_name": "DescriptionStyleModel",
      "state": {
       "description_width": ""
      }
     },
     "ccaf35775fa24d5990b6e20ecdb4da8b": {
      "model_module": "@jupyter-widgets/controls",
      "model_module_version": "1.5.0",
      "model_name": "DescriptionStyleModel",
      "state": {
       "description_width": ""
      }
     },
     "cf6d362887e84fac9701dd958a98230a": {
      "model_module": "@jupyter-widgets/controls",
      "model_module_version": "1.5.0",
      "model_name": "DescriptionStyleModel",
      "state": {
       "description_width": ""
      }
     },
     "d009a3f244d5420891f314918ceab614": {
      "model_module": "@jupyter-widgets/controls",
      "model_module_version": "1.5.0",
      "model_name": "FloatProgressModel",
      "state": {
       "bar_style": "success",
       "description": "Testing: 100%",
       "layout": "IPY_MODEL_4ca9677af00d4df08f56fbe225e37452",
       "max": 1,
       "style": "IPY_MODEL_15bb60cac730494ca1ba61943cfeaf30",
       "value": 1
      }
     },
     "d097c843d3c34244abd0a1bc7bc2dbb9": {
      "model_module": "@jupyter-widgets/controls",
      "model_module_version": "1.5.0",
      "model_name": "ProgressStyleModel",
      "state": {
       "description_width": "initial"
      }
     },
     "d1eb53babe124867ac6ff2a98ee32891": {
      "model_module": "@jupyter-widgets/controls",
      "model_module_version": "1.5.0",
      "model_name": "DescriptionStyleModel",
      "state": {
       "description_width": ""
      }
     },
     "d21c528844fd480fa4f43c308d1c2e1d": {
      "model_module": "@jupyter-widgets/base",
      "model_module_version": "1.2.0",
      "model_name": "LayoutModel",
      "state": {}
     },
     "d3992ef8d1804bb0a6032246ba698b83": {
      "model_module": "@jupyter-widgets/base",
      "model_module_version": "1.2.0",
      "model_name": "LayoutModel",
      "state": {
       "display": "inline-flex",
       "flex_flow": "row wrap",
       "width": "100%"
      }
     },
     "d437e5bf8ae949bbb4dbea8f393f711c": {
      "model_module": "@jupyter-widgets/base",
      "model_module_version": "1.2.0",
      "model_name": "LayoutModel",
      "state": {}
     },
     "d43c8a6a2d9847c6a13778c8265a3037": {
      "model_module": "@jupyter-widgets/controls",
      "model_module_version": "1.5.0",
      "model_name": "FloatProgressModel",
      "state": {
       "bar_style": "info",
       "description": "Validating: 100%",
       "layout": "IPY_MODEL_41687017647446339bca960de88a82f1",
       "max": 1,
       "style": "IPY_MODEL_0003d6a455014136b221f95ea78e45d3",
       "value": 1
      }
     },
     "d527c6a3b7cd4d278375aa98dcbee7f1": {
      "model_module": "@jupyter-widgets/base",
      "model_module_version": "1.2.0",
      "model_name": "LayoutModel",
      "state": {}
     },
     "d625fd2a583a45f08b10969a34824a05": {
      "model_module": "@jupyter-widgets/controls",
      "model_module_version": "1.5.0",
      "model_name": "ProgressStyleModel",
      "state": {
       "description_width": "initial"
      }
     },
     "d62f0ccd19294620b2aab5bd3e8f2d7d": {
      "model_module": "@jupyter-widgets/controls",
      "model_module_version": "1.5.0",
      "model_name": "ProgressStyleModel",
      "state": {
       "description_width": "initial"
      }
     },
     "d6bce9912c10427688627643748dd332": {
      "model_module": "@jupyter-widgets/base",
      "model_module_version": "1.2.0",
      "model_name": "LayoutModel",
      "state": {}
     },
     "d81c19e03f7c426cb9a391e62286c158": {
      "model_module": "@jupyter-widgets/base",
      "model_module_version": "1.2.0",
      "model_name": "LayoutModel",
      "state": {
       "display": "inline-flex",
       "flex_flow": "row wrap",
       "width": "100%"
      }
     },
     "d991e20d73844fdea97c020d1d75390d": {
      "model_module": "@jupyter-widgets/base",
      "model_module_version": "1.2.0",
      "model_name": "LayoutModel",
      "state": {
       "display": "inline-flex",
       "flex_flow": "row wrap",
       "width": "100%"
      }
     },
     "daf3794f2ba14ee2936daeeb23aefc57": {
      "model_module": "@jupyter-widgets/base",
      "model_module_version": "1.2.0",
      "model_name": "LayoutModel",
      "state": {}
     },
     "dc2e5245349f4b8aa93adb1aadd1f9c4": {
      "model_module": "@jupyter-widgets/base",
      "model_module_version": "1.2.0",
      "model_name": "LayoutModel",
      "state": {
       "display": "inline-flex",
       "flex_flow": "row wrap",
       "width": "100%"
      }
     },
     "dddbe18d165d4f90a155d363408a3476": {
      "model_module": "@jupyter-widgets/controls",
      "model_module_version": "1.5.0",
      "model_name": "FloatProgressModel",
      "state": {
       "bar_style": "info",
       "description": "Validation sanity check: 100%",
       "layout": "IPY_MODEL_14778f298a9b4896be8420c3ab156018",
       "max": 1,
       "style": "IPY_MODEL_9df1ce3508a142ae9ffd305da8b6881b",
       "value": 1
      }
     },
     "de72a7e169104c519316ebc628f54de3": {
      "model_module": "@jupyter-widgets/controls",
      "model_module_version": "1.5.0",
      "model_name": "FloatProgressModel",
      "state": {
       "bar_style": "info",
       "description": "Validation sanity check: 100%",
       "layout": "IPY_MODEL_3af9be13724f411eb418c54ead642207",
       "max": 1,
       "style": "IPY_MODEL_42566d4ebc724601abd82383af2f449d",
       "value": 1
      }
     },
     "de74af99ff004988a8b1a62ac4cb350a": {
      "model_module": "@jupyter-widgets/controls",
      "model_module_version": "1.5.0",
      "model_name": "DescriptionStyleModel",
      "state": {
       "description_width": ""
      }
     },
     "df40edd0e29e41ab85b1011c1349fb79": {
      "model_module": "@jupyter-widgets/controls",
      "model_module_version": "1.5.0",
      "model_name": "FloatProgressModel",
      "state": {
       "bar_style": "success",
       "description": "Epoch 0: 100%",
       "layout": "IPY_MODEL_fbc19bb084144b18a444ba8b3e2daa4d",
       "max": 101,
       "style": "IPY_MODEL_d097c843d3c34244abd0a1bc7bc2dbb9",
       "value": 101
      }
     },
     "df63a7f01c414c3e8c040f2f99f78488": {
      "model_module": "@jupyter-widgets/base",
      "model_module_version": "1.2.0",
      "model_name": "LayoutModel",
      "state": {
       "flex": "2"
      }
     },
     "df7570e474e2473c82b7bedf44073b01": {
      "model_module": "@jupyter-widgets/base",
      "model_module_version": "1.2.0",
      "model_name": "LayoutModel",
      "state": {
       "flex": "2"
      }
     },
     "e2ade3f3e482487d9c238bda6213a97e": {
      "model_module": "@jupyter-widgets/controls",
      "model_module_version": "1.5.0",
      "model_name": "HTMLModel",
      "state": {
       "layout": "IPY_MODEL_0e103b21adcb47de8706c55daba54c2a",
       "style": "IPY_MODEL_b45ba7d5a6a14352bcdf964c7f5e9d3e",
       "value": " 1/1 [00:00&lt;00:00, 41.49it/s]"
      }
     },
     "e367725a2b774e28bd950338362884b1": {
      "model_module": "@jupyter-widgets/controls",
      "model_module_version": "1.5.0",
      "model_name": "ProgressStyleModel",
      "state": {
       "description_width": "initial"
      }
     },
     "e571676463e94c75987b912b6c33a029": {
      "model_module": "@jupyter-widgets/controls",
      "model_module_version": "1.5.0",
      "model_name": "ProgressStyleModel",
      "state": {
       "description_width": "initial"
      }
     },
     "e615169d0f0f4b70b229cb671292573d": {
      "model_module": "@jupyter-widgets/base",
      "model_module_version": "1.2.0",
      "model_name": "LayoutModel",
      "state": {
       "display": "inline-flex",
       "flex_flow": "row wrap",
       "width": "100%"
      }
     },
     "e747edb1d8be4d86901867d957d55ede": {
      "model_module": "@jupyter-widgets/base",
      "model_module_version": "1.2.0",
      "model_name": "LayoutModel",
      "state": {
       "flex": "2"
      }
     },
     "ec8d8e71d33745d7b07d30ef92f752d9": {
      "model_module": "@jupyter-widgets/base",
      "model_module_version": "1.2.0",
      "model_name": "LayoutModel",
      "state": {
       "flex": "2"
      }
     },
     "ee3f6bc19d6c4fc69d7adaea06b148b1": {
      "model_module": "@jupyter-widgets/base",
      "model_module_version": "1.2.0",
      "model_name": "LayoutModel",
      "state": {
       "display": "inline-flex",
       "flex_flow": "row wrap",
       "width": "100%"
      }
     },
     "ee8542b33c564aef992436086251541a": {
      "model_module": "@jupyter-widgets/base",
      "model_module_version": "1.2.0",
      "model_name": "LayoutModel",
      "state": {}
     },
     "efa72b34e3b44201b8125f8568c0a39f": {
      "model_module": "@jupyter-widgets/controls",
      "model_module_version": "1.5.0",
      "model_name": "HTMLModel",
      "state": {
       "layout": "IPY_MODEL_2ed17e96c9884f33b92c4fa2a8e81fc9",
       "style": "IPY_MODEL_bdf6d0028685493d9cd93d0f1d78d62c",
       "value": " 1/1 [00:00&lt;00:00, 55.04it/s]"
      }
     },
     "f0743bc089b14747b09f9c7d94fcdf64": {
      "model_module": "@jupyter-widgets/base",
      "model_module_version": "1.2.0",
      "model_name": "LayoutModel",
      "state": {
       "display": "inline-flex",
       "flex_flow": "row wrap",
       "width": "100%"
      }
     },
     "f2244a41d0df49f88827c4a0b5dec090": {
      "model_module": "@jupyter-widgets/controls",
      "model_module_version": "1.5.0",
      "model_name": "ProgressStyleModel",
      "state": {
       "description_width": "initial"
      }
     },
     "f2943de4960a4106abeac6e8f41161b8": {
      "model_module": "@jupyter-widgets/controls",
      "model_module_version": "1.5.0",
      "model_name": "ProgressStyleModel",
      "state": {
       "description_width": "initial"
      }
     },
     "f2a89764ca8a409faf3ecad116ad5598": {
      "model_module": "@jupyter-widgets/base",
      "model_module_version": "1.2.0",
      "model_name": "LayoutModel",
      "state": {
       "flex": "2"
      }
     },
     "f2bfd40eeece4fb38c443b04b34b8b60": {
      "model_module": "@jupyter-widgets/controls",
      "model_module_version": "1.5.0",
      "model_name": "HTMLModel",
      "state": {
       "layout": "IPY_MODEL_c1a2c622aea141ce9a939203b441b76f",
       "style": "IPY_MODEL_11b14c9878dd4a4aa10d5bbdb5699b5e",
       "value": " 101/101 [00:22&lt;00:00,  4.46it/s, loss=1.33, v_num=54, val_loss_step=1.330, val_loss_epoch=1.330, train_loss_step=1.320, train_loss_epoch=1.410]"
      }
     },
     "f6912a5b7ae745c5ad00885d0f4c9af6": {
      "model_module": "@jupyter-widgets/base",
      "model_module_version": "1.2.0",
      "model_name": "LayoutModel",
      "state": {
       "display": "inline-flex",
       "flex_flow": "row wrap",
       "width": "100%"
      }
     },
     "f71be67a8d0748419c261ecca0e14277": {
      "model_module": "@jupyter-widgets/base",
      "model_module_version": "1.2.0",
      "model_name": "LayoutModel",
      "state": {
       "flex": "2"
      }
     },
     "f7530bbf16754a149298e4bf9baa0cb4": {
      "model_module": "@jupyter-widgets/controls",
      "model_module_version": "1.5.0",
      "model_name": "FloatProgressModel",
      "state": {
       "bar_style": "info",
       "description": "Validating: 100%",
       "layout": "IPY_MODEL_face7929c5e3479993c12c5d393a8a69",
       "max": 1,
       "style": "IPY_MODEL_a03bb575fa6e45baa7298f4e3c367833",
       "value": 1
      }
     },
     "f778307e3ace42759a95dce8693fbfbf": {
      "model_module": "@jupyter-widgets/controls",
      "model_module_version": "1.5.0",
      "model_name": "HTMLModel",
      "state": {
       "layout": "IPY_MODEL_ee8542b33c564aef992436086251541a",
       "style": "IPY_MODEL_de74af99ff004988a8b1a62ac4cb350a",
       "value": " 1/1 [00:00&lt;00:00, 18.10it/s]"
      }
     },
     "f831543dce424746881e8dc87f761c4c": {
      "model_module": "@jupyter-widgets/base",
      "model_module_version": "1.2.0",
      "model_name": "LayoutModel",
      "state": {
       "flex": "2"
      }
     },
     "f956cb035b98444c97f7d51b5d33a3d4": {
      "model_module": "@jupyter-widgets/base",
      "model_module_version": "1.2.0",
      "model_name": "LayoutModel",
      "state": {}
     },
     "f9d3c937f4194ada8e6ddf9092b4759f": {
      "model_module": "@jupyter-widgets/base",
      "model_module_version": "1.2.0",
      "model_name": "LayoutModel",
      "state": {
       "display": "inline-flex",
       "flex_flow": "row wrap",
       "width": "100%"
      }
     },
     "fa7fda5091c44017bfb159bfb37b90df": {
      "model_module": "@jupyter-widgets/controls",
      "model_module_version": "1.5.0",
      "model_name": "HTMLModel",
      "state": {
       "layout": "IPY_MODEL_97d1d7f7ee584954ba8f9ec497b42844",
       "style": "IPY_MODEL_ae1bfb05282d4297b7a6905d743467af",
       "value": " 1/1 [00:00&lt;00:00, 15.10it/s]"
      }
     },
     "face7929c5e3479993c12c5d393a8a69": {
      "model_module": "@jupyter-widgets/base",
      "model_module_version": "1.2.0",
      "model_name": "LayoutModel",
      "state": {
       "flex": "2"
      }
     },
     "fbc19bb084144b18a444ba8b3e2daa4d": {
      "model_module": "@jupyter-widgets/base",
      "model_module_version": "1.2.0",
      "model_name": "LayoutModel",
      "state": {
       "flex": "2"
      }
     },
     "fc068e52e95940b38f6db68b89525bee": {
      "model_module": "@jupyter-widgets/base",
      "model_module_version": "1.2.0",
      "model_name": "LayoutModel",
      "state": {
       "flex": "2"
      }
     },
     "fc2ba999246341e48631a3ee4a52b6bd": {
      "model_module": "@jupyter-widgets/base",
      "model_module_version": "1.2.0",
      "model_name": "LayoutModel",
      "state": {}
     },
     "fcacd651cb18413db119d71c8af3a172": {
      "model_module": "@jupyter-widgets/controls",
      "model_module_version": "1.5.0",
      "model_name": "HTMLModel",
      "state": {
       "layout": "IPY_MODEL_f956cb035b98444c97f7d51b5d33a3d4",
       "style": "IPY_MODEL_b40b463f5d8843a89ab3e9ab6eda5425",
       "value": " 1/1 [00:00&lt;00:00, 31.17it/s]"
      }
     },
     "fcde15b405a0497f8da44c81008e86f7": {
      "model_module": "@jupyter-widgets/controls",
      "model_module_version": "1.5.0",
      "model_name": "HTMLModel",
      "state": {
       "layout": "IPY_MODEL_4d26f45502ac4085adab2825b21493d5",
       "style": "IPY_MODEL_d1eb53babe124867ac6ff2a98ee32891",
       "value": " 1/1 [00:00&lt;00:00, 48.53it/s]"
      }
     },
     "fe3201acc1594c74ad91536af0985233": {
      "model_module": "@jupyter-widgets/controls",
      "model_module_version": "1.5.0",
      "model_name": "FloatProgressModel",
      "state": {
       "bar_style": "info",
       "description": "Validating: 100%",
       "layout": "IPY_MODEL_ad06c669fb894674810f0be875d78d53",
       "max": 1,
       "style": "IPY_MODEL_ba6c1c803e9e41a2b0e5cf1e57e90cf2",
       "value": 1
      }
     },
     "fe76197978664c9f9407faf7765dd9c3": {
      "model_module": "@jupyter-widgets/controls",
      "model_module_version": "1.5.0",
      "model_name": "HTMLModel",
      "state": {
       "layout": "IPY_MODEL_7c2578394a04417d8bfa48a71db700cb",
       "style": "IPY_MODEL_c900c652543040e1a7a5d8fd5e2cc8e0",
       "value": " 1/1 [00:00&lt;00:00, 44.82it/s]"
      }
     },
     "ff59fb2ef570430797df2cb716af1e64": {
      "model_module": "@jupyter-widgets/controls",
      "model_module_version": "1.5.0",
      "model_name": "FloatProgressModel",
      "state": {
       "bar_style": "info",
       "description": "Validating: 100%",
       "layout": "IPY_MODEL_7326e354729a433aa1457a65c9ed6eb7",
       "max": 1,
       "style": "IPY_MODEL_b102dc891e114211ac5bf7637b92451f",
       "value": 1
      }
     },
     "ff88b32ad418477aa42e4d020479c67b": {
      "model_module": "@jupyter-widgets/controls",
      "model_module_version": "1.5.0",
      "model_name": "FloatProgressModel",
      "state": {
       "bar_style": "info",
       "description": "Validating: 100%",
       "layout": "IPY_MODEL_ec8d8e71d33745d7b07d30ef92f752d9",
       "max": 1,
       "style": "IPY_MODEL_a7339cbcce714d89aecf9506e3731680",
       "value": 1
      }
     },
     "ffc6aa6e0a2846f9a27d3a8da0a25d2f": {
      "model_module": "@jupyter-widgets/controls",
      "model_module_version": "1.5.0",
      "model_name": "HTMLModel",
      "state": {
       "layout": "IPY_MODEL_a88a6ad8b4954b938361cc3f215e0dc1",
       "style": "IPY_MODEL_b2b6bddd5cab477ca8c00b56ad195d4b",
       "value": " 1/1 [00:00&lt;00:00, 53.58it/s]"
      }
     }
    },
    "version_major": 2,
    "version_minor": 0
   }
  }
 },
 "nbformat": 4,
 "nbformat_minor": 5
}
