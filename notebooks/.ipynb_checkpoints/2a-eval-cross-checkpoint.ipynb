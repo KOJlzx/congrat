{
 "cells": [
  {
   "cell_type": "markdown",
   "id": "aff70079-021f-40b5-8ec4-a794c720bcc2",
   "metadata": {
    "tags": []
   },
   "source": [
    "# Cross-modal metrics\n",
    "\n",
    "Stated without reference to baselines, but all of these are implicitly relative to (and below are compared to) the results with separately pretrained models.\n",
    "\n",
    "- [x] Top-{1, ..., 10} accuracy of node/text matching.\n",
    "    - If we predict the node a given text came from by cosine similarity of embeddings, how often is the true node in the top k most similar nodes?\n",
    "- [x] Text and graph embedding distances should correlate.\n",
    "    - Given a set of texts $\\{t_i\\}$ with corresponding node assignments $\\{n_i\\}$, the distance in embedding space between $t_i$ and $t_j$ should correlate with the distance in embedding space between $n_i$ and $n_j$.\n",
    "- [x] Text and graph embedding distances should correlate with graph similarity or distance metrics.\n",
    "    - Given a set of texts $\\{t_i\\}$ with corresponding node assignments $\\{n_i\\}$, both the distance in embedding space between $t_i$ and $t_j$, and the distance between $n_i$ and $n_j$, should be more correlated with the SimRank similarity of $n_i$ and $n_j$ in the original graph structure after training than under the separately pretrained baseline.\n",
    "    - Don't have to use SimRank - the number of mutual in-edges or out-edges would also make sense as a graph-based measure of node similarity, for example.\n",
    "- [x] Within-node similarity of texts should be high.\n",
    "    - Within-node similarity of texts should be higher than baseline."
   ]
  },
  {
   "cell_type": "code",
   "execution_count": 1,
   "id": "1b3c874e-9130-4c4a-b46a-bd5d4aa53a67",
   "metadata": {
    "tags": []
   },
   "outputs": [
    {
     "name": "stderr",
     "output_type": "stream",
     "text": [
      "Matplotlib created a temporary config/cache directory at /tmp/matplotlib-qlqawl70 because the default path (/mas/u/wbrannon/.config/matplotlib) is not a writable directory; it is highly recommended to set the MPLCONFIGDIR environment variable to a writable directory, in particular to speed up the import of Matplotlib and to better support multiprocessing.\n"
     ]
    }
   ],
   "source": [
    "import os\n",
    "import json\n",
    "\n",
    "import numpy as np\n",
    "import pandas as pd\n",
    "import scipy.stats as ss\n",
    "\n",
    "import matplotlib as mp\n",
    "%matplotlib inline\n",
    "import matplotlib.pyplot as plt"
   ]
  },
  {
   "cell_type": "code",
   "execution_count": 2,
   "id": "a107a912-4c1c-4a3a-bced-1ab02b5cc48a",
   "metadata": {},
   "outputs": [],
   "source": [
    "os.chdir(os.path.expanduser('~/github/clip-graph'))"
   ]
  },
  {
   "cell_type": "markdown",
   "id": "98d7e81a-d6e6-48bc-818f-0cb7788b665f",
   "metadata": {
    "tags": []
   },
   "source": [
    "# Load"
   ]
  },
  {
   "cell_type": "code",
   "execution_count": 3,
   "id": "2b3f7911-d1cc-4113-9af0-0aec8cfff728",
   "metadata": {},
   "outputs": [],
   "source": [
    "files = ['masked-base', 'masked-sim10', 'masked-sim50', 'causal-base', 'causal-sim10', 'causal-sim50',]\n",
    "\n",
    "evals = {}\n",
    "for file in files:\n",
    "    with open(f'data/evals/val-{file}.json', 'rt') as f:\n",
    "        evals[file] = json.load(f)"
   ]
  },
  {
   "cell_type": "markdown",
   "id": "953bdb06-0a62-41da-80c9-9f4602fd28e2",
   "metadata": {},
   "source": [
    "# Top-k accuracy"
   ]
  },
  {
   "cell_type": "code",
   "execution_count": 4,
   "id": "71b51e31-835f-437d-aa2b-eeb8566917b1",
   "metadata": {},
   "outputs": [],
   "source": [
    "exact = pd.concat([\n",
    "    pd.DataFrame(evals[file]['eval_topk_accuracy']['exact_point']).assign(model=file)\n",
    "    for file in files\n",
    "], axis=0).set_index(['model', 'k'])"
   ]
  },
  {
   "cell_type": "code",
   "execution_count": 5,
   "id": "b654a71d-00d8-4f30-8e87-cd96d6ede7f5",
   "metadata": {},
   "outputs": [],
   "source": [
    "runs = pd.concat([\n",
    "    pd.DataFrame(evals[file]['eval_topk_accuracy']['resample']).assign(model=file)\n",
    "    for file in files\n",
    "], axis=0).set_index(['model', 'run', 'k'])"
   ]
  },
  {
   "cell_type": "markdown",
   "id": "601eeb28-e68b-45d8-8ad9-e730e841b25c",
   "metadata": {},
   "source": [
    "## Exact point estimates"
   ]
  },
  {
   "cell_type": "code",
   "execution_count": 6,
   "id": "c8339843-a798-497c-a107-b8b22574af98",
   "metadata": {},
   "outputs": [
    {
     "data": {
      "text/html": [
       "<div>\n",
       "<style scoped>\n",
       "    .dataframe tbody tr th:only-of-type {\n",
       "        vertical-align: middle;\n",
       "    }\n",
       "\n",
       "    .dataframe tbody tr th {\n",
       "        vertical-align: top;\n",
       "    }\n",
       "\n",
       "    .dataframe thead th {\n",
       "        text-align: right;\n",
       "    }\n",
       "</style>\n",
       "<table border=\"1\" class=\"dataframe\">\n",
       "  <thead>\n",
       "    <tr style=\"text-align: right;\">\n",
       "      <th></th>\n",
       "      <th>k</th>\n",
       "      <th>1</th>\n",
       "      <th>2</th>\n",
       "      <th>3</th>\n",
       "      <th>4</th>\n",
       "      <th>5</th>\n",
       "      <th>6</th>\n",
       "      <th>7</th>\n",
       "      <th>8</th>\n",
       "      <th>9</th>\n",
       "      <th>10</th>\n",
       "    </tr>\n",
       "    <tr>\n",
       "      <th></th>\n",
       "      <th>model</th>\n",
       "      <th></th>\n",
       "      <th></th>\n",
       "      <th></th>\n",
       "      <th></th>\n",
       "      <th></th>\n",
       "      <th></th>\n",
       "      <th></th>\n",
       "      <th></th>\n",
       "      <th></th>\n",
       "      <th></th>\n",
       "    </tr>\n",
       "  </thead>\n",
       "  <tbody>\n",
       "    <tr>\n",
       "      <th rowspan=\"6\" valign=\"top\">trained_acc</th>\n",
       "      <th>causal-base</th>\n",
       "      <td>0.031434</td>\n",
       "      <td>0.053223</td>\n",
       "      <td>0.070879</td>\n",
       "      <td>0.086733</td>\n",
       "      <td>0.100789</td>\n",
       "      <td>0.113711</td>\n",
       "      <td>0.125608</td>\n",
       "      <td>0.136420</td>\n",
       "      <td>0.146863</td>\n",
       "      <td>0.157150</td>\n",
       "    </tr>\n",
       "    <tr>\n",
       "      <th>causal-sim10</th>\n",
       "      <td>0.027206</td>\n",
       "      <td>0.049424</td>\n",
       "      <td>0.069646</td>\n",
       "      <td>0.088617</td>\n",
       "      <td>0.104687</td>\n",
       "      <td>0.119630</td>\n",
       "      <td>0.133378</td>\n",
       "      <td>0.146236</td>\n",
       "      <td>0.158135</td>\n",
       "      <td>0.169302</td>\n",
       "    </tr>\n",
       "    <tr>\n",
       "      <th>causal-sim50</th>\n",
       "      <td>0.027874</td>\n",
       "      <td>0.050580</td>\n",
       "      <td>0.070221</td>\n",
       "      <td>0.088513</td>\n",
       "      <td>0.105275</td>\n",
       "      <td>0.120356</td>\n",
       "      <td>0.133878</td>\n",
       "      <td>0.146447</td>\n",
       "      <td>0.158395</td>\n",
       "      <td>0.169367</td>\n",
       "    </tr>\n",
       "    <tr>\n",
       "      <th>masked-base</th>\n",
       "      <td>0.041858</td>\n",
       "      <td>0.071381</td>\n",
       "      <td>0.095634</td>\n",
       "      <td>0.116867</td>\n",
       "      <td>0.134590</td>\n",
       "      <td>0.150856</td>\n",
       "      <td>0.165498</td>\n",
       "      <td>0.178978</td>\n",
       "      <td>0.191324</td>\n",
       "      <td>0.202790</td>\n",
       "    </tr>\n",
       "    <tr>\n",
       "      <th>masked-sim10</th>\n",
       "      <td>0.038481</td>\n",
       "      <td>0.066696</td>\n",
       "      <td>0.092433</td>\n",
       "      <td>0.114283</td>\n",
       "      <td>0.133188</td>\n",
       "      <td>0.150168</td>\n",
       "      <td>0.164681</td>\n",
       "      <td>0.178055</td>\n",
       "      <td>0.190691</td>\n",
       "      <td>0.202249</td>\n",
       "    </tr>\n",
       "    <tr>\n",
       "      <th>masked-sim50</th>\n",
       "      <td>0.037887</td>\n",
       "      <td>0.069204</td>\n",
       "      <td>0.095027</td>\n",
       "      <td>0.117755</td>\n",
       "      <td>0.137308</td>\n",
       "      <td>0.155547</td>\n",
       "      <td>0.171984</td>\n",
       "      <td>0.186335</td>\n",
       "      <td>0.199552</td>\n",
       "      <td>0.211586</td>\n",
       "    </tr>\n",
       "    <tr>\n",
       "      <th rowspan=\"6\" valign=\"top\">comp_acc</th>\n",
       "      <th>causal-base</th>\n",
       "      <td>0.001414</td>\n",
       "      <td>0.002777</td>\n",
       "      <td>0.004047</td>\n",
       "      <td>0.005275</td>\n",
       "      <td>0.006349</td>\n",
       "      <td>0.007424</td>\n",
       "      <td>0.008398</td>\n",
       "      <td>0.009447</td>\n",
       "      <td>0.010424</td>\n",
       "      <td>0.011400</td>\n",
       "    </tr>\n",
       "    <tr>\n",
       "      <th>causal-sim10</th>\n",
       "      <td>0.001414</td>\n",
       "      <td>0.002777</td>\n",
       "      <td>0.004047</td>\n",
       "      <td>0.005275</td>\n",
       "      <td>0.006349</td>\n",
       "      <td>0.007424</td>\n",
       "      <td>0.008398</td>\n",
       "      <td>0.009447</td>\n",
       "      <td>0.010424</td>\n",
       "      <td>0.011400</td>\n",
       "    </tr>\n",
       "    <tr>\n",
       "      <th>causal-sim50</th>\n",
       "      <td>0.001414</td>\n",
       "      <td>0.002777</td>\n",
       "      <td>0.004047</td>\n",
       "      <td>0.005275</td>\n",
       "      <td>0.006349</td>\n",
       "      <td>0.007424</td>\n",
       "      <td>0.008398</td>\n",
       "      <td>0.009447</td>\n",
       "      <td>0.010424</td>\n",
       "      <td>0.011400</td>\n",
       "    </tr>\n",
       "    <tr>\n",
       "      <th>masked-base</th>\n",
       "      <td>0.001683</td>\n",
       "      <td>0.003208</td>\n",
       "      <td>0.004756</td>\n",
       "      <td>0.006384</td>\n",
       "      <td>0.007855</td>\n",
       "      <td>0.009356</td>\n",
       "      <td>0.010866</td>\n",
       "      <td>0.012315</td>\n",
       "      <td>0.013761</td>\n",
       "      <td>0.015276</td>\n",
       "    </tr>\n",
       "    <tr>\n",
       "      <th>masked-sim10</th>\n",
       "      <td>0.001683</td>\n",
       "      <td>0.003208</td>\n",
       "      <td>0.004756</td>\n",
       "      <td>0.006384</td>\n",
       "      <td>0.007855</td>\n",
       "      <td>0.009356</td>\n",
       "      <td>0.010866</td>\n",
       "      <td>0.012315</td>\n",
       "      <td>0.013761</td>\n",
       "      <td>0.015276</td>\n",
       "    </tr>\n",
       "    <tr>\n",
       "      <th>masked-sim50</th>\n",
       "      <td>0.001683</td>\n",
       "      <td>0.003208</td>\n",
       "      <td>0.004756</td>\n",
       "      <td>0.006384</td>\n",
       "      <td>0.007855</td>\n",
       "      <td>0.009356</td>\n",
       "      <td>0.010866</td>\n",
       "      <td>0.012315</td>\n",
       "      <td>0.013761</td>\n",
       "      <td>0.015276</td>\n",
       "    </tr>\n",
       "    <tr>\n",
       "      <th rowspan=\"6\" valign=\"top\">diff_acc</th>\n",
       "      <th>causal-base</th>\n",
       "      <td>0.030020</td>\n",
       "      <td>0.050446</td>\n",
       "      <td>0.066832</td>\n",
       "      <td>0.081459</td>\n",
       "      <td>0.094440</td>\n",
       "      <td>0.106287</td>\n",
       "      <td>0.117210</td>\n",
       "      <td>0.126973</td>\n",
       "      <td>0.136439</td>\n",
       "      <td>0.145750</td>\n",
       "    </tr>\n",
       "    <tr>\n",
       "      <th>causal-sim10</th>\n",
       "      <td>0.025792</td>\n",
       "      <td>0.046648</td>\n",
       "      <td>0.065599</td>\n",
       "      <td>0.083343</td>\n",
       "      <td>0.098338</td>\n",
       "      <td>0.112206</td>\n",
       "      <td>0.124979</td>\n",
       "      <td>0.136789</td>\n",
       "      <td>0.147710</td>\n",
       "      <td>0.157901</td>\n",
       "    </tr>\n",
       "    <tr>\n",
       "      <th>causal-sim50</th>\n",
       "      <td>0.026460</td>\n",
       "      <td>0.047803</td>\n",
       "      <td>0.066174</td>\n",
       "      <td>0.083238</td>\n",
       "      <td>0.098927</td>\n",
       "      <td>0.112931</td>\n",
       "      <td>0.125480</td>\n",
       "      <td>0.137000</td>\n",
       "      <td>0.147971</td>\n",
       "      <td>0.157967</td>\n",
       "    </tr>\n",
       "    <tr>\n",
       "      <th>masked-base</th>\n",
       "      <td>0.040175</td>\n",
       "      <td>0.068173</td>\n",
       "      <td>0.090878</td>\n",
       "      <td>0.110483</td>\n",
       "      <td>0.126735</td>\n",
       "      <td>0.141500</td>\n",
       "      <td>0.154632</td>\n",
       "      <td>0.166663</td>\n",
       "      <td>0.177563</td>\n",
       "      <td>0.187514</td>\n",
       "    </tr>\n",
       "    <tr>\n",
       "      <th>masked-sim10</th>\n",
       "      <td>0.036798</td>\n",
       "      <td>0.063488</td>\n",
       "      <td>0.087677</td>\n",
       "      <td>0.107898</td>\n",
       "      <td>0.125333</td>\n",
       "      <td>0.140812</td>\n",
       "      <td>0.153815</td>\n",
       "      <td>0.165740</td>\n",
       "      <td>0.176930</td>\n",
       "      <td>0.186973</td>\n",
       "    </tr>\n",
       "    <tr>\n",
       "      <th>masked-sim50</th>\n",
       "      <td>0.036205</td>\n",
       "      <td>0.065996</td>\n",
       "      <td>0.090271</td>\n",
       "      <td>0.111370</td>\n",
       "      <td>0.129452</td>\n",
       "      <td>0.146192</td>\n",
       "      <td>0.161118</td>\n",
       "      <td>0.174020</td>\n",
       "      <td>0.185790</td>\n",
       "      <td>0.196310</td>\n",
       "    </tr>\n",
       "  </tbody>\n",
       "</table>\n",
       "</div>"
      ],
      "text/plain": [
       "k                               1         2         3         4         5   \\\n",
       "            model                                                            \n",
       "trained_acc causal-base   0.031434  0.053223  0.070879  0.086733  0.100789   \n",
       "            causal-sim10  0.027206  0.049424  0.069646  0.088617  0.104687   \n",
       "            causal-sim50  0.027874  0.050580  0.070221  0.088513  0.105275   \n",
       "            masked-base   0.041858  0.071381  0.095634  0.116867  0.134590   \n",
       "            masked-sim10  0.038481  0.066696  0.092433  0.114283  0.133188   \n",
       "            masked-sim50  0.037887  0.069204  0.095027  0.117755  0.137308   \n",
       "comp_acc    causal-base   0.001414  0.002777  0.004047  0.005275  0.006349   \n",
       "            causal-sim10  0.001414  0.002777  0.004047  0.005275  0.006349   \n",
       "            causal-sim50  0.001414  0.002777  0.004047  0.005275  0.006349   \n",
       "            masked-base   0.001683  0.003208  0.004756  0.006384  0.007855   \n",
       "            masked-sim10  0.001683  0.003208  0.004756  0.006384  0.007855   \n",
       "            masked-sim50  0.001683  0.003208  0.004756  0.006384  0.007855   \n",
       "diff_acc    causal-base   0.030020  0.050446  0.066832  0.081459  0.094440   \n",
       "            causal-sim10  0.025792  0.046648  0.065599  0.083343  0.098338   \n",
       "            causal-sim50  0.026460  0.047803  0.066174  0.083238  0.098927   \n",
       "            masked-base   0.040175  0.068173  0.090878  0.110483  0.126735   \n",
       "            masked-sim10  0.036798  0.063488  0.087677  0.107898  0.125333   \n",
       "            masked-sim50  0.036205  0.065996  0.090271  0.111370  0.129452   \n",
       "\n",
       "k                               6         7         8         9         10  \n",
       "            model                                                           \n",
       "trained_acc causal-base   0.113711  0.125608  0.136420  0.146863  0.157150  \n",
       "            causal-sim10  0.119630  0.133378  0.146236  0.158135  0.169302  \n",
       "            causal-sim50  0.120356  0.133878  0.146447  0.158395  0.169367  \n",
       "            masked-base   0.150856  0.165498  0.178978  0.191324  0.202790  \n",
       "            masked-sim10  0.150168  0.164681  0.178055  0.190691  0.202249  \n",
       "            masked-sim50  0.155547  0.171984  0.186335  0.199552  0.211586  \n",
       "comp_acc    causal-base   0.007424  0.008398  0.009447  0.010424  0.011400  \n",
       "            causal-sim10  0.007424  0.008398  0.009447  0.010424  0.011400  \n",
       "            causal-sim50  0.007424  0.008398  0.009447  0.010424  0.011400  \n",
       "            masked-base   0.009356  0.010866  0.012315  0.013761  0.015276  \n",
       "            masked-sim10  0.009356  0.010866  0.012315  0.013761  0.015276  \n",
       "            masked-sim50  0.009356  0.010866  0.012315  0.013761  0.015276  \n",
       "diff_acc    causal-base   0.106287  0.117210  0.126973  0.136439  0.145750  \n",
       "            causal-sim10  0.112206  0.124979  0.136789  0.147710  0.157901  \n",
       "            causal-sim50  0.112931  0.125480  0.137000  0.147971  0.157967  \n",
       "            masked-base   0.141500  0.154632  0.166663  0.177563  0.187514  \n",
       "            masked-sim10  0.140812  0.153815  0.165740  0.176930  0.186973  \n",
       "            masked-sim50  0.146192  0.161118  0.174020  0.185790  0.196310  "
      ]
     },
     "execution_count": 6,
     "metadata": {},
     "output_type": "execute_result"
    }
   ],
   "source": [
    "exact.unstack(0).T"
   ]
  },
  {
   "cell_type": "code",
   "execution_count": 7,
   "id": "a8e9da79-4aa7-4c73-a0df-de5b003be445",
   "metadata": {},
   "outputs": [
    {
     "data": {
      "image/png": "[encoded data removed]",
      "text/plain": [
       "<Figure size 1080x720 with 6 Axes>"
      ]
     },
     "metadata": {
      "needs_background": "light"
     },
     "output_type": "display_data"
    }
   ],
   "source": [
    "ncol, nrow = 3, int(np.ceil(len(files) / 3))\n",
    "fig, axes = plt.subplots(nrow, ncol, sharex=True, sharey=True,\n",
    "                         figsize=(5 * ncol, 5 * nrow))\n",
    "axes = axes.flatten()\n",
    "\n",
    "for file, ax in zip(files, axes):\n",
    "    ax.set_title(file)\n",
    "    \n",
    "    tmp = exact.unstack(0).loc[:, pd.IndexSlice[['trained_acc', 'comp_acc'], file]]\n",
    "    tmp.columns = tmp.columns.droplevel(1)\n",
    "    \n",
    "    tmp.plot(ax=ax)"
   ]
  },
  {
   "cell_type": "code",
   "execution_count": 8,
   "id": "c747160b-dbd5-41de-8508-2e2044ac1a3a",
   "metadata": {},
   "outputs": [
    {
     "data": {
      "image/png": "[encoded data removed]",
      "text/plain": [
       "<Figure size 720x360 with 2 Axes>"
      ]
     },
     "metadata": {
      "needs_background": "light"
     },
     "output_type": "display_data"
    }
   ],
   "source": [
    "fig, axes = plt.subplots(1, 2, sharex=True, figsize=(10, 5))\n",
    "axes = axes.flatten()\n",
    "\n",
    "axes[0].set_title('masked')\n",
    "cols = [f for f in files if f.startswith('masked')]\n",
    "tmp = exact.unstack(0).loc[:, pd.IndexSlice['trained_acc', cols]]\n",
    "tmp.columns = tmp.columns.droplevel(0)\n",
    "tmp.plot(ax=axes[0])\n",
    "\n",
    "axes[1].set_title('causal')\n",
    "cols = [f for f in files if f.startswith('causal')]\n",
    "tmp = exact.unstack(0).loc[:, pd.IndexSlice['trained_acc', cols]]\n",
    "tmp.columns = tmp.columns.droplevel(0)\n",
    "tmp.plot(ax=axes[1])\n",
    "\n",
    "fig.suptitle('trained_acc')\n",
    "fig.tight_layout()"
   ]
  },
  {
   "cell_type": "markdown",
   "id": "4517b64a-7e2f-4620-a48b-1bda60f70e3c",
   "metadata": {},
   "source": [
    "## Resampled\n",
    "\n",
    "The plots and tables here are just a sanity check: do they have sensible variance and mean plausibly close to the exact estimates above? The point of this section is the tests down below."
   ]
  },
  {
   "cell_type": "code",
   "execution_count": 9,
   "id": "43174b46-453e-4f0c-ab34-5cf14c6c712b",
   "metadata": {
    "scrolled": true,
    "tags": []
   },
   "outputs": [
    {
     "data": {
      "text/html": [
       "<div>\n",
       "<style scoped>\n",
       "    .dataframe tbody tr th:only-of-type {\n",
       "        vertical-align: middle;\n",
       "    }\n",
       "\n",
       "    .dataframe tbody tr th {\n",
       "        vertical-align: top;\n",
       "    }\n",
       "\n",
       "    .dataframe thead tr th {\n",
       "        text-align: left;\n",
       "    }\n",
       "\n",
       "    .dataframe thead tr:last-of-type th {\n",
       "        text-align: right;\n",
       "    }\n",
       "</style>\n",
       "<table border=\"1\" class=\"dataframe\">\n",
       "  <thead>\n",
       "    <tr>\n",
       "      <th></th>\n",
       "      <th></th>\n",
       "      <th colspan=\"2\" halign=\"left\">trained_acc</th>\n",
       "      <th colspan=\"2\" halign=\"left\">comp_acc</th>\n",
       "      <th colspan=\"2\" halign=\"left\">diff_acc</th>\n",
       "    </tr>\n",
       "    <tr>\n",
       "      <th></th>\n",
       "      <th></th>\n",
       "      <th>mean</th>\n",
       "      <th>std</th>\n",
       "      <th>mean</th>\n",
       "      <th>std</th>\n",
       "      <th>mean</th>\n",
       "      <th>std</th>\n",
       "    </tr>\n",
       "    <tr>\n",
       "      <th>model</th>\n",
       "      <th>k</th>\n",
       "      <th></th>\n",
       "      <th></th>\n",
       "      <th></th>\n",
       "      <th></th>\n",
       "      <th></th>\n",
       "      <th></th>\n",
       "    </tr>\n",
       "  </thead>\n",
       "  <tbody>\n",
       "    <tr>\n",
       "      <th rowspan=\"10\" valign=\"top\">causal-base</th>\n",
       "      <th>1</th>\n",
       "      <td>0.031421</td>\n",
       "      <td>0.000254</td>\n",
       "      <td>0.001410</td>\n",
       "      <td>0.000044</td>\n",
       "      <td>0.030010</td>\n",
       "      <td>0.000255</td>\n",
       "    </tr>\n",
       "    <tr>\n",
       "      <th>2</th>\n",
       "      <td>0.053208</td>\n",
       "      <td>0.000329</td>\n",
       "      <td>0.002782</td>\n",
       "      <td>0.000059</td>\n",
       "      <td>0.050426</td>\n",
       "      <td>0.000343</td>\n",
       "    </tr>\n",
       "    <tr>\n",
       "      <th>3</th>\n",
       "      <td>0.070856</td>\n",
       "      <td>0.000377</td>\n",
       "      <td>0.004050</td>\n",
       "      <td>0.000076</td>\n",
       "      <td>0.066806</td>\n",
       "      <td>0.000395</td>\n",
       "    </tr>\n",
       "    <tr>\n",
       "      <th>4</th>\n",
       "      <td>0.086697</td>\n",
       "      <td>0.000405</td>\n",
       "      <td>0.005279</td>\n",
       "      <td>0.000090</td>\n",
       "      <td>0.081418</td>\n",
       "      <td>0.000421</td>\n",
       "    </tr>\n",
       "    <tr>\n",
       "      <th>5</th>\n",
       "      <td>0.100761</td>\n",
       "      <td>0.000400</td>\n",
       "      <td>0.006355</td>\n",
       "      <td>0.000095</td>\n",
       "      <td>0.094406</td>\n",
       "      <td>0.000409</td>\n",
       "    </tr>\n",
       "    <tr>\n",
       "      <th>6</th>\n",
       "      <td>0.113679</td>\n",
       "      <td>0.000428</td>\n",
       "      <td>0.007424</td>\n",
       "      <td>0.000107</td>\n",
       "      <td>0.106255</td>\n",
       "      <td>0.000437</td>\n",
       "    </tr>\n",
       "    <tr>\n",
       "      <th>7</th>\n",
       "      <td>0.125580</td>\n",
       "      <td>0.000445</td>\n",
       "      <td>0.008401</td>\n",
       "      <td>0.000112</td>\n",
       "      <td>0.117179</td>\n",
       "      <td>0.000451</td>\n",
       "    </tr>\n",
       "    <tr>\n",
       "      <th>8</th>\n",
       "      <td>0.136407</td>\n",
       "      <td>0.000470</td>\n",
       "      <td>0.009454</td>\n",
       "      <td>0.000124</td>\n",
       "      <td>0.126953</td>\n",
       "      <td>0.000483</td>\n",
       "    </tr>\n",
       "    <tr>\n",
       "      <th>9</th>\n",
       "      <td>0.146850</td>\n",
       "      <td>0.000485</td>\n",
       "      <td>0.010433</td>\n",
       "      <td>0.000123</td>\n",
       "      <td>0.136417</td>\n",
       "      <td>0.000493</td>\n",
       "    </tr>\n",
       "    <tr>\n",
       "      <th>10</th>\n",
       "      <td>0.157134</td>\n",
       "      <td>0.000495</td>\n",
       "      <td>0.011408</td>\n",
       "      <td>0.000131</td>\n",
       "      <td>0.145726</td>\n",
       "      <td>0.000496</td>\n",
       "    </tr>\n",
       "    <tr>\n",
       "      <th rowspan=\"10\" valign=\"top\">causal-sim10</th>\n",
       "      <th>1</th>\n",
       "      <td>0.027194</td>\n",
       "      <td>0.000209</td>\n",
       "      <td>0.001410</td>\n",
       "      <td>0.000044</td>\n",
       "      <td>0.025784</td>\n",
       "      <td>0.000201</td>\n",
       "    </tr>\n",
       "    <tr>\n",
       "      <th>2</th>\n",
       "      <td>0.049404</td>\n",
       "      <td>0.000268</td>\n",
       "      <td>0.002782</td>\n",
       "      <td>0.000059</td>\n",
       "      <td>0.046622</td>\n",
       "      <td>0.000265</td>\n",
       "    </tr>\n",
       "    <tr>\n",
       "      <th>3</th>\n",
       "      <td>0.069637</td>\n",
       "      <td>0.000311</td>\n",
       "      <td>0.004050</td>\n",
       "      <td>0.000076</td>\n",
       "      <td>0.065588</td>\n",
       "      <td>0.000313</td>\n",
       "    </tr>\n",
       "    <tr>\n",
       "      <th>4</th>\n",
       "      <td>0.088630</td>\n",
       "      <td>0.000361</td>\n",
       "      <td>0.005279</td>\n",
       "      <td>0.000090</td>\n",
       "      <td>0.083352</td>\n",
       "      <td>0.000367</td>\n",
       "    </tr>\n",
       "    <tr>\n",
       "      <th>5</th>\n",
       "      <td>0.104684</td>\n",
       "      <td>0.000402</td>\n",
       "      <td>0.006355</td>\n",
       "      <td>0.000095</td>\n",
       "      <td>0.098329</td>\n",
       "      <td>0.000406</td>\n",
       "    </tr>\n",
       "    <tr>\n",
       "      <th>6</th>\n",
       "      <td>0.119636</td>\n",
       "      <td>0.000441</td>\n",
       "      <td>0.007424</td>\n",
       "      <td>0.000107</td>\n",
       "      <td>0.112212</td>\n",
       "      <td>0.000446</td>\n",
       "    </tr>\n",
       "    <tr>\n",
       "      <th>7</th>\n",
       "      <td>0.133381</td>\n",
       "      <td>0.000436</td>\n",
       "      <td>0.008401</td>\n",
       "      <td>0.000112</td>\n",
       "      <td>0.124980</td>\n",
       "      <td>0.000439</td>\n",
       "    </tr>\n",
       "    <tr>\n",
       "      <th>8</th>\n",
       "      <td>0.146231</td>\n",
       "      <td>0.000450</td>\n",
       "      <td>0.009454</td>\n",
       "      <td>0.000124</td>\n",
       "      <td>0.136777</td>\n",
       "      <td>0.000456</td>\n",
       "    </tr>\n",
       "    <tr>\n",
       "      <th>9</th>\n",
       "      <td>0.158137</td>\n",
       "      <td>0.000479</td>\n",
       "      <td>0.010433</td>\n",
       "      <td>0.000123</td>\n",
       "      <td>0.147704</td>\n",
       "      <td>0.000482</td>\n",
       "    </tr>\n",
       "    <tr>\n",
       "      <th>10</th>\n",
       "      <td>0.169300</td>\n",
       "      <td>0.000473</td>\n",
       "      <td>0.011408</td>\n",
       "      <td>0.000131</td>\n",
       "      <td>0.157892</td>\n",
       "      <td>0.000469</td>\n",
       "    </tr>\n",
       "    <tr>\n",
       "      <th rowspan=\"10\" valign=\"top\">causal-sim50</th>\n",
       "      <th>1</th>\n",
       "      <td>0.027875</td>\n",
       "      <td>0.000219</td>\n",
       "      <td>0.001410</td>\n",
       "      <td>0.000044</td>\n",
       "      <td>0.026465</td>\n",
       "      <td>0.000221</td>\n",
       "    </tr>\n",
       "    <tr>\n",
       "      <th>2</th>\n",
       "      <td>0.050568</td>\n",
       "      <td>0.000291</td>\n",
       "      <td>0.002782</td>\n",
       "      <td>0.000059</td>\n",
       "      <td>0.047786</td>\n",
       "      <td>0.000291</td>\n",
       "    </tr>\n",
       "    <tr>\n",
       "      <th>3</th>\n",
       "      <td>0.070241</td>\n",
       "      <td>0.000346</td>\n",
       "      <td>0.004050</td>\n",
       "      <td>0.000076</td>\n",
       "      <td>0.066191</td>\n",
       "      <td>0.000355</td>\n",
       "    </tr>\n",
       "    <tr>\n",
       "      <th>4</th>\n",
       "      <td>0.088526</td>\n",
       "      <td>0.000372</td>\n",
       "      <td>0.005279</td>\n",
       "      <td>0.000090</td>\n",
       "      <td>0.083248</td>\n",
       "      <td>0.000376</td>\n",
       "    </tr>\n",
       "    <tr>\n",
       "      <th>5</th>\n",
       "      <td>0.105311</td>\n",
       "      <td>0.000379</td>\n",
       "      <td>0.006355</td>\n",
       "      <td>0.000095</td>\n",
       "      <td>0.098956</td>\n",
       "      <td>0.000386</td>\n",
       "    </tr>\n",
       "    <tr>\n",
       "      <th>6</th>\n",
       "      <td>0.120388</td>\n",
       "      <td>0.000391</td>\n",
       "      <td>0.007424</td>\n",
       "      <td>0.000107</td>\n",
       "      <td>0.112964</td>\n",
       "      <td>0.000398</td>\n",
       "    </tr>\n",
       "    <tr>\n",
       "      <th>7</th>\n",
       "      <td>0.133911</td>\n",
       "      <td>0.000420</td>\n",
       "      <td>0.008401</td>\n",
       "      <td>0.000112</td>\n",
       "      <td>0.125509</td>\n",
       "      <td>0.000417</td>\n",
       "    </tr>\n",
       "    <tr>\n",
       "      <th>8</th>\n",
       "      <td>0.146490</td>\n",
       "      <td>0.000430</td>\n",
       "      <td>0.009454</td>\n",
       "      <td>0.000124</td>\n",
       "      <td>0.137036</td>\n",
       "      <td>0.000426</td>\n",
       "    </tr>\n",
       "    <tr>\n",
       "      <th>9</th>\n",
       "      <td>0.158415</td>\n",
       "      <td>0.000424</td>\n",
       "      <td>0.010433</td>\n",
       "      <td>0.000123</td>\n",
       "      <td>0.147982</td>\n",
       "      <td>0.000425</td>\n",
       "    </tr>\n",
       "    <tr>\n",
       "      <th>10</th>\n",
       "      <td>0.169393</td>\n",
       "      <td>0.000450</td>\n",
       "      <td>0.011408</td>\n",
       "      <td>0.000131</td>\n",
       "      <td>0.157985</td>\n",
       "      <td>0.000459</td>\n",
       "    </tr>\n",
       "    <tr>\n",
       "      <th rowspan=\"10\" valign=\"top\">masked-base</th>\n",
       "      <th>1</th>\n",
       "      <td>0.041860</td>\n",
       "      <td>0.000256</td>\n",
       "      <td>0.001675</td>\n",
       "      <td>0.000049</td>\n",
       "      <td>0.040184</td>\n",
       "      <td>0.000255</td>\n",
       "    </tr>\n",
       "    <tr>\n",
       "      <th>2</th>\n",
       "      <td>0.071394</td>\n",
       "      <td>0.000324</td>\n",
       "      <td>0.003204</td>\n",
       "      <td>0.000065</td>\n",
       "      <td>0.068190</td>\n",
       "      <td>0.000314</td>\n",
       "    </tr>\n",
       "    <tr>\n",
       "      <th>3</th>\n",
       "      <td>0.095669</td>\n",
       "      <td>0.000401</td>\n",
       "      <td>0.004742</td>\n",
       "      <td>0.000084</td>\n",
       "      <td>0.090927</td>\n",
       "      <td>0.000396</td>\n",
       "    </tr>\n",
       "    <tr>\n",
       "      <th>4</th>\n",
       "      <td>0.116932</td>\n",
       "      <td>0.000434</td>\n",
       "      <td>0.006368</td>\n",
       "      <td>0.000098</td>\n",
       "      <td>0.110564</td>\n",
       "      <td>0.000432</td>\n",
       "    </tr>\n",
       "    <tr>\n",
       "      <th>5</th>\n",
       "      <td>0.134666</td>\n",
       "      <td>0.000468</td>\n",
       "      <td>0.007838</td>\n",
       "      <td>0.000112</td>\n",
       "      <td>0.126828</td>\n",
       "      <td>0.000470</td>\n",
       "    </tr>\n",
       "    <tr>\n",
       "      <th>6</th>\n",
       "      <td>0.150941</td>\n",
       "      <td>0.000456</td>\n",
       "      <td>0.009329</td>\n",
       "      <td>0.000124</td>\n",
       "      <td>0.141611</td>\n",
       "      <td>0.000456</td>\n",
       "    </tr>\n",
       "    <tr>\n",
       "      <th>7</th>\n",
       "      <td>0.165620</td>\n",
       "      <td>0.000475</td>\n",
       "      <td>0.010844</td>\n",
       "      <td>0.000127</td>\n",
       "      <td>0.154776</td>\n",
       "      <td>0.000464</td>\n",
       "    </tr>\n",
       "    <tr>\n",
       "      <th>8</th>\n",
       "      <td>0.179105</td>\n",
       "      <td>0.000522</td>\n",
       "      <td>0.012294</td>\n",
       "      <td>0.000142</td>\n",
       "      <td>0.166812</td>\n",
       "      <td>0.000520</td>\n",
       "    </tr>\n",
       "    <tr>\n",
       "      <th>9</th>\n",
       "      <td>0.191444</td>\n",
       "      <td>0.000531</td>\n",
       "      <td>0.013732</td>\n",
       "      <td>0.000152</td>\n",
       "      <td>0.177711</td>\n",
       "      <td>0.000535</td>\n",
       "    </tr>\n",
       "    <tr>\n",
       "      <th>10</th>\n",
       "      <td>0.202914</td>\n",
       "      <td>0.000572</td>\n",
       "      <td>0.015245</td>\n",
       "      <td>0.000166</td>\n",
       "      <td>0.187669</td>\n",
       "      <td>0.000570</td>\n",
       "    </tr>\n",
       "    <tr>\n",
       "      <th rowspan=\"10\" valign=\"top\">masked-sim10</th>\n",
       "      <th>1</th>\n",
       "      <td>0.038488</td>\n",
       "      <td>0.000230</td>\n",
       "      <td>0.001675</td>\n",
       "      <td>0.000049</td>\n",
       "      <td>0.036812</td>\n",
       "      <td>0.000232</td>\n",
       "    </tr>\n",
       "    <tr>\n",
       "      <th>2</th>\n",
       "      <td>0.066681</td>\n",
       "      <td>0.000320</td>\n",
       "      <td>0.003204</td>\n",
       "      <td>0.000065</td>\n",
       "      <td>0.063478</td>\n",
       "      <td>0.000321</td>\n",
       "    </tr>\n",
       "    <tr>\n",
       "      <th>3</th>\n",
       "      <td>0.092425</td>\n",
       "      <td>0.000348</td>\n",
       "      <td>0.004742</td>\n",
       "      <td>0.000084</td>\n",
       "      <td>0.087683</td>\n",
       "      <td>0.000344</td>\n",
       "    </tr>\n",
       "    <tr>\n",
       "      <th>4</th>\n",
       "      <td>0.114314</td>\n",
       "      <td>0.000398</td>\n",
       "      <td>0.006368</td>\n",
       "      <td>0.000098</td>\n",
       "      <td>0.107946</td>\n",
       "      <td>0.000395</td>\n",
       "    </tr>\n",
       "    <tr>\n",
       "      <th>5</th>\n",
       "      <td>0.133220</td>\n",
       "      <td>0.000420</td>\n",
       "      <td>0.007838</td>\n",
       "      <td>0.000112</td>\n",
       "      <td>0.125382</td>\n",
       "      <td>0.000429</td>\n",
       "    </tr>\n",
       "    <tr>\n",
       "      <th>6</th>\n",
       "      <td>0.150204</td>\n",
       "      <td>0.000477</td>\n",
       "      <td>0.009329</td>\n",
       "      <td>0.000124</td>\n",
       "      <td>0.140875</td>\n",
       "      <td>0.000478</td>\n",
       "    </tr>\n",
       "    <tr>\n",
       "      <th>7</th>\n",
       "      <td>0.164737</td>\n",
       "      <td>0.000524</td>\n",
       "      <td>0.010844</td>\n",
       "      <td>0.000127</td>\n",
       "      <td>0.153893</td>\n",
       "      <td>0.000520</td>\n",
       "    </tr>\n",
       "    <tr>\n",
       "      <th>8</th>\n",
       "      <td>0.178128</td>\n",
       "      <td>0.000499</td>\n",
       "      <td>0.012294</td>\n",
       "      <td>0.000142</td>\n",
       "      <td>0.165835</td>\n",
       "      <td>0.000506</td>\n",
       "    </tr>\n",
       "    <tr>\n",
       "      <th>9</th>\n",
       "      <td>0.190764</td>\n",
       "      <td>0.000534</td>\n",
       "      <td>0.013732</td>\n",
       "      <td>0.000152</td>\n",
       "      <td>0.177031</td>\n",
       "      <td>0.000535</td>\n",
       "    </tr>\n",
       "    <tr>\n",
       "      <th>10</th>\n",
       "      <td>0.202330</td>\n",
       "      <td>0.000539</td>\n",
       "      <td>0.015245</td>\n",
       "      <td>0.000166</td>\n",
       "      <td>0.187084</td>\n",
       "      <td>0.000538</td>\n",
       "    </tr>\n",
       "    <tr>\n",
       "      <th rowspan=\"10\" valign=\"top\">masked-sim50</th>\n",
       "      <th>1</th>\n",
       "      <td>0.037903</td>\n",
       "      <td>0.000238</td>\n",
       "      <td>0.001675</td>\n",
       "      <td>0.000049</td>\n",
       "      <td>0.036227</td>\n",
       "      <td>0.000239</td>\n",
       "    </tr>\n",
       "    <tr>\n",
       "      <th>2</th>\n",
       "      <td>0.069209</td>\n",
       "      <td>0.000295</td>\n",
       "      <td>0.003204</td>\n",
       "      <td>0.000065</td>\n",
       "      <td>0.066006</td>\n",
       "      <td>0.000290</td>\n",
       "    </tr>\n",
       "    <tr>\n",
       "      <th>3</th>\n",
       "      <td>0.095028</td>\n",
       "      <td>0.000364</td>\n",
       "      <td>0.004742</td>\n",
       "      <td>0.000084</td>\n",
       "      <td>0.090286</td>\n",
       "      <td>0.000362</td>\n",
       "    </tr>\n",
       "    <tr>\n",
       "      <th>4</th>\n",
       "      <td>0.117776</td>\n",
       "      <td>0.000394</td>\n",
       "      <td>0.006368</td>\n",
       "      <td>0.000098</td>\n",
       "      <td>0.111408</td>\n",
       "      <td>0.000399</td>\n",
       "    </tr>\n",
       "    <tr>\n",
       "      <th>5</th>\n",
       "      <td>0.137344</td>\n",
       "      <td>0.000416</td>\n",
       "      <td>0.007838</td>\n",
       "      <td>0.000112</td>\n",
       "      <td>0.129506</td>\n",
       "      <td>0.000435</td>\n",
       "    </tr>\n",
       "    <tr>\n",
       "      <th>6</th>\n",
       "      <td>0.155597</td>\n",
       "      <td>0.000442</td>\n",
       "      <td>0.009329</td>\n",
       "      <td>0.000124</td>\n",
       "      <td>0.146267</td>\n",
       "      <td>0.000452</td>\n",
       "    </tr>\n",
       "    <tr>\n",
       "      <th>7</th>\n",
       "      <td>0.172048</td>\n",
       "      <td>0.000464</td>\n",
       "      <td>0.010844</td>\n",
       "      <td>0.000127</td>\n",
       "      <td>0.161204</td>\n",
       "      <td>0.000463</td>\n",
       "    </tr>\n",
       "    <tr>\n",
       "      <th>8</th>\n",
       "      <td>0.186417</td>\n",
       "      <td>0.000491</td>\n",
       "      <td>0.012294</td>\n",
       "      <td>0.000142</td>\n",
       "      <td>0.174124</td>\n",
       "      <td>0.000509</td>\n",
       "    </tr>\n",
       "    <tr>\n",
       "      <th>9</th>\n",
       "      <td>0.199636</td>\n",
       "      <td>0.000495</td>\n",
       "      <td>0.013732</td>\n",
       "      <td>0.000152</td>\n",
       "      <td>0.185903</td>\n",
       "      <td>0.000509</td>\n",
       "    </tr>\n",
       "    <tr>\n",
       "      <th>10</th>\n",
       "      <td>0.211675</td>\n",
       "      <td>0.000489</td>\n",
       "      <td>0.015245</td>\n",
       "      <td>0.000166</td>\n",
       "      <td>0.196430</td>\n",
       "      <td>0.000505</td>\n",
       "    </tr>\n",
       "  </tbody>\n",
       "</table>\n",
       "</div>"
      ],
      "text/plain": [
       "                trained_acc            comp_acc            diff_acc          \n",
       "                       mean       std      mean       std      mean       std\n",
       "model        k                                                               \n",
       "causal-base  1     0.031421  0.000254  0.001410  0.000044  0.030010  0.000255\n",
       "             2     0.053208  0.000329  0.002782  0.000059  0.050426  0.000343\n",
       "             3     0.070856  0.000377  0.004050  0.000076  0.066806  0.000395\n",
       "             4     0.086697  0.000405  0.005279  0.000090  0.081418  0.000421\n",
       "             5     0.100761  0.000400  0.006355  0.000095  0.094406  0.000409\n",
       "             6     0.113679  0.000428  0.007424  0.000107  0.106255  0.000437\n",
       "             7     0.125580  0.000445  0.008401  0.000112  0.117179  0.000451\n",
       "             8     0.136407  0.000470  0.009454  0.000124  0.126953  0.000483\n",
       "             9     0.146850  0.000485  0.010433  0.000123  0.136417  0.000493\n",
       "             10    0.157134  0.000495  0.011408  0.000131  0.145726  0.000496\n",
       "causal-sim10 1     0.027194  0.000209  0.001410  0.000044  0.025784  0.000201\n",
       "             2     0.049404  0.000268  0.002782  0.000059  0.046622  0.000265\n",
       "             3     0.069637  0.000311  0.004050  0.000076  0.065588  0.000313\n",
       "             4     0.088630  0.000361  0.005279  0.000090  0.083352  0.000367\n",
       "             5     0.104684  0.000402  0.006355  0.000095  0.098329  0.000406\n",
       "             6     0.119636  0.000441  0.007424  0.000107  0.112212  0.000446\n",
       "             7     0.133381  0.000436  0.008401  0.000112  0.124980  0.000439\n",
       "             8     0.146231  0.000450  0.009454  0.000124  0.136777  0.000456\n",
       "             9     0.158137  0.000479  0.010433  0.000123  0.147704  0.000482\n",
       "             10    0.169300  0.000473  0.011408  0.000131  0.157892  0.000469\n",
       "causal-sim50 1     0.027875  0.000219  0.001410  0.000044  0.026465  0.000221\n",
       "             2     0.050568  0.000291  0.002782  0.000059  0.047786  0.000291\n",
       "             3     0.070241  0.000346  0.004050  0.000076  0.066191  0.000355\n",
       "             4     0.088526  0.000372  0.005279  0.000090  0.083248  0.000376\n",
       "             5     0.105311  0.000379  0.006355  0.000095  0.098956  0.000386\n",
       "             6     0.120388  0.000391  0.007424  0.000107  0.112964  0.000398\n",
       "             7     0.133911  0.000420  0.008401  0.000112  0.125509  0.000417\n",
       "             8     0.146490  0.000430  0.009454  0.000124  0.137036  0.000426\n",
       "             9     0.158415  0.000424  0.010433  0.000123  0.147982  0.000425\n",
       "             10    0.169393  0.000450  0.011408  0.000131  0.157985  0.000459\n",
       "masked-base  1     0.041860  0.000256  0.001675  0.000049  0.040184  0.000255\n",
       "             2     0.071394  0.000324  0.003204  0.000065  0.068190  0.000314\n",
       "             3     0.095669  0.000401  0.004742  0.000084  0.090927  0.000396\n",
       "             4     0.116932  0.000434  0.006368  0.000098  0.110564  0.000432\n",
       "             5     0.134666  0.000468  0.007838  0.000112  0.126828  0.000470\n",
       "             6     0.150941  0.000456  0.009329  0.000124  0.141611  0.000456\n",
       "             7     0.165620  0.000475  0.010844  0.000127  0.154776  0.000464\n",
       "             8     0.179105  0.000522  0.012294  0.000142  0.166812  0.000520\n",
       "             9     0.191444  0.000531  0.013732  0.000152  0.177711  0.000535\n",
       "             10    0.202914  0.000572  0.015245  0.000166  0.187669  0.000570\n",
       "masked-sim10 1     0.038488  0.000230  0.001675  0.000049  0.036812  0.000232\n",
       "             2     0.066681  0.000320  0.003204  0.000065  0.063478  0.000321\n",
       "             3     0.092425  0.000348  0.004742  0.000084  0.087683  0.000344\n",
       "             4     0.114314  0.000398  0.006368  0.000098  0.107946  0.000395\n",
       "             5     0.133220  0.000420  0.007838  0.000112  0.125382  0.000429\n",
       "             6     0.150204  0.000477  0.009329  0.000124  0.140875  0.000478\n",
       "             7     0.164737  0.000524  0.010844  0.000127  0.153893  0.000520\n",
       "             8     0.178128  0.000499  0.012294  0.000142  0.165835  0.000506\n",
       "             9     0.190764  0.000534  0.013732  0.000152  0.177031  0.000535\n",
       "             10    0.202330  0.000539  0.015245  0.000166  0.187084  0.000538\n",
       "masked-sim50 1     0.037903  0.000238  0.001675  0.000049  0.036227  0.000239\n",
       "             2     0.069209  0.000295  0.003204  0.000065  0.066006  0.000290\n",
       "             3     0.095028  0.000364  0.004742  0.000084  0.090286  0.000362\n",
       "             4     0.117776  0.000394  0.006368  0.000098  0.111408  0.000399\n",
       "             5     0.137344  0.000416  0.007838  0.000112  0.129506  0.000435\n",
       "             6     0.155597  0.000442  0.009329  0.000124  0.146267  0.000452\n",
       "             7     0.172048  0.000464  0.010844  0.000127  0.161204  0.000463\n",
       "             8     0.186417  0.000491  0.012294  0.000142  0.174124  0.000509\n",
       "             9     0.199636  0.000495  0.013732  0.000152  0.185903  0.000509\n",
       "             10    0.211675  0.000489  0.015245  0.000166  0.196430  0.000505"
      ]
     },
     "execution_count": 9,
     "metadata": {},
     "output_type": "execute_result"
    }
   ],
   "source": [
    "runs.groupby(level=['model', 'k'])[['trained_acc', 'comp_acc', 'diff_acc']].describe().loc[:, pd.IndexSlice[:, ['mean', 'std']]]"
   ]
  },
  {
   "cell_type": "code",
   "execution_count": 10,
   "id": "0c7c8e34-bca3-45da-9226-99358093106b",
   "metadata": {},
   "outputs": [
    {
     "data": {
      "image/png": "[encoded data removed]",
      "text/plain": [
       "<Figure size 1080x720 with 6 Axes>"
      ]
     },
     "metadata": {
      "needs_background": "light"
     },
     "output_type": "display_data"
    }
   ],
   "source": [
    "ncol, nrow = 3, int(np.ceil(len(files) / 3))\n",
    "fig, axes = plt.subplots(nrow, ncol, sharex=True, sharey=True,\n",
    "                         figsize=(5 * ncol, 5 * nrow))\n",
    "axes = axes.flatten()\n",
    "\n",
    "for file, ax in zip(files, axes):\n",
    "    ax.set_title(file)\n",
    "    \n",
    "    tmp = runs.groupby(level=['model', 'k'])[['trained_acc', 'comp_acc']].mean() \\\n",
    "              .unstack(0).loc[:, pd.IndexSlice[:, file]]\n",
    "    tmp.columns = tmp.columns.droplevel(0)\n",
    "    \n",
    "    tmp.plot(ax=ax)"
   ]
  },
  {
   "cell_type": "code",
   "execution_count": 11,
   "id": "db60aff2-cf3f-4fcf-9e81-454dca97efbf",
   "metadata": {},
   "outputs": [
    {
     "data": {
      "text/html": [
       "<div>\n",
       "<style scoped>\n",
       "    .dataframe tbody tr th:only-of-type {\n",
       "        vertical-align: middle;\n",
       "    }\n",
       "\n",
       "    .dataframe tbody tr th {\n",
       "        vertical-align: top;\n",
       "    }\n",
       "\n",
       "    .dataframe thead th {\n",
       "        text-align: right;\n",
       "    }\n",
       "</style>\n",
       "<table border=\"1\" class=\"dataframe\">\n",
       "  <thead>\n",
       "    <tr style=\"text-align: right;\">\n",
       "      <th>model</th>\n",
       "      <th>causal-base</th>\n",
       "      <th>causal-sim10</th>\n",
       "      <th>causal-sim50</th>\n",
       "      <th>masked-base</th>\n",
       "      <th>masked-sim10</th>\n",
       "      <th>masked-sim50</th>\n",
       "    </tr>\n",
       "    <tr>\n",
       "      <th>k</th>\n",
       "      <th></th>\n",
       "      <th></th>\n",
       "      <th></th>\n",
       "      <th></th>\n",
       "      <th></th>\n",
       "      <th></th>\n",
       "    </tr>\n",
       "  </thead>\n",
       "  <tbody>\n",
       "    <tr>\n",
       "      <th>1</th>\n",
       "      <td>0.0</td>\n",
       "      <td>0.0</td>\n",
       "      <td>0.0</td>\n",
       "      <td>0.0</td>\n",
       "      <td>0.0</td>\n",
       "      <td>0.0</td>\n",
       "    </tr>\n",
       "    <tr>\n",
       "      <th>2</th>\n",
       "      <td>0.0</td>\n",
       "      <td>0.0</td>\n",
       "      <td>0.0</td>\n",
       "      <td>0.0</td>\n",
       "      <td>0.0</td>\n",
       "      <td>0.0</td>\n",
       "    </tr>\n",
       "    <tr>\n",
       "      <th>3</th>\n",
       "      <td>0.0</td>\n",
       "      <td>0.0</td>\n",
       "      <td>0.0</td>\n",
       "      <td>0.0</td>\n",
       "      <td>0.0</td>\n",
       "      <td>0.0</td>\n",
       "    </tr>\n",
       "    <tr>\n",
       "      <th>4</th>\n",
       "      <td>0.0</td>\n",
       "      <td>0.0</td>\n",
       "      <td>0.0</td>\n",
       "      <td>0.0</td>\n",
       "      <td>0.0</td>\n",
       "      <td>0.0</td>\n",
       "    </tr>\n",
       "    <tr>\n",
       "      <th>5</th>\n",
       "      <td>0.0</td>\n",
       "      <td>0.0</td>\n",
       "      <td>0.0</td>\n",
       "      <td>0.0</td>\n",
       "      <td>0.0</td>\n",
       "      <td>0.0</td>\n",
       "    </tr>\n",
       "    <tr>\n",
       "      <th>6</th>\n",
       "      <td>0.0</td>\n",
       "      <td>0.0</td>\n",
       "      <td>0.0</td>\n",
       "      <td>0.0</td>\n",
       "      <td>0.0</td>\n",
       "      <td>0.0</td>\n",
       "    </tr>\n",
       "    <tr>\n",
       "      <th>7</th>\n",
       "      <td>0.0</td>\n",
       "      <td>0.0</td>\n",
       "      <td>0.0</td>\n",
       "      <td>0.0</td>\n",
       "      <td>0.0</td>\n",
       "      <td>0.0</td>\n",
       "    </tr>\n",
       "    <tr>\n",
       "      <th>8</th>\n",
       "      <td>0.0</td>\n",
       "      <td>0.0</td>\n",
       "      <td>0.0</td>\n",
       "      <td>0.0</td>\n",
       "      <td>0.0</td>\n",
       "      <td>0.0</td>\n",
       "    </tr>\n",
       "    <tr>\n",
       "      <th>9</th>\n",
       "      <td>0.0</td>\n",
       "      <td>0.0</td>\n",
       "      <td>0.0</td>\n",
       "      <td>0.0</td>\n",
       "      <td>0.0</td>\n",
       "      <td>0.0</td>\n",
       "    </tr>\n",
       "    <tr>\n",
       "      <th>10</th>\n",
       "      <td>0.0</td>\n",
       "      <td>0.0</td>\n",
       "      <td>0.0</td>\n",
       "      <td>0.0</td>\n",
       "      <td>0.0</td>\n",
       "      <td>0.0</td>\n",
       "    </tr>\n",
       "  </tbody>\n",
       "</table>\n",
       "</div>"
      ],
      "text/plain": [
       "model  causal-base  causal-sim10  causal-sim50  masked-base  masked-sim10  \\\n",
       "k                                                                           \n",
       "1              0.0           0.0           0.0          0.0           0.0   \n",
       "2              0.0           0.0           0.0          0.0           0.0   \n",
       "3              0.0           0.0           0.0          0.0           0.0   \n",
       "4              0.0           0.0           0.0          0.0           0.0   \n",
       "5              0.0           0.0           0.0          0.0           0.0   \n",
       "6              0.0           0.0           0.0          0.0           0.0   \n",
       "7              0.0           0.0           0.0          0.0           0.0   \n",
       "8              0.0           0.0           0.0          0.0           0.0   \n",
       "9              0.0           0.0           0.0          0.0           0.0   \n",
       "10             0.0           0.0           0.0          0.0           0.0   \n",
       "\n",
       "model  masked-sim50  \n",
       "k                    \n",
       "1               0.0  \n",
       "2               0.0  \n",
       "3               0.0  \n",
       "4               0.0  \n",
       "5               0.0  \n",
       "6               0.0  \n",
       "7               0.0  \n",
       "8               0.0  \n",
       "9               0.0  \n",
       "10              0.0  "
      ]
     },
     "execution_count": 11,
     "metadata": {},
     "output_type": "execute_result"
    }
   ],
   "source": [
    "masses = runs['diff_acc'].apply(lambda s: s < 0).groupby(level=['model', 'k']).sum()\n",
    "shapes = runs.groupby(level=['model', 'k']).size()\n",
    "pvals = (masses / shapes).unstack(0)\n",
    "\n",
    "pvals.applymap(lambda pval: 2 * min(pval, 1 - pval) if pval <= 0.5 else pval)  # two-sided"
   ]
  },
  {
   "cell_type": "markdown",
   "id": "051edb6f-57ba-45cd-aa7e-f6a3dcda3e1d",
   "metadata": {},
   "source": [
    "# Within-node similarity pre-post"
   ]
  },
  {
   "cell_type": "code",
   "execution_count": 12,
   "id": "df924624-e3d6-4c39-93ac-0ca9d457656a",
   "metadata": {},
   "outputs": [],
   "source": [
    "exact = pd.concat([\n",
    "    pd.Series(evals[file]['eval_within_node_dist_pre_post']['exact_point']).rename(file)\n",
    "    for file in files\n",
    "], axis=1).T"
   ]
  },
  {
   "cell_type": "code",
   "execution_count": 13,
   "id": "4bf8dc2d-1423-40a2-a7df-1c2938935fa4",
   "metadata": {},
   "outputs": [],
   "source": [
    "runs = pd.concat([\n",
    "    pd.DataFrame(evals[file]['eval_within_node_dist_pre_post']['resample']).assign(model=file)\n",
    "    for file in files\n",
    "], axis=0).set_index(['model', 'run'])"
   ]
  },
  {
   "cell_type": "markdown",
   "id": "70503a40-4de2-462a-8b98-82bf2bf17d91",
   "metadata": {},
   "source": [
    "## Exact point estimates"
   ]
  },
  {
   "cell_type": "code",
   "execution_count": 14,
   "id": "bf91595f-a4e0-48dd-b4c6-0d97946e7272",
   "metadata": {},
   "outputs": [
    {
     "data": {
      "text/html": [
       "<div>\n",
       "<style scoped>\n",
       "    .dataframe tbody tr th:only-of-type {\n",
       "        vertical-align: middle;\n",
       "    }\n",
       "\n",
       "    .dataframe tbody tr th {\n",
       "        vertical-align: top;\n",
       "    }\n",
       "\n",
       "    .dataframe thead th {\n",
       "        text-align: right;\n",
       "    }\n",
       "</style>\n",
       "<table border=\"1\" class=\"dataframe\">\n",
       "  <thead>\n",
       "    <tr style=\"text-align: right;\">\n",
       "      <th></th>\n",
       "      <th>trained_sim_avg</th>\n",
       "      <th>comp_sim_avg</th>\n",
       "      <th>diff_sim_avg</th>\n",
       "    </tr>\n",
       "  </thead>\n",
       "  <tbody>\n",
       "    <tr>\n",
       "      <th>masked-base</th>\n",
       "      <td>0.763898</td>\n",
       "      <td>0.515557</td>\n",
       "      <td>0.248341</td>\n",
       "    </tr>\n",
       "    <tr>\n",
       "      <th>masked-sim10</th>\n",
       "      <td>0.636696</td>\n",
       "      <td>0.515557</td>\n",
       "      <td>0.121138</td>\n",
       "    </tr>\n",
       "    <tr>\n",
       "      <th>masked-sim50</th>\n",
       "      <td>0.760257</td>\n",
       "      <td>0.515557</td>\n",
       "      <td>0.244700</td>\n",
       "    </tr>\n",
       "    <tr>\n",
       "      <th>causal-base</th>\n",
       "      <td>0.781083</td>\n",
       "      <td>0.447794</td>\n",
       "      <td>0.333289</td>\n",
       "    </tr>\n",
       "    <tr>\n",
       "      <th>causal-sim10</th>\n",
       "      <td>0.668966</td>\n",
       "      <td>0.447794</td>\n",
       "      <td>0.221172</td>\n",
       "    </tr>\n",
       "    <tr>\n",
       "      <th>causal-sim50</th>\n",
       "      <td>0.779954</td>\n",
       "      <td>0.447794</td>\n",
       "      <td>0.332160</td>\n",
       "    </tr>\n",
       "  </tbody>\n",
       "</table>\n",
       "</div>"
      ],
      "text/plain": [
       "              trained_sim_avg  comp_sim_avg  diff_sim_avg\n",
       "masked-base          0.763898      0.515557      0.248341\n",
       "masked-sim10         0.636696      0.515557      0.121138\n",
       "masked-sim50         0.760257      0.515557      0.244700\n",
       "causal-base          0.781083      0.447794      0.333289\n",
       "causal-sim10         0.668966      0.447794      0.221172\n",
       "causal-sim50         0.779954      0.447794      0.332160"
      ]
     },
     "execution_count": 14,
     "metadata": {},
     "output_type": "execute_result"
    }
   ],
   "source": [
    "exact"
   ]
  },
  {
   "cell_type": "code",
   "execution_count": 15,
   "id": "f35bd87a-e0da-4c98-9b48-96bbc9de57f0",
   "metadata": {},
   "outputs": [
    {
     "data": {
      "text/plain": [
       "<AxesSubplot:>"
      ]
     },
     "execution_count": 15,
     "metadata": {},
     "output_type": "execute_result"
    },
    {
     "data": {
      "image/png": "[encoded data removed]",
      "text/plain": [
       "<Figure size 576x576 with 1 Axes>"
      ]
     },
     "metadata": {
      "needs_background": "light"
     },
     "output_type": "display_data"
    }
   ],
   "source": [
    "fig, ax = plt.subplots(figsize=(8, 8))\n",
    "\n",
    "exact[['trained_sim_avg', 'comp_sim_avg']].plot(kind='bar', rot=45, ax=ax)"
   ]
  },
  {
   "cell_type": "markdown",
   "id": "52f3fe17-2a10-41c2-855d-330e302fa03d",
   "metadata": {},
   "source": [
    "## Resampling"
   ]
  },
  {
   "cell_type": "code",
   "execution_count": 16,
   "id": "6a983a0c-c602-4f18-bbe4-0e2a0dbe227f",
   "metadata": {},
   "outputs": [
    {
     "data": {
      "text/html": [
       "<div>\n",
       "<style scoped>\n",
       "    .dataframe tbody tr th:only-of-type {\n",
       "        vertical-align: middle;\n",
       "    }\n",
       "\n",
       "    .dataframe tbody tr th {\n",
       "        vertical-align: top;\n",
       "    }\n",
       "\n",
       "    .dataframe thead th {\n",
       "        text-align: right;\n",
       "    }\n",
       "</style>\n",
       "<table border=\"1\" class=\"dataframe\">\n",
       "  <thead>\n",
       "    <tr style=\"text-align: right;\">\n",
       "      <th></th>\n",
       "      <th></th>\n",
       "      <th>count</th>\n",
       "      <th>mean</th>\n",
       "      <th>std</th>\n",
       "      <th>min</th>\n",
       "      <th>25%</th>\n",
       "      <th>50%</th>\n",
       "      <th>75%</th>\n",
       "      <th>max</th>\n",
       "    </tr>\n",
       "    <tr>\n",
       "      <th></th>\n",
       "      <th>model</th>\n",
       "      <th></th>\n",
       "      <th></th>\n",
       "      <th></th>\n",
       "      <th></th>\n",
       "      <th></th>\n",
       "      <th></th>\n",
       "      <th></th>\n",
       "      <th></th>\n",
       "    </tr>\n",
       "  </thead>\n",
       "  <tbody>\n",
       "    <tr>\n",
       "      <th rowspan=\"6\" valign=\"top\">trained_sim_avg</th>\n",
       "      <th>causal-base</th>\n",
       "      <td>100.0</td>\n",
       "      <td>0.784400</td>\n",
       "      <td>0.000491</td>\n",
       "      <td>0.783162</td>\n",
       "      <td>0.784103</td>\n",
       "      <td>0.784450</td>\n",
       "      <td>0.784661</td>\n",
       "      <td>0.785576</td>\n",
       "    </tr>\n",
       "    <tr>\n",
       "      <th>causal-sim10</th>\n",
       "      <td>100.0</td>\n",
       "      <td>0.673789</td>\n",
       "      <td>0.000650</td>\n",
       "      <td>0.672149</td>\n",
       "      <td>0.673366</td>\n",
       "      <td>0.673758</td>\n",
       "      <td>0.674198</td>\n",
       "      <td>0.675397</td>\n",
       "    </tr>\n",
       "    <tr>\n",
       "      <th>causal-sim50</th>\n",
       "      <td>100.0</td>\n",
       "      <td>0.783152</td>\n",
       "      <td>0.000440</td>\n",
       "      <td>0.782261</td>\n",
       "      <td>0.782850</td>\n",
       "      <td>0.783070</td>\n",
       "      <td>0.783502</td>\n",
       "      <td>0.784285</td>\n",
       "    </tr>\n",
       "    <tr>\n",
       "      <th>masked-base</th>\n",
       "      <td>100.0</td>\n",
       "      <td>0.767272</td>\n",
       "      <td>0.000607</td>\n",
       "      <td>0.765610</td>\n",
       "      <td>0.766935</td>\n",
       "      <td>0.767232</td>\n",
       "      <td>0.767693</td>\n",
       "      <td>0.768738</td>\n",
       "    </tr>\n",
       "    <tr>\n",
       "      <th>masked-sim10</th>\n",
       "      <td>100.0</td>\n",
       "      <td>0.641779</td>\n",
       "      <td>0.000711</td>\n",
       "      <td>0.639814</td>\n",
       "      <td>0.641374</td>\n",
       "      <td>0.641730</td>\n",
       "      <td>0.642249</td>\n",
       "      <td>0.643692</td>\n",
       "    </tr>\n",
       "    <tr>\n",
       "      <th>masked-sim50</th>\n",
       "      <td>100.0</td>\n",
       "      <td>0.763595</td>\n",
       "      <td>0.000477</td>\n",
       "      <td>0.762347</td>\n",
       "      <td>0.763299</td>\n",
       "      <td>0.763554</td>\n",
       "      <td>0.763986</td>\n",
       "      <td>0.764774</td>\n",
       "    </tr>\n",
       "    <tr>\n",
       "      <th rowspan=\"6\" valign=\"top\">comp_sim_avg</th>\n",
       "      <th>causal-base</th>\n",
       "      <td>100.0</td>\n",
       "      <td>0.455293</td>\n",
       "      <td>0.001400</td>\n",
       "      <td>0.452202</td>\n",
       "      <td>0.454339</td>\n",
       "      <td>0.455355</td>\n",
       "      <td>0.456327</td>\n",
       "      <td>0.458207</td>\n",
       "    </tr>\n",
       "    <tr>\n",
       "      <th>causal-sim10</th>\n",
       "      <td>100.0</td>\n",
       "      <td>0.455293</td>\n",
       "      <td>0.001400</td>\n",
       "      <td>0.452202</td>\n",
       "      <td>0.454339</td>\n",
       "      <td>0.455355</td>\n",
       "      <td>0.456327</td>\n",
       "      <td>0.458207</td>\n",
       "    </tr>\n",
       "    <tr>\n",
       "      <th>causal-sim50</th>\n",
       "      <td>100.0</td>\n",
       "      <td>0.455293</td>\n",
       "      <td>0.001400</td>\n",
       "      <td>0.452202</td>\n",
       "      <td>0.454339</td>\n",
       "      <td>0.455355</td>\n",
       "      <td>0.456327</td>\n",
       "      <td>0.458207</td>\n",
       "    </tr>\n",
       "    <tr>\n",
       "      <th>masked-base</th>\n",
       "      <td>100.0</td>\n",
       "      <td>0.522120</td>\n",
       "      <td>0.000902</td>\n",
       "      <td>0.520009</td>\n",
       "      <td>0.521579</td>\n",
       "      <td>0.522160</td>\n",
       "      <td>0.522706</td>\n",
       "      <td>0.523978</td>\n",
       "    </tr>\n",
       "    <tr>\n",
       "      <th>masked-sim10</th>\n",
       "      <td>100.0</td>\n",
       "      <td>0.522120</td>\n",
       "      <td>0.000902</td>\n",
       "      <td>0.520009</td>\n",
       "      <td>0.521579</td>\n",
       "      <td>0.522160</td>\n",
       "      <td>0.522706</td>\n",
       "      <td>0.523978</td>\n",
       "    </tr>\n",
       "    <tr>\n",
       "      <th>masked-sim50</th>\n",
       "      <td>100.0</td>\n",
       "      <td>0.522120</td>\n",
       "      <td>0.000902</td>\n",
       "      <td>0.520009</td>\n",
       "      <td>0.521579</td>\n",
       "      <td>0.522160</td>\n",
       "      <td>0.522706</td>\n",
       "      <td>0.523978</td>\n",
       "    </tr>\n",
       "    <tr>\n",
       "      <th rowspan=\"6\" valign=\"top\">diff_sim_avg</th>\n",
       "      <th>causal-base</th>\n",
       "      <td>100.0</td>\n",
       "      <td>0.329106</td>\n",
       "      <td>0.001185</td>\n",
       "      <td>0.326453</td>\n",
       "      <td>0.328233</td>\n",
       "      <td>0.329069</td>\n",
       "      <td>0.329866</td>\n",
       "      <td>0.332032</td>\n",
       "    </tr>\n",
       "    <tr>\n",
       "      <th>causal-sim10</th>\n",
       "      <td>100.0</td>\n",
       "      <td>0.218496</td>\n",
       "      <td>0.001146</td>\n",
       "      <td>0.215511</td>\n",
       "      <td>0.217748</td>\n",
       "      <td>0.218488</td>\n",
       "      <td>0.219142</td>\n",
       "      <td>0.220990</td>\n",
       "    </tr>\n",
       "    <tr>\n",
       "      <th>causal-sim50</th>\n",
       "      <td>100.0</td>\n",
       "      <td>0.327859</td>\n",
       "      <td>0.001225</td>\n",
       "      <td>0.324479</td>\n",
       "      <td>0.326951</td>\n",
       "      <td>0.327915</td>\n",
       "      <td>0.328628</td>\n",
       "      <td>0.330421</td>\n",
       "    </tr>\n",
       "    <tr>\n",
       "      <th>masked-base</th>\n",
       "      <td>100.0</td>\n",
       "      <td>0.245152</td>\n",
       "      <td>0.000852</td>\n",
       "      <td>0.242953</td>\n",
       "      <td>0.244661</td>\n",
       "      <td>0.245053</td>\n",
       "      <td>0.245759</td>\n",
       "      <td>0.247423</td>\n",
       "    </tr>\n",
       "    <tr>\n",
       "      <th>masked-sim10</th>\n",
       "      <td>100.0</td>\n",
       "      <td>0.119659</td>\n",
       "      <td>0.000713</td>\n",
       "      <td>0.117999</td>\n",
       "      <td>0.119223</td>\n",
       "      <td>0.119572</td>\n",
       "      <td>0.120189</td>\n",
       "      <td>0.121019</td>\n",
       "    </tr>\n",
       "    <tr>\n",
       "      <th>masked-sim50</th>\n",
       "      <td>100.0</td>\n",
       "      <td>0.241475</td>\n",
       "      <td>0.000685</td>\n",
       "      <td>0.239886</td>\n",
       "      <td>0.241048</td>\n",
       "      <td>0.241443</td>\n",
       "      <td>0.241931</td>\n",
       "      <td>0.242969</td>\n",
       "    </tr>\n",
       "  </tbody>\n",
       "</table>\n",
       "</div>"
      ],
      "text/plain": [
       "                              count      mean       std       min       25%  \\\n",
       "                model                                                         \n",
       "trained_sim_avg causal-base   100.0  0.784400  0.000491  0.783162  0.784103   \n",
       "                causal-sim10  100.0  0.673789  0.000650  0.672149  0.673366   \n",
       "                causal-sim50  100.0  0.783152  0.000440  0.782261  0.782850   \n",
       "                masked-base   100.0  0.767272  0.000607  0.765610  0.766935   \n",
       "                masked-sim10  100.0  0.641779  0.000711  0.639814  0.641374   \n",
       "                masked-sim50  100.0  0.763595  0.000477  0.762347  0.763299   \n",
       "comp_sim_avg    causal-base   100.0  0.455293  0.001400  0.452202  0.454339   \n",
       "                causal-sim10  100.0  0.455293  0.001400  0.452202  0.454339   \n",
       "                causal-sim50  100.0  0.455293  0.001400  0.452202  0.454339   \n",
       "                masked-base   100.0  0.522120  0.000902  0.520009  0.521579   \n",
       "                masked-sim10  100.0  0.522120  0.000902  0.520009  0.521579   \n",
       "                masked-sim50  100.0  0.522120  0.000902  0.520009  0.521579   \n",
       "diff_sim_avg    causal-base   100.0  0.329106  0.001185  0.326453  0.328233   \n",
       "                causal-sim10  100.0  0.218496  0.001146  0.215511  0.217748   \n",
       "                causal-sim50  100.0  0.327859  0.001225  0.324479  0.326951   \n",
       "                masked-base   100.0  0.245152  0.000852  0.242953  0.244661   \n",
       "                masked-sim10  100.0  0.119659  0.000713  0.117999  0.119223   \n",
       "                masked-sim50  100.0  0.241475  0.000685  0.239886  0.241048   \n",
       "\n",
       "                                   50%       75%       max  \n",
       "                model                                       \n",
       "trained_sim_avg causal-base   0.784450  0.784661  0.785576  \n",
       "                causal-sim10  0.673758  0.674198  0.675397  \n",
       "                causal-sim50  0.783070  0.783502  0.784285  \n",
       "                masked-base   0.767232  0.767693  0.768738  \n",
       "                masked-sim10  0.641730  0.642249  0.643692  \n",
       "                masked-sim50  0.763554  0.763986  0.764774  \n",
       "comp_sim_avg    causal-base   0.455355  0.456327  0.458207  \n",
       "                causal-sim10  0.455355  0.456327  0.458207  \n",
       "                causal-sim50  0.455355  0.456327  0.458207  \n",
       "                masked-base   0.522160  0.522706  0.523978  \n",
       "                masked-sim10  0.522160  0.522706  0.523978  \n",
       "                masked-sim50  0.522160  0.522706  0.523978  \n",
       "diff_sim_avg    causal-base   0.329069  0.329866  0.332032  \n",
       "                causal-sim10  0.218488  0.219142  0.220990  \n",
       "                causal-sim50  0.327915  0.328628  0.330421  \n",
       "                masked-base   0.245053  0.245759  0.247423  \n",
       "                masked-sim10  0.119572  0.120189  0.121019  \n",
       "                masked-sim50  0.241443  0.241931  0.242969  "
      ]
     },
     "execution_count": 16,
     "metadata": {},
     "output_type": "execute_result"
    }
   ],
   "source": [
    "runs.unstack(0).describe().T"
   ]
  },
  {
   "cell_type": "code",
   "execution_count": 17,
   "id": "8581e794-9c64-472c-bd5c-10e14bfad1fb",
   "metadata": {
    "scrolled": true,
    "tags": []
   },
   "outputs": [
    {
     "data": {
      "image/png": "[encoded data removed]",
      "text/plain": [
       "<Figure size 1080x360 with 3 Axes>"
      ]
     },
     "metadata": {
      "needs_background": "light"
     },
     "output_type": "display_data"
    },
    {
     "data": {
      "image/png": "[encoded data removed]",
      "text/plain": [
       "<Figure size 1080x360 with 3 Axes>"
      ]
     },
     "metadata": {
      "needs_background": "light"
     },
     "output_type": "display_data"
    },
    {
     "data": {
      "image/png": "[encoded data removed]",
      "text/plain": [
       "<Figure size 1080x360 with 3 Axes>"
      ]
     },
     "metadata": {
      "needs_background": "light"
     },
     "output_type": "display_data"
    },
    {
     "data": {
      "image/png": "[encoded data removed]",
      "text/plain": [
       "<Figure size 1080x360 with 3 Axes>"
      ]
     },
     "metadata": {
      "needs_background": "light"
     },
     "output_type": "display_data"
    },
    {
     "data": {
      "image/png": "[encoded data removed]",
      "text/plain": [
       "<Figure size 1080x360 with 3 Axes>"
      ]
     },
     "metadata": {
      "needs_background": "light"
     },
     "output_type": "display_data"
    },
    {
     "data": {
      "image/png": "[encoded data removed]",
      "text/plain": [
       "<Figure size 1080x360 with 3 Axes>"
      ]
     },
     "metadata": {
      "needs_background": "light"
     },
     "output_type": "display_data"
    }
   ],
   "source": [
    "ret = runs.groupby(level=0).hist(figsize=(15, 5), layout=(1, 3), xrot=45)\n",
    "\n",
    "for n, obj in ret.iteritems():\n",
    "    obj[0][0].figure.suptitle(n)\n",
    "    obj[0][0].figure.tight_layout()"
   ]
  },
  {
   "cell_type": "code",
   "execution_count": 18,
   "id": "c09b193e-9b08-4441-8d65-37474950ab12",
   "metadata": {},
   "outputs": [
    {
     "data": {
      "text/plain": [
       "model\n",
       "causal-base     0.0\n",
       "causal-sim10    0.0\n",
       "causal-sim50    0.0\n",
       "masked-base     0.0\n",
       "masked-sim10    0.0\n",
       "masked-sim50    0.0\n",
       "Name: diff_sim_avg, dtype: float64"
      ]
     },
     "execution_count": 18,
     "metadata": {},
     "output_type": "execute_result"
    }
   ],
   "source": [
    "pvals = runs['diff_sim_avg'].apply(lambda s: s < 0).groupby(level=0).mean()\n",
    "pvals.apply(lambda pval: 2 * min(pval, 1 - pval) if pval <= 0.5 else pval)  # two-sided"
   ]
  },
  {
   "cell_type": "markdown",
   "id": "966da7a7-d3a8-459b-8270-09533e89582b",
   "metadata": {},
   "source": [
    "# Correlation of distances"
   ]
  },
  {
   "cell_type": "code",
   "execution_count": 19,
   "id": "5970ec51-598b-4e79-8393-e60d918fd344",
   "metadata": {},
   "outputs": [],
   "source": [
    "runs = pd.concat([\n",
    "    pd.DataFrame(evals[file]['eval_emb_dist_coupling']['resample']).assign(model=file)\n",
    "    for file in files\n",
    "], axis=0).set_index(['model', 'run'])"
   ]
  },
  {
   "cell_type": "code",
   "execution_count": 20,
   "id": "4a49dad8-f0f1-47dd-ae25-c979a00fdf5d",
   "metadata": {},
   "outputs": [
    {
     "data": {
      "text/html": [
       "<div>\n",
       "<style scoped>\n",
       "    .dataframe tbody tr th:only-of-type {\n",
       "        vertical-align: middle;\n",
       "    }\n",
       "\n",
       "    .dataframe tbody tr th {\n",
       "        vertical-align: top;\n",
       "    }\n",
       "\n",
       "    .dataframe thead th {\n",
       "        text-align: right;\n",
       "    }\n",
       "</style>\n",
       "<table border=\"1\" class=\"dataframe\">\n",
       "  <thead>\n",
       "    <tr style=\"text-align: right;\">\n",
       "      <th>model</th>\n",
       "      <th>causal-base</th>\n",
       "      <th>causal-sim10</th>\n",
       "      <th>causal-sim50</th>\n",
       "      <th>masked-base</th>\n",
       "      <th>masked-sim10</th>\n",
       "      <th>masked-sim50</th>\n",
       "    </tr>\n",
       "  </thead>\n",
       "  <tbody>\n",
       "    <tr>\n",
       "      <th>trained_corr</th>\n",
       "      <td>0.243706</td>\n",
       "      <td>0.224955</td>\n",
       "      <td>0.213936</td>\n",
       "      <td>0.187398</td>\n",
       "      <td>0.153152</td>\n",
       "      <td>0.169117</td>\n",
       "    </tr>\n",
       "    <tr>\n",
       "      <th>comp_corr</th>\n",
       "      <td>0.047395</td>\n",
       "      <td>0.047395</td>\n",
       "      <td>0.047395</td>\n",
       "      <td>0.088788</td>\n",
       "      <td>0.088788</td>\n",
       "      <td>0.088788</td>\n",
       "    </tr>\n",
       "    <tr>\n",
       "      <th>diff_corr</th>\n",
       "      <td>0.196311</td>\n",
       "      <td>0.177560</td>\n",
       "      <td>0.166540</td>\n",
       "      <td>0.098610</td>\n",
       "      <td>0.064365</td>\n",
       "      <td>0.080330</td>\n",
       "    </tr>\n",
       "  </tbody>\n",
       "</table>\n",
       "</div>"
      ],
      "text/plain": [
       "model         causal-base  causal-sim10  causal-sim50  masked-base  \\\n",
       "trained_corr     0.243706      0.224955      0.213936     0.187398   \n",
       "comp_corr        0.047395      0.047395      0.047395     0.088788   \n",
       "diff_corr        0.196311      0.177560      0.166540     0.098610   \n",
       "\n",
       "model         masked-sim10  masked-sim50  \n",
       "trained_corr      0.153152      0.169117  \n",
       "comp_corr         0.088788      0.088788  \n",
       "diff_corr         0.064365      0.080330  "
      ]
     },
     "execution_count": 20,
     "metadata": {},
     "output_type": "execute_result"
    }
   ],
   "source": [
    "runs.groupby(level=0).mean().T"
   ]
  },
  {
   "cell_type": "code",
   "execution_count": 21,
   "id": "d65532db-1c1b-4b88-9d72-4d456741ef2d",
   "metadata": {},
   "outputs": [
    {
     "data": {
      "text/plain": [
       "<AxesSubplot:xlabel='model'>"
      ]
     },
     "execution_count": 21,
     "metadata": {},
     "output_type": "execute_result"
    },
    {
     "data": {
      "image/png": "[encoded data removed]",
      "text/plain": [
       "<Figure size 576x576 with 1 Axes>"
      ]
     },
     "metadata": {
      "needs_background": "light"
     },
     "output_type": "display_data"
    }
   ],
   "source": [
    "fig, ax = plt.subplots(figsize=(8, 8))\n",
    "\n",
    "runs.groupby(level=0).mean()[['trained_corr', 'comp_corr']].plot(kind='bar', rot=45, ax=ax)"
   ]
  },
  {
   "cell_type": "code",
   "execution_count": 22,
   "id": "f096b44a-99a5-427e-989a-219d7d21e7a4",
   "metadata": {},
   "outputs": [
    {
     "data": {
      "text/html": [
       "<div>\n",
       "<style scoped>\n",
       "    .dataframe tbody tr th:only-of-type {\n",
       "        vertical-align: middle;\n",
       "    }\n",
       "\n",
       "    .dataframe tbody tr th {\n",
       "        vertical-align: top;\n",
       "    }\n",
       "\n",
       "    .dataframe thead th {\n",
       "        text-align: right;\n",
       "    }\n",
       "</style>\n",
       "<table border=\"1\" class=\"dataframe\">\n",
       "  <thead>\n",
       "    <tr style=\"text-align: right;\">\n",
       "      <th></th>\n",
       "      <th>model</th>\n",
       "      <th>causal-base</th>\n",
       "      <th>causal-sim10</th>\n",
       "      <th>causal-sim50</th>\n",
       "      <th>masked-base</th>\n",
       "      <th>masked-sim10</th>\n",
       "      <th>masked-sim50</th>\n",
       "    </tr>\n",
       "  </thead>\n",
       "  <tbody>\n",
       "    <tr>\n",
       "      <th rowspan=\"8\" valign=\"top\">trained_corr</th>\n",
       "      <th>count</th>\n",
       "      <td>100.000000</td>\n",
       "      <td>100.000000</td>\n",
       "      <td>100.000000</td>\n",
       "      <td>100.000000</td>\n",
       "      <td>100.000000</td>\n",
       "      <td>100.000000</td>\n",
       "    </tr>\n",
       "    <tr>\n",
       "      <th>mean</th>\n",
       "      <td>0.243706</td>\n",
       "      <td>0.224955</td>\n",
       "      <td>0.213936</td>\n",
       "      <td>0.187398</td>\n",
       "      <td>0.153152</td>\n",
       "      <td>0.169117</td>\n",
       "    </tr>\n",
       "    <tr>\n",
       "      <th>std</th>\n",
       "      <td>0.007211</td>\n",
       "      <td>0.006417</td>\n",
       "      <td>0.006566</td>\n",
       "      <td>0.006326</td>\n",
       "      <td>0.004736</td>\n",
       "      <td>0.005032</td>\n",
       "    </tr>\n",
       "    <tr>\n",
       "      <th>min</th>\n",
       "      <td>0.226550</td>\n",
       "      <td>0.211637</td>\n",
       "      <td>0.197733</td>\n",
       "      <td>0.172730</td>\n",
       "      <td>0.142714</td>\n",
       "      <td>0.158536</td>\n",
       "    </tr>\n",
       "    <tr>\n",
       "      <th>25%</th>\n",
       "      <td>0.238739</td>\n",
       "      <td>0.220584</td>\n",
       "      <td>0.209194</td>\n",
       "      <td>0.183215</td>\n",
       "      <td>0.150170</td>\n",
       "      <td>0.165277</td>\n",
       "    </tr>\n",
       "    <tr>\n",
       "      <th>50%</th>\n",
       "      <td>0.243632</td>\n",
       "      <td>0.224386</td>\n",
       "      <td>0.213094</td>\n",
       "      <td>0.187725</td>\n",
       "      <td>0.152993</td>\n",
       "      <td>0.169021</td>\n",
       "    </tr>\n",
       "    <tr>\n",
       "      <th>75%</th>\n",
       "      <td>0.248638</td>\n",
       "      <td>0.229404</td>\n",
       "      <td>0.218113</td>\n",
       "      <td>0.191372</td>\n",
       "      <td>0.156454</td>\n",
       "      <td>0.172529</td>\n",
       "    </tr>\n",
       "    <tr>\n",
       "      <th>max</th>\n",
       "      <td>0.266170</td>\n",
       "      <td>0.243293</td>\n",
       "      <td>0.231008</td>\n",
       "      <td>0.203216</td>\n",
       "      <td>0.164536</td>\n",
       "      <td>0.180933</td>\n",
       "    </tr>\n",
       "    <tr>\n",
       "      <th rowspan=\"8\" valign=\"top\">comp_corr</th>\n",
       "      <th>count</th>\n",
       "      <td>100.000000</td>\n",
       "      <td>100.000000</td>\n",
       "      <td>100.000000</td>\n",
       "      <td>100.000000</td>\n",
       "      <td>100.000000</td>\n",
       "      <td>100.000000</td>\n",
       "    </tr>\n",
       "    <tr>\n",
       "      <th>mean</th>\n",
       "      <td>0.047395</td>\n",
       "      <td>0.047395</td>\n",
       "      <td>0.047395</td>\n",
       "      <td>0.088788</td>\n",
       "      <td>0.088788</td>\n",
       "      <td>0.088788</td>\n",
       "    </tr>\n",
       "    <tr>\n",
       "      <th>std</th>\n",
       "      <td>0.003167</td>\n",
       "      <td>0.003167</td>\n",
       "      <td>0.003167</td>\n",
       "      <td>0.004493</td>\n",
       "      <td>0.004493</td>\n",
       "      <td>0.004493</td>\n",
       "    </tr>\n",
       "    <tr>\n",
       "      <th>min</th>\n",
       "      <td>0.041872</td>\n",
       "      <td>0.041872</td>\n",
       "      <td>0.041872</td>\n",
       "      <td>0.076486</td>\n",
       "      <td>0.076486</td>\n",
       "      <td>0.076486</td>\n",
       "    </tr>\n",
       "    <tr>\n",
       "      <th>25%</th>\n",
       "      <td>0.044749</td>\n",
       "      <td>0.044749</td>\n",
       "      <td>0.044749</td>\n",
       "      <td>0.085537</td>\n",
       "      <td>0.085537</td>\n",
       "      <td>0.085537</td>\n",
       "    </tr>\n",
       "    <tr>\n",
       "      <th>50%</th>\n",
       "      <td>0.047104</td>\n",
       "      <td>0.047104</td>\n",
       "      <td>0.047104</td>\n",
       "      <td>0.089278</td>\n",
       "      <td>0.089278</td>\n",
       "      <td>0.089278</td>\n",
       "    </tr>\n",
       "    <tr>\n",
       "      <th>75%</th>\n",
       "      <td>0.049673</td>\n",
       "      <td>0.049673</td>\n",
       "      <td>0.049673</td>\n",
       "      <td>0.091733</td>\n",
       "      <td>0.091733</td>\n",
       "      <td>0.091733</td>\n",
       "    </tr>\n",
       "    <tr>\n",
       "      <th>max</th>\n",
       "      <td>0.054149</td>\n",
       "      <td>0.054149</td>\n",
       "      <td>0.054149</td>\n",
       "      <td>0.098625</td>\n",
       "      <td>0.098625</td>\n",
       "      <td>0.098625</td>\n",
       "    </tr>\n",
       "    <tr>\n",
       "      <th rowspan=\"8\" valign=\"top\">diff_corr</th>\n",
       "      <th>count</th>\n",
       "      <td>100.000000</td>\n",
       "      <td>100.000000</td>\n",
       "      <td>100.000000</td>\n",
       "      <td>100.000000</td>\n",
       "      <td>100.000000</td>\n",
       "      <td>100.000000</td>\n",
       "    </tr>\n",
       "    <tr>\n",
       "      <th>mean</th>\n",
       "      <td>0.196311</td>\n",
       "      <td>0.177560</td>\n",
       "      <td>0.166540</td>\n",
       "      <td>0.098610</td>\n",
       "      <td>0.064365</td>\n",
       "      <td>0.080330</td>\n",
       "    </tr>\n",
       "    <tr>\n",
       "      <th>std</th>\n",
       "      <td>0.007906</td>\n",
       "      <td>0.006816</td>\n",
       "      <td>0.007455</td>\n",
       "      <td>0.008128</td>\n",
       "      <td>0.006016</td>\n",
       "      <td>0.005882</td>\n",
       "    </tr>\n",
       "    <tr>\n",
       "      <th>min</th>\n",
       "      <td>0.179676</td>\n",
       "      <td>0.159977</td>\n",
       "      <td>0.146181</td>\n",
       "      <td>0.079414</td>\n",
       "      <td>0.053261</td>\n",
       "      <td>0.062759</td>\n",
       "    </tr>\n",
       "    <tr>\n",
       "      <th>25%</th>\n",
       "      <td>0.191613</td>\n",
       "      <td>0.171810</td>\n",
       "      <td>0.161614</td>\n",
       "      <td>0.092695</td>\n",
       "      <td>0.060174</td>\n",
       "      <td>0.076799</td>\n",
       "    </tr>\n",
       "    <tr>\n",
       "      <th>50%</th>\n",
       "      <td>0.196710</td>\n",
       "      <td>0.178121</td>\n",
       "      <td>0.167262</td>\n",
       "      <td>0.098888</td>\n",
       "      <td>0.063816</td>\n",
       "      <td>0.081276</td>\n",
       "    </tr>\n",
       "    <tr>\n",
       "      <th>75%</th>\n",
       "      <td>0.202530</td>\n",
       "      <td>0.181904</td>\n",
       "      <td>0.171567</td>\n",
       "      <td>0.102331</td>\n",
       "      <td>0.067974</td>\n",
       "      <td>0.083908</td>\n",
       "    </tr>\n",
       "    <tr>\n",
       "      <th>max</th>\n",
       "      <td>0.218180</td>\n",
       "      <td>0.196737</td>\n",
       "      <td>0.188442</td>\n",
       "      <td>0.118416</td>\n",
       "      <td>0.081068</td>\n",
       "      <td>0.092189</td>\n",
       "    </tr>\n",
       "  </tbody>\n",
       "</table>\n",
       "</div>"
      ],
      "text/plain": [
       "model               causal-base  causal-sim10  causal-sim50  masked-base  \\\n",
       "trained_corr count   100.000000    100.000000    100.000000   100.000000   \n",
       "             mean      0.243706      0.224955      0.213936     0.187398   \n",
       "             std       0.007211      0.006417      0.006566     0.006326   \n",
       "             min       0.226550      0.211637      0.197733     0.172730   \n",
       "             25%       0.238739      0.220584      0.209194     0.183215   \n",
       "             50%       0.243632      0.224386      0.213094     0.187725   \n",
       "             75%       0.248638      0.229404      0.218113     0.191372   \n",
       "             max       0.266170      0.243293      0.231008     0.203216   \n",
       "comp_corr    count   100.000000    100.000000    100.000000   100.000000   \n",
       "             mean      0.047395      0.047395      0.047395     0.088788   \n",
       "             std       0.003167      0.003167      0.003167     0.004493   \n",
       "             min       0.041872      0.041872      0.041872     0.076486   \n",
       "             25%       0.044749      0.044749      0.044749     0.085537   \n",
       "             50%       0.047104      0.047104      0.047104     0.089278   \n",
       "             75%       0.049673      0.049673      0.049673     0.091733   \n",
       "             max       0.054149      0.054149      0.054149     0.098625   \n",
       "diff_corr    count   100.000000    100.000000    100.000000   100.000000   \n",
       "             mean      0.196311      0.177560      0.166540     0.098610   \n",
       "             std       0.007906      0.006816      0.007455     0.008128   \n",
       "             min       0.179676      0.159977      0.146181     0.079414   \n",
       "             25%       0.191613      0.171810      0.161614     0.092695   \n",
       "             50%       0.196710      0.178121      0.167262     0.098888   \n",
       "             75%       0.202530      0.181904      0.171567     0.102331   \n",
       "             max       0.218180      0.196737      0.188442     0.118416   \n",
       "\n",
       "model               masked-sim10  masked-sim50  \n",
       "trained_corr count    100.000000    100.000000  \n",
       "             mean       0.153152      0.169117  \n",
       "             std        0.004736      0.005032  \n",
       "             min        0.142714      0.158536  \n",
       "             25%        0.150170      0.165277  \n",
       "             50%        0.152993      0.169021  \n",
       "             75%        0.156454      0.172529  \n",
       "             max        0.164536      0.180933  \n",
       "comp_corr    count    100.000000    100.000000  \n",
       "             mean       0.088788      0.088788  \n",
       "             std        0.004493      0.004493  \n",
       "             min        0.076486      0.076486  \n",
       "             25%        0.085537      0.085537  \n",
       "             50%        0.089278      0.089278  \n",
       "             75%        0.091733      0.091733  \n",
       "             max        0.098625      0.098625  \n",
       "diff_corr    count    100.000000    100.000000  \n",
       "             mean       0.064365      0.080330  \n",
       "             std        0.006016      0.005882  \n",
       "             min        0.053261      0.062759  \n",
       "             25%        0.060174      0.076799  \n",
       "             50%        0.063816      0.081276  \n",
       "             75%        0.067974      0.083908  \n",
       "             max        0.081068      0.092189  "
      ]
     },
     "execution_count": 22,
     "metadata": {},
     "output_type": "execute_result"
    }
   ],
   "source": [
    "runs.groupby(level=0).describe().T"
   ]
  },
  {
   "cell_type": "code",
   "execution_count": 23,
   "id": "1dbcce63-ccca-459d-a7e4-8a7179f6e101",
   "metadata": {
    "scrolled": true,
    "tags": []
   },
   "outputs": [
    {
     "data": {
      "image/png": "[encoded data removed]",
      "text/plain": [
       "<Figure size 1080x360 with 3 Axes>"
      ]
     },
     "metadata": {
      "needs_background": "light"
     },
     "output_type": "display_data"
    },
    {
     "data": {
      "image/png": "[encoded data removed]",
      "text/plain": [
       "<Figure size 1080x360 with 3 Axes>"
      ]
     },
     "metadata": {
      "needs_background": "light"
     },
     "output_type": "display_data"
    },
    {
     "data": {
      "image/png": "[encoded data removed]",
      "text/plain": [
       "<Figure size 1080x360 with 3 Axes>"
      ]
     },
     "metadata": {
      "needs_background": "light"
     },
     "output_type": "display_data"
    },
    {
     "data": {
      "image/png": "[encoded data removed]",
      "text/plain": [
       "<Figure size 1080x360 with 3 Axes>"
      ]
     },
     "metadata": {
      "needs_background": "light"
     },
     "output_type": "display_data"
    },
    {
     "data": {
      "image/png": "[encoded data removed]",
      "text/plain": [
       "<Figure size 1080x360 with 3 Axes>"
      ]
     },
     "metadata": {
      "needs_background": "light"
     },
     "output_type": "display_data"
    },
    {
     "data": {
      "image/png": "[encoded data removed]",
      "text/plain": [
       "<Figure size 1080x360 with 3 Axes>"
      ]
     },
     "metadata": {
      "needs_background": "light"
     },
     "output_type": "display_data"
    }
   ],
   "source": [
    "ret = runs.groupby(level=0).hist(figsize=(15, 5), layout=(1, 3), xrot=45)\n",
    "\n",
    "for n, obj in ret.iteritems():\n",
    "    obj[0][0].figure.suptitle(n)\n",
    "    obj[0][0].figure.tight_layout()"
   ]
  },
  {
   "cell_type": "code",
   "execution_count": 24,
   "id": "c9d7f767-87a3-45cd-be01-38408eb6820e",
   "metadata": {},
   "outputs": [
    {
     "data": {
      "text/plain": [
       "model\n",
       "causal-base     0.0\n",
       "causal-sim10    0.0\n",
       "causal-sim50    0.0\n",
       "masked-base     0.0\n",
       "masked-sim10    0.0\n",
       "masked-sim50    0.0\n",
       "Name: diff_corr, dtype: float64"
      ]
     },
     "execution_count": 24,
     "metadata": {},
     "output_type": "execute_result"
    }
   ],
   "source": [
    "pvals = runs['diff_corr'].apply(lambda s: s < 0).groupby(level=0).mean()\n",
    "pvals.apply(lambda pval: 2 * min(pval, 1 - pval) if pval <= 0.5 else pval)  # two-sided"
   ]
  },
  {
   "cell_type": "markdown",
   "id": "d30b1712-2652-4c93-9879-12a737f3a03a",
   "metadata": {},
   "source": [
    "# Embedding distances vs graph distances"
   ]
  },
  {
   "cell_type": "code",
   "execution_count": 25,
   "id": "82a9178c-0608-48c3-801b-6b523aa3b58c",
   "metadata": {},
   "outputs": [],
   "source": [
    "runs = pd.concat([\n",
    "    pd.DataFrame(evals[file]['eval_emb_dist_vs_graph_dist']['resample']).assign(model=file)\n",
    "    for file in files\n",
    "], axis=0).set_index(['model', 'run'])"
   ]
  },
  {
   "cell_type": "code",
   "execution_count": 26,
   "id": "2e1bae4f-449a-46dd-b87e-a654bf4d2f62",
   "metadata": {},
   "outputs": [
    {
     "data": {
      "text/html": [
       "<div>\n",
       "<style scoped>\n",
       "    .dataframe tbody tr th:only-of-type {\n",
       "        vertical-align: middle;\n",
       "    }\n",
       "\n",
       "    .dataframe tbody tr th {\n",
       "        vertical-align: top;\n",
       "    }\n",
       "\n",
       "    .dataframe thead th {\n",
       "        text-align: right;\n",
       "    }\n",
       "</style>\n",
       "<table border=\"1\" class=\"dataframe\">\n",
       "  <thead>\n",
       "    <tr style=\"text-align: right;\">\n",
       "      <th>model</th>\n",
       "      <th>causal-base</th>\n",
       "      <th>causal-sim10</th>\n",
       "      <th>causal-sim50</th>\n",
       "      <th>masked-base</th>\n",
       "      <th>masked-sim10</th>\n",
       "      <th>masked-sim50</th>\n",
       "    </tr>\n",
       "  </thead>\n",
       "  <tbody>\n",
       "    <tr>\n",
       "      <th>trained_text_corr</th>\n",
       "      <td>0.055994</td>\n",
       "      <td>0.074429</td>\n",
       "      <td>0.082231</td>\n",
       "      <td>0.052922</td>\n",
       "      <td>0.081550</td>\n",
       "      <td>0.091353</td>\n",
       "    </tr>\n",
       "    <tr>\n",
       "      <th>comp_text_corr</th>\n",
       "      <td>0.033562</td>\n",
       "      <td>0.033562</td>\n",
       "      <td>0.033562</td>\n",
       "      <td>0.053505</td>\n",
       "      <td>0.053505</td>\n",
       "      <td>0.053505</td>\n",
       "    </tr>\n",
       "    <tr>\n",
       "      <th>diff_text_corr</th>\n",
       "      <td>0.022432</td>\n",
       "      <td>0.040868</td>\n",
       "      <td>0.048669</td>\n",
       "      <td>-0.000583</td>\n",
       "      <td>0.028046</td>\n",
       "      <td>0.037848</td>\n",
       "    </tr>\n",
       "    <tr>\n",
       "      <th>trained_node_corr</th>\n",
       "      <td>0.244669</td>\n",
       "      <td>0.273378</td>\n",
       "      <td>0.267434</td>\n",
       "      <td>0.307228</td>\n",
       "      <td>0.355736</td>\n",
       "      <td>0.375212</td>\n",
       "    </tr>\n",
       "    <tr>\n",
       "      <th>comp_node_corr</th>\n",
       "      <td>0.224590</td>\n",
       "      <td>0.224590</td>\n",
       "      <td>0.224590</td>\n",
       "      <td>0.224590</td>\n",
       "      <td>0.224590</td>\n",
       "      <td>0.224590</td>\n",
       "    </tr>\n",
       "    <tr>\n",
       "      <th>diff_node_corr</th>\n",
       "      <td>0.020079</td>\n",
       "      <td>0.048788</td>\n",
       "      <td>0.042844</td>\n",
       "      <td>0.082638</td>\n",
       "      <td>0.131146</td>\n",
       "      <td>0.150622</td>\n",
       "    </tr>\n",
       "  </tbody>\n",
       "</table>\n",
       "</div>"
      ],
      "text/plain": [
       "model              causal-base  causal-sim10  causal-sim50  masked-base  \\\n",
       "trained_text_corr     0.055994      0.074429      0.082231     0.052922   \n",
       "comp_text_corr        0.033562      0.033562      0.033562     0.053505   \n",
       "diff_text_corr        0.022432      0.040868      0.048669    -0.000583   \n",
       "trained_node_corr     0.244669      0.273378      0.267434     0.307228   \n",
       "comp_node_corr        0.224590      0.224590      0.224590     0.224590   \n",
       "diff_node_corr        0.020079      0.048788      0.042844     0.082638   \n",
       "\n",
       "model              masked-sim10  masked-sim50  \n",
       "trained_text_corr      0.081550      0.091353  \n",
       "comp_text_corr         0.053505      0.053505  \n",
       "diff_text_corr         0.028046      0.037848  \n",
       "trained_node_corr      0.355736      0.375212  \n",
       "comp_node_corr         0.224590      0.224590  \n",
       "diff_node_corr         0.131146      0.150622  "
      ]
     },
     "execution_count": 26,
     "metadata": {},
     "output_type": "execute_result"
    }
   ],
   "source": [
    "runs.groupby(level=0).mean().T"
   ]
  },
  {
   "cell_type": "code",
   "execution_count": 27,
   "id": "37d87348-5962-4f58-95e0-04e902336c42",
   "metadata": {},
   "outputs": [
    {
     "data": {
      "image/png": "[encoded data removed]",
      "text/plain": [
       "<Figure size 1152x576 with 2 Axes>"
      ]
     },
     "metadata": {
      "needs_background": "light"
     },
     "output_type": "display_data"
    }
   ],
   "source": [
    "fig, axes = plt.subplots(1, 2, sharex=True, sharey=True, figsize=(16, 8))\n",
    "axes = axes.flatten()\n",
    "\n",
    "axes[0].set_title('text')\n",
    "axes[1].set_title('node')\n",
    "\n",
    "runs.groupby(level=0).mean()[['trained_text_corr', 'comp_text_corr']].plot(kind='bar', rot=45, ax=axes[0])\n",
    "runs.groupby(level=0).mean()[['trained_node_corr', 'comp_node_corr']].plot(kind='bar', rot=45, ax=axes[1])\n",
    "\n",
    "fig.tight_layout()"
   ]
  },
  {
   "cell_type": "code",
   "execution_count": 28,
   "id": "962a3990-0dc3-448c-ac76-1da9e2e6661c",
   "metadata": {
    "scrolled": true,
    "tags": []
   },
   "outputs": [
    {
     "data": {
      "text/html": [
       "<div>\n",
       "<style scoped>\n",
       "    .dataframe tbody tr th:only-of-type {\n",
       "        vertical-align: middle;\n",
       "    }\n",
       "\n",
       "    .dataframe tbody tr th {\n",
       "        vertical-align: top;\n",
       "    }\n",
       "\n",
       "    .dataframe thead th {\n",
       "        text-align: right;\n",
       "    }\n",
       "</style>\n",
       "<table border=\"1\" class=\"dataframe\">\n",
       "  <thead>\n",
       "    <tr style=\"text-align: right;\">\n",
       "      <th></th>\n",
       "      <th>model</th>\n",
       "      <th>causal-base</th>\n",
       "      <th>causal-sim10</th>\n",
       "      <th>causal-sim50</th>\n",
       "      <th>masked-base</th>\n",
       "      <th>masked-sim10</th>\n",
       "      <th>masked-sim50</th>\n",
       "    </tr>\n",
       "  </thead>\n",
       "  <tbody>\n",
       "    <tr>\n",
       "      <th rowspan=\"8\" valign=\"top\">trained_text_corr</th>\n",
       "      <th>count</th>\n",
       "      <td>100.000000</td>\n",
       "      <td>100.000000</td>\n",
       "      <td>100.000000</td>\n",
       "      <td>100.000000</td>\n",
       "      <td>100.000000</td>\n",
       "      <td>100.000000</td>\n",
       "    </tr>\n",
       "    <tr>\n",
       "      <th>mean</th>\n",
       "      <td>0.055994</td>\n",
       "      <td>0.074429</td>\n",
       "      <td>0.082231</td>\n",
       "      <td>0.052922</td>\n",
       "      <td>0.081550</td>\n",
       "      <td>0.091353</td>\n",
       "    </tr>\n",
       "    <tr>\n",
       "      <th>std</th>\n",
       "      <td>0.001253</td>\n",
       "      <td>0.001367</td>\n",
       "      <td>0.001492</td>\n",
       "      <td>0.001150</td>\n",
       "      <td>0.001440</td>\n",
       "      <td>0.001635</td>\n",
       "    </tr>\n",
       "    <tr>\n",
       "      <th>min</th>\n",
       "      <td>0.053260</td>\n",
       "      <td>0.071293</td>\n",
       "      <td>0.079129</td>\n",
       "      <td>0.050669</td>\n",
       "      <td>0.078146</td>\n",
       "      <td>0.087861</td>\n",
       "    </tr>\n",
       "    <tr>\n",
       "      <th>25%</th>\n",
       "      <td>0.055048</td>\n",
       "      <td>0.073581</td>\n",
       "      <td>0.081280</td>\n",
       "      <td>0.052064</td>\n",
       "      <td>0.080447</td>\n",
       "      <td>0.090247</td>\n",
       "    </tr>\n",
       "    <tr>\n",
       "      <th>50%</th>\n",
       "      <td>0.055985</td>\n",
       "      <td>0.074449</td>\n",
       "      <td>0.082201</td>\n",
       "      <td>0.052826</td>\n",
       "      <td>0.081485</td>\n",
       "      <td>0.091402</td>\n",
       "    </tr>\n",
       "    <tr>\n",
       "      <th>75%</th>\n",
       "      <td>0.056762</td>\n",
       "      <td>0.075408</td>\n",
       "      <td>0.083182</td>\n",
       "      <td>0.053700</td>\n",
       "      <td>0.082630</td>\n",
       "      <td>0.092621</td>\n",
       "    </tr>\n",
       "    <tr>\n",
       "      <th>max</th>\n",
       "      <td>0.059265</td>\n",
       "      <td>0.079009</td>\n",
       "      <td>0.087299</td>\n",
       "      <td>0.055897</td>\n",
       "      <td>0.084853</td>\n",
       "      <td>0.095100</td>\n",
       "    </tr>\n",
       "    <tr>\n",
       "      <th rowspan=\"8\" valign=\"top\">comp_text_corr</th>\n",
       "      <th>count</th>\n",
       "      <td>100.000000</td>\n",
       "      <td>100.000000</td>\n",
       "      <td>100.000000</td>\n",
       "      <td>100.000000</td>\n",
       "      <td>100.000000</td>\n",
       "      <td>100.000000</td>\n",
       "    </tr>\n",
       "    <tr>\n",
       "      <th>mean</th>\n",
       "      <td>0.033562</td>\n",
       "      <td>0.033562</td>\n",
       "      <td>0.033562</td>\n",
       "      <td>0.053505</td>\n",
       "      <td>0.053505</td>\n",
       "      <td>0.053505</td>\n",
       "    </tr>\n",
       "    <tr>\n",
       "      <th>std</th>\n",
       "      <td>0.001145</td>\n",
       "      <td>0.001145</td>\n",
       "      <td>0.001145</td>\n",
       "      <td>0.001395</td>\n",
       "      <td>0.001395</td>\n",
       "      <td>0.001395</td>\n",
       "    </tr>\n",
       "    <tr>\n",
       "      <th>min</th>\n",
       "      <td>0.030580</td>\n",
       "      <td>0.030580</td>\n",
       "      <td>0.030580</td>\n",
       "      <td>0.050457</td>\n",
       "      <td>0.050457</td>\n",
       "      <td>0.050457</td>\n",
       "    </tr>\n",
       "    <tr>\n",
       "      <th>25%</th>\n",
       "      <td>0.032676</td>\n",
       "      <td>0.032676</td>\n",
       "      <td>0.032676</td>\n",
       "      <td>0.052602</td>\n",
       "      <td>0.052602</td>\n",
       "      <td>0.052602</td>\n",
       "    </tr>\n",
       "    <tr>\n",
       "      <th>50%</th>\n",
       "      <td>0.033572</td>\n",
       "      <td>0.033572</td>\n",
       "      <td>0.033572</td>\n",
       "      <td>0.053468</td>\n",
       "      <td>0.053468</td>\n",
       "      <td>0.053468</td>\n",
       "    </tr>\n",
       "    <tr>\n",
       "      <th>75%</th>\n",
       "      <td>0.034396</td>\n",
       "      <td>0.034396</td>\n",
       "      <td>0.034396</td>\n",
       "      <td>0.054372</td>\n",
       "      <td>0.054372</td>\n",
       "      <td>0.054372</td>\n",
       "    </tr>\n",
       "    <tr>\n",
       "      <th>max</th>\n",
       "      <td>0.036244</td>\n",
       "      <td>0.036244</td>\n",
       "      <td>0.036244</td>\n",
       "      <td>0.057261</td>\n",
       "      <td>0.057261</td>\n",
       "      <td>0.057261</td>\n",
       "    </tr>\n",
       "    <tr>\n",
       "      <th rowspan=\"8\" valign=\"top\">diff_text_corr</th>\n",
       "      <th>count</th>\n",
       "      <td>100.000000</td>\n",
       "      <td>100.000000</td>\n",
       "      <td>100.000000</td>\n",
       "      <td>100.000000</td>\n",
       "      <td>100.000000</td>\n",
       "      <td>100.000000</td>\n",
       "    </tr>\n",
       "    <tr>\n",
       "      <th>mean</th>\n",
       "      <td>0.022432</td>\n",
       "      <td>0.040868</td>\n",
       "      <td>0.048669</td>\n",
       "      <td>-0.000583</td>\n",
       "      <td>0.028046</td>\n",
       "      <td>0.037848</td>\n",
       "    </tr>\n",
       "    <tr>\n",
       "      <th>std</th>\n",
       "      <td>0.001680</td>\n",
       "      <td>0.001541</td>\n",
       "      <td>0.001536</td>\n",
       "      <td>0.001633</td>\n",
       "      <td>0.001548</td>\n",
       "      <td>0.001597</td>\n",
       "    </tr>\n",
       "    <tr>\n",
       "      <th>min</th>\n",
       "      <td>0.018542</td>\n",
       "      <td>0.036779</td>\n",
       "      <td>0.044605</td>\n",
       "      <td>-0.004480</td>\n",
       "      <td>0.023960</td>\n",
       "      <td>0.033448</td>\n",
       "    </tr>\n",
       "    <tr>\n",
       "      <th>25%</th>\n",
       "      <td>0.021196</td>\n",
       "      <td>0.040018</td>\n",
       "      <td>0.047725</td>\n",
       "      <td>-0.001800</td>\n",
       "      <td>0.026961</td>\n",
       "      <td>0.036599</td>\n",
       "    </tr>\n",
       "    <tr>\n",
       "      <th>50%</th>\n",
       "      <td>0.022383</td>\n",
       "      <td>0.040880</td>\n",
       "      <td>0.048654</td>\n",
       "      <td>-0.000453</td>\n",
       "      <td>0.027993</td>\n",
       "      <td>0.037904</td>\n",
       "    </tr>\n",
       "    <tr>\n",
       "      <th>75%</th>\n",
       "      <td>0.023628</td>\n",
       "      <td>0.041661</td>\n",
       "      <td>0.049544</td>\n",
       "      <td>0.000426</td>\n",
       "      <td>0.029005</td>\n",
       "      <td>0.038989</td>\n",
       "    </tr>\n",
       "    <tr>\n",
       "      <th>max</th>\n",
       "      <td>0.026219</td>\n",
       "      <td>0.045018</td>\n",
       "      <td>0.051863</td>\n",
       "      <td>0.003502</td>\n",
       "      <td>0.031711</td>\n",
       "      <td>0.041959</td>\n",
       "    </tr>\n",
       "    <tr>\n",
       "      <th rowspan=\"8\" valign=\"top\">trained_node_corr</th>\n",
       "      <th>count</th>\n",
       "      <td>100.000000</td>\n",
       "      <td>100.000000</td>\n",
       "      <td>100.000000</td>\n",
       "      <td>100.000000</td>\n",
       "      <td>100.000000</td>\n",
       "      <td>100.000000</td>\n",
       "    </tr>\n",
       "    <tr>\n",
       "      <th>mean</th>\n",
       "      <td>0.244669</td>\n",
       "      <td>0.273378</td>\n",
       "      <td>0.267434</td>\n",
       "      <td>0.307228</td>\n",
       "      <td>0.355736</td>\n",
       "      <td>0.375212</td>\n",
       "    </tr>\n",
       "    <tr>\n",
       "      <th>std</th>\n",
       "      <td>0.001794</td>\n",
       "      <td>0.002164</td>\n",
       "      <td>0.002197</td>\n",
       "      <td>0.002445</td>\n",
       "      <td>0.002745</td>\n",
       "      <td>0.003017</td>\n",
       "    </tr>\n",
       "    <tr>\n",
       "      <th>min</th>\n",
       "      <td>0.239048</td>\n",
       "      <td>0.266618</td>\n",
       "      <td>0.261048</td>\n",
       "      <td>0.300977</td>\n",
       "      <td>0.348337</td>\n",
       "      <td>0.366123</td>\n",
       "    </tr>\n",
       "    <tr>\n",
       "      <th>25%</th>\n",
       "      <td>0.243483</td>\n",
       "      <td>0.271807</td>\n",
       "      <td>0.265846</td>\n",
       "      <td>0.305298</td>\n",
       "      <td>0.353753</td>\n",
       "      <td>0.373013</td>\n",
       "    </tr>\n",
       "    <tr>\n",
       "      <th>50%</th>\n",
       "      <td>0.244648</td>\n",
       "      <td>0.273475</td>\n",
       "      <td>0.267631</td>\n",
       "      <td>0.307300</td>\n",
       "      <td>0.355725</td>\n",
       "      <td>0.375371</td>\n",
       "    </tr>\n",
       "    <tr>\n",
       "      <th>75%</th>\n",
       "      <td>0.245939</td>\n",
       "      <td>0.274979</td>\n",
       "      <td>0.268961</td>\n",
       "      <td>0.309135</td>\n",
       "      <td>0.357820</td>\n",
       "      <td>0.377432</td>\n",
       "    </tr>\n",
       "    <tr>\n",
       "      <th>max</th>\n",
       "      <td>0.248697</td>\n",
       "      <td>0.277853</td>\n",
       "      <td>0.272241</td>\n",
       "      <td>0.312542</td>\n",
       "      <td>0.361627</td>\n",
       "      <td>0.381699</td>\n",
       "    </tr>\n",
       "    <tr>\n",
       "      <th rowspan=\"8\" valign=\"top\">comp_node_corr</th>\n",
       "      <th>count</th>\n",
       "      <td>100.000000</td>\n",
       "      <td>100.000000</td>\n",
       "      <td>100.000000</td>\n",
       "      <td>100.000000</td>\n",
       "      <td>100.000000</td>\n",
       "      <td>100.000000</td>\n",
       "    </tr>\n",
       "    <tr>\n",
       "      <th>mean</th>\n",
       "      <td>0.224590</td>\n",
       "      <td>0.224590</td>\n",
       "      <td>0.224590</td>\n",
       "      <td>0.224590</td>\n",
       "      <td>0.224590</td>\n",
       "      <td>0.224590</td>\n",
       "    </tr>\n",
       "    <tr>\n",
       "      <th>std</th>\n",
       "      <td>0.001881</td>\n",
       "      <td>0.001881</td>\n",
       "      <td>0.001881</td>\n",
       "      <td>0.001881</td>\n",
       "      <td>0.001881</td>\n",
       "      <td>0.001881</td>\n",
       "    </tr>\n",
       "    <tr>\n",
       "      <th>min</th>\n",
       "      <td>0.218334</td>\n",
       "      <td>0.218334</td>\n",
       "      <td>0.218334</td>\n",
       "      <td>0.218334</td>\n",
       "      <td>0.218334</td>\n",
       "      <td>0.218334</td>\n",
       "    </tr>\n",
       "    <tr>\n",
       "      <th>25%</th>\n",
       "      <td>0.223250</td>\n",
       "      <td>0.223250</td>\n",
       "      <td>0.223250</td>\n",
       "      <td>0.223250</td>\n",
       "      <td>0.223250</td>\n",
       "      <td>0.223250</td>\n",
       "    </tr>\n",
       "    <tr>\n",
       "      <th>50%</th>\n",
       "      <td>0.224419</td>\n",
       "      <td>0.224419</td>\n",
       "      <td>0.224419</td>\n",
       "      <td>0.224419</td>\n",
       "      <td>0.224419</td>\n",
       "      <td>0.224419</td>\n",
       "    </tr>\n",
       "    <tr>\n",
       "      <th>75%</th>\n",
       "      <td>0.225835</td>\n",
       "      <td>0.225835</td>\n",
       "      <td>0.225835</td>\n",
       "      <td>0.225835</td>\n",
       "      <td>0.225835</td>\n",
       "      <td>0.225835</td>\n",
       "    </tr>\n",
       "    <tr>\n",
       "      <th>max</th>\n",
       "      <td>0.229360</td>\n",
       "      <td>0.229360</td>\n",
       "      <td>0.229360</td>\n",
       "      <td>0.229360</td>\n",
       "      <td>0.229360</td>\n",
       "      <td>0.229360</td>\n",
       "    </tr>\n",
       "    <tr>\n",
       "      <th rowspan=\"8\" valign=\"top\">diff_node_corr</th>\n",
       "      <th>count</th>\n",
       "      <td>100.000000</td>\n",
       "      <td>100.000000</td>\n",
       "      <td>100.000000</td>\n",
       "      <td>100.000000</td>\n",
       "      <td>100.000000</td>\n",
       "      <td>100.000000</td>\n",
       "    </tr>\n",
       "    <tr>\n",
       "      <th>mean</th>\n",
       "      <td>0.020079</td>\n",
       "      <td>0.048788</td>\n",
       "      <td>0.042844</td>\n",
       "      <td>0.082638</td>\n",
       "      <td>0.131146</td>\n",
       "      <td>0.150622</td>\n",
       "    </tr>\n",
       "    <tr>\n",
       "      <th>std</th>\n",
       "      <td>0.001137</td>\n",
       "      <td>0.001439</td>\n",
       "      <td>0.001678</td>\n",
       "      <td>0.001683</td>\n",
       "      <td>0.001823</td>\n",
       "      <td>0.001998</td>\n",
       "    </tr>\n",
       "    <tr>\n",
       "      <th>min</th>\n",
       "      <td>0.017243</td>\n",
       "      <td>0.045823</td>\n",
       "      <td>0.038550</td>\n",
       "      <td>0.079050</td>\n",
       "      <td>0.127062</td>\n",
       "      <td>0.146338</td>\n",
       "    </tr>\n",
       "    <tr>\n",
       "      <th>25%</th>\n",
       "      <td>0.019335</td>\n",
       "      <td>0.047807</td>\n",
       "      <td>0.041706</td>\n",
       "      <td>0.081422</td>\n",
       "      <td>0.129670</td>\n",
       "      <td>0.149274</td>\n",
       "    </tr>\n",
       "    <tr>\n",
       "      <th>50%</th>\n",
       "      <td>0.019868</td>\n",
       "      <td>0.048641</td>\n",
       "      <td>0.043070</td>\n",
       "      <td>0.082569</td>\n",
       "      <td>0.131080</td>\n",
       "      <td>0.150665</td>\n",
       "    </tr>\n",
       "    <tr>\n",
       "      <th>75%</th>\n",
       "      <td>0.020821</td>\n",
       "      <td>0.049842</td>\n",
       "      <td>0.044043</td>\n",
       "      <td>0.083889</td>\n",
       "      <td>0.132517</td>\n",
       "      <td>0.151988</td>\n",
       "    </tr>\n",
       "    <tr>\n",
       "      <th>max</th>\n",
       "      <td>0.023511</td>\n",
       "      <td>0.053669</td>\n",
       "      <td>0.047183</td>\n",
       "      <td>0.087379</td>\n",
       "      <td>0.136054</td>\n",
       "      <td>0.157069</td>\n",
       "    </tr>\n",
       "  </tbody>\n",
       "</table>\n",
       "</div>"
      ],
      "text/plain": [
       "model                    causal-base  causal-sim10  causal-sim50  masked-base  \\\n",
       "trained_text_corr count   100.000000    100.000000    100.000000   100.000000   \n",
       "                  mean      0.055994      0.074429      0.082231     0.052922   \n",
       "                  std       0.001253      0.001367      0.001492     0.001150   \n",
       "                  min       0.053260      0.071293      0.079129     0.050669   \n",
       "                  25%       0.055048      0.073581      0.081280     0.052064   \n",
       "                  50%       0.055985      0.074449      0.082201     0.052826   \n",
       "                  75%       0.056762      0.075408      0.083182     0.053700   \n",
       "                  max       0.059265      0.079009      0.087299     0.055897   \n",
       "comp_text_corr    count   100.000000    100.000000    100.000000   100.000000   \n",
       "                  mean      0.033562      0.033562      0.033562     0.053505   \n",
       "                  std       0.001145      0.001145      0.001145     0.001395   \n",
       "                  min       0.030580      0.030580      0.030580     0.050457   \n",
       "                  25%       0.032676      0.032676      0.032676     0.052602   \n",
       "                  50%       0.033572      0.033572      0.033572     0.053468   \n",
       "                  75%       0.034396      0.034396      0.034396     0.054372   \n",
       "                  max       0.036244      0.036244      0.036244     0.057261   \n",
       "diff_text_corr    count   100.000000    100.000000    100.000000   100.000000   \n",
       "                  mean      0.022432      0.040868      0.048669    -0.000583   \n",
       "                  std       0.001680      0.001541      0.001536     0.001633   \n",
       "                  min       0.018542      0.036779      0.044605    -0.004480   \n",
       "                  25%       0.021196      0.040018      0.047725    -0.001800   \n",
       "                  50%       0.022383      0.040880      0.048654    -0.000453   \n",
       "                  75%       0.023628      0.041661      0.049544     0.000426   \n",
       "                  max       0.026219      0.045018      0.051863     0.003502   \n",
       "trained_node_corr count   100.000000    100.000000    100.000000   100.000000   \n",
       "                  mean      0.244669      0.273378      0.267434     0.307228   \n",
       "                  std       0.001794      0.002164      0.002197     0.002445   \n",
       "                  min       0.239048      0.266618      0.261048     0.300977   \n",
       "                  25%       0.243483      0.271807      0.265846     0.305298   \n",
       "                  50%       0.244648      0.273475      0.267631     0.307300   \n",
       "                  75%       0.245939      0.274979      0.268961     0.309135   \n",
       "                  max       0.248697      0.277853      0.272241     0.312542   \n",
       "comp_node_corr    count   100.000000    100.000000    100.000000   100.000000   \n",
       "                  mean      0.224590      0.224590      0.224590     0.224590   \n",
       "                  std       0.001881      0.001881      0.001881     0.001881   \n",
       "                  min       0.218334      0.218334      0.218334     0.218334   \n",
       "                  25%       0.223250      0.223250      0.223250     0.223250   \n",
       "                  50%       0.224419      0.224419      0.224419     0.224419   \n",
       "                  75%       0.225835      0.225835      0.225835     0.225835   \n",
       "                  max       0.229360      0.229360      0.229360     0.229360   \n",
       "diff_node_corr    count   100.000000    100.000000    100.000000   100.000000   \n",
       "                  mean      0.020079      0.048788      0.042844     0.082638   \n",
       "                  std       0.001137      0.001439      0.001678     0.001683   \n",
       "                  min       0.017243      0.045823      0.038550     0.079050   \n",
       "                  25%       0.019335      0.047807      0.041706     0.081422   \n",
       "                  50%       0.019868      0.048641      0.043070     0.082569   \n",
       "                  75%       0.020821      0.049842      0.044043     0.083889   \n",
       "                  max       0.023511      0.053669      0.047183     0.087379   \n",
       "\n",
       "model                    masked-sim10  masked-sim50  \n",
       "trained_text_corr count    100.000000    100.000000  \n",
       "                  mean       0.081550      0.091353  \n",
       "                  std        0.001440      0.001635  \n",
       "                  min        0.078146      0.087861  \n",
       "                  25%        0.080447      0.090247  \n",
       "                  50%        0.081485      0.091402  \n",
       "                  75%        0.082630      0.092621  \n",
       "                  max        0.084853      0.095100  \n",
       "comp_text_corr    count    100.000000    100.000000  \n",
       "                  mean       0.053505      0.053505  \n",
       "                  std        0.001395      0.001395  \n",
       "                  min        0.050457      0.050457  \n",
       "                  25%        0.052602      0.052602  \n",
       "                  50%        0.053468      0.053468  \n",
       "                  75%        0.054372      0.054372  \n",
       "                  max        0.057261      0.057261  \n",
       "diff_text_corr    count    100.000000    100.000000  \n",
       "                  mean       0.028046      0.037848  \n",
       "                  std        0.001548      0.001597  \n",
       "                  min        0.023960      0.033448  \n",
       "                  25%        0.026961      0.036599  \n",
       "                  50%        0.027993      0.037904  \n",
       "                  75%        0.029005      0.038989  \n",
       "                  max        0.031711      0.041959  \n",
       "trained_node_corr count    100.000000    100.000000  \n",
       "                  mean       0.355736      0.375212  \n",
       "                  std        0.002745      0.003017  \n",
       "                  min        0.348337      0.366123  \n",
       "                  25%        0.353753      0.373013  \n",
       "                  50%        0.355725      0.375371  \n",
       "                  75%        0.357820      0.377432  \n",
       "                  max        0.361627      0.381699  \n",
       "comp_node_corr    count    100.000000    100.000000  \n",
       "                  mean       0.224590      0.224590  \n",
       "                  std        0.001881      0.001881  \n",
       "                  min        0.218334      0.218334  \n",
       "                  25%        0.223250      0.223250  \n",
       "                  50%        0.224419      0.224419  \n",
       "                  75%        0.225835      0.225835  \n",
       "                  max        0.229360      0.229360  \n",
       "diff_node_corr    count    100.000000    100.000000  \n",
       "                  mean       0.131146      0.150622  \n",
       "                  std        0.001823      0.001998  \n",
       "                  min        0.127062      0.146338  \n",
       "                  25%        0.129670      0.149274  \n",
       "                  50%        0.131080      0.150665  \n",
       "                  75%        0.132517      0.151988  \n",
       "                  max        0.136054      0.157069  "
      ]
     },
     "execution_count": 28,
     "metadata": {},
     "output_type": "execute_result"
    }
   ],
   "source": [
    "runs.groupby(level=0).describe().T"
   ]
  },
  {
   "cell_type": "code",
   "execution_count": 29,
   "id": "b7720f76-042b-452a-b1f8-0c898e13b8ec",
   "metadata": {
    "scrolled": true,
    "tags": []
   },
   "outputs": [
    {
     "data": {
      "image/png": "[encoded data removed]",
      "text/plain": [
       "<Figure size 1080x360 with 6 Axes>"
      ]
     },
     "metadata": {
      "needs_background": "light"
     },
     "output_type": "display_data"
    },
    {
     "data": {
      "image/png": "[encoded data removed]",
      "text/plain": [
       "<Figure size 1080x360 with 6 Axes>"
      ]
     },
     "metadata": {
      "needs_background": "light"
     },
     "output_type": "display_data"
    },
    {
     "data": {
      "image/png": "[encoded data removed]",
      "text/plain": [
       "<Figure size 1080x360 with 6 Axes>"
      ]
     },
     "metadata": {
      "needs_background": "light"
     },
     "output_type": "display_data"
    },
    {
     "data": {
      "image/png": "[encoded data removed]",
      "text/plain": [
       "<Figure size 1080x360 with 6 Axes>"
      ]
     },
     "metadata": {
      "needs_background": "light"
     },
     "output_type": "display_data"
    },
    {
     "data": {
      "image/png": "[encoded data removed]",
      "text/plain": [
       "<Figure size 1080x360 with 6 Axes>"
      ]
     },
     "metadata": {
      "needs_background": "light"
     },
     "output_type": "display_data"
    },
    {
     "data": {
      "image/png": "[encoded data removed]",
      "text/plain": [
       "<Figure size 1080x360 with 6 Axes>"
      ]
     },
     "metadata": {
      "needs_background": "light"
     },
     "output_type": "display_data"
    }
   ],
   "source": [
    "ret = runs.groupby(level=0).hist(figsize=(15, 5), layout=(2, 3), xrot=45)\n",
    "\n",
    "for n, obj in ret.iteritems():\n",
    "    obj[0][0].figure.suptitle(n)\n",
    "    obj[0][0].figure.tight_layout()"
   ]
  },
  {
   "cell_type": "code",
   "execution_count": 30,
   "id": "155fd024-4fc7-45dc-aacc-d2644152cce6",
   "metadata": {},
   "outputs": [
    {
     "data": {
      "text/plain": [
       "model\n",
       "causal-base     0.0\n",
       "causal-sim10    0.0\n",
       "causal-sim50    0.0\n",
       "masked-base     0.0\n",
       "masked-sim10    0.0\n",
       "masked-sim50    0.0\n",
       "Name: diff_node_corr, dtype: float64"
      ]
     },
     "execution_count": 30,
     "metadata": {},
     "output_type": "execute_result"
    }
   ],
   "source": [
    "pvals = runs['diff_node_corr'].apply(lambda s: s < 0).groupby(level=0).mean()\n",
    "pvals.apply(lambda pval: 2 * min(pval, 1 - pval) if pval <= 0.5 else pval)  # two-sided"
   ]
  },
  {
   "cell_type": "code",
   "execution_count": 31,
   "id": "364db59f-36c2-4f33-9120-ef3a48be6c4a",
   "metadata": {},
   "outputs": [
    {
     "data": {
      "text/plain": [
       "model\n",
       "causal-base     0.00\n",
       "causal-sim10    0.00\n",
       "causal-sim50    0.00\n",
       "masked-base     0.64\n",
       "masked-sim10    0.00\n",
       "masked-sim50    0.00\n",
       "Name: diff_text_corr, dtype: float64"
      ]
     },
     "execution_count": 31,
     "metadata": {},
     "output_type": "execute_result"
    }
   ],
   "source": [
    "pvals = runs['diff_text_corr'].apply(lambda s: s < 0).groupby(level=0).mean()\n",
    "pvals.apply(lambda pval: 2 * min(pval, 1 - pval) if pval <= 0.5 else pval)  # two-sided"
   ]
  },
  {
   "cell_type": "markdown",
   "id": "e39f201a-4c06-4a5e-b9eb-c71b53fc0da1",
   "metadata": {},
   "source": [
    "# Charts and tables for paper"
   ]
  },
  {
   "cell_type": "code",
   "execution_count": null,
   "id": "c21da65d-d473-41fc-9d70-23da3d535e16",
   "metadata": {},
   "outputs": [],
   "source": []
  },
  {
   "cell_type": "code",
   "execution_count": null,
   "id": "d25c0648-41f9-4e3d-b2e2-3ec2c44a2102",
   "metadata": {},
   "outputs": [],
   "source": []
  },
  {
   "cell_type": "code",
   "execution_count": null,
   "id": "6081f536-d2ab-4b12-ba4c-6a436e2a57a4",
   "metadata": {},
   "outputs": [],
   "source": []
  },
  {
   "cell_type": "code",
   "execution_count": null,
   "id": "0e63fa38-542f-46a9-8d1c-9ee7b6fcfa83",
   "metadata": {},
   "outputs": [],
   "source": []
  },
  {
   "cell_type": "code",
   "execution_count": null,
   "id": "c3fb1b17-299c-4352-9581-0129c0a70a9b",
   "metadata": {},
   "outputs": [],
   "source": []
  },
  {
   "cell_type": "code",
   "execution_count": null,
   "id": "ac109f2a-9dc0-4fee-8777-0625b3a22bfe",
   "metadata": {},
   "outputs": [],
   "source": []
  },
  {
   "cell_type": "code",
   "execution_count": null,
   "id": "7919bd5e-4107-4686-aed1-7e5869b37f16",
   "metadata": {},
   "outputs": [],
   "source": []
  },
  {
   "cell_type": "code",
   "execution_count": null,
   "id": "b950f53d-c2e7-4356-b78b-f7293489babb",
   "metadata": {},
   "outputs": [],
   "source": []
  },
  {
   "cell_type": "code",
   "execution_count": null,
   "id": "ab357eb5-008c-416c-abe2-5450374d5086",
   "metadata": {},
   "outputs": [],
   "source": []
  },
  {
   "cell_type": "code",
   "execution_count": null,
   "id": "9b46c179-9b22-41f7-b6bc-3f0595e519e9",
   "metadata": {},
   "outputs": [],
   "source": []
  },
  {
   "cell_type": "code",
   "execution_count": null,
   "id": "e5210cbc-32ec-4b0d-963e-f79bd3c79980",
   "metadata": {},
   "outputs": [],
   "source": []
  },
  {
   "cell_type": "code",
   "execution_count": null,
   "id": "982336b0-4834-411e-98c2-b4fad17c81ac",
   "metadata": {},
   "outputs": [],
   "source": []
  },
  {
   "cell_type": "code",
   "execution_count": null,
   "id": "712870d3-485b-4a3a-9fbb-9f9671752b7d",
   "metadata": {},
   "outputs": [],
   "source": []
  },
  {
   "cell_type": "code",
   "execution_count": null,
   "id": "9ae68c58-456f-4ca1-9dad-b8dac94eeb82",
   "metadata": {},
   "outputs": [],
   "source": []
  },
  {
   "cell_type": "code",
   "execution_count": null,
   "id": "9905d421-5b1f-4a08-b753-c79acce93ddb",
   "metadata": {},
   "outputs": [],
   "source": []
  },
  {
   "cell_type": "code",
   "execution_count": null,
   "id": "838e52a3-a574-431f-b59f-44db5aaeea7d",
   "metadata": {},
   "outputs": [],
   "source": []
  }
 ],
 "metadata": {
  "kernelspec": {
   "display_name": "DL (ipykernel)",
   "language": "python",
   "name": "dl"
  },
  "language_info": {
   "codemirror_mode": {
    "name": "ipython",
    "version": 3
   },
   "file_extension": ".py",
   "mimetype": "text/x-python",
   "name": "python",
   "nbconvert_exporter": "python",
   "pygments_lexer": "ipython3",
   "version": "3.9.0"
  },
  "widgets": {
   "application/vnd.jupyter.widget-state+json": {
    "state": {
     "0003d6a455014136b221f95ea78e45d3": {
      "model_module": "@jupyter-widgets/controls",
      "model_module_version": "1.5.0",
      "model_name": "ProgressStyleModel",
      "state": {
       "description_width": "initial"
      }
     },
     "00f258a3f84e44eead5dc1fb9e57d2da": {
      "model_module": "@jupyter-widgets/base",
      "model_module_version": "1.2.0",
      "model_name": "LayoutModel",
      "state": {
       "flex": "2"
      }
     },
     "015d77945d9a4ae78129f7a16963dd2d": {
      "model_module": "@jupyter-widgets/controls",
      "model_module_version": "1.5.0",
      "model_name": "DescriptionStyleModel",
      "state": {
       "description_width": ""
      }
     },
     "025e2c4ce4b74c1790144eba920145cd": {
      "model_module": "@jupyter-widgets/controls",
      "model_module_version": "1.5.0",
      "model_name": "HBoxModel",
      "state": {
       "children": [
        "IPY_MODEL_83ac2c74f328404ebf45f05cfbeff8ec",
        "IPY_MODEL_906b3bd771b147eb93a50d10a2ad0e71"
       ],
       "layout": "IPY_MODEL_d3992ef8d1804bb0a6032246ba698b83"
      }
     },
     "0538d933a3d748679a9d049d180cff62": {
      "model_module": "@jupyter-widgets/controls",
      "model_module_version": "1.5.0",
      "model_name": "HTMLModel",
      "state": {
       "layout": "IPY_MODEL_9a59522dc5a647cf9680d9d3c39dc3a8",
       "style": "IPY_MODEL_a83aa1f13b154d878897376e85362233",
       "value": " 1/1 [00:00&lt;00:00, 45.33it/s]"
      }
     },
     "07892403222e4d94a9c904537ca9d307": {
      "model_module": "@jupyter-widgets/base",
      "model_module_version": "1.2.0",
      "model_name": "LayoutModel",
      "state": {
       "flex": "2"
      }
     },
     "07b480cbdc484456a943bb6a99a2aecb": {
      "model_module": "@jupyter-widgets/controls",
      "model_module_version": "1.5.0",
      "model_name": "DescriptionStyleModel",
      "state": {
       "description_width": ""
      }
     },
     "080170da415d47909c78e7d0237688f6": {
      "model_module": "@jupyter-widgets/controls",
      "model_module_version": "1.5.0",
      "model_name": "HBoxModel",
      "state": {
       "children": [
        "IPY_MODEL_a1f15474775e41f9add2e31d5bff9078",
        "IPY_MODEL_f778307e3ace42759a95dce8693fbfbf"
       ],
       "layout": "IPY_MODEL_e615169d0f0f4b70b229cb671292573d"
      }
     },
     "0bf2df5c69704ab1b4d93429531ddf73": {
      "model_module": "@jupyter-widgets/controls",
      "model_module_version": "1.5.0",
      "model_name": "FloatProgressModel",
      "state": {
       "bar_style": "info",
       "description": "Validating: 100%",
       "layout": "IPY_MODEL_398f86f9898949078acb4b60a4d58463",
       "max": 1,
       "style": "IPY_MODEL_9ab2857c182f4ba6b963cd0019d4a8fb",
       "value": 1
      }
     },
     "0c1505619b4a42fd936bb8e0aed014ea": {
      "model_module": "@jupyter-widgets/base",
      "model_module_version": "1.2.0",
      "model_name": "LayoutModel",
      "state": {}
     },
     "0d37cf54c87541989aac5fc0bcbc8d31": {
      "model_module": "@jupyter-widgets/controls",
      "model_module_version": "1.5.0",
      "model_name": "FloatProgressModel",
      "state": {
       "bar_style": "info",
       "description": "Validating: 100%",
       "layout": "IPY_MODEL_30a9c096f0d64fcaabf9659fc374d671",
       "max": 1,
       "style": "IPY_MODEL_a778835609054602a28c4bbf597b0901",
       "value": 1
      }
     },
     "0e103b21adcb47de8706c55daba54c2a": {
      "model_module": "@jupyter-widgets/base",
      "model_module_version": "1.2.0",
      "model_name": "LayoutModel",
      "state": {}
     },
     "0e7200f60add415a89dadf1792fff55b": {
      "model_module": "@jupyter-widgets/controls",
      "model_module_version": "1.5.0",
      "model_name": "FloatProgressModel",
      "state": {
       "bar_style": "info",
       "description": "Validation sanity check: 100%",
       "layout": "IPY_MODEL_fc068e52e95940b38f6db68b89525bee",
       "max": 1,
       "style": "IPY_MODEL_3c8b635155a3497e91ca24f78c2e30b9",
       "value": 1
      }
     },
     "0ebfe7c734634c11bff82e852d6f1919": {
      "model_module": "@jupyter-widgets/controls",
      "model_module_version": "1.5.0",
      "model_name": "HBoxModel",
      "state": {
       "children": [
        "IPY_MODEL_287179ee1f064e94b654dc9098066a68",
        "IPY_MODEL_159169f4d79943c3b80d048c89d220f2"
       ],
       "layout": "IPY_MODEL_24292ab96b694b0ba71d1afb631577a4"
      }
     },
     "11b14c9878dd4a4aa10d5bbdb5699b5e": {
      "model_module": "@jupyter-widgets/controls",
      "model_module_version": "1.5.0",
      "model_name": "DescriptionStyleModel",
      "state": {
       "description_width": ""
      }
     },
     "14778f298a9b4896be8420c3ab156018": {
      "model_module": "@jupyter-widgets/base",
      "model_module_version": "1.2.0",
      "model_name": "LayoutModel",
      "state": {
       "flex": "2"
      }
     },
     "159169f4d79943c3b80d048c89d220f2": {
      "model_module": "@jupyter-widgets/controls",
      "model_module_version": "1.5.0",
      "model_name": "HTMLModel",
      "state": {
       "layout": "IPY_MODEL_60e926c2d83f44978b8b8f05bbaba597",
       "style": "IPY_MODEL_96b6211231d24d459eb0b245d37fdcad",
       "value": " 1/1 [00:00&lt;00:00, 18.13it/s]"
      }
     },
     "15bb60cac730494ca1ba61943cfeaf30": {
      "model_module": "@jupyter-widgets/controls",
      "model_module_version": "1.5.0",
      "model_name": "ProgressStyleModel",
      "state": {
       "description_width": "initial"
      }
     },
     "165a36b1a26b4416aa0ddf17795e4550": {
      "model_module": "@jupyter-widgets/base",
      "model_module_version": "1.2.0",
      "model_name": "LayoutModel",
      "state": {}
     },
     "16cf75c0817843e5bf0f0d99ba2fac6a": {
      "model_module": "@jupyter-widgets/base",
      "model_module_version": "1.2.0",
      "model_name": "LayoutModel",
      "state": {
       "display": "inline-flex",
       "flex_flow": "row wrap",
       "width": "100%"
      }
     },
     "183e87918fd64b4eb0e4aebee4475277": {
      "model_module": "@jupyter-widgets/base",
      "model_module_version": "1.2.0",
      "model_name": "LayoutModel",
      "state": {
       "display": "inline-flex",
       "flex_flow": "row wrap",
       "width": "100%"
      }
     },
     "185fb7cae59f4a0b890107e2d5ffdee3": {
      "model_module": "@jupyter-widgets/controls",
      "model_module_version": "1.5.0",
      "model_name": "ProgressStyleModel",
      "state": {
       "description_width": "initial"
      }
     },
     "196729d62b664e208022c40118329f23": {
      "model_module": "@jupyter-widgets/base",
      "model_module_version": "1.2.0",
      "model_name": "LayoutModel",
      "state": {
       "display": "inline-flex",
       "flex_flow": "row wrap",
       "width": "100%"
      }
     },
     "1b28e98145274e77a1094d07cb45ed79": {
      "model_module": "@jupyter-widgets/controls",
      "model_module_version": "1.5.0",
      "model_name": "DescriptionStyleModel",
      "state": {
       "description_width": ""
      }
     },
     "1d4ed966a60e4e1daffccbac58060a9c": {
      "model_module": "@jupyter-widgets/controls",
      "model_module_version": "1.5.0",
      "model_name": "ProgressStyleModel",
      "state": {
       "description_width": "initial"
      }
     },
     "1d57c12cd627417ab162ea1765f09dad": {
      "model_module": "@jupyter-widgets/controls",
      "model_module_version": "1.5.0",
      "model_name": "DescriptionStyleModel",
      "state": {
       "description_width": ""
      }
     },
     "1d7b4eaf8c594e94bbabe3b506fc8ad1": {
      "model_module": "@jupyter-widgets/controls",
      "model_module_version": "1.5.0",
      "model_name": "ProgressStyleModel",
      "state": {
       "description_width": "initial"
      }
     },
     "20cccd2c4ada44bbbcc953ee80a44f45": {
      "model_module": "@jupyter-widgets/controls",
      "model_module_version": "1.5.0",
      "model_name": "HTMLModel",
      "state": {
       "layout": "IPY_MODEL_458057a57a684ad2ba6ce0252370182b",
       "style": "IPY_MODEL_cb0900b0042f4c2f988cd3d37db2418e",
       "value": " 1/1 [00:00&lt;00:00, 17.81it/s]"
      }
     },
     "2111364703594ae8baf69effca73a0ac": {
      "model_module": "@jupyter-widgets/controls",
      "model_module_version": "1.5.0",
      "model_name": "FloatProgressModel",
      "state": {
       "bar_style": "success",
       "description": "Epoch 0: 100%",
       "layout": "IPY_MODEL_2f9b694de60f404ba93ec4bf77ac6e95",
       "max": 101,
       "style": "IPY_MODEL_84b8096320af4de8a23d3f68e707ac3a",
       "value": 101
      }
     },
     "24292ab96b694b0ba71d1afb631577a4": {
      "model_module": "@jupyter-widgets/base",
      "model_module_version": "1.2.0",
      "model_name": "LayoutModel",
      "state": {
       "display": "inline-flex",
       "flex_flow": "row wrap",
       "width": "100%"
      }
     },
     "2554cb56f76e4a2db7af322b574dc4a7": {
      "model_module": "@jupyter-widgets/base",
      "model_module_version": "1.2.0",
      "model_name": "LayoutModel",
      "state": {
       "display": "inline-flex",
       "flex_flow": "row wrap",
       "width": "100%"
      }
     },
     "25978e6f743c40479d02d5a155c55885": {
      "model_module": "@jupyter-widgets/base",
      "model_module_version": "1.2.0",
      "model_name": "LayoutModel",
      "state": {
       "flex": "2"
      }
     },
     "287179ee1f064e94b654dc9098066a68": {
      "model_module": "@jupyter-widgets/controls",
      "model_module_version": "1.5.0",
      "model_name": "FloatProgressModel",
      "state": {
       "bar_style": "success",
       "description": "Testing: 100%",
       "layout": "IPY_MODEL_56cf0952d7db46d4b95f321ff5f83ba8",
       "max": 1,
       "style": "IPY_MODEL_f2244a41d0df49f88827c4a0b5dec090",
       "value": 1
      }
     },
     "28f9ff88b9c64c429723d3372cf1793d": {
      "model_module": "@jupyter-widgets/controls",
      "model_module_version": "1.5.0",
      "model_name": "HTMLModel",
      "state": {
       "layout": "IPY_MODEL_779433455d0b4a4aa94a0587c01955c1",
       "style": "IPY_MODEL_4d5271081104454ab4c6fe9e93e7e68a",
       "value": " 1/1 [00:00&lt;00:00, 51.24it/s]"
      }
     },
     "298b7f4e92bf4c43bae2aeec756ca0c3": {
      "model_module": "@jupyter-widgets/controls",
      "model_module_version": "1.5.0",
      "model_name": "HTMLModel",
      "state": {
       "layout": "IPY_MODEL_5e3fd9ae7f0f41a29b3ad426d7422b8c",
       "style": "IPY_MODEL_9d0f1954c05f41b0abaa8c8078f8ddb9",
       "value": " 1/1 [00:00&lt;00:00, 50.98it/s]"
      }
     },
     "2a16742076094c09b157de7a842154fb": {
      "model_module": "@jupyter-widgets/base",
      "model_module_version": "1.2.0",
      "model_name": "LayoutModel",
      "state": {}
     },
     "2c12e3c6d1234d04aae644a8eb0a4abd": {
      "model_module": "@jupyter-widgets/base",
      "model_module_version": "1.2.0",
      "model_name": "LayoutModel",
      "state": {
       "display": "inline-flex",
       "flex_flow": "row wrap",
       "width": "100%"
      }
     },
     "2e5fa9a5d1394b9abf3ed5fbb3930ec0": {
      "model_module": "@jupyter-widgets/base",
      "model_module_version": "1.2.0",
      "model_name": "LayoutModel",
      "state": {
       "display": "inline-flex",
       "flex_flow": "row wrap",
       "width": "100%"
      }
     },
     "2ed17e96c9884f33b92c4fa2a8e81fc9": {
      "model_module": "@jupyter-widgets/base",
      "model_module_version": "1.2.0",
      "model_name": "LayoutModel",
      "state": {}
     },
     "2f9b694de60f404ba93ec4bf77ac6e95": {
      "model_module": "@jupyter-widgets/base",
      "model_module_version": "1.2.0",
      "model_name": "LayoutModel",
      "state": {
       "flex": "2"
      }
     },
     "30a9c096f0d64fcaabf9659fc374d671": {
      "model_module": "@jupyter-widgets/base",
      "model_module_version": "1.2.0",
      "model_name": "LayoutModel",
      "state": {
       "flex": "2"
      }
     },
     "30e8194423ba4620a977970afa8c619a": {
      "model_module": "@jupyter-widgets/controls",
      "model_module_version": "1.5.0",
      "model_name": "ProgressStyleModel",
      "state": {
       "description_width": "initial"
      }
     },
     "310fefb550c0414b9478269fdcb4dc0a": {
      "model_module": "@jupyter-widgets/controls",
      "model_module_version": "1.5.0",
      "model_name": "DescriptionStyleModel",
      "state": {
       "description_width": ""
      }
     },
     "326fd80cfb5d4f18b8d278caddd5f9be": {
      "model_module": "@jupyter-widgets/base",
      "model_module_version": "1.2.0",
      "model_name": "LayoutModel",
      "state": {}
     },
     "34ffea98cc97429786a33fda1643a3c4": {
      "model_module": "@jupyter-widgets/controls",
      "model_module_version": "1.5.0",
      "model_name": "ProgressStyleModel",
      "state": {
       "description_width": "initial"
      }
     },
     "366001e8e71142449911ac620b23dbcb": {
      "model_module": "@jupyter-widgets/controls",
      "model_module_version": "1.5.0",
      "model_name": "DescriptionStyleModel",
      "state": {
       "description_width": ""
      }
     },
     "37d577a6d83945a483d9cf0df0d2c3ad": {
      "model_module": "@jupyter-widgets/base",
      "model_module_version": "1.2.0",
      "model_name": "LayoutModel",
      "state": {
       "display": "inline-flex",
       "flex_flow": "row wrap",
       "width": "100%"
      }
     },
     "390164146937410faf27a518aff5c306": {
      "model_module": "@jupyter-widgets/controls",
      "model_module_version": "1.5.0",
      "model_name": "HTMLModel",
      "state": {
       "layout": "IPY_MODEL_b8a071c275064d62bae25f349e80f635",
       "style": "IPY_MODEL_310fefb550c0414b9478269fdcb4dc0a",
       "value": " 101/101 [00:42&lt;00:00,  2.40it/s, loss=0.0146, v_num=57, val_loss_step=0.0136, val_loss_epoch=0.0136, train_loss_step=0.0145, train_loss_epoch=0.0264]"
      }
     },
     "398f86f9898949078acb4b60a4d58463": {
      "model_module": "@jupyter-widgets/base",
      "model_module_version": "1.2.0",
      "model_name": "LayoutModel",
      "state": {
       "flex": "2"
      }
     },
     "3a1bb3ede5a84bc8a94f0076009abceb": {
      "model_module": "@jupyter-widgets/base",
      "model_module_version": "1.2.0",
      "model_name": "LayoutModel",
      "state": {
       "display": "inline-flex",
       "flex_flow": "row wrap",
       "width": "100%"
      }
     },
     "3a6e1c9882ed4d6b946e3237ab4a3323": {
      "model_module": "@jupyter-widgets/base",
      "model_module_version": "1.2.0",
      "model_name": "LayoutModel",
      "state": {}
     },
     "3af9be13724f411eb418c54ead642207": {
      "model_module": "@jupyter-widgets/base",
      "model_module_version": "1.2.0",
      "model_name": "LayoutModel",
      "state": {
       "flex": "2"
      }
     },
     "3b2ecebb49b5481c87fb1d693f55f07c": {
      "model_module": "@jupyter-widgets/base",
      "model_module_version": "1.2.0",
      "model_name": "LayoutModel",
      "state": {
       "flex": "2"
      }
     },
     "3b61f0ba3ebf4c069ab3ad26bdbbda0a": {
      "model_module": "@jupyter-widgets/base",
      "model_module_version": "1.2.0",
      "model_name": "LayoutModel",
      "state": {
       "flex": "2"
      }
     },
     "3c8b635155a3497e91ca24f78c2e30b9": {
      "model_module": "@jupyter-widgets/controls",
      "model_module_version": "1.5.0",
      "model_name": "ProgressStyleModel",
      "state": {
       "description_width": "initial"
      }
     },
     "41687017647446339bca960de88a82f1": {
      "model_module": "@jupyter-widgets/base",
      "model_module_version": "1.2.0",
      "model_name": "LayoutModel",
      "state": {
       "flex": "2"
      }
     },
     "423f0547179547d4ab6f0397bd4a4698": {
      "model_module": "@jupyter-widgets/base",
      "model_module_version": "1.2.0",
      "model_name": "LayoutModel",
      "state": {
       "display": "inline-flex",
       "flex_flow": "row wrap",
       "width": "100%"
      }
     },
     "42566d4ebc724601abd82383af2f449d": {
      "model_module": "@jupyter-widgets/controls",
      "model_module_version": "1.5.0",
      "model_name": "ProgressStyleModel",
      "state": {
       "description_width": "initial"
      }
     },
     "42ef3674e8544646898ef4578e9e661b": {
      "model_module": "@jupyter-widgets/controls",
      "model_module_version": "1.5.0",
      "model_name": "DescriptionStyleModel",
      "state": {
       "description_width": ""
      }
     },
     "446fa871a98e4ec499a5bd8a44b671a9": {
      "model_module": "@jupyter-widgets/controls",
      "model_module_version": "1.5.0",
      "model_name": "DescriptionStyleModel",
      "state": {
       "description_width": ""
      }
     },
     "44bebafdb2ff4e5f889faabe7494a654": {
      "model_module": "@jupyter-widgets/base",
      "model_module_version": "1.2.0",
      "model_name": "LayoutModel",
      "state": {
       "display": "inline-flex",
       "flex_flow": "row wrap",
       "width": "100%"
      }
     },
     "458057a57a684ad2ba6ce0252370182b": {
      "model_module": "@jupyter-widgets/base",
      "model_module_version": "1.2.0",
      "model_name": "LayoutModel",
      "state": {}
     },
     "460b28facd0545b68fb1d6224238def9": {
      "model_module": "@jupyter-widgets/controls",
      "model_module_version": "1.5.0",
      "model_name": "DescriptionStyleModel",
      "state": {
       "description_width": ""
      }
     },
     "464052d5dee14de4b6b56e0d97dfc677": {
      "model_module": "@jupyter-widgets/base",
      "model_module_version": "1.2.0",
      "model_name": "LayoutModel",
      "state": {
       "display": "inline-flex",
       "flex_flow": "row wrap",
       "width": "100%"
      }
     },
     "4793febe8177478091e33aa9644ff21d": {
      "model_module": "@jupyter-widgets/controls",
      "model_module_version": "1.5.0",
      "model_name": "ProgressStyleModel",
      "state": {
       "description_width": "initial"
      }
     },
     "48bb10308a5b43dbb77c4233bf24878d": {
      "model_module": "@jupyter-widgets/controls",
      "model_module_version": "1.5.0",
      "model_name": "FloatProgressModel",
      "state": {
       "bar_style": "info",
       "description": "Validating: 100%",
       "layout": "IPY_MODEL_f2a89764ca8a409faf3ecad116ad5598",
       "max": 1,
       "style": "IPY_MODEL_34ffea98cc97429786a33fda1643a3c4",
       "value": 1
      }
     },
     "49a8780ea47c485aba25a2c612e791ba": {
      "model_module": "@jupyter-widgets/controls",
      "model_module_version": "1.5.0",
      "model_name": "HTMLModel",
      "state": {
       "layout": "IPY_MODEL_86bf42a1e0f642e0ad57515dede998cd",
       "style": "IPY_MODEL_015d77945d9a4ae78129f7a16963dd2d",
       "value": " 1/1 [00:00&lt;00:00, 46.53it/s]"
      }
     },
     "4a0a1b3f0a364069874736495133bdcc": {
      "model_module": "@jupyter-widgets/controls",
      "model_module_version": "1.5.0",
      "model_name": "FloatProgressModel",
      "state": {
       "bar_style": "info",
       "description": "Validating: 100%",
       "layout": "IPY_MODEL_5c0b071cf7984ed58934235c94efc02c",
       "max": 1,
       "style": "IPY_MODEL_914c7b93cbf04807b538f7948025bfbd",
       "value": 1
      }
     },
     "4a43b6b846694564bace217dea769955": {
      "model_module": "@jupyter-widgets/base",
      "model_module_version": "1.2.0",
      "model_name": "LayoutModel",
      "state": {
       "flex": "2"
      }
     },
     "4b83edbf49884e28a224a578e6194f29": {
      "model_module": "@jupyter-widgets/controls",
      "model_module_version": "1.5.0",
      "model_name": "FloatProgressModel",
      "state": {
       "bar_style": "success",
       "description": "Epoch 0: 100%",
       "layout": "IPY_MODEL_4a43b6b846694564bace217dea769955",
       "max": 101,
       "style": "IPY_MODEL_1d4ed966a60e4e1daffccbac58060a9c",
       "value": 101
      }
     },
     "4ca9677af00d4df08f56fbe225e37452": {
      "model_module": "@jupyter-widgets/base",
      "model_module_version": "1.2.0",
      "model_name": "LayoutModel",
      "state": {
       "flex": "2"
      }
     },
     "4d26f45502ac4085adab2825b21493d5": {
      "model_module": "@jupyter-widgets/base",
      "model_module_version": "1.2.0",
      "model_name": "LayoutModel",
      "state": {}
     },
     "4d4447dd675c41b5bc73f1d1903e9f68": {
      "model_module": "@jupyter-widgets/controls",
      "model_module_version": "1.5.0",
      "model_name": "DescriptionStyleModel",
      "state": {
       "description_width": ""
      }
     },
     "4d5271081104454ab4c6fe9e93e7e68a": {
      "model_module": "@jupyter-widgets/controls",
      "model_module_version": "1.5.0",
      "model_name": "DescriptionStyleModel",
      "state": {
       "description_width": ""
      }
     },
     "4d9ac91c1bd44cb0a796475eda7aa668": {
      "model_module": "@jupyter-widgets/controls",
      "model_module_version": "1.5.0",
      "model_name": "FloatProgressModel",
      "state": {
       "bar_style": "info",
       "description": "Validation sanity check: 100%",
       "layout": "IPY_MODEL_9bc092557c4146dda870821ed674b624",
       "max": 1,
       "style": "IPY_MODEL_1d7b4eaf8c594e94bbabe3b506fc8ad1",
       "value": 1
      }
     },
     "4da86c262d024386ad6847bf466b20fa": {
      "model_module": "@jupyter-widgets/controls",
      "model_module_version": "1.5.0",
      "model_name": "HBoxModel",
      "state": {
       "children": [
        "IPY_MODEL_50d8cdf3371745bb86d4b9ebd9baa781",
        "IPY_MODEL_f2bfd40eeece4fb38c443b04b34b8b60"
       ],
       "layout": "IPY_MODEL_9b0a8e9b716d43df9efc62894c3be438"
      }
     },
     "4db88e9d7a8b41429068abdff5c0392c": {
      "model_module": "@jupyter-widgets/controls",
      "model_module_version": "1.5.0",
      "model_name": "DescriptionStyleModel",
      "state": {
       "description_width": ""
      }
     },
     "4e6b67711eaa4449b6c0bc43317e4398": {
      "model_module": "@jupyter-widgets/base",
      "model_module_version": "1.2.0",
      "model_name": "LayoutModel",
      "state": {
       "display": "inline-flex",
       "flex_flow": "row wrap",
       "width": "100%"
      }
     },
     "4f01f4f6b13b4d6d9e73de11e00fa8c2": {
      "model_module": "@jupyter-widgets/controls",
      "model_module_version": "1.5.0",
      "model_name": "HTMLModel",
      "state": {
       "layout": "IPY_MODEL_0c1505619b4a42fd936bb8e0aed014ea",
       "style": "IPY_MODEL_07b480cbdc484456a943bb6a99a2aecb",
       "value": " 101/101 [00:24&lt;00:00,  4.09it/s, loss=0.253, v_num=58, val_loss_step=1.680, val_loss_epoch=1.680, train_loss_step=0.223, train_loss_epoch=0.604]"
      }
     },
     "4f372a3c5c4a45cba207e5b7a77b2838": {
      "model_module": "@jupyter-widgets/base",
      "model_module_version": "1.2.0",
      "model_name": "LayoutModel",
      "state": {}
     },
     "50d8cdf3371745bb86d4b9ebd9baa781": {
      "model_module": "@jupyter-widgets/controls",
      "model_module_version": "1.5.0",
      "model_name": "FloatProgressModel",
      "state": {
       "bar_style": "success",
       "description": "Epoch 0: 100%",
       "layout": "IPY_MODEL_9aa49bdcc8174b16b0c8bbef17e4bf0c",
       "max": 101,
       "style": "IPY_MODEL_88793dd4fcae407ab5972226ab47eb67",
       "value": 101
      }
     },
     "514c9083de484b199fba702857d84c14": {
      "model_module": "@jupyter-widgets/base",
      "model_module_version": "1.2.0",
      "model_name": "LayoutModel",
      "state": {
       "display": "inline-flex",
       "flex_flow": "row wrap",
       "width": "100%"
      }
     },
     "526eed9c685740b78ce897cdf9fa1348": {
      "model_module": "@jupyter-widgets/controls",
      "model_module_version": "1.5.0",
      "model_name": "FloatProgressModel",
      "state": {
       "bar_style": "info",
       "description": "Validation sanity check: 100%",
       "layout": "IPY_MODEL_3b61f0ba3ebf4c069ab3ad26bdbbda0a",
       "max": 1,
       "style": "IPY_MODEL_a54387c88d284f78a2099ab0d4d7feff",
       "value": 1
      }
     },
     "52d53b92a2dc4b8395ce6ffd7eafde5c": {
      "model_module": "@jupyter-widgets/controls",
      "model_module_version": "1.5.0",
      "model_name": "HTMLModel",
      "state": {
       "layout": "IPY_MODEL_d6bce9912c10427688627643748dd332",
       "style": "IPY_MODEL_be647b6bdd7444798d24e708ba5c039b",
       "value": " 1/1 [00:00&lt;00:00, 53.15it/s]"
      }
     },
     "52f23c0daf7949d6b20da2816a821d0e": {
      "model_module": "@jupyter-widgets/controls",
      "model_module_version": "1.5.0",
      "model_name": "FloatProgressModel",
      "state": {
       "bar_style": "success",
       "description": "Testing: 100%",
       "layout": "IPY_MODEL_07892403222e4d94a9c904537ca9d307",
       "max": 1,
       "style": "IPY_MODEL_e367725a2b774e28bd950338362884b1",
       "value": 1
      }
     },
     "53daba5539834ab380c68226cb51f04b": {
      "model_module": "@jupyter-widgets/base",
      "model_module_version": "1.2.0",
      "model_name": "LayoutModel",
      "state": {}
     },
     "553aecf5f19149e0b2bce68fd3711e0f": {
      "model_module": "@jupyter-widgets/controls",
      "model_module_version": "1.5.0",
      "model_name": "FloatProgressModel",
      "state": {
       "bar_style": "info",
       "description": "Validating: 100%",
       "layout": "IPY_MODEL_00f258a3f84e44eead5dc1fb9e57d2da",
       "max": 1,
       "style": "IPY_MODEL_b8c702bee7d542848dec2dae8027ceca",
       "value": 1
      }
     },
     "555c420d59464fca883285d616d09826": {
      "model_module": "@jupyter-widgets/base",
      "model_module_version": "1.2.0",
      "model_name": "LayoutModel",
      "state": {
       "flex": "2"
      }
     },
     "55d3a8f1cfdc4275a5b3b2e349b9cc83": {
      "model_module": "@jupyter-widgets/base",
      "model_module_version": "1.2.0",
      "model_name": "LayoutModel",
      "state": {
       "display": "inline-flex",
       "flex_flow": "row wrap",
       "width": "100%"
      }
     },
     "56cf0952d7db46d4b95f321ff5f83ba8": {
      "model_module": "@jupyter-widgets/base",
      "model_module_version": "1.2.0",
      "model_name": "LayoutModel",
      "state": {
       "flex": "2"
      }
     },
     "5959736a822544fdbb41163cf999902a": {
      "model_module": "@jupyter-widgets/controls",
      "model_module_version": "1.5.0",
      "model_name": "FloatProgressModel",
      "state": {
       "bar_style": "info",
       "description": "Validating: 100%",
       "layout": "IPY_MODEL_f831543dce424746881e8dc87f761c4c",
       "max": 1,
       "style": "IPY_MODEL_4793febe8177478091e33aa9644ff21d",
       "value": 1
      }
     },
     "59c596e250b74c85ae725e3b0f4a352d": {
      "model_module": "@jupyter-widgets/controls",
      "model_module_version": "1.5.0",
      "model_name": "HTMLModel",
      "state": {
       "layout": "IPY_MODEL_326fd80cfb5d4f18b8d278caddd5f9be",
       "style": "IPY_MODEL_446fa871a98e4ec499a5bd8a44b671a9",
       "value": " 101/101 [00:24&lt;00:00,  4.12it/s, loss=0.0197, v_num=59, val_loss_step=0.00268, val_loss_epoch=0.00268, train_loss_step=0.0177, train_loss_epoch=0.0397]"
      }
     },
     "5c0b071cf7984ed58934235c94efc02c": {
      "model_module": "@jupyter-widgets/base",
      "model_module_version": "1.2.0",
      "model_name": "LayoutModel",
      "state": {
       "flex": "2"
      }
     },
     "5c4264b8f9c34babb46e06057f5915a0": {
      "model_module": "@jupyter-widgets/base",
      "model_module_version": "1.2.0",
      "model_name": "LayoutModel",
      "state": {}
     },
     "5c64e7f632874475984890827a486c79": {
      "model_module": "@jupyter-widgets/base",
      "model_module_version": "1.2.0",
      "model_name": "LayoutModel",
      "state": {
       "flex": "2"
      }
     },
     "5d883a18261f4986a369a650499c04e7": {
      "model_module": "@jupyter-widgets/controls",
      "model_module_version": "1.5.0",
      "model_name": "FloatProgressModel",
      "state": {
       "bar_style": "info",
       "description": "Validating: 100%",
       "layout": "IPY_MODEL_3b2ecebb49b5481c87fb1d693f55f07c",
       "max": 1,
       "style": "IPY_MODEL_6eed0067f26449aeaee21f9888431ba0",
       "value": 1
      }
     },
     "5e3ef5a11e1c45d2866ca3df7f7bafd3": {
      "model_module": "@jupyter-widgets/controls",
      "model_module_version": "1.5.0",
      "model_name": "ProgressStyleModel",
      "state": {
       "description_width": "initial"
      }
     },
     "5e3fd9ae7f0f41a29b3ad426d7422b8c": {
      "model_module": "@jupyter-widgets/base",
      "model_module_version": "1.2.0",
      "model_name": "LayoutModel",
      "state": {}
     },
     "5f8e308e83454795a83e9ccd462e875d": {
      "model_module": "@jupyter-widgets/base",
      "model_module_version": "1.2.0",
      "model_name": "LayoutModel",
      "state": {}
     },
     "5ffe2c566e8644a6961b858ad8da0c60": {
      "model_module": "@jupyter-widgets/controls",
      "model_module_version": "1.5.0",
      "model_name": "HTMLModel",
      "state": {
       "layout": "IPY_MODEL_d437e5bf8ae949bbb4dbea8f393f711c",
       "style": "IPY_MODEL_460b28facd0545b68fb1d6224238def9",
       "value": " 1/1 [00:00&lt;00:00, 40.78it/s]"
      }
     },
     "60e926c2d83f44978b8b8f05bbaba597": {
      "model_module": "@jupyter-widgets/base",
      "model_module_version": "1.2.0",
      "model_name": "LayoutModel",
      "state": {}
     },
     "630e43d69d5746afae8f5ab910c979f9": {
      "model_module": "@jupyter-widgets/controls",
      "model_module_version": "1.5.0",
      "model_name": "FloatProgressModel",
      "state": {
       "bar_style": "info",
       "description": "Validating: 100%",
       "layout": "IPY_MODEL_9be7c13d142a430ba8f69348f7b4f18a",
       "max": 1,
       "style": "IPY_MODEL_f2943de4960a4106abeac6e8f41161b8",
       "value": 1
      }
     },
     "66c40789a77c497d9be18a1af5bf6829": {
      "model_module": "@jupyter-widgets/controls",
      "model_module_version": "1.5.0",
      "model_name": "ProgressStyleModel",
      "state": {
       "description_width": "initial"
      }
     },
     "676ccfac02b34a87ba52c50d4bf9df15": {
      "model_module": "@jupyter-widgets/base",
      "model_module_version": "1.2.0",
      "model_name": "LayoutModel",
      "state": {}
     },
     "67e9cef0fba74b598be0ffce2ae747aa": {
      "model_module": "@jupyter-widgets/controls",
      "model_module_version": "1.5.0",
      "model_name": "ProgressStyleModel",
      "state": {
       "description_width": "initial"
      }
     },
     "68d84112ba4f43e58587bbc3798a00a8": {
      "model_module": "@jupyter-widgets/controls",
      "model_module_version": "1.5.0",
      "model_name": "DescriptionStyleModel",
      "state": {
       "description_width": ""
      }
     },
     "6baa3b03dd834295950b292a153710f6": {
      "model_module": "@jupyter-widgets/base",
      "model_module_version": "1.2.0",
      "model_name": "LayoutModel",
      "state": {
       "display": "inline-flex",
       "flex_flow": "row wrap",
       "width": "100%"
      }
     },
     "6bc149809d014350acfd15fadb693c18": {
      "model_module": "@jupyter-widgets/base",
      "model_module_version": "1.2.0",
      "model_name": "LayoutModel",
      "state": {
       "display": "inline-flex",
       "flex_flow": "row wrap",
       "width": "100%"
      }
     },
     "6c03a430712b4a0ebcb57c8d68d75fb6": {
      "model_module": "@jupyter-widgets/controls",
      "model_module_version": "1.5.0",
      "model_name": "DescriptionStyleModel",
      "state": {
       "description_width": ""
      }
     },
     "6cf57ed59d0444ecbc585deb3961d5b8": {
      "model_module": "@jupyter-widgets/controls",
      "model_module_version": "1.5.0",
      "model_name": "FloatProgressModel",
      "state": {
       "bar_style": "info",
       "description": "Validating: 100%",
       "layout": "IPY_MODEL_9ca4e29685ba46b99ea471326d959812",
       "max": 1,
       "style": "IPY_MODEL_e571676463e94c75987b912b6c33a029",
       "value": 1
      }
     },
     "6ebd9bbbfcc74d2ab767ad2e249910e8": {
      "model_module": "@jupyter-widgets/base",
      "model_module_version": "1.2.0",
      "model_name": "LayoutModel",
      "state": {
       "display": "inline-flex",
       "flex_flow": "row wrap",
       "width": "100%"
      }
     },
     "6eed0067f26449aeaee21f9888431ba0": {
      "model_module": "@jupyter-widgets/controls",
      "model_module_version": "1.5.0",
      "model_name": "ProgressStyleModel",
      "state": {
       "description_width": "initial"
      }
     },
     "6f8ed32efe854c01885be5004c285d03": {
      "model_module": "@jupyter-widgets/controls",
      "model_module_version": "1.5.0",
      "model_name": "HTMLModel",
      "state": {
       "layout": "IPY_MODEL_7a7e61213a2a413d9e7f0cb12d512b76",
       "style": "IPY_MODEL_68d84112ba4f43e58587bbc3798a00a8",
       "value": " 1/1 [00:00&lt;00:00, 40.24it/s]"
      }
     },
     "6fce092df4134c0fbb1c810e363a5b8b": {
      "model_module": "@jupyter-widgets/controls",
      "model_module_version": "1.5.0",
      "model_name": "HBoxModel",
      "state": {
       "children": [
        "IPY_MODEL_df40edd0e29e41ab85b1011c1349fb79",
        "IPY_MODEL_390164146937410faf27a518aff5c306"
       ],
       "layout": "IPY_MODEL_514c9083de484b199fba702857d84c14"
      }
     },
     "713b79ec476b46778c87bf8c908e6731": {
      "model_module": "@jupyter-widgets/controls",
      "model_module_version": "1.5.0",
      "model_name": "DescriptionStyleModel",
      "state": {
       "description_width": ""
      }
     },
     "71f9922f2414485d8208ddda061c8efc": {
      "model_module": "@jupyter-widgets/controls",
      "model_module_version": "1.5.0",
      "model_name": "HTMLModel",
      "state": {
       "layout": "IPY_MODEL_3a6e1c9882ed4d6b946e3237ab4a3323",
       "style": "IPY_MODEL_42ef3674e8544646898ef4578e9e661b",
       "value": " 1/1 [00:00&lt;00:00, 42.69it/s]"
      }
     },
     "7326e354729a433aa1457a65c9ed6eb7": {
      "model_module": "@jupyter-widgets/base",
      "model_module_version": "1.2.0",
      "model_name": "LayoutModel",
      "state": {
       "flex": "2"
      }
     },
     "73b33180f8544cfc9d75bcec69780875": {
      "model_module": "@jupyter-widgets/controls",
      "model_module_version": "1.5.0",
      "model_name": "FloatProgressModel",
      "state": {
       "bar_style": "info",
       "description": "Validation sanity check: 100%",
       "layout": "IPY_MODEL_555c420d59464fca883285d616d09826",
       "max": 1,
       "style": "IPY_MODEL_9d8ed6f2de334c4f8366f32b99116c44",
       "value": 1
      }
     },
     "74eeb016500642fcbb3ceb681836461b": {
      "model_module": "@jupyter-widgets/controls",
      "model_module_version": "1.5.0",
      "model_name": "HTMLModel",
      "state": {
       "layout": "IPY_MODEL_daf3794f2ba14ee2936daeeb23aefc57",
       "style": "IPY_MODEL_c93c3d499c97444492917ffe729a3176",
       "value": " 1/1 [00:00&lt;00:00, 41.80it/s]"
      }
     },
     "7501b706a6a84b9db7f4018666be2ec3": {
      "model_module": "@jupyter-widgets/base",
      "model_module_version": "1.2.0",
      "model_name": "LayoutModel",
      "state": {}
     },
     "779433455d0b4a4aa94a0587c01955c1": {
      "model_module": "@jupyter-widgets/base",
      "model_module_version": "1.2.0",
      "model_name": "LayoutModel",
      "state": {}
     },
     "7a7e61213a2a413d9e7f0cb12d512b76": {
      "model_module": "@jupyter-widgets/base",
      "model_module_version": "1.2.0",
      "model_name": "LayoutModel",
      "state": {}
     },
     "7b7673fad4a844c99acbb41356791964": {
      "model_module": "@jupyter-widgets/controls",
      "model_module_version": "1.5.0",
      "model_name": "ProgressStyleModel",
      "state": {
       "description_width": "initial"
      }
     },
     "7c2578394a04417d8bfa48a71db700cb": {
      "model_module": "@jupyter-widgets/base",
      "model_module_version": "1.2.0",
      "model_name": "LayoutModel",
      "state": {}
     },
     "7c3ca78bd31d4266b02be038c9888ba0": {
      "model_module": "@jupyter-widgets/controls",
      "model_module_version": "1.5.0",
      "model_name": "HBoxModel",
      "state": {
       "children": [
        "IPY_MODEL_52f23c0daf7949d6b20da2816a821d0e",
        "IPY_MODEL_fa7fda5091c44017bfb159bfb37b90df"
       ],
       "layout": "IPY_MODEL_183e87918fd64b4eb0e4aebee4475277"
      }
     },
     "7d8efb6921dd41aab6a9acbbd0f6d27d": {
      "model_module": "@jupyter-widgets/controls",
      "model_module_version": "1.5.0",
      "model_name": "HTMLModel",
      "state": {
       "layout": "IPY_MODEL_4f372a3c5c4a45cba207e5b7a77b2838",
       "style": "IPY_MODEL_1b28e98145274e77a1094d07cb45ed79",
       "value": " 1/1 [00:00&lt;00:00, 48.96it/s]"
      }
     },
     "7f3ff854185a4f9b85442ba17e789c72": {
      "model_module": "@jupyter-widgets/controls",
      "model_module_version": "1.5.0",
      "model_name": "FloatProgressModel",
      "state": {
       "bar_style": "success",
       "description": "Epoch 0: 100%",
       "layout": "IPY_MODEL_5c64e7f632874475984890827a486c79",
       "max": 101,
       "style": "IPY_MODEL_67e9cef0fba74b598be0ffce2ae747aa",
       "value": 101
      }
     },
     "80eccc29d18b4758a5e68c874e0952ae": {
      "model_module": "@jupyter-widgets/controls",
      "model_module_version": "1.5.0",
      "model_name": "HTMLModel",
      "state": {
       "layout": "IPY_MODEL_850c904ad72044cd875937224b19532b",
       "style": "IPY_MODEL_1d57c12cd627417ab162ea1765f09dad",
       "value": " 1/1 [00:00&lt;00:00, 49.67it/s]"
      }
     },
     "83ac2c74f328404ebf45f05cfbeff8ec": {
      "model_module": "@jupyter-widgets/controls",
      "model_module_version": "1.5.0",
      "model_name": "FloatProgressModel",
      "state": {
       "bar_style": "success",
       "description": "Testing: 100%",
       "layout": "IPY_MODEL_df63a7f01c414c3e8c040f2f99f78488",
       "max": 1,
       "style": "IPY_MODEL_5e3ef5a11e1c45d2866ca3df7f7bafd3",
       "value": 1
      }
     },
     "84b8096320af4de8a23d3f68e707ac3a": {
      "model_module": "@jupyter-widgets/controls",
      "model_module_version": "1.5.0",
      "model_name": "ProgressStyleModel",
      "state": {
       "description_width": "initial"
      }
     },
     "850c904ad72044cd875937224b19532b": {
      "model_module": "@jupyter-widgets/base",
      "model_module_version": "1.2.0",
      "model_name": "LayoutModel",
      "state": {}
     },
     "854d7fdd2d86447a813451dbeb9803dc": {
      "model_module": "@jupyter-widgets/base",
      "model_module_version": "1.2.0",
      "model_name": "LayoutModel",
      "state": {
       "display": "inline-flex",
       "flex_flow": "row wrap",
       "width": "100%"
      }
     },
     "86bf42a1e0f642e0ad57515dede998cd": {
      "model_module": "@jupyter-widgets/base",
      "model_module_version": "1.2.0",
      "model_name": "LayoutModel",
      "state": {}
     },
     "86d29c613912466e8f15ff2a052ab2e0": {
      "model_module": "@jupyter-widgets/controls",
      "model_module_version": "1.5.0",
      "model_name": "FloatProgressModel",
      "state": {
       "bar_style": "success",
       "description": "Testing: 100%",
       "layout": "IPY_MODEL_df7570e474e2473c82b7bedf44073b01",
       "max": 1,
       "style": "IPY_MODEL_d625fd2a583a45f08b10969a34824a05",
       "value": 1
      }
     },
     "883ab484211545319bdaf855c8161e67": {
      "model_module": "@jupyter-widgets/base",
      "model_module_version": "1.2.0",
      "model_name": "LayoutModel",
      "state": {
       "display": "inline-flex",
       "flex_flow": "row wrap",
       "width": "100%"
      }
     },
     "88793dd4fcae407ab5972226ab47eb67": {
      "model_module": "@jupyter-widgets/controls",
      "model_module_version": "1.5.0",
      "model_name": "ProgressStyleModel",
      "state": {
       "description_width": "initial"
      }
     },
     "8c4cc94c7c2f41969bfd49adc18c6270": {
      "model_module": "@jupyter-widgets/controls",
      "model_module_version": "1.5.0",
      "model_name": "DescriptionStyleModel",
      "state": {
       "description_width": ""
      }
     },
     "8e8039c484414c998641e588bac12f9a": {
      "model_module": "@jupyter-widgets/controls",
      "model_module_version": "1.5.0",
      "model_name": "HTMLModel",
      "state": {
       "layout": "IPY_MODEL_d21c528844fd480fa4f43c308d1c2e1d",
       "style": "IPY_MODEL_4d4447dd675c41b5bc73f1d1903e9f68",
       "value": " 1/1 [00:00&lt;00:00, 18.20it/s]"
      }
     },
     "8eaf63cba866450a87d66642d2903c27": {
      "model_module": "@jupyter-widgets/controls",
      "model_module_version": "1.5.0",
      "model_name": "FloatProgressModel",
      "state": {
       "bar_style": "info",
       "description": "Validating: 100%",
       "layout": "IPY_MODEL_e747edb1d8be4d86901867d957d55ede",
       "max": 1,
       "style": "IPY_MODEL_c7bf07635b7843cd8f66408c2a2d1394",
       "value": 1
      }
     },
     "8ff0dcb3c9d44d018823a19087a7a664": {
      "model_module": "@jupyter-widgets/controls",
      "model_module_version": "1.5.0",
      "model_name": "HBoxModel",
      "state": {
       "children": [
        "IPY_MODEL_ab2da7680d5e41c2b63dbe9c4e7207fd",
        "IPY_MODEL_9dd88831324d44339c24fd81811e501e"
       ],
       "layout": "IPY_MODEL_f0743bc089b14747b09f9c7d94fcdf64"
      }
     },
     "906b3bd771b147eb93a50d10a2ad0e71": {
      "model_module": "@jupyter-widgets/controls",
      "model_module_version": "1.5.0",
      "model_name": "HTMLModel",
      "state": {
       "layout": "IPY_MODEL_676ccfac02b34a87ba52c50d4bf9df15",
       "style": "IPY_MODEL_ccaf35775fa24d5990b6e20ecdb4da8b",
       "value": " 1/1 [00:00&lt;00:00, 17.99it/s]"
      }
     },
     "914c7b93cbf04807b538f7948025bfbd": {
      "model_module": "@jupyter-widgets/controls",
      "model_module_version": "1.5.0",
      "model_name": "ProgressStyleModel",
      "state": {
       "description_width": "initial"
      }
     },
     "96b6211231d24d459eb0b245d37fdcad": {
      "model_module": "@jupyter-widgets/controls",
      "model_module_version": "1.5.0",
      "model_name": "DescriptionStyleModel",
      "state": {
       "description_width": ""
      }
     },
     "9714ea3687a24d989207f9e3078584bb": {
      "model_module": "@jupyter-widgets/controls",
      "model_module_version": "1.5.0",
      "model_name": "HTMLModel",
      "state": {
       "layout": "IPY_MODEL_d527c6a3b7cd4d278375aa98dcbee7f1",
       "style": "IPY_MODEL_6c03a430712b4a0ebcb57c8d68d75fb6",
       "value": " 1/1 [00:00&lt;00:00,  1.19it/s]"
      }
     },
     "97228470b2f9412f97d8b47f39475bce": {
      "model_module": "@jupyter-widgets/controls",
      "model_module_version": "1.5.0",
      "model_name": "HBoxModel",
      "state": {
       "children": [
        "IPY_MODEL_4b83edbf49884e28a224a578e6194f29",
        "IPY_MODEL_bf3b961f89f04039a74bd65ab3c05269"
       ],
       "layout": "IPY_MODEL_6baa3b03dd834295950b292a153710f6"
      }
     },
     "97d1d7f7ee584954ba8f9ec497b42844": {
      "model_module": "@jupyter-widgets/base",
      "model_module_version": "1.2.0",
      "model_name": "LayoutModel",
      "state": {}
     },
     "9a59522dc5a647cf9680d9d3c39dc3a8": {
      "model_module": "@jupyter-widgets/base",
      "model_module_version": "1.2.0",
      "model_name": "LayoutModel",
      "state": {}
     },
     "9aa49bdcc8174b16b0c8bbef17e4bf0c": {
      "model_module": "@jupyter-widgets/base",
      "model_module_version": "1.2.0",
      "model_name": "LayoutModel",
      "state": {
       "flex": "2"
      }
     },
     "9ab2857c182f4ba6b963cd0019d4a8fb": {
      "model_module": "@jupyter-widgets/controls",
      "model_module_version": "1.5.0",
      "model_name": "ProgressStyleModel",
      "state": {
       "description_width": "initial"
      }
     },
     "9b0a8e9b716d43df9efc62894c3be438": {
      "model_module": "@jupyter-widgets/base",
      "model_module_version": "1.2.0",
      "model_name": "LayoutModel",
      "state": {
       "display": "inline-flex",
       "flex_flow": "row wrap",
       "width": "100%"
      }
     },
     "9bc092557c4146dda870821ed674b624": {
      "model_module": "@jupyter-widgets/base",
      "model_module_version": "1.2.0",
      "model_name": "LayoutModel",
      "state": {
       "flex": "2"
      }
     },
     "9be7c13d142a430ba8f69348f7b4f18a": {
      "model_module": "@jupyter-widgets/base",
      "model_module_version": "1.2.0",
      "model_name": "LayoutModel",
      "state": {
       "flex": "2"
      }
     },
     "9ca4e29685ba46b99ea471326d959812": {
      "model_module": "@jupyter-widgets/base",
      "model_module_version": "1.2.0",
      "model_name": "LayoutModel",
      "state": {
       "flex": "2"
      }
     },
     "9d0f1954c05f41b0abaa8c8078f8ddb9": {
      "model_module": "@jupyter-widgets/controls",
      "model_module_version": "1.5.0",
      "model_name": "DescriptionStyleModel",
      "state": {
       "description_width": ""
      }
     },
     "9d6bd0ead6a947e4a717c527c8fa9903": {
      "model_module": "@jupyter-widgets/controls",
      "model_module_version": "1.5.0",
      "model_name": "HBoxModel",
      "state": {
       "children": [
        "IPY_MODEL_d009a3f244d5420891f314918ceab614",
        "IPY_MODEL_8e8039c484414c998641e588bac12f9a"
       ],
       "layout": "IPY_MODEL_196729d62b664e208022c40118329f23"
      }
     },
     "9d8ed6f2de334c4f8366f32b99116c44": {
      "model_module": "@jupyter-widgets/controls",
      "model_module_version": "1.5.0",
      "model_name": "ProgressStyleModel",
      "state": {
       "description_width": "initial"
      }
     },
     "9dd88831324d44339c24fd81811e501e": {
      "model_module": "@jupyter-widgets/controls",
      "model_module_version": "1.5.0",
      "model_name": "HTMLModel",
      "state": {
       "layout": "IPY_MODEL_5c4264b8f9c34babb46e06057f5915a0",
       "style": "IPY_MODEL_cf6d362887e84fac9701dd958a98230a",
       "value": " 101/101 [00:22&lt;00:00,  4.46it/s, loss=0.00275, v_num=55, val_loss_step=0.00364, val_loss_epoch=0.00364, train_loss_step=0.0026, train_loss_epoch=0.00652]"
      }
     },
     "9df1ce3508a142ae9ffd305da8b6881b": {
      "model_module": "@jupyter-widgets/controls",
      "model_module_version": "1.5.0",
      "model_name": "ProgressStyleModel",
      "state": {
       "description_width": "initial"
      }
     },
     "9eaba7cb7e4c46bc97f56a975e4a4593": {
      "model_module": "@jupyter-widgets/base",
      "model_module_version": "1.2.0",
      "model_name": "LayoutModel",
      "state": {
       "flex": "2"
      }
     },
     "a03bb575fa6e45baa7298f4e3c367833": {
      "model_module": "@jupyter-widgets/controls",
      "model_module_version": "1.5.0",
      "model_name": "ProgressStyleModel",
      "state": {
       "description_width": "initial"
      }
     },
     "a1f15474775e41f9add2e31d5bff9078": {
      "model_module": "@jupyter-widgets/controls",
      "model_module_version": "1.5.0",
      "model_name": "FloatProgressModel",
      "state": {
       "bar_style": "success",
       "description": "Testing: 100%",
       "layout": "IPY_MODEL_bbaf046eb6c94012919a75eddb160dd9",
       "max": 1,
       "style": "IPY_MODEL_7b7673fad4a844c99acbb41356791964",
       "value": 1
      }
     },
     "a34e655064e4491b824b4b3fac846be5": {
      "model_module": "@jupyter-widgets/controls",
      "model_module_version": "1.5.0",
      "model_name": "DescriptionStyleModel",
      "state": {
       "description_width": ""
      }
     },
     "a54387c88d284f78a2099ab0d4d7feff": {
      "model_module": "@jupyter-widgets/controls",
      "model_module_version": "1.5.0",
      "model_name": "ProgressStyleModel",
      "state": {
       "description_width": "initial"
      }
     },
     "a5750dbec09d420caaceb2ca67f0b74c": {
      "model_module": "@jupyter-widgets/controls",
      "model_module_version": "1.5.0",
      "model_name": "HBoxModel",
      "state": {
       "children": [
        "IPY_MODEL_86d29c613912466e8f15ff2a052ab2e0",
        "IPY_MODEL_20cccd2c4ada44bbbcc953ee80a44f45"
       ],
       "layout": "IPY_MODEL_854d7fdd2d86447a813451dbeb9803dc"
      }
     },
     "a59bbcbd8310401a8e74bfec6d177f15": {
      "model_module": "@jupyter-widgets/base",
      "model_module_version": "1.2.0",
      "model_name": "LayoutModel",
      "state": {}
     },
     "a6b35405326c4129bd89ed8f64fb84a4": {
      "model_module": "@jupyter-widgets/controls",
      "model_module_version": "1.5.0",
      "model_name": "HTMLModel",
      "state": {
       "layout": "IPY_MODEL_5f8e308e83454795a83e9ccd462e875d",
       "style": "IPY_MODEL_713b79ec476b46778c87bf8c908e6731",
       "value": " 1/1 [00:00&lt;00:00, 47.04it/s]"
      }
     },
     "a7339cbcce714d89aecf9506e3731680": {
      "model_module": "@jupyter-widgets/controls",
      "model_module_version": "1.5.0",
      "model_name": "ProgressStyleModel",
      "state": {
       "description_width": "initial"
      }
     },
     "a778835609054602a28c4bbf597b0901": {
      "model_module": "@jupyter-widgets/controls",
      "model_module_version": "1.5.0",
      "model_name": "ProgressStyleModel",
      "state": {
       "description_width": "initial"
      }
     },
     "a790c8ea792a4981a439660b5847909c": {
      "model_module": "@jupyter-widgets/controls",
      "model_module_version": "1.5.0",
      "model_name": "HBoxModel",
      "state": {
       "children": [
        "IPY_MODEL_2111364703594ae8baf69effca73a0ac",
        "IPY_MODEL_4f01f4f6b13b4d6d9e73de11e00fa8c2"
       ],
       "layout": "IPY_MODEL_44bebafdb2ff4e5f889faabe7494a654"
      }
     },
     "a83aa1f13b154d878897376e85362233": {
      "model_module": "@jupyter-widgets/controls",
      "model_module_version": "1.5.0",
      "model_name": "DescriptionStyleModel",
      "state": {
       "description_width": ""
      }
     },
     "a88a6ad8b4954b938361cc3f215e0dc1": {
      "model_module": "@jupyter-widgets/base",
      "model_module_version": "1.2.0",
      "model_name": "LayoutModel",
      "state": {}
     },
     "ab2da7680d5e41c2b63dbe9c4e7207fd": {
      "model_module": "@jupyter-widgets/controls",
      "model_module_version": "1.5.0",
      "model_name": "FloatProgressModel",
      "state": {
       "bar_style": "success",
       "description": "Epoch 0: 100%",
       "layout": "IPY_MODEL_9eaba7cb7e4c46bc97f56a975e4a4593",
       "max": 101,
       "style": "IPY_MODEL_d62f0ccd19294620b2aab5bd3e8f2d7d",
       "value": 101
      }
     },
     "ad06c669fb894674810f0be875d78d53": {
      "model_module": "@jupyter-widgets/base",
      "model_module_version": "1.2.0",
      "model_name": "LayoutModel",
      "state": {
       "flex": "2"
      }
     },
     "ad7876140dbb426fa78d7272f91eed15": {
      "model_module": "@jupyter-widgets/base",
      "model_module_version": "1.2.0",
      "model_name": "LayoutModel",
      "state": {
       "flex": "2"
      }
     },
     "ae1bfb05282d4297b7a6905d743467af": {
      "model_module": "@jupyter-widgets/controls",
      "model_module_version": "1.5.0",
      "model_name": "DescriptionStyleModel",
      "state": {
       "description_width": ""
      }
     },
     "aec55609432345439dfc3771a193d8b0": {
      "model_module": "@jupyter-widgets/base",
      "model_module_version": "1.2.0",
      "model_name": "LayoutModel",
      "state": {
       "display": "inline-flex",
       "flex_flow": "row wrap",
       "width": "100%"
      }
     },
     "b102dc891e114211ac5bf7637b92451f": {
      "model_module": "@jupyter-widgets/controls",
      "model_module_version": "1.5.0",
      "model_name": "ProgressStyleModel",
      "state": {
       "description_width": "initial"
      }
     },
     "b10fcf006eff4a3784a9bccde5b91dbd": {
      "model_module": "@jupyter-widgets/base",
      "model_module_version": "1.2.0",
      "model_name": "LayoutModel",
      "state": {
       "display": "inline-flex",
       "flex_flow": "row wrap",
       "width": "100%"
      }
     },
     "b2b6bddd5cab477ca8c00b56ad195d4b": {
      "model_module": "@jupyter-widgets/controls",
      "model_module_version": "1.5.0",
      "model_name": "DescriptionStyleModel",
      "state": {
       "description_width": ""
      }
     },
     "b2ee24cdbc524042a3562da068b338f9": {
      "model_module": "@jupyter-widgets/controls",
      "model_module_version": "1.5.0",
      "model_name": "HBoxModel",
      "state": {
       "children": [
        "IPY_MODEL_7f3ff854185a4f9b85442ba17e789c72",
        "IPY_MODEL_59c596e250b74c85ae725e3b0f4a352d"
       ],
       "layout": "IPY_MODEL_b309f7ffa4bc4e85aacaf319c4dd4994"
      }
     },
     "b309f7ffa4bc4e85aacaf319c4dd4994": {
      "model_module": "@jupyter-widgets/base",
      "model_module_version": "1.2.0",
      "model_name": "LayoutModel",
      "state": {
       "display": "inline-flex",
       "flex_flow": "row wrap",
       "width": "100%"
      }
     },
     "b3ceebc9d4de47e3b3f7ccd0987faafd": {
      "model_module": "@jupyter-widgets/controls",
      "model_module_version": "1.5.0",
      "model_name": "HTMLModel",
      "state": {
       "layout": "IPY_MODEL_fc2ba999246341e48631a3ee4a52b6bd",
       "style": "IPY_MODEL_c2c3cbe7b0e04fe09d1c437551ca9919",
       "value": " 1/1 [00:00&lt;00:00, 50.46it/s]"
      }
     },
     "b40b463f5d8843a89ab3e9ab6eda5425": {
      "model_module": "@jupyter-widgets/controls",
      "model_module_version": "1.5.0",
      "model_name": "DescriptionStyleModel",
      "state": {
       "description_width": ""
      }
     },
     "b45ba7d5a6a14352bcdf964c7f5e9d3e": {
      "model_module": "@jupyter-widgets/controls",
      "model_module_version": "1.5.0",
      "model_name": "DescriptionStyleModel",
      "state": {
       "description_width": ""
      }
     },
     "b8a071c275064d62bae25f349e80f635": {
      "model_module": "@jupyter-widgets/base",
      "model_module_version": "1.2.0",
      "model_name": "LayoutModel",
      "state": {}
     },
     "b8c702bee7d542848dec2dae8027ceca": {
      "model_module": "@jupyter-widgets/controls",
      "model_module_version": "1.5.0",
      "model_name": "ProgressStyleModel",
      "state": {
       "description_width": "initial"
      }
     },
     "ba6c1c803e9e41a2b0e5cf1e57e90cf2": {
      "model_module": "@jupyter-widgets/controls",
      "model_module_version": "1.5.0",
      "model_name": "ProgressStyleModel",
      "state": {
       "description_width": "initial"
      }
     },
     "ba7167d13d3b4db09b95246caf78ad4e": {
      "model_module": "@jupyter-widgets/base",
      "model_module_version": "1.2.0",
      "model_name": "LayoutModel",
      "state": {
       "display": "inline-flex",
       "flex_flow": "row wrap",
       "width": "100%"
      }
     },
     "bbaf046eb6c94012919a75eddb160dd9": {
      "model_module": "@jupyter-widgets/base",
      "model_module_version": "1.2.0",
      "model_name": "LayoutModel",
      "state": {
       "flex": "2"
      }
     },
     "bcff31b346cc49e99a947424f900328d": {
      "model_module": "@jupyter-widgets/controls",
      "model_module_version": "1.5.0",
      "model_name": "FloatProgressModel",
      "state": {
       "bar_style": "info",
       "description": "Validating: 100%",
       "layout": "IPY_MODEL_25978e6f743c40479d02d5a155c55885",
       "max": 1,
       "style": "IPY_MODEL_30e8194423ba4620a977970afa8c619a",
       "value": 1
      }
     },
     "bdf6d0028685493d9cd93d0f1d78d62c": {
      "model_module": "@jupyter-widgets/controls",
      "model_module_version": "1.5.0",
      "model_name": "DescriptionStyleModel",
      "state": {
       "description_width": ""
      }
     },
     "be647b6bdd7444798d24e708ba5c039b": {
      "model_module": "@jupyter-widgets/controls",
      "model_module_version": "1.5.0",
      "model_name": "DescriptionStyleModel",
      "state": {
       "description_width": ""
      }
     },
     "bf3b961f89f04039a74bd65ab3c05269": {
      "model_module": "@jupyter-widgets/controls",
      "model_module_version": "1.5.0",
      "model_name": "HTMLModel",
      "state": {
       "layout": "IPY_MODEL_7501b706a6a84b9db7f4018666be2ec3",
       "style": "IPY_MODEL_4db88e9d7a8b41429068abdff5c0392c",
       "value": " 101/101 [00:41&lt;00:00,  2.44it/s, loss=1.43, v_num=56, val_loss_step=1.380, val_loss_epoch=1.380, train_loss_step=1.390, train_loss_epoch=1.520]"
      }
     },
     "c00fba15c8b5406e99e6466b092fb511": {
      "model_module": "@jupyter-widgets/controls",
      "model_module_version": "1.5.0",
      "model_name": "HTMLModel",
      "state": {
       "layout": "IPY_MODEL_165a36b1a26b4416aa0ddf17795e4550",
       "style": "IPY_MODEL_8c4cc94c7c2f41969bfd49adc18c6270",
       "value": " 1/1 [00:00&lt;00:00, 56.36it/s]"
      }
     },
     "c1a2c622aea141ce9a939203b441b76f": {
      "model_module": "@jupyter-widgets/base",
      "model_module_version": "1.2.0",
      "model_name": "LayoutModel",
      "state": {}
     },
     "c2a05366c6344d97a735f4528431c7c6": {
      "model_module": "@jupyter-widgets/base",
      "model_module_version": "1.2.0",
      "model_name": "LayoutModel",
      "state": {
       "display": "inline-flex",
       "flex_flow": "row wrap",
       "width": "100%"
      }
     },
     "c2c3cbe7b0e04fe09d1c437551ca9919": {
      "model_module": "@jupyter-widgets/controls",
      "model_module_version": "1.5.0",
      "model_name": "DescriptionStyleModel",
      "state": {
       "description_width": ""
      }
     },
     "c50f48bee8e845e6ad0d12d363079f05": {
      "model_module": "@jupyter-widgets/controls",
      "model_module_version": "1.5.0",
      "model_name": "HTMLModel",
      "state": {
       "layout": "IPY_MODEL_a59bbcbd8310401a8e74bfec6d177f15",
       "style": "IPY_MODEL_a34e655064e4491b824b4b3fac846be5",
       "value": " 1/1 [00:00&lt;00:00, 42.07it/s]"
      }
     },
     "c56d190c5ff746deb18150a4dc27c2b4": {
      "model_module": "@jupyter-widgets/controls",
      "model_module_version": "1.5.0",
      "model_name": "FloatProgressModel",
      "state": {
       "bar_style": "info",
       "description": "Validating: 100%",
       "layout": "IPY_MODEL_f71be67a8d0748419c261ecca0e14277",
       "max": 1,
       "style": "IPY_MODEL_185fb7cae59f4a0b890107e2d5ffdee3",
       "value": 1
      }
     },
     "c767ffed87224a36845b56acca007c74": {
      "model_module": "@jupyter-widgets/controls",
      "model_module_version": "1.5.0",
      "model_name": "FloatProgressModel",
      "state": {
       "bar_style": "info",
       "description": "Validating: 100%",
       "layout": "IPY_MODEL_ad7876140dbb426fa78d7272f91eed15",
       "max": 1,
       "style": "IPY_MODEL_66c40789a77c497d9be18a1af5bf6829",
       "value": 1
      }
     },
     "c7bf07635b7843cd8f66408c2a2d1394": {
      "model_module": "@jupyter-widgets/controls",
      "model_module_version": "1.5.0",
      "model_name": "ProgressStyleModel",
      "state": {
       "description_width": "initial"
      }
     },
     "c85f278cf376450c9521dba2ab3a4e1b": {
      "model_module": "@jupyter-widgets/base",
      "model_module_version": "1.2.0",
      "model_name": "LayoutModel",
      "state": {
       "display": "inline-flex",
       "flex_flow": "row wrap",
       "width": "100%"
      }
     },
     "c900c652543040e1a7a5d8fd5e2cc8e0": {
      "model_module": "@jupyter-widgets/controls",
      "model_module_version": "1.5.0",
      "model_name": "DescriptionStyleModel",
      "state": {
       "description_width": ""
      }
     },
     "c93c3d499c97444492917ffe729a3176": {
      "model_module": "@jupyter-widgets/controls",
      "model_module_version": "1.5.0",
      "model_name": "DescriptionStyleModel",
      "state": {
       "description_width": ""
      }
     },
     "cb0900b0042f4c2f988cd3d37db2418e": {
      "model_module": "@jupyter-widgets/controls",
      "model_module_version": "1.5.0",
      "model_name": "DescriptionStyleModel",
      "state": {
       "description_width": ""
      }
     },
     "cb38632ae3a144bbb1e35ef2256e94cb": {
      "model_module": "@jupyter-widgets/controls",
      "model_module_version": "1.5.0",
      "model_name": "HTMLModel",
      "state": {
       "layout": "IPY_MODEL_2a16742076094c09b157de7a842154fb",
       "style": "IPY_MODEL_cb6d006a7f6f4c29b9ea37c4296d27c0",
       "value": " 1/1 [00:00&lt;00:00, 49.02it/s]"
      }
     },
     "cb65a56fd25f4adca28d6828a252ac84": {
      "model_module": "@jupyter-widgets/controls",
      "model_module_version": "1.5.0",
      "model_name": "HTMLModel",
      "state": {
       "layout": "IPY_MODEL_53daba5539834ab380c68226cb51f04b",
       "style": "IPY_MODEL_366001e8e71142449911ac620b23dbcb",
       "value": " 1/1 [00:00&lt;00:00, 28.75it/s]"
      }
     },
     "cb6d006a7f6f4c29b9ea37c4296d27c0": {
      "model_module": "@jupyter-widgets/controls",
      "model_module_version": "1.5.0",
      "model_name": "DescriptionStyleModel",
      "state": {
       "description_width": ""
      }
     },
     "ccaf35775fa24d5990b6e20ecdb4da8b": {
      "model_module": "@jupyter-widgets/controls",
      "model_module_version": "1.5.0",
      "model_name": "DescriptionStyleModel",
      "state": {
       "description_width": ""
      }
     },
     "cf6d362887e84fac9701dd958a98230a": {
      "model_module": "@jupyter-widgets/controls",
      "model_module_version": "1.5.0",
      "model_name": "DescriptionStyleModel",
      "state": {
       "description_width": ""
      }
     },
     "d009a3f244d5420891f314918ceab614": {
      "model_module": "@jupyter-widgets/controls",
      "model_module_version": "1.5.0",
      "model_name": "FloatProgressModel",
      "state": {
       "bar_style": "success",
       "description": "Testing: 100%",
       "layout": "IPY_MODEL_4ca9677af00d4df08f56fbe225e37452",
       "max": 1,
       "style": "IPY_MODEL_15bb60cac730494ca1ba61943cfeaf30",
       "value": 1
      }
     },
     "d097c843d3c34244abd0a1bc7bc2dbb9": {
      "model_module": "@jupyter-widgets/controls",
      "model_module_version": "1.5.0",
      "model_name": "ProgressStyleModel",
      "state": {
       "description_width": "initial"
      }
     },
     "d1eb53babe124867ac6ff2a98ee32891": {
      "model_module": "@jupyter-widgets/controls",
      "model_module_version": "1.5.0",
      "model_name": "DescriptionStyleModel",
      "state": {
       "description_width": ""
      }
     },
     "d21c528844fd480fa4f43c308d1c2e1d": {
      "model_module": "@jupyter-widgets/base",
      "model_module_version": "1.2.0",
      "model_name": "LayoutModel",
      "state": {}
     },
     "d3992ef8d1804bb0a6032246ba698b83": {
      "model_module": "@jupyter-widgets/base",
      "model_module_version": "1.2.0",
      "model_name": "LayoutModel",
      "state": {
       "display": "inline-flex",
       "flex_flow": "row wrap",
       "width": "100%"
      }
     },
     "d437e5bf8ae949bbb4dbea8f393f711c": {
      "model_module": "@jupyter-widgets/base",
      "model_module_version": "1.2.0",
      "model_name": "LayoutModel",
      "state": {}
     },
     "d43c8a6a2d9847c6a13778c8265a3037": {
      "model_module": "@jupyter-widgets/controls",
      "model_module_version": "1.5.0",
      "model_name": "FloatProgressModel",
      "state": {
       "bar_style": "info",
       "description": "Validating: 100%",
       "layout": "IPY_MODEL_41687017647446339bca960de88a82f1",
       "max": 1,
       "style": "IPY_MODEL_0003d6a455014136b221f95ea78e45d3",
       "value": 1
      }
     },
     "d527c6a3b7cd4d278375aa98dcbee7f1": {
      "model_module": "@jupyter-widgets/base",
      "model_module_version": "1.2.0",
      "model_name": "LayoutModel",
      "state": {}
     },
     "d625fd2a583a45f08b10969a34824a05": {
      "model_module": "@jupyter-widgets/controls",
      "model_module_version": "1.5.0",
      "model_name": "ProgressStyleModel",
      "state": {
       "description_width": "initial"
      }
     },
     "d62f0ccd19294620b2aab5bd3e8f2d7d": {
      "model_module": "@jupyter-widgets/controls",
      "model_module_version": "1.5.0",
      "model_name": "ProgressStyleModel",
      "state": {
       "description_width": "initial"
      }
     },
     "d6bce9912c10427688627643748dd332": {
      "model_module": "@jupyter-widgets/base",
      "model_module_version": "1.2.0",
      "model_name": "LayoutModel",
      "state": {}
     },
     "d81c19e03f7c426cb9a391e62286c158": {
      "model_module": "@jupyter-widgets/base",
      "model_module_version": "1.2.0",
      "model_name": "LayoutModel",
      "state": {
       "display": "inline-flex",
       "flex_flow": "row wrap",
       "width": "100%"
      }
     },
     "d991e20d73844fdea97c020d1d75390d": {
      "model_module": "@jupyter-widgets/base",
      "model_module_version": "1.2.0",
      "model_name": "LayoutModel",
      "state": {
       "display": "inline-flex",
       "flex_flow": "row wrap",
       "width": "100%"
      }
     },
     "daf3794f2ba14ee2936daeeb23aefc57": {
      "model_module": "@jupyter-widgets/base",
      "model_module_version": "1.2.0",
      "model_name": "LayoutModel",
      "state": {}
     },
     "dc2e5245349f4b8aa93adb1aadd1f9c4": {
      "model_module": "@jupyter-widgets/base",
      "model_module_version": "1.2.0",
      "model_name": "LayoutModel",
      "state": {
       "display": "inline-flex",
       "flex_flow": "row wrap",
       "width": "100%"
      }
     },
     "dddbe18d165d4f90a155d363408a3476": {
      "model_module": "@jupyter-widgets/controls",
      "model_module_version": "1.5.0",
      "model_name": "FloatProgressModel",
      "state": {
       "bar_style": "info",
       "description": "Validation sanity check: 100%",
       "layout": "IPY_MODEL_14778f298a9b4896be8420c3ab156018",
       "max": 1,
       "style": "IPY_MODEL_9df1ce3508a142ae9ffd305da8b6881b",
       "value": 1
      }
     },
     "de72a7e169104c519316ebc628f54de3": {
      "model_module": "@jupyter-widgets/controls",
      "model_module_version": "1.5.0",
      "model_name": "FloatProgressModel",
      "state": {
       "bar_style": "info",
       "description": "Validation sanity check: 100%",
       "layout": "IPY_MODEL_3af9be13724f411eb418c54ead642207",
       "max": 1,
       "style": "IPY_MODEL_42566d4ebc724601abd82383af2f449d",
       "value": 1
      }
     },
     "de74af99ff004988a8b1a62ac4cb350a": {
      "model_module": "@jupyter-widgets/controls",
      "model_module_version": "1.5.0",
      "model_name": "DescriptionStyleModel",
      "state": {
       "description_width": ""
      }
     },
     "df40edd0e29e41ab85b1011c1349fb79": {
      "model_module": "@jupyter-widgets/controls",
      "model_module_version": "1.5.0",
      "model_name": "FloatProgressModel",
      "state": {
       "bar_style": "success",
       "description": "Epoch 0: 100%",
       "layout": "IPY_MODEL_fbc19bb084144b18a444ba8b3e2daa4d",
       "max": 101,
       "style": "IPY_MODEL_d097c843d3c34244abd0a1bc7bc2dbb9",
       "value": 101
      }
     },
     "df63a7f01c414c3e8c040f2f99f78488": {
      "model_module": "@jupyter-widgets/base",
      "model_module_version": "1.2.0",
      "model_name": "LayoutModel",
      "state": {
       "flex": "2"
      }
     },
     "df7570e474e2473c82b7bedf44073b01": {
      "model_module": "@jupyter-widgets/base",
      "model_module_version": "1.2.0",
      "model_name": "LayoutModel",
      "state": {
       "flex": "2"
      }
     },
     "e2ade3f3e482487d9c238bda6213a97e": {
      "model_module": "@jupyter-widgets/controls",
      "model_module_version": "1.5.0",
      "model_name": "HTMLModel",
      "state": {
       "layout": "IPY_MODEL_0e103b21adcb47de8706c55daba54c2a",
       "style": "IPY_MODEL_b45ba7d5a6a14352bcdf964c7f5e9d3e",
       "value": " 1/1 [00:00&lt;00:00, 41.49it/s]"
      }
     },
     "e367725a2b774e28bd950338362884b1": {
      "model_module": "@jupyter-widgets/controls",
      "model_module_version": "1.5.0",
      "model_name": "ProgressStyleModel",
      "state": {
       "description_width": "initial"
      }
     },
     "e571676463e94c75987b912b6c33a029": {
      "model_module": "@jupyter-widgets/controls",
      "model_module_version": "1.5.0",
      "model_name": "ProgressStyleModel",
      "state": {
       "description_width": "initial"
      }
     },
     "e615169d0f0f4b70b229cb671292573d": {
      "model_module": "@jupyter-widgets/base",
      "model_module_version": "1.2.0",
      "model_name": "LayoutModel",
      "state": {
       "display": "inline-flex",
       "flex_flow": "row wrap",
       "width": "100%"
      }
     },
     "e747edb1d8be4d86901867d957d55ede": {
      "model_module": "@jupyter-widgets/base",
      "model_module_version": "1.2.0",
      "model_name": "LayoutModel",
      "state": {
       "flex": "2"
      }
     },
     "ec8d8e71d33745d7b07d30ef92f752d9": {
      "model_module": "@jupyter-widgets/base",
      "model_module_version": "1.2.0",
      "model_name": "LayoutModel",
      "state": {
       "flex": "2"
      }
     },
     "ee3f6bc19d6c4fc69d7adaea06b148b1": {
      "model_module": "@jupyter-widgets/base",
      "model_module_version": "1.2.0",
      "model_name": "LayoutModel",
      "state": {
       "display": "inline-flex",
       "flex_flow": "row wrap",
       "width": "100%"
      }
     },
     "ee8542b33c564aef992436086251541a": {
      "model_module": "@jupyter-widgets/base",
      "model_module_version": "1.2.0",
      "model_name": "LayoutModel",
      "state": {}
     },
     "efa72b34e3b44201b8125f8568c0a39f": {
      "model_module": "@jupyter-widgets/controls",
      "model_module_version": "1.5.0",
      "model_name": "HTMLModel",
      "state": {
       "layout": "IPY_MODEL_2ed17e96c9884f33b92c4fa2a8e81fc9",
       "style": "IPY_MODEL_bdf6d0028685493d9cd93d0f1d78d62c",
       "value": " 1/1 [00:00&lt;00:00, 55.04it/s]"
      }
     },
     "f0743bc089b14747b09f9c7d94fcdf64": {
      "model_module": "@jupyter-widgets/base",
      "model_module_version": "1.2.0",
      "model_name": "LayoutModel",
      "state": {
       "display": "inline-flex",
       "flex_flow": "row wrap",
       "width": "100%"
      }
     },
     "f2244a41d0df49f88827c4a0b5dec090": {
      "model_module": "@jupyter-widgets/controls",
      "model_module_version": "1.5.0",
      "model_name": "ProgressStyleModel",
      "state": {
       "description_width": "initial"
      }
     },
     "f2943de4960a4106abeac6e8f41161b8": {
      "model_module": "@jupyter-widgets/controls",
      "model_module_version": "1.5.0",
      "model_name": "ProgressStyleModel",
      "state": {
       "description_width": "initial"
      }
     },
     "f2a89764ca8a409faf3ecad116ad5598": {
      "model_module": "@jupyter-widgets/base",
      "model_module_version": "1.2.0",
      "model_name": "LayoutModel",
      "state": {
       "flex": "2"
      }
     },
     "f2bfd40eeece4fb38c443b04b34b8b60": {
      "model_module": "@jupyter-widgets/controls",
      "model_module_version": "1.5.0",
      "model_name": "HTMLModel",
      "state": {
       "layout": "IPY_MODEL_c1a2c622aea141ce9a939203b441b76f",
       "style": "IPY_MODEL_11b14c9878dd4a4aa10d5bbdb5699b5e",
       "value": " 101/101 [00:22&lt;00:00,  4.46it/s, loss=1.33, v_num=54, val_loss_step=1.330, val_loss_epoch=1.330, train_loss_step=1.320, train_loss_epoch=1.410]"
      }
     },
     "f6912a5b7ae745c5ad00885d0f4c9af6": {
      "model_module": "@jupyter-widgets/base",
      "model_module_version": "1.2.0",
      "model_name": "LayoutModel",
      "state": {
       "display": "inline-flex",
       "flex_flow": "row wrap",
       "width": "100%"
      }
     },
     "f71be67a8d0748419c261ecca0e14277": {
      "model_module": "@jupyter-widgets/base",
      "model_module_version": "1.2.0",
      "model_name": "LayoutModel",
      "state": {
       "flex": "2"
      }
     },
     "f7530bbf16754a149298e4bf9baa0cb4": {
      "model_module": "@jupyter-widgets/controls",
      "model_module_version": "1.5.0",
      "model_name": "FloatProgressModel",
      "state": {
       "bar_style": "info",
       "description": "Validating: 100%",
       "layout": "IPY_MODEL_face7929c5e3479993c12c5d393a8a69",
       "max": 1,
       "style": "IPY_MODEL_a03bb575fa6e45baa7298f4e3c367833",
       "value": 1
      }
     },
     "f778307e3ace42759a95dce8693fbfbf": {
      "model_module": "@jupyter-widgets/controls",
      "model_module_version": "1.5.0",
      "model_name": "HTMLModel",
      "state": {
       "layout": "IPY_MODEL_ee8542b33c564aef992436086251541a",
       "style": "IPY_MODEL_de74af99ff004988a8b1a62ac4cb350a",
       "value": " 1/1 [00:00&lt;00:00, 18.10it/s]"
      }
     },
     "f831543dce424746881e8dc87f761c4c": {
      "model_module": "@jupyter-widgets/base",
      "model_module_version": "1.2.0",
      "model_name": "LayoutModel",
      "state": {
       "flex": "2"
      }
     },
     "f956cb035b98444c97f7d51b5d33a3d4": {
      "model_module": "@jupyter-widgets/base",
      "model_module_version": "1.2.0",
      "model_name": "LayoutModel",
      "state": {}
     },
     "f9d3c937f4194ada8e6ddf9092b4759f": {
      "model_module": "@jupyter-widgets/base",
      "model_module_version": "1.2.0",
      "model_name": "LayoutModel",
      "state": {
       "display": "inline-flex",
       "flex_flow": "row wrap",
       "width": "100%"
      }
     },
     "fa7fda5091c44017bfb159bfb37b90df": {
      "model_module": "@jupyter-widgets/controls",
      "model_module_version": "1.5.0",
      "model_name": "HTMLModel",
      "state": {
       "layout": "IPY_MODEL_97d1d7f7ee584954ba8f9ec497b42844",
       "style": "IPY_MODEL_ae1bfb05282d4297b7a6905d743467af",
       "value": " 1/1 [00:00&lt;00:00, 15.10it/s]"
      }
     },
     "face7929c5e3479993c12c5d393a8a69": {
      "model_module": "@jupyter-widgets/base",
      "model_module_version": "1.2.0",
      "model_name": "LayoutModel",
      "state": {
       "flex": "2"
      }
     },
     "fbc19bb084144b18a444ba8b3e2daa4d": {
      "model_module": "@jupyter-widgets/base",
      "model_module_version": "1.2.0",
      "model_name": "LayoutModel",
      "state": {
       "flex": "2"
      }
     },
     "fc068e52e95940b38f6db68b89525bee": {
      "model_module": "@jupyter-widgets/base",
      "model_module_version": "1.2.0",
      "model_name": "LayoutModel",
      "state": {
       "flex": "2"
      }
     },
     "fc2ba999246341e48631a3ee4a52b6bd": {
      "model_module": "@jupyter-widgets/base",
      "model_module_version": "1.2.0",
      "model_name": "LayoutModel",
      "state": {}
     },
     "fcacd651cb18413db119d71c8af3a172": {
      "model_module": "@jupyter-widgets/controls",
      "model_module_version": "1.5.0",
      "model_name": "HTMLModel",
      "state": {
       "layout": "IPY_MODEL_f956cb035b98444c97f7d51b5d33a3d4",
       "style": "IPY_MODEL_b40b463f5d8843a89ab3e9ab6eda5425",
       "value": " 1/1 [00:00&lt;00:00, 31.17it/s]"
      }
     },
     "fcde15b405a0497f8da44c81008e86f7": {
      "model_module": "@jupyter-widgets/controls",
      "model_module_version": "1.5.0",
      "model_name": "HTMLModel",
      "state": {
       "layout": "IPY_MODEL_4d26f45502ac4085adab2825b21493d5",
       "style": "IPY_MODEL_d1eb53babe124867ac6ff2a98ee32891",
       "value": " 1/1 [00:00&lt;00:00, 48.53it/s]"
      }
     },
     "fe3201acc1594c74ad91536af0985233": {
      "model_module": "@jupyter-widgets/controls",
      "model_module_version": "1.5.0",
      "model_name": "FloatProgressModel",
      "state": {
       "bar_style": "info",
       "description": "Validating: 100%",
       "layout": "IPY_MODEL_ad06c669fb894674810f0be875d78d53",
       "max": 1,
       "style": "IPY_MODEL_ba6c1c803e9e41a2b0e5cf1e57e90cf2",
       "value": 1
      }
     },
     "fe76197978664c9f9407faf7765dd9c3": {
      "model_module": "@jupyter-widgets/controls",
      "model_module_version": "1.5.0",
      "model_name": "HTMLModel",
      "state": {
       "layout": "IPY_MODEL_7c2578394a04417d8bfa48a71db700cb",
       "style": "IPY_MODEL_c900c652543040e1a7a5d8fd5e2cc8e0",
       "value": " 1/1 [00:00&lt;00:00, 44.82it/s]"
      }
     },
     "ff59fb2ef570430797df2cb716af1e64": {
      "model_module": "@jupyter-widgets/controls",
      "model_module_version": "1.5.0",
      "model_name": "FloatProgressModel",
      "state": {
       "bar_style": "info",
       "description": "Validating: 100%",
       "layout": "IPY_MODEL_7326e354729a433aa1457a65c9ed6eb7",
       "max": 1,
       "style": "IPY_MODEL_b102dc891e114211ac5bf7637b92451f",
       "value": 1
      }
     },
     "ff88b32ad418477aa42e4d020479c67b": {
      "model_module": "@jupyter-widgets/controls",
      "model_module_version": "1.5.0",
      "model_name": "FloatProgressModel",
      "state": {
       "bar_style": "info",
       "description": "Validating: 100%",
       "layout": "IPY_MODEL_ec8d8e71d33745d7b07d30ef92f752d9",
       "max": 1,
       "style": "IPY_MODEL_a7339cbcce714d89aecf9506e3731680",
       "value": 1
      }
     },
     "ffc6aa6e0a2846f9a27d3a8da0a25d2f": {
      "model_module": "@jupyter-widgets/controls",
      "model_module_version": "1.5.0",
      "model_name": "HTMLModel",
      "state": {
       "layout": "IPY_MODEL_a88a6ad8b4954b938361cc3f215e0dc1",
       "style": "IPY_MODEL_b2b6bddd5cab477ca8c00b56ad195d4b",
       "value": " 1/1 [00:00&lt;00:00, 53.58it/s]"
      }
     }
    },
    "version_major": 2,
    "version_minor": 0
   }
  }
 },
 "nbformat": 4,
 "nbformat_minor": 5
}
