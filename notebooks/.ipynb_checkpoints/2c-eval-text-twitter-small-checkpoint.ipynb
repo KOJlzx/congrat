{
 "cells": [
  {
   "cell_type": "code",
   "execution_count": null,
   "id": "1b3c874e-9130-4c4a-b46a-bd5d4aa53a67",
   "metadata": {
    "tags": []
   },
   "outputs": [],
   "source": [
    "import os\n",
    "import json\n",
    "\n",
    "import numpy as np\n",
    "import pandas as pd\n",
    "import scipy.stats as ss\n",
    "\n",
    "import torch\n",
    "import torch.nn as nn\n",
    "import torch.nn.functional as F\n",
    "import pytorch_lightning as pl\n",
    "\n",
    "import transformers as tf\n",
    "import datasets as ds\n",
    "from datasets import load_metric\n",
    "\n",
    "import matplotlib as mp\n",
    "%matplotlib inline\n",
    "import matplotlib.pyplot as plt\n",
    "\n",
    "from tqdm.notebook import tqdm, trange\n",
    "\n",
    "import clip_graph as cg"
   ]
  },
  {
   "cell_type": "code",
   "execution_count": null,
   "id": "a107a912-4c1c-4a3a-bced-1ab02b5cc48a",
   "metadata": {
    "tags": []
   },
   "outputs": [],
   "source": [
    "os.chdir(os.path.expanduser('~/github/congrat'))"
   ]
  },
  {
   "cell_type": "code",
   "execution_count": null,
   "id": "b5460a31-0d54-42ca-bd40-974165a25097",
   "metadata": {
    "tags": []
   },
   "outputs": [],
   "source": [
    "device = 'cuda:3'"
   ]
  },
  {
   "cell_type": "code",
   "execution_count": null,
   "id": "008d5219-357b-4f31-ac22-d509c7b257d5",
   "metadata": {
    "tags": []
   },
   "outputs": [],
   "source": [
    "seed = 2969591811\n",
    "pl.seed_everything(seed)"
   ]
  },
  {
   "cell_type": "markdown",
   "id": "8537acaa-fabe-484a-a8c1-0c2ed6662bb6",
   "metadata": {},
   "source": [
    "# Utils"
   ]
  },
  {
   "cell_type": "code",
   "execution_count": null,
   "id": "61e73faa-531f-4270-bec2-f4bc78c9c99d",
   "metadata": {
    "tags": []
   },
   "outputs": [],
   "source": [
    "def perplexity(model, ldr, max_batches=None, device=None):\n",
    "    ppls = []\n",
    "    \n",
    "    for i, batch in enumerate(tqdm(ldr, total=max_batches)):\n",
    "        if max_batches is not None and i >= max_batches:\n",
    "            break\n",
    "        \n",
    "        input_ids = batch['input_ids']\n",
    "        attn_mask = batch['attention_mask']\n",
    "        labels = batch['labels']\n",
    "        \n",
    "        if device is not None:\n",
    "            input_ids = input_ids.to(device)\n",
    "            attn_mask = attn_mask.to(device)\n",
    "            labels = labels.to(device)\n",
    "        \n",
    "        with torch.no_grad():\n",
    "            logits = model(\n",
    "                input_ids=input_ids,\n",
    "                attention_mask=attn_mask\n",
    "            ).logits\n",
    "        \n",
    "        ppl = F.cross_entropy(logits.transpose(1, 2), labels, reduction='none')\n",
    "        ppl = (ppl * attn_mask).sum(dim=1) / attn_mask.sum(dim=1)\n",
    "        ppl = torch.exp2(ppl)\n",
    "        \n",
    "        ppls += ppl.tolist()\n",
    "    \n",
    "    return ppls"
   ]
  },
  {
   "cell_type": "markdown",
   "id": "98d7e81a-d6e6-48bc-818f-0cb7788b665f",
   "metadata": {
    "tags": []
   },
   "source": [
    "# Load"
   ]
  },
  {
   "cell_type": "code",
   "execution_count": null,
   "id": "233b5b79-9d36-4205-8a24-a29bcf1e3aed",
   "metadata": {},
   "outputs": [],
   "source": [
    "dataset = 'twitter-small'"
   ]
  },
  {
   "cell_type": "code",
   "execution_count": null,
   "id": "834810ee-20e7-4f1f-ada1-b40f5c5bb73e",
   "metadata": {
    "tags": []
   },
   "outputs": [],
   "source": [
    "eval_causal_dm = cg.utils.datamodule_from_yaml(f'configs/eval-datasets/{dataset}/causal.yaml')['dm']\n",
    "\n",
    "ds = eval_causal_dm.test_dataset.dataset"
   ]
  },
  {
   "cell_type": "code",
   "execution_count": null,
   "id": "cd9393a5-e394-446f-a382-d1344056a1a7",
   "metadata": {},
   "outputs": [],
   "source": [
    "ckpt_dir = f'lightning_logs/lm-pretrain/{dataset}/causal/version_1'\n",
    "lm_model = cg.scoring.interpret_ckpt_dir(ckpt_dir, eval_causal_dm)['model'].model.model\n",
    "lm_model = lm_model.to(device)\n",
    "\n",
    "ckpt_dir = f'lightning_logs/clip-graph/causal-lm-train/{dataset}/extra-epoch/version_0/'\n",
    "cg_model = cg.scoring.interpret_ckpt_dir(ckpt_dir, eval_causal_dm)['model'].model\n",
    "cg_model = cg_model.to(device)\n",
    "\n",
    "assert cg_model.config.n_embd == lm_model.config.n_embd\n",
    "assert cg_model.config.vocab_size == lm_model.config.vocab_size"
   ]
  },
  {
   "cell_type": "markdown",
   "id": "648b0d6f-c26f-4630-8cba-6a93a6869344",
   "metadata": {},
   "source": [
    "# lm-pretrain model"
   ]
  },
  {
   "cell_type": "code",
   "execution_count": null,
   "id": "d380984c-8bda-401d-8746-80756a15b0e9",
   "metadata": {},
   "outputs": [],
   "source": [
    "ldr = torch.utils.data.DataLoader(ds, collate_fn=ds.__collate__, batch_size=8)\n",
    "lm_ppls = perplexity(lm_model, ldr, device=device)\n",
    "lm_ppls = pd.Series(lm_ppls)"
   ]
  },
  {
   "cell_type": "code",
   "execution_count": null,
   "id": "b0d34f7b-9067-4e78-8465-f8d05071a606",
   "metadata": {},
   "outputs": [],
   "source": [
    "lm_ppls.describe()"
   ]
  },
  {
   "cell_type": "code",
   "execution_count": null,
   "id": "a0e23873-aede-4263-b6ff-204cecfab3c1",
   "metadata": {},
   "outputs": [],
   "source": [
    "lm_ppls.hist(log=True)"
   ]
  },
  {
   "cell_type": "markdown",
   "id": "1293ee4e-7c06-4dc0-8474-090cc0737b58",
   "metadata": {},
   "source": [
    "# clip-graph model"
   ]
  },
  {
   "cell_type": "code",
   "execution_count": null,
   "id": "fdbb8f30-eddf-4e4b-a43a-d0b04684d905",
   "metadata": {
    "tags": []
   },
   "outputs": [],
   "source": [
    "ldr = torch.utils.data.DataLoader(ds, collate_fn=ds.__collate__, batch_size=8)\n",
    "cg_ppls = perplexity(cg_model, ldr, device=device)\n",
    "cg_ppls = pd.Series(cg_ppls)"
   ]
  },
  {
   "cell_type": "code",
   "execution_count": null,
   "id": "244b3e5a-7486-409b-9f93-d89eaaf0e965",
   "metadata": {},
   "outputs": [],
   "source": [
    "cg_ppls.describe()"
   ]
  },
  {
   "cell_type": "code",
   "execution_count": null,
   "id": "351108bd-b995-475b-af34-f6d886674bc2",
   "metadata": {
    "tags": []
   },
   "outputs": [],
   "source": [
    "cg_ppls.hist(log=True)"
   ]
  },
  {
   "cell_type": "markdown",
   "id": "76ae4c1f-ff39-4757-bda4-cd5234d6567d",
   "metadata": {},
   "source": [
    "# Test difference"
   ]
  },
  {
   "cell_type": "code",
   "execution_count": null,
   "id": "51933b41-31f4-41f4-9d57-b9df6893f26b",
   "metadata": {},
   "outputs": [],
   "source": [
    "dat = lm_ppls.to_numpy()[None, :]\n",
    "\n",
    "res = ss.bootstrap(\n",
    "    dat,\n",
    "    np.mean,\n",
    "    n_resamples=10000,\n",
    "    \n",
    "    # ss.bootstrap computes two-tailed intervals,\n",
    "    # we want a one-tailed test\n",
    "    confidence_level = 1 - 0.05 * 2,\n",
    ")\n",
    "\n",
    "display(\n",
    "    lm_ppls.mean(),\n",
    "    cg_ppls.mean(),\n",
    "    res.confidence_interval,\n",
    "    (cg_ppls.mean() > res.confidence_interval.high or cg_ppls.mean() < res.confidence_interval.low)\n",
    ")"
   ]
  },
  {
   "cell_type": "code",
   "execution_count": null,
   "id": "a9aaf205-532c-4f21-897c-f56b8ce88f0a",
   "metadata": {},
   "outputs": [],
   "source": []
  }
 ],
 "metadata": {
  "kernelspec": {
   "display_name": "Python 3 (ipykernel)",
   "language": "python",
   "name": "python3"
  },
  "language_info": {
   "codemirror_mode": {
    "name": "ipython",
    "version": 3
   },
   "file_extension": ".py",
   "mimetype": "text/x-python",
   "name": "python",
   "nbconvert_exporter": "python",
   "pygments_lexer": "ipython3",
   "version": "3.9.13"
  },
  "widgets": {
   "application/vnd.jupyter.widget-state+json": {
    "state": {
     "06ef3273f0334f7b915b607809186ad5": {
      "model_module": "@jupyter-widgets/base",
      "model_module_version": "2.0.0",
      "model_name": "LayoutModel",
      "state": {}
     },
     "2378a8308ede4905ba04bec209cfd782": {
      "model_module": "@jupyter-widgets/controls",
      "model_module_version": "2.0.0",
      "model_name": "FloatProgressModel",
      "state": {
       "bar_style": "success",
       "layout": "IPY_MODEL_60ed6d5040364625ad22f587a306fc42",
       "max": 4200,
       "style": "IPY_MODEL_4ba1e7e36cca44fdb5d6ad80a446cfc8",
       "value": 4200
      }
     },
     "3bc4819f87504770a867bf0134c0ac1f": {
      "model_module": "@jupyter-widgets/controls",
      "model_module_version": "2.0.0",
      "model_name": "HTMLModel",
      "state": {
       "layout": "IPY_MODEL_06ef3273f0334f7b915b607809186ad5",
       "style": "IPY_MODEL_8d364f8b70634727a38fef039d30a14b",
       "value": "100%"
      }
     },
     "49c2025cdf3144c4bd0720e98bb765c5": {
      "model_module": "@jupyter-widgets/controls",
      "model_module_version": "2.0.0",
      "model_name": "ProgressStyleModel",
      "state": {
       "description_width": ""
      }
     },
     "4ba1e7e36cca44fdb5d6ad80a446cfc8": {
      "model_module": "@jupyter-widgets/controls",
      "model_module_version": "2.0.0",
      "model_name": "ProgressStyleModel",
      "state": {
       "description_width": ""
      }
     },
     "60ed6d5040364625ad22f587a306fc42": {
      "model_module": "@jupyter-widgets/base",
      "model_module_version": "2.0.0",
      "model_name": "LayoutModel",
      "state": {}
     },
     "854eb5f09887491cb536d401ebb0146c": {
      "model_module": "@jupyter-widgets/controls",
      "model_module_version": "2.0.0",
      "model_name": "FloatProgressModel",
      "state": {
       "bar_style": "success",
       "layout": "IPY_MODEL_87e76a8bfc4443c8b3a689836d5b5efc",
       "max": 4200,
       "style": "IPY_MODEL_49c2025cdf3144c4bd0720e98bb765c5",
       "value": 4200
      }
     },
     "87e76a8bfc4443c8b3a689836d5b5efc": {
      "model_module": "@jupyter-widgets/base",
      "model_module_version": "2.0.0",
      "model_name": "LayoutModel",
      "state": {}
     },
     "8d364f8b70634727a38fef039d30a14b": {
      "model_module": "@jupyter-widgets/controls",
      "model_module_version": "2.0.0",
      "model_name": "HTMLStyleModel",
      "state": {
       "description_width": "",
       "font_size": null,
       "text_color": null
      }
     },
     "971f98c8270d4a889694816cbaa730d4": {
      "model_module": "@jupyter-widgets/controls",
      "model_module_version": "2.0.0",
      "model_name": "HTMLStyleModel",
      "state": {
       "description_width": "",
       "font_size": null,
       "text_color": null
      }
     },
     "9e527aae815e4ce9a90c50217b26ab4d": {
      "model_module": "@jupyter-widgets/controls",
      "model_module_version": "2.0.0",
      "model_name": "HTMLStyleModel",
      "state": {
       "description_width": "",
       "font_size": null,
       "text_color": null
      }
     },
     "a3dfe933b0184133be0bc6932348c776": {
      "model_module": "@jupyter-widgets/controls",
      "model_module_version": "2.0.0",
      "model_name": "HBoxModel",
      "state": {
       "children": [
        "IPY_MODEL_3bc4819f87504770a867bf0134c0ac1f",
        "IPY_MODEL_2378a8308ede4905ba04bec209cfd782",
        "IPY_MODEL_d88b30b2a2b74d26af0078ae669e6a0d"
       ],
       "layout": "IPY_MODEL_e934d0f21ad441cfb41fe87fd02516dd"
      }
     },
     "ac7007eb6ee34244847c67538ed9a8b9": {
      "model_module": "@jupyter-widgets/controls",
      "model_module_version": "2.0.0",
      "model_name": "HBoxModel",
      "state": {
       "children": [
        "IPY_MODEL_ee41e546bed64848843d8f8110c5c3e1",
        "IPY_MODEL_854eb5f09887491cb536d401ebb0146c",
        "IPY_MODEL_b9b7dcb2dbea42269491198dd1f41d26"
       ],
       "layout": "IPY_MODEL_c211f255f09d421dbc95421fcc5d38bc"
      }
     },
     "b9b7dcb2dbea42269491198dd1f41d26": {
      "model_module": "@jupyter-widgets/controls",
      "model_module_version": "2.0.0",
      "model_name": "HTMLModel",
      "state": {
       "layout": "IPY_MODEL_ed74ce503e5d4dfb97663fc2f1de18d3",
       "style": "IPY_MODEL_e0614ec378244658bb731fce11f9cd5e",
       "value": " 4200/4200 [02:59&lt;00:00, 22.58it/s]"
      }
     },
     "c211f255f09d421dbc95421fcc5d38bc": {
      "model_module": "@jupyter-widgets/base",
      "model_module_version": "2.0.0",
      "model_name": "LayoutModel",
      "state": {}
     },
     "d88b30b2a2b74d26af0078ae669e6a0d": {
      "model_module": "@jupyter-widgets/controls",
      "model_module_version": "2.0.0",
      "model_name": "HTMLModel",
      "state": {
       "layout": "IPY_MODEL_dcc758813a294e64a8127a417aae174b",
       "style": "IPY_MODEL_9e527aae815e4ce9a90c50217b26ab4d",
       "value": " 4200/4200 [03:03&lt;00:00, 19.45it/s]"
      }
     },
     "d9f5af514ebe4b12be68eb3f722c290e": {
      "model_module": "@jupyter-widgets/base",
      "model_module_version": "2.0.0",
      "model_name": "LayoutModel",
      "state": {}
     },
     "dcc758813a294e64a8127a417aae174b": {
      "model_module": "@jupyter-widgets/base",
      "model_module_version": "2.0.0",
      "model_name": "LayoutModel",
      "state": {}
     },
     "e0614ec378244658bb731fce11f9cd5e": {
      "model_module": "@jupyter-widgets/controls",
      "model_module_version": "2.0.0",
      "model_name": "HTMLStyleModel",
      "state": {
       "description_width": "",
       "font_size": null,
       "text_color": null
      }
     },
     "e934d0f21ad441cfb41fe87fd02516dd": {
      "model_module": "@jupyter-widgets/base",
      "model_module_version": "2.0.0",
      "model_name": "LayoutModel",
      "state": {}
     },
     "ed74ce503e5d4dfb97663fc2f1de18d3": {
      "model_module": "@jupyter-widgets/base",
      "model_module_version": "2.0.0",
      "model_name": "LayoutModel",
      "state": {}
     },
     "ee41e546bed64848843d8f8110c5c3e1": {
      "model_module": "@jupyter-widgets/controls",
      "model_module_version": "2.0.0",
      "model_name": "HTMLModel",
      "state": {
       "layout": "IPY_MODEL_d9f5af514ebe4b12be68eb3f722c290e",
       "style": "IPY_MODEL_971f98c8270d4a889694816cbaa730d4",
       "value": "100%"
      }
     }
    },
    "version_major": 2,
    "version_minor": 0
   }
  }
 },
 "nbformat": 4,
 "nbformat_minor": 5
}
