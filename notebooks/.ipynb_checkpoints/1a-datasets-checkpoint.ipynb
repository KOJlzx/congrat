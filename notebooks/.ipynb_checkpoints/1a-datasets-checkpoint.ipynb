{
 "cells": [
  {
   "cell_type": "code",
   "execution_count": null,
   "id": "a65a4de4-1085-49eb-90d7-b3b2c0970aba",
   "metadata": {},
   "outputs": [],
   "source": [
    "import os\n",
    "\n",
    "import pandas as pd\n",
    "import pytorch_lightning as pl\n",
    "\n",
    "import clip_graph as cg"
   ]
  },
  {
   "cell_type": "code",
   "execution_count": null,
   "id": "f9f67fb7-7ca0-4b91-a7ad-6b39d881ec49",
   "metadata": {},
   "outputs": [],
   "source": [
    "os.chdir(os.path.expanduser('~/github/congrat'))"
   ]
  },
  {
   "cell_type": "code",
   "execution_count": null,
   "id": "20cbf980-32f1-44c7-975f-69f2a0e8a8cc",
   "metadata": {},
   "outputs": [],
   "source": [
    "os.environ['TOKENIZERS_PARALLELISM'] = 'false'"
   ]
  },
  {
   "cell_type": "code",
   "execution_count": null,
   "id": "fee589d8-77e6-45a8-b5ff-ef7e39a6baa7",
   "metadata": {},
   "outputs": [],
   "source": [
    "pl.seed_everything(2969591811)"
   ]
  },
  {
   "cell_type": "code",
   "execution_count": null,
   "id": "71a7a1bd-e493-4ed6-bfa8-e31d2d57437b",
   "metadata": {},
   "outputs": [],
   "source": [
    "stats = {}"
   ]
  },
  {
   "cell_type": "markdown",
   "id": "44fe0f0c-0f1c-451b-9f71-bbbc3255e5d0",
   "metadata": {},
   "source": [
    "# Twitter"
   ]
  },
  {
   "cell_type": "markdown",
   "id": "c0d57a09-67f0-4693-aa3d-2ac0c50e56d9",
   "metadata": {},
   "source": [
    "## Causal"
   ]
  },
  {
   "cell_type": "code",
   "execution_count": null,
   "id": "d3c89e9d-327f-4542-9eba-55d080de041d",
   "metadata": {},
   "outputs": [],
   "source": [
    "dm = cg.utils.datamodule_from_yaml('configs/eval-datasets/twitter-small/causal.yaml')['dm']\n",
    "\n",
    "# these don't differ between masked and causal; we only need to do it once\n",
    "stats['twitter-small'] = {\n",
    "    'num_edges': dm._get_edgelist().shape[0],\n",
    "    'num_texts': len(dm.dataset.text),\n",
    "    'num_nodes': dm.dataset.graph_data.node_ids.shape[0],\n",
    "}"
   ]
  },
  {
   "cell_type": "code",
   "execution_count": null,
   "id": "be5d8ef9-b5b2-484d-b24b-7badbe3cf63f",
   "metadata": {
    "scrolled": true,
    "tags": []
   },
   "outputs": [],
   "source": [
    "next(iter(dm.val_dataloader()))"
   ]
  },
  {
   "cell_type": "code",
   "execution_count": null,
   "id": "0af0aab7-9a7f-4265-84b1-4d21de721a81",
   "metadata": {},
   "outputs": [],
   "source": [
    "del dm"
   ]
  },
  {
   "cell_type": "markdown",
   "id": "1413fc8e-314d-430f-95f0-1b9fcc30eaf3",
   "metadata": {},
   "source": [
    "## Masked"
   ]
  },
  {
   "cell_type": "code",
   "execution_count": null,
   "id": "3cfd760d-2513-4116-b6ed-2581492d0165",
   "metadata": {},
   "outputs": [],
   "source": [
    "dm = cg.utils.datamodule_from_yaml('configs/eval-datasets/twitter-small/masked.yaml')['dm']"
   ]
  },
  {
   "cell_type": "code",
   "execution_count": null,
   "id": "47ae7da9-e830-41f9-a780-77ba82642ba8",
   "metadata": {
    "scrolled": true,
    "tags": []
   },
   "outputs": [],
   "source": [
    "print(next(iter(dm.val_dataloader())))"
   ]
  },
  {
   "cell_type": "code",
   "execution_count": null,
   "id": "81d92d40-fd65-445b-b4f9-25a94845ec13",
   "metadata": {},
   "outputs": [],
   "source": [
    "del dm"
   ]
  },
  {
   "cell_type": "markdown",
   "id": "60e70379-df9a-46c6-8060-67caaa08c58a",
   "metadata": {},
   "source": [
    "# Pubmed"
   ]
  },
  {
   "cell_type": "markdown",
   "id": "f9ce4684-9dce-44d0-8e07-4afdfb6edbb2",
   "metadata": {},
   "source": [
    "## Causal"
   ]
  },
  {
   "cell_type": "code",
   "execution_count": null,
   "id": "2fe6b668-9ae7-4f21-a5d2-c79cfef34490",
   "metadata": {},
   "outputs": [],
   "source": [
    "dm = cg.utils.datamodule_from_yaml('configs/eval-datasets/pubmed/causal.yaml')['dm']\n",
    "\n",
    "# these don't differ between masked and causal; we only need to do it once\n",
    "stats['pubmed'] = {\n",
    "    'num_edges': dm._get_edgelist().shape[0],\n",
    "    'num_texts': len(dm.dataset.text),\n",
    "    'num_nodes': dm.dataset.graph_data.node_ids.shape[0],\n",
    "}"
   ]
  },
  {
   "cell_type": "code",
   "execution_count": null,
   "id": "db1af940-ea72-464d-8e34-aaa403b60565",
   "metadata": {
    "scrolled": true,
    "tags": []
   },
   "outputs": [],
   "source": [
    "print(next(iter(dm.val_dataloader())))"
   ]
  },
  {
   "cell_type": "code",
   "execution_count": null,
   "id": "67d74f4c-2ca8-4355-9ea3-c480206d670a",
   "metadata": {},
   "outputs": [],
   "source": [
    "del dm"
   ]
  },
  {
   "cell_type": "markdown",
   "id": "7abbe56a-f50e-4bcd-b368-7c4384dab4cd",
   "metadata": {},
   "source": [
    "## Masked"
   ]
  },
  {
   "cell_type": "code",
   "execution_count": null,
   "id": "284dd0c4-edda-44d4-b5c6-7405a365b333",
   "metadata": {},
   "outputs": [],
   "source": [
    "dm = cg.utils.datamodule_from_yaml('configs/eval-datasets/pubmed/masked.yaml')['dm']"
   ]
  },
  {
   "cell_type": "code",
   "execution_count": null,
   "id": "661b4481-341e-431d-8913-891202b1dbca",
   "metadata": {
    "scrolled": true,
    "tags": []
   },
   "outputs": [],
   "source": [
    "print(next(iter(dm.val_dataloader())))"
   ]
  },
  {
   "cell_type": "code",
   "execution_count": null,
   "id": "548f21ff-e6a5-439f-b106-fd39bd4715f8",
   "metadata": {},
   "outputs": [],
   "source": [
    "del dm"
   ]
  },
  {
   "cell_type": "markdown",
   "id": "8b84f46c-c49e-48d8-8a06-d564192d7982",
   "metadata": {},
   "source": [
    "# TRex"
   ]
  },
  {
   "cell_type": "markdown",
   "id": "04db2612-0093-4454-bb36-d97fcf0f8e3a",
   "metadata": {},
   "source": [
    "## Causal"
   ]
  },
  {
   "cell_type": "code",
   "execution_count": null,
   "id": "173e41ac-8eab-4e1e-b6bd-c20aa7035f42",
   "metadata": {},
   "outputs": [],
   "source": [
    "dm = cg.utils.datamodule_from_yaml('configs/eval-datasets/trex/causal.yaml')['dm']\n",
    "\n",
    "# these don't differ between masked and causal; we only need to do it once\n",
    "stats['trex'] = {\n",
    "    'num_edges': dm._get_edgelist().shape[0],\n",
    "    'num_texts': len(dm.dataset.text),\n",
    "    'num_nodes': dm.dataset.graph_data.node_ids.shape[0],\n",
    "}"
   ]
  },
  {
   "cell_type": "code",
   "execution_count": null,
   "id": "c366e667-6940-4065-9ef7-5ac57c8b6b97",
   "metadata": {
    "scrolled": true,
    "tags": []
   },
   "outputs": [],
   "source": [
    "print(next(iter(dm.val_dataloader())))"
   ]
  },
  {
   "cell_type": "code",
   "execution_count": null,
   "id": "151025a4-2316-406c-813f-a999a95f5b82",
   "metadata": {},
   "outputs": [],
   "source": [
    "del dm"
   ]
  },
  {
   "cell_type": "markdown",
   "id": "5db62f84-eac9-4a25-af16-795fc76e7554",
   "metadata": {},
   "source": [
    "## Masked"
   ]
  },
  {
   "cell_type": "code",
   "execution_count": null,
   "id": "392d4fb1-a277-4a42-9fa7-ae09e8e282f2",
   "metadata": {},
   "outputs": [],
   "source": [
    "dm = cg.utils.datamodule_from_yaml('configs/eval-datasets/trex/masked.yaml')['dm']"
   ]
  },
  {
   "cell_type": "code",
   "execution_count": null,
   "id": "0832634e-1d2a-492e-b201-005346d7c379",
   "metadata": {
    "scrolled": true,
    "tags": []
   },
   "outputs": [],
   "source": [
    "print(next(iter(dm.val_dataloader())))"
   ]
  },
  {
   "cell_type": "code",
   "execution_count": null,
   "id": "e5fa2415-ee4a-41fc-ac65-cbd8d918fba7",
   "metadata": {},
   "outputs": [],
   "source": [
    "del dm"
   ]
  },
  {
   "cell_type": "markdown",
   "id": "e24c90ac-d703-49ab-9eee-1b314f7b2461",
   "metadata": {},
   "source": [
    "# Write out dataset stats\n",
    "\n",
    "To copy into the LaTeX doc"
   ]
  },
  {
   "cell_type": "code",
   "execution_count": null,
   "id": "6f9edc7d-7fcc-4eea-85ac-c50d7f160cbc",
   "metadata": {},
   "outputs": [],
   "source": [
    "tmp = pd.DataFrame(pd.Series({\n",
    "    d + '_' + k : stats[d][k]\n",
    "    for d in stats\n",
    "    for k in stats[d]\n",
    "}), columns=['value'])\n",
    "\n",
    "tmp.index.name = 'datavar'\n",
    "tmp = tmp.reset_index()\n",
    "\n",
    "tmp.to_csv('data/dataset-stats.csv', index=False)"
   ]
  },
  {
   "cell_type": "code",
   "execution_count": null,
   "id": "e0936c5e-1e41-4444-a786-1b7d72dd242b",
   "metadata": {},
   "outputs": [],
   "source": [
    "!cat data/dataset-stats.csv"
   ]
  },
  {
   "cell_type": "code",
   "execution_count": null,
   "id": "5a3798a3-210b-4f52-92b6-0306bf036938",
   "metadata": {},
   "outputs": [],
   "source": []
  }
 ],
 "metadata": {
  "kernelspec": {
   "display_name": "congrat",
   "language": "python",
   "name": "python3"
  },
  "language_info": {
   "codemirror_mode": {
    "name": "ipython",
    "version": 3
   },
   "file_extension": ".py",
   "mimetype": "text/x-python",
   "name": "python",
   "nbconvert_exporter": "python",
   "pygments_lexer": "ipython3",
   "version": "3.11.13"
  }
 },
 "nbformat": 4,
 "nbformat_minor": 5
}
