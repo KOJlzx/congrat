{
 "cells": [
  {
   "cell_type": "code",
   "execution_count": 1,
   "id": "1b3c874e-9130-4c4a-b46a-bd5d4aa53a67",
   "metadata": {
    "tags": []
   },
   "outputs": [],
   "source": [
    "import os\n",
    "import json\n",
    "\n",
    "import numpy as np\n",
    "import pandas as pd\n",
    "import scipy.stats as ss\n",
    "\n",
    "import torch\n",
    "import torch.nn as nn\n",
    "import torch.nn.functional as F\n",
    "import pytorch_lightning as pl\n",
    "\n",
    "import transformers as tf\n",
    "import datasets as ds\n",
    "import evaluate\n",
    "\n",
    "import matplotlib as mp\n",
    "%matplotlib inline\n",
    "import matplotlib.pyplot as plt\n",
    "\n",
    "from tqdm.notebook import tqdm, trange\n",
    "\n",
    "import clip_graph as cg"
   ]
  },
  {
   "cell_type": "code",
   "execution_count": 2,
   "id": "a107a912-4c1c-4a3a-bced-1ab02b5cc48a",
   "metadata": {
    "tags": []
   },
   "outputs": [],
   "source": [
    "os.chdir(os.path.expanduser('~/lizaixi/congrat'))"
   ]
  },
  {
   "cell_type": "code",
   "execution_count": 3,
   "id": "b5460a31-0d54-42ca-bd40-974165a25097",
   "metadata": {
    "tags": []
   },
   "outputs": [],
   "source": [
    "device = 'cuda:0'"
   ]
  },
  {
   "cell_type": "code",
   "execution_count": 4,
   "id": "008d5219-357b-4f31-ac22-d509c7b257d5",
   "metadata": {
    "tags": []
   },
   "outputs": [
    {
     "name": "stderr",
     "output_type": "stream",
     "text": [
      "Seed set to 2969591811\n"
     ]
    },
    {
     "data": {
      "text/plain": [
       "2969591811"
      ]
     },
     "execution_count": 4,
     "metadata": {},
     "output_type": "execute_result"
    }
   ],
   "source": [
    "seed = 2969591811\n",
    "pl.seed_everything(seed)"
   ]
  },
  {
   "cell_type": "markdown",
   "id": "8537acaa-fabe-484a-a8c1-0c2ed6662bb6",
   "metadata": {},
   "source": [
    "# Utils"
   ]
  },
  {
   "cell_type": "code",
   "execution_count": 5,
   "id": "61e73faa-531f-4270-bec2-f4bc78c9c99d",
   "metadata": {
    "tags": []
   },
   "outputs": [],
   "source": [
    "from tqdm import tqdm as tqdm_text  # 强制使用文本模式\n",
    "def perplexity(model, ldr, max_batches=None, device=None):\n",
    "    ppls = []\n",
    "    \n",
    "    for i, batch in enumerate(tqdm_text(ldr, total=max_batches)):\n",
    "        if max_batches is not None and i >= max_batches:\n",
    "            break\n",
    "        # print(batch.keys())\n",
    "        input_ids = batch['input_ids']\n",
    "        attn_mask = batch['attention_mask']\n",
    "        labels = batch['labels']\n",
    "        \n",
    "        if device is not None:\n",
    "            input_ids = input_ids.to(device)\n",
    "            attn_mask = attn_mask.to(device)\n",
    "            labels = labels.to(device)\n",
    "        \n",
    "        with torch.no_grad():\n",
    "            logits = model(\n",
    "                input_ids=input_ids,\n",
    "                attention_mask=attn_mask\n",
    "            ).logits\n",
    "\n",
    "        ppl = F.cross_entropy(logits.transpose(1, 2), labels, reduction='none')\n",
    "        ppl = (ppl * attn_mask).sum(dim=1) / attn_mask.sum(dim=1)\n",
    "        ppl = torch.exp2(ppl)\n",
    "        \n",
    "        ppls += ppl.tolist()\n",
    "    \n",
    "    return ppls"
   ]
  },
  {
   "cell_type": "markdown",
   "id": "98d7e81a-d6e6-48bc-818f-0cb7788b665f",
   "metadata": {
    "tags": []
   },
   "source": [
    "# Load"
   ]
  },
  {
   "cell_type": "code",
   "execution_count": 6,
   "id": "233b5b79-9d36-4205-8a24-a29bcf1e3aed",
   "metadata": {},
   "outputs": [],
   "source": [
    "dataset = 'pubmed'"
   ]
  },
  {
   "cell_type": "code",
   "execution_count": 7,
   "id": "834810ee-20e7-4f1f-ada1-b40f5c5bb73e",
   "metadata": {
    "tags": []
   },
   "outputs": [
    {
     "name": "stderr",
     "output_type": "stream",
     "text": [
      "/home/neulab/anaconda3/envs/congrat/lib/python3.11/site-packages/torch/storage.py:414: FutureWarning: You are using `torch.load` with `weights_only=False` (the current default value), which uses the default pickle module implicitly. It is possible to construct malicious pickle data which will execute arbitrary code during unpickling (See https://github.com/pytorch/pytorch/blob/main/SECURITY.md#untrusted-models for more details). In a future release, the default value for `weights_only` will be flipped to `True`. This limits the functions that could be executed during unpickling. Arbitrary objects will no longer be allowed to be loaded via this mode unless they are explicitly allowlisted by the user via `torch.serialization.add_safe_globals`. We recommend you start setting `weights_only=True` for any use case where you don't have full control of the loaded file. Please open an issue on GitHub for any issues related to this experimental feature.\n",
      "  return torch.load(io.BytesIO(b))\n"
     ]
    }
   ],
   "source": [
    "eval_causal_dm = cg.utils.datamodule_from_yaml(f'configs/eval-datasets/{dataset}/causal.yaml')['dm']\n",
    "\n",
    "ds = eval_causal_dm.test_dataset.dataset"
   ]
  },
  {
   "cell_type": "code",
   "execution_count": 12,
   "id": "cd9393a5-e394-446f-a382-d1344056a1a7",
   "metadata": {},
   "outputs": [
    {
     "name": "stderr",
     "output_type": "stream",
     "text": [
      "Seed set to 2969591811\n"
     ]
    },
    {
     "name": "stderr",
     "output_type": "stream",
     "text": [
      "Seed set to 2969591811\n"
     ]
    }
   ],
   "source": [
    "ckpt_dir = f'lightning_logs/lm-pretrain/{dataset}/causal/version_6'\n",
    "lm_model = cg.scoring.interpret_ckpt_dir(ckpt_dir, eval_causal_dm)['model'].model.model\n",
    "lm_model = lm_model.to(device)\n",
    "\n",
    "ckpt_dir = f'lightning_logs/clip-graph/inductive-causal/{dataset}/version_21/'\n",
    "cg_model = cg.scoring.interpret_ckpt_dir(ckpt_dir, eval_causal_dm)['model'].model.lm\n",
    "cg_model = cg_model.to(device)\n",
    "\n",
    "\n",
    "# assert cg_model.config.n_embd == lm_model.config.n_embd\n",
    "# assert cg_model.config.vocab_size == lm_model.config.vocab_size"
   ]
  },
  {
   "cell_type": "code",
   "execution_count": 13,
   "id": "930a61bf",
   "metadata": {},
   "outputs": [
    {
     "name": "stdout",
     "output_type": "stream",
     "text": [
      "GPT2LMHeadModel(\n",
      "  (transformer): GPT2Model(\n",
      "    (wte): Embedding(50257, 768)\n",
      "    (wpe): Embedding(1024, 768)\n",
      "    (drop): Dropout(p=0.1, inplace=False)\n",
      "    (h): ModuleList(\n",
      "      (0-5): 6 x GPT2Block(\n",
      "        (ln_1): LayerNorm((768,), eps=1e-05, elementwise_affine=True)\n",
      "        (attn): GPT2Attention(\n",
      "          (c_attn): Conv1D()\n",
      "          (c_proj): Conv1D()\n",
      "          (attn_dropout): Dropout(p=0.1, inplace=False)\n",
      "          (resid_dropout): Dropout(p=0.1, inplace=False)\n",
      "        )\n",
      "        (ln_2): LayerNorm((768,), eps=1e-05, elementwise_affine=True)\n",
      "        (mlp): GPT2MLP(\n",
      "          (c_fc): Conv1D()\n",
      "          (c_proj): Conv1D()\n",
      "          (act): NewGELUActivation()\n",
      "          (dropout): Dropout(p=0.1, inplace=False)\n",
      "        )\n",
      "      )\n",
      "    )\n",
      "    (ln_f): LayerNorm((768,), eps=1e-05, elementwise_affine=True)\n",
      "  )\n",
      "  (lm_head): Linear(in_features=768, out_features=50257, bias=False)\n",
      ")\n"
     ]
    }
   ],
   "source": [
    "print(lm_model)"
   ]
  },
  {
   "cell_type": "code",
   "execution_count": 15,
   "id": "a23cf77e",
   "metadata": {},
   "outputs": [
    {
     "name": "stdout",
     "output_type": "stream",
     "text": [
      "LMForSentenceEmbedding(\n",
      "  (model): GPT2Model(\n",
      "    (wte): Embedding(50257, 768)\n",
      "    (wpe): Embedding(1024, 768)\n",
      "    (drop): Dropout(p=0.1, inplace=False)\n",
      "    (h): ModuleList(\n",
      "      (0-5): 6 x GPT2Block(\n",
      "        (ln_1): LayerNorm((768,), eps=1e-05, elementwise_affine=True)\n",
      "        (attn): GPT2Attention(\n",
      "          (c_attn): Conv1D()\n",
      "          (c_proj): Conv1D()\n",
      "          (attn_dropout): Dropout(p=0.1, inplace=False)\n",
      "          (resid_dropout): Dropout(p=0.1, inplace=False)\n",
      "        )\n",
      "        (ln_2): LayerNorm((768,), eps=1e-05, elementwise_affine=True)\n",
      "        (mlp): GPT2MLP(\n",
      "          (c_fc): Conv1D()\n",
      "          (c_proj): Conv1D()\n",
      "          (act): NewGELUActivation()\n",
      "          (dropout): Dropout(p=0.1, inplace=False)\n",
      "        )\n",
      "      )\n",
      "    )\n",
      "    (ln_f): LayerNorm((768,), eps=1e-05, elementwise_affine=True)\n",
      "  )\n",
      ")\n"
     ]
    }
   ],
   "source": [
    "print(cg_model)"
   ]
  },
  {
   "cell_type": "markdown",
   "id": "648b0d6f-c26f-4630-8cba-6a93a6869344",
   "metadata": {},
   "source": [
    "# lm-pretrain model"
   ]
  },
  {
   "cell_type": "code",
   "execution_count": 21,
   "id": "41a9f48b-c580-4eb4-88c4-ba5a7d5020b5",
   "metadata": {},
   "outputs": [
    {
     "name": "stderr",
     "output_type": "stream",
     "text": [
      "100%|██████████| 750/750 [01:23<00:00,  8.94it/s]\n"
     ]
    }
   ],
   "source": [
    "ldr = torch.utils.data.DataLoader(ds, collate_fn=ds.__collate__, batch_size=8)\n",
    "lm_ppls = perplexity(lm_model, ldr, device=device)\n",
    "lm_ppls = pd.Series(lm_ppls)\n",
    "#dict_keys(['text_node_ids', 'text', 'input_ids', 'attention_mask', 'labels', 'graph_neg_edge_index', 'graph_edge_index', 'graph_label', 'graph_x', 'graph_node_ids', 'graph_sim_mutual'])"
   ]
  },
  {
   "cell_type": "code",
   "execution_count": 47,
   "id": "b0d34f7b-9067-4e78-8465-f8d05071a606",
   "metadata": {},
   "outputs": [
    {
     "name": "stdout",
     "output_type": "stream",
     "text": [
      "tensor([1, 3, 4])\n",
      "0    1\n",
      "1    3\n",
      "2    4\n",
      "dtype: int64\n"
     ]
    },
    {
     "data": {
      "text/plain": [
       "count    5998.000000\n",
       "mean        7.003732\n",
       "std         3.527474\n",
       "min         1.231872\n",
       "25%         4.856069\n",
       "50%         6.326195\n",
       "75%         8.256051\n",
       "max        84.915733\n",
       "dtype: float64"
      ]
     },
     "execution_count": 47,
     "metadata": {},
     "output_type": "execute_result"
    }
   ],
   "source": [
    "\n",
    "print(torch.tensor([1, 3, 4]))\n",
    "print(pd.Series(torch.tensor([1, 3, 4])))\n",
    "t = pd.Series(torch.tensor([1, 3, 4]))\n",
    "t.describe()\n",
    "lm_ppls.describe()"
   ]
  },
  {
   "cell_type": "code",
   "execution_count": 48,
   "id": "a0e23873-aede-4263-b6ff-204cecfab3c1",
   "metadata": {},
   "outputs": [
    {
     "data": {
      "text/plain": [
       "<Axes: >"
      ]
     },
     "execution_count": 48,
     "metadata": {},
     "output_type": "execute_result"
    },
    {
     "data": {
      "image/png": "[encoded data removed]",
      "text/plain": [
       "<Figure size 640x480 with 1 Axes>"
      ]
     },
     "metadata": {},
     "output_type": "display_data"
    }
   ],
   "source": [
    "lm_ppls.hist(log=True)\n",
    "# t.hist()"
   ]
  },
  {
   "cell_type": "markdown",
   "id": "1293ee4e-7c06-4dc0-8474-090cc0737b58",
   "metadata": {},
   "source": [
    "# clip-graph model"
   ]
  },
  {
   "cell_type": "code",
   "execution_count": 9,
   "id": "fdbb8f30-eddf-4e4b-a43a-d0b04684d905",
   "metadata": {
    "tags": []
   },
   "outputs": [
    {
     "name": "stdout",
     "output_type": "stream",
     "text": [
      "<class 'transformers.models.gpt2.modeling_gpt2.GPT2Model'>\n",
      "<class 'transformers.models.gpt2.modeling_gpt2.GPT2LMHeadModel'>\n"
     ]
    },
    {
     "name": "stderr",
     "output_type": "stream",
     "text": [
      "  0%|          | 0/750 [00:00<?, ?it/s]\n"
     ]
    },
    {
     "ename": "AttributeError",
     "evalue": "'BaseModelOutputWithPastAndCrossAttentions' object has no attribute 'logits'",
     "output_type": "error",
     "traceback": [
      "\u001b[31m---------------------------------------------------------------------------\u001b[39m",
      "\u001b[31mAttributeError\u001b[39m                            Traceback (most recent call last)",
      "\u001b[36mCell\u001b[39m\u001b[36m \u001b[39m\u001b[32mIn[9]\u001b[39m\u001b[32m, line 4\u001b[39m\n\u001b[32m      2\u001b[39m \u001b[38;5;28mprint\u001b[39m(\u001b[38;5;28mtype\u001b[39m(cg_model))\n\u001b[32m      3\u001b[39m \u001b[38;5;28mprint\u001b[39m(\u001b[38;5;28mtype\u001b[39m(lm_model))\n\u001b[32m----> \u001b[39m\u001b[32m4\u001b[39m cg_ppls = \u001b[43mperplexity\u001b[49m\u001b[43m(\u001b[49m\u001b[43mcg_model\u001b[49m\u001b[43m,\u001b[49m\u001b[43m \u001b[49m\u001b[43mldr\u001b[49m\u001b[43m,\u001b[49m\u001b[43m \u001b[49m\u001b[43mdevice\u001b[49m\u001b[43m=\u001b[49m\u001b[43mdevice\u001b[49m\u001b[43m)\u001b[49m\n\u001b[32m      5\u001b[39m cg_ppls = pd.Series(cg_ppls)\n",
      "\u001b[36mCell\u001b[39m\u001b[36m \u001b[39m\u001b[32mIn[5]\u001b[39m\u001b[32m, line 22\u001b[39m, in \u001b[36mperplexity\u001b[39m\u001b[34m(model, ldr, max_batches, device)\u001b[39m\n\u001b[32m     16\u001b[39m     labels = labels.to(device)\n\u001b[32m     18\u001b[39m \u001b[38;5;28;01mwith\u001b[39;00m torch.no_grad():\n\u001b[32m     19\u001b[39m     logits = \u001b[43mmodel\u001b[49m\u001b[43m(\u001b[49m\n\u001b[32m     20\u001b[39m \u001b[43m        \u001b[49m\u001b[43minput_ids\u001b[49m\u001b[43m=\u001b[49m\u001b[43minput_ids\u001b[49m\u001b[43m,\u001b[49m\n\u001b[32m     21\u001b[39m \u001b[43m        \u001b[49m\u001b[43mattention_mask\u001b[49m\u001b[43m=\u001b[49m\u001b[43mattn_mask\u001b[49m\n\u001b[32m---> \u001b[39m\u001b[32m22\u001b[39m \u001b[43m    \u001b[49m\u001b[43m)\u001b[49m\u001b[43m.\u001b[49m\u001b[43mlogits\u001b[49m\n\u001b[32m     24\u001b[39m ppl = F.cross_entropy(logits.transpose(\u001b[32m1\u001b[39m, \u001b[32m2\u001b[39m), labels, reduction=\u001b[33m'\u001b[39m\u001b[33mnone\u001b[39m\u001b[33m'\u001b[39m)\n\u001b[32m     25\u001b[39m ppl = (ppl * attn_mask).sum(dim=\u001b[32m1\u001b[39m) / attn_mask.sum(dim=\u001b[32m1\u001b[39m)\n",
      "\u001b[31mAttributeError\u001b[39m: 'BaseModelOutputWithPastAndCrossAttentions' object has no attribute 'logits'"
     ]
    }
   ],
   "source": [
    "ldr = torch.utils.data.DataLoader(ds, collate_fn=ds.__collate__, batch_size=8)\n",
    "print(type(cg_model))\n",
    "print(type(lm_model))\n",
    "cg_ppls = perplexity(cg_model, ldr, device=device)\n",
    "cg_ppls = pd.Series(cg_ppls)"
   ]
  },
  {
   "cell_type": "code",
   "execution_count": null,
   "id": "244b3e5a-7486-409b-9f93-d89eaaf0e965",
   "metadata": {},
   "outputs": [],
   "source": [
    "cg_ppls.describe()"
   ]
  },
  {
   "cell_type": "code",
   "execution_count": null,
   "id": "351108bd-b995-475b-af34-f6d886674bc2",
   "metadata": {
    "tags": []
   },
   "outputs": [],
   "source": [
    "cg_ppls.hist(log=True)"
   ]
  },
  {
   "cell_type": "markdown",
   "id": "238e6477-c143-4bf8-9838-5505b97daa11",
   "metadata": {},
   "source": [
    "# Test difference"
   ]
  },
  {
   "cell_type": "code",
   "execution_count": null,
   "id": "d380984c-8bda-401d-8746-80756a15b0e9",
   "metadata": {},
   "outputs": [],
   "source": [
    "dat = lm_ppls.to_numpy()[None, :]\n",
    "\n",
    "res = ss.bootstrap(\n",
    "    dat,\n",
    "    np.mean,\n",
    "    n_resamples=10000,\n",
    "    \n",
    "    # ss.bootstrap computes two-tailed intervals,\n",
    "    # we want a one-tailed test\n",
    "    confidence_level = 1 - 0.05 * 2,\n",
    ")\n",
    "\n",
    "display(\n",
    "    lm_ppls.mean(),\n",
    "    cg_ppls.mean(),\n",
    "    res.confidence_interval,\n",
    "    (cg_ppls.mean() > res.confidence_interval.high or cg_ppls.mean() < res.confidence_interval.low)\n",
    ")"
   ]
  },
  {
   "cell_type": "code",
   "execution_count": null,
   "id": "a4eb0ef5-5f13-495a-a98d-42f1f778dd78",
   "metadata": {},
   "outputs": [],
   "source": []
  }
 ],
 "metadata": {
  "kernelspec": {
   "display_name": "congrat",
   "language": "python",
   "name": "python3"
  },
  "language_info": {
   "codemirror_mode": {
    "name": "ipython",
    "version": 3
   },
   "file_extension": ".py",
   "mimetype": "text/x-python",
   "name": "python",
   "nbconvert_exporter": "python",
   "pygments_lexer": "ipython3",
   "version": "3.11.13"
  },
  "widgets": {
   "application/vnd.jupyter.widget-state+json": {
    "state": {},
    "version_major": 2,
    "version_minor": 0
   }
  }
 },
 "nbformat": 4,
 "nbformat_minor": 5
}
