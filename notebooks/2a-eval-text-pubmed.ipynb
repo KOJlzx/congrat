{
 "cells": [
  {
   "cell_type": "code",
   "execution_count": null,
   "id": "1b3c874e-9130-4c4a-b46a-bd5d4aa53a67",
   "metadata": {
    "tags": []
   },
   "outputs": [],
   "source": [
    "import os\n",
    "import json\n",
    "\n",
    "import numpy as np\n",
    "import pandas as pd\n",
    "import scipy.stats as ss\n",
    "\n",
    "import torch\n",
    "import torch.nn as nn\n",
    "import torch.nn.functional as F\n",
    "import pytorch_lightning as pl\n",
    "\n",
    "import transformers as tf\n",
    "import datasets as ds\n",
    "from datasets import load_metric\n",
    "\n",
    "import matplotlib as mp\n",
    "%matplotlib inline\n",
    "import matplotlib.pyplot as plt\n",
    "\n",
    "from tqdm.notebook import tqdm, trange\n",
    "\n",
    "import clip_graph as cg"
   ]
  },
  {
   "cell_type": "code",
   "execution_count": null,
   "id": "a107a912-4c1c-4a3a-bced-1ab02b5cc48a",
   "metadata": {
    "tags": []
   },
   "outputs": [],
   "source": [
    "os.chdir(os.path.expanduser('~/github/congrat'))"
   ]
  },
  {
   "cell_type": "code",
   "execution_count": null,
   "id": "b5460a31-0d54-42ca-bd40-974165a25097",
   "metadata": {
    "tags": []
   },
   "outputs": [],
   "source": [
    "device = 'cuda:3'"
   ]
  },
  {
   "cell_type": "code",
   "execution_count": null,
   "id": "008d5219-357b-4f31-ac22-d509c7b257d5",
   "metadata": {
    "tags": []
   },
   "outputs": [],
   "source": [
    "seed = 2969591811\n",
    "pl.seed_everything(seed)"
   ]
  },
  {
   "cell_type": "markdown",
   "id": "8537acaa-fabe-484a-a8c1-0c2ed6662bb6",
   "metadata": {},
   "source": [
    "# Utils"
   ]
  },
  {
   "cell_type": "code",
   "execution_count": null,
   "id": "61e73faa-531f-4270-bec2-f4bc78c9c99d",
   "metadata": {
    "tags": []
   },
   "outputs": [],
   "source": [
    "def perplexity(model, ldr, max_batches=None, device=None):\n",
    "    ppls = []\n",
    "    \n",
    "    for i, batch in enumerate(tqdm(ldr, total=max_batches)):\n",
    "        if max_batches is not None and i >= max_batches:\n",
    "            break\n",
    "        \n",
    "        input_ids = batch['input_ids']\n",
    "        attn_mask = batch['attention_mask']\n",
    "        labels = batch['labels']\n",
    "        \n",
    "        if device is not None:\n",
    "            input_ids = input_ids.to(device)\n",
    "            attn_mask = attn_mask.to(device)\n",
    "            labels = labels.to(device)\n",
    "        \n",
    "        with torch.no_grad():\n",
    "            logits = model(\n",
    "                input_ids=input_ids,\n",
    "                attention_mask=attn_mask\n",
    "            ).logits\n",
    "        \n",
    "        ppl = F.cross_entropy(logits.transpose(1, 2), labels, reduction='none')\n",
    "        ppl = (ppl * attn_mask).sum(dim=1) / attn_mask.sum(dim=1)\n",
    "        ppl = torch.exp2(ppl)\n",
    "        \n",
    "        ppls += ppl.tolist()\n",
    "    \n",
    "    return ppls"
   ]
  },
  {
   "cell_type": "markdown",
   "id": "98d7e81a-d6e6-48bc-818f-0cb7788b665f",
   "metadata": {
    "tags": []
   },
   "source": [
    "# Load"
   ]
  },
  {
   "cell_type": "code",
   "execution_count": null,
   "id": "233b5b79-9d36-4205-8a24-a29bcf1e3aed",
   "metadata": {},
   "outputs": [],
   "source": [
    "dataset = 'pubmed'"
   ]
  },
  {
   "cell_type": "code",
   "execution_count": null,
   "id": "834810ee-20e7-4f1f-ada1-b40f5c5bb73e",
   "metadata": {
    "tags": []
   },
   "outputs": [],
   "source": [
    "eval_causal_dm = cg.utils.datamodule_from_yaml(f'configs/eval-datasets/{dataset}/causal.yaml')['dm']\n",
    "\n",
    "ds = eval_causal_dm.test_dataset.dataset"
   ]
  },
  {
   "cell_type": "code",
   "execution_count": null,
   "id": "cd9393a5-e394-446f-a382-d1344056a1a7",
   "metadata": {},
   "outputs": [],
   "source": [
    "ckpt_dir = f'lightning_logs/lm-pretrain/{dataset}/causal/version_1'\n",
    "lm_model = cg.scoring.interpret_ckpt_dir(ckpt_dir, eval_causal_dm)['model'].model.model\n",
    "lm_model = lm_model.to(device)\n",
    "\n",
    "ckpt_dir = f'lightning_logs/clip-graph/causal-lm-train/{dataset}/extra-epoch/version_0/'\n",
    "cg_model = cg.scoring.interpret_ckpt_dir(ckpt_dir, eval_causal_dm)['model'].model\n",
    "cg_model = cg_model.to(device)\n",
    "\n",
    "assert cg_model.config.n_embd == lm_model.config.n_embd\n",
    "assert cg_model.config.vocab_size == lm_model.config.vocab_size"
   ]
  },
  {
   "cell_type": "markdown",
   "id": "648b0d6f-c26f-4630-8cba-6a93a6869344",
   "metadata": {},
   "source": [
    "# lm-pretrain model"
   ]
  },
  {
   "cell_type": "code",
   "execution_count": null,
   "id": "41a9f48b-c580-4eb4-88c4-ba5a7d5020b5",
   "metadata": {},
   "outputs": [],
   "source": [
    "ldr = torch.utils.data.DataLoader(ds, collate_fn=ds.__collate__, batch_size=8)\n",
    "lm_ppls = perplexity(lm_model, ldr, device=device)\n",
    "lm_ppls = pd.Series(lm_ppls)"
   ]
  },
  {
   "cell_type": "code",
   "execution_count": null,
   "id": "b0d34f7b-9067-4e78-8465-f8d05071a606",
   "metadata": {},
   "outputs": [],
   "source": [
    "lm_ppls.describe()"
   ]
  },
  {
   "cell_type": "code",
   "execution_count": null,
   "id": "a0e23873-aede-4263-b6ff-204cecfab3c1",
   "metadata": {},
   "outputs": [],
   "source": [
    "lm_ppls.hist(log=True)"
   ]
  },
  {
   "cell_type": "markdown",
   "id": "1293ee4e-7c06-4dc0-8474-090cc0737b58",
   "metadata": {},
   "source": [
    "# clip-graph model"
   ]
  },
  {
   "cell_type": "code",
   "execution_count": null,
   "id": "fdbb8f30-eddf-4e4b-a43a-d0b04684d905",
   "metadata": {
    "tags": []
   },
   "outputs": [],
   "source": [
    "ldr = torch.utils.data.DataLoader(ds, collate_fn=ds.__collate__, batch_size=8)\n",
    "cg_ppls = perplexity(cg_model, ldr, device=device)\n",
    "cg_ppls = pd.Series(cg_ppls)"
   ]
  },
  {
   "cell_type": "code",
   "execution_count": null,
   "id": "244b3e5a-7486-409b-9f93-d89eaaf0e965",
   "metadata": {},
   "outputs": [],
   "source": [
    "cg_ppls.describe()"
   ]
  },
  {
   "cell_type": "code",
   "execution_count": null,
   "id": "351108bd-b995-475b-af34-f6d886674bc2",
   "metadata": {
    "tags": []
   },
   "outputs": [],
   "source": [
    "cg_ppls.hist(log=True)"
   ]
  },
  {
   "cell_type": "markdown",
   "id": "238e6477-c143-4bf8-9838-5505b97daa11",
   "metadata": {},
   "source": [
    "# Test difference"
   ]
  },
  {
   "cell_type": "code",
   "execution_count": null,
   "id": "d380984c-8bda-401d-8746-80756a15b0e9",
   "metadata": {},
   "outputs": [],
   "source": [
    "dat = lm_ppls.to_numpy()[None, :]\n",
    "\n",
    "res = ss.bootstrap(\n",
    "    dat,\n",
    "    np.mean,\n",
    "    n_resamples=10000,\n",
    "    \n",
    "    # ss.bootstrap computes two-tailed intervals,\n",
    "    # we want a one-tailed test\n",
    "    confidence_level = 1 - 0.05 * 2,\n",
    ")\n",
    "\n",
    "display(\n",
    "    lm_ppls.mean(),\n",
    "    cg_ppls.mean(),\n",
    "    res.confidence_interval,\n",
    "    (cg_ppls.mean() > res.confidence_interval.high or cg_ppls.mean() < res.confidence_interval.low)\n",
    ")"
   ]
  },
  {
   "cell_type": "code",
   "execution_count": null,
   "id": "a4eb0ef5-5f13-495a-a98d-42f1f778dd78",
   "metadata": {},
   "outputs": [],
   "source": []
  }
 ],
 "metadata": {
  "kernelspec": {
   "display_name": "Python 3 (ipykernel)",
   "language": "python",
   "name": "python3"
  },
  "language_info": {
   "codemirror_mode": {
    "name": "ipython",
    "version": 3
   },
   "file_extension": ".py",
   "mimetype": "text/x-python",
   "name": "python",
   "nbconvert_exporter": "python",
   "pygments_lexer": "ipython3",
   "version": "3.9.13"
  },
  "widgets": {
   "application/vnd.jupyter.widget-state+json": {
    "state": {},
    "version_major": 2,
    "version_minor": 0
   }
  }
 },
 "nbformat": 4,
 "nbformat_minor": 5
}
