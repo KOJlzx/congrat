{
 "cells": [
  {
   "cell_type": "code",
   "execution_count": 1,
   "id": "a65a4de4-1085-49eb-90d7-b3b2c0970aba",
   "metadata": {},
   "outputs": [
    {
     "name": "stderr",
     "output_type": "stream",
     "text": [
      "/home/neulab/anaconda3/envs/congrat/lib/python3.11/site-packages/tqdm/auto.py:21: TqdmWarning: IProgress not found. Please update jupyter and ipywidgets. See https://ipywidgets.readthedocs.io/en/stable/user_install.html\n",
      "  from .autonotebook import tqdm as notebook_tqdm\n"
     ]
    }
   ],
   "source": [
    "import os\n",
    "\n",
    "import pandas as pd\n",
    "import pytorch_lightning as pl\n",
    "\n",
    "import clip_graph as cg"
   ]
  },
  {
   "cell_type": "code",
   "execution_count": 2,
   "id": "f9f67fb7-7ca0-4b91-a7ad-6b39d881ec49",
   "metadata": {},
   "outputs": [],
   "source": [
    "os.chdir(os.path.expanduser('~/lizaixi/congrat'))"
   ]
  },
  {
   "cell_type": "code",
   "execution_count": 3,
   "id": "20cbf980-32f1-44c7-975f-69f2a0e8a8cc",
   "metadata": {},
   "outputs": [],
   "source": [
    "os.environ['TOKENIZERS_PARALLELISM'] = 'false'"
   ]
  },
  {
   "cell_type": "code",
   "execution_count": 4,
   "id": "fee589d8-77e6-45a8-b5ff-ef7e39a6baa7",
   "metadata": {},
   "outputs": [
    {
     "name": "stderr",
     "output_type": "stream",
     "text": [
      "Seed set to 2969591811\n"
     ]
    },
    {
     "data": {
      "text/plain": [
       "2969591811"
      ]
     },
     "execution_count": 4,
     "metadata": {},
     "output_type": "execute_result"
    }
   ],
   "source": [
    "pl.seed_everything(2969591811)"
   ]
  },
  {
   "cell_type": "code",
   "execution_count": 5,
   "id": "71a7a1bd-e493-4ed6-bfa8-e31d2d57437b",
   "metadata": {},
   "outputs": [],
   "source": [
    "stats = {}"
   ]
  },
  {
   "cell_type": "markdown",
   "id": "44fe0f0c-0f1c-451b-9f71-bbbc3255e5d0",
   "metadata": {},
   "source": [
    "# Twitter"
   ]
  },
  {
   "cell_type": "markdown",
   "id": "c0d57a09-67f0-4693-aa3d-2ac0c50e56d9",
   "metadata": {},
   "source": [
    "## Causal"
   ]
  },
  {
   "cell_type": "code",
   "execution_count": null,
   "id": "d3c89e9d-327f-4542-9eba-55d080de041d",
   "metadata": {},
   "outputs": [],
   "source": [
    "dm = cg.utils.datamodule_from_yaml('configs/eval-datasets/twitter-small/causal.yaml')['dm']\n",
    "\n",
    "# these don't differ between masked and causal; we only need to do it once\n",
    "stats['twitter-small'] = {\n",
    "    'num_edges': dm._get_edgelist().shape[0],\n",
    "    'num_texts': len(dm.dataset.text),\n",
    "    'num_nodes': dm.dataset.graph_data.node_ids.shape[0],\n",
    "}"
   ]
  },
  {
   "cell_type": "code",
   "execution_count": null,
   "id": "be5d8ef9-b5b2-484d-b24b-7badbe3cf63f",
   "metadata": {
    "scrolled": true,
    "tags": []
   },
   "outputs": [],
   "source": [
    "next(iter(dm.val_dataloader()))"
   ]
  },
  {
   "cell_type": "code",
   "execution_count": null,
   "id": "0af0aab7-9a7f-4265-84b1-4d21de721a81",
   "metadata": {},
   "outputs": [],
   "source": [
    "del dm"
   ]
  },
  {
   "cell_type": "markdown",
   "id": "1413fc8e-314d-430f-95f0-1b9fcc30eaf3",
   "metadata": {},
   "source": [
    "## Masked"
   ]
  },
  {
   "cell_type": "code",
   "execution_count": null,
   "id": "3cfd760d-2513-4116-b6ed-2581492d0165",
   "metadata": {},
   "outputs": [],
   "source": [
    "dm = cg.utils.datamodule_from_yaml('configs/eval-datasets/twitter-small/masked.yaml')['dm']"
   ]
  },
  {
   "cell_type": "code",
   "execution_count": null,
   "id": "47ae7da9-e830-41f9-a780-77ba82642ba8",
   "metadata": {
    "scrolled": true,
    "tags": []
   },
   "outputs": [],
   "source": [
    "print(next(iter(dm.val_dataloader())))"
   ]
  },
  {
   "cell_type": "code",
   "execution_count": null,
   "id": "81d92d40-fd65-445b-b4f9-25a94845ec13",
   "metadata": {},
   "outputs": [],
   "source": [
    "del dm"
   ]
  },
  {
   "cell_type": "markdown",
   "id": "60e70379-df9a-46c6-8060-67caaa08c58a",
   "metadata": {},
   "source": [
    "# Pubmed"
   ]
  },
  {
   "cell_type": "markdown",
   "id": "f9ce4684-9dce-44d0-8e07-4afdfb6edbb2",
   "metadata": {},
   "source": [
    "## Causal"
   ]
  },
  {
   "cell_type": "code",
   "execution_count": 6,
   "id": "2fe6b668-9ae7-4f21-a5d2-c79cfef34490",
   "metadata": {},
   "outputs": [
    {
     "name": "stderr",
     "output_type": "stream",
     "text": [
      "/home/neulab/anaconda3/envs/congrat/lib/python3.11/site-packages/torch/storage.py:414: FutureWarning: You are using `torch.load` with `weights_only=False` (the current default value), which uses the default pickle module implicitly. It is possible to construct malicious pickle data which will execute arbitrary code during unpickling (See https://github.com/pytorch/pytorch/blob/main/SECURITY.md#untrusted-models for more details). In a future release, the default value for `weights_only` will be flipped to `True`. This limits the functions that could be executed during unpickling. Arbitrary objects will no longer be allowed to be loaded via this mode unless they are explicitly allowlisted by the user via `torch.serialization.add_safe_globals`. We recommend you start setting `weights_only=True` for any use case where you don't have full control of the loaded file. Please open an issue on GitHub for any issues related to this experimental feature.\n",
      "  return torch.load(io.BytesIO(b))\n"
     ]
    }
   ],
   "source": [
    "dm = cg.utils.datamodule_from_yaml('configs/eval-datasets/pubmed/causal.yaml')['dm']\n",
    "\n",
    "# these don't differ between masked and causal; we only need to do it once\n",
    "stats['pubmed'] = {\n",
    "    'num_edges': dm._get_edgelist().shape[0],\n",
    "    'num_texts': len(dm.dataset.text),\n",
    "    'num_nodes': dm.dataset.graph_data.node_ids.shape[0],\n",
    "}"
   ]
  },
  {
   "cell_type": "code",
   "execution_count": 7,
   "id": "db1af940-ea72-464d-8e34-aaa403b60565",
   "metadata": {
    "scrolled": true,
    "tags": []
   },
   "outputs": [
    {
     "name": "stdout",
     "output_type": "stream",
     "text": [
      "{'text_node_ids': tensor([17145742, 12651051,  9787347, 12513038,  7776502, 16204372, 16999648,\n",
      "        19688338, 17487288, 15305887, 17076990,  7580637,  7786661, 15562143,\n",
      "        10584225, 10406747, 18664535, 15738451, 16585050, 17506119, 18393965,\n",
      "        12554547,  9669786, 19050058, 19171813, 11952022, 19403464, 17429083,\n",
      "         8762212, 18539917, 18198228,  9376887, 18349069, 18728082, 10671941,\n",
      "        18646147, 15381515, 11424235,  1932903, 15082736,  9301346, 16609090,\n",
      "         9842951, 18335280, 17591623, 17761995, 16970554, 17488363, 19690342,\n",
      "        19092145,  1833011,  9169400, 14960743, 10074012,  7872581, 16834874,\n",
      "        15386819, 15383444,  9068300, 12739028,  2451477,  4043581, 16614815,\n",
      "        10609124,  3556279, 15677778, 18586907, 18552604,  6337899,  9606176]), 'text': ['Copyright 2006 Massachusetts Medical Society.', 'CONCLUSIONS\\nOur data demonstrate that acute, short-term hyperglycemia induces an increased activation of platelets exposed to high shear stress conditions in vitro (filtration method) or in vivo (bleeding time). In vivo platelet activation is reflected by an increased urinary excretion of 11-dehydro-TxB(2). The increased levels of vWF in the circulation correlate with the increase in platelet activation markers and may indicate some degree of causation. Acute, short-term hyperglycemia in T2DM may precipitate vascular occlusions by facilitating platelet activation.', 'MAIN OUTCOME MEASURES\\nThe 14-year progression of retinopathy, progression to proliferative retinopathy, and incidence of macular edema were detected by masked grading of stereoscopic color fundus photographs using the modified Airlie House classification and the Early Treatment Diabetic Retinopathy Study retinopathy severity scheme.', 'PARTICIPANTS\\n2763 postmenopausal women with coronary heart disease who were followed for 4.1 years. At baseline, 734 women had diabetes, 218 women had impaired fasting glucose, and 1811 women were normoglycemic; the 2029 women without diabetes were followed for incident diabetes.', 'MAIN OUTCOME MEASURES\\nInsulin secretion and insulin sensitivity assessed by hyperglycemic (N = 100) and euglycemic-hyperinsulinemic (N = 62) clamp experiments.', 'PATIENTS OR OTHER PARTICIPANTS\\nThe study participants were recruited through referrals, self-report, and hospital/clinic ascertainment. Individuals with newly diagnosed type 1 diabetes, less than 30 yr old, were invited to participate. Of 288 young women enrolled, 188 reported menarche by 2002; 105 were diagnosed before menarche.', 'INTERVENTIONS\\nDosages of randomly assigned glyburide and pioglitazone were titrated every 4 weeks for 16 weeks in 5-mg/day and 15-mg/day increments, respectively, until a fasting plasma glucose level between 69 and 141 mg/dl was achieved. The optimized regimen was maintained during the subsequent 40-week double-blind phase.', 'TRIAL REGISTRATION\\nClinicalTrials.gov NCT00331851.', 'CONCLUSIONS\\nIt may be stated that reduced aortic distensibility (increased elastic modulus) and the CFVR were demonstrated simultaneously during STEE in diabetic patients compared with nondiabetic subjects with negative coronary angiograms.', 'Copyright 2004 Blackwell Publishing Ltd', \"LIMITATIONS\\nAlthough baseline data come from the clinics of a single academic institution, collected in 1997, the care of these diabetes patients was remarkably similar to care recently observed nationally. In addition, the data are dependent on the medical record and may not accurately reflect patients' actual experiences.\", 'INTERVENTIONS\\nIntensive diabetic therapy was allocated to 36 patients (27 men, 9 women) and conventional diabetic therapy to 34 (24 men, 10 women).', 'CONCLUSIONS\\nThese results show that twins with type 1 diabetes have left ventricular diastolic dysfunction related to diabetes duration and cardiac autonomic dysfunction but not to glycaemic control or microvascular complications. In addition, genetic factors contribute to left ventricular dimension and function.', 'CONCLUSIONS\\nMetformin, troglitazone, acarbose, and orlistat have been shown to decrease the risk of progression to diabetes in patients at risk for developing diabetes. Other questions that address issues such as identifying target populations, cost-effectiveness, and screening strategies must be answered to more fully define the place of pharmacologic therapy to prevent or delay diabetes.', 'MAIN OUTCOME MEASURES\\nOvarian autoantibodies directed to ooplasm, zona pellucida, membrana granulosa, theca folliculi interna, and lutein cells, insulin autoantibodies, thyroid peroxidase and thyroglobulin autoantibodies. Menstrual cycle character, endocrine glands disturbance. Diabetes control, body mass index, duration of IDDM.', 'MAIN OUTCOME MEASURES\\nClinical characteristics of monozygotic and dizygotic twins with or without a family history of type 2 diabetes.', 'CONCLUSION\\nEvidence that IL-1beta mRNA expression is up-regulated in beta-cells of patients with T2DM is presented, and glucose-promoted IL-1beta autostimulation may be a possible contributor.', 'TARGET POPULATION\\nMembers of the DPP cohort 25 years of age or older with impaired glucose tolerance.', 'DATA EXTRACTION\\nTwo independent reviewers extracted data. The primary outcome was major coronary events defined as coronary heart disease death, non-fatal myocardial infarction, or myocardial revascularisation procedures.', '2007 John Wiley & Sons, Ltd', 'CONCLUSIONS\\nThe beliefs of some PCPs are inconsistent with their diabetes treatment goals (HbA1c < or = 7%). Continuing medical education programmes that focus on increasing primary care physician knowledge about the progression of diabetes, the physiological effects of insulin, and tools for successfully initiating insulin in patients with type 2 diabetes are needed.', 'CONCLUSIONS\\nThe impact of new communication technologies might be jeopardized by the low rate of access and utilization of the Internet for health-related purposes. Because of their high rate of ownership and use, mobile phones show promise as a tool in health care communication technologies.', 'PARTICIPANTS\\nThe 1168 subjects enrolled in DCCT with type 1 diabetes who were aged 18 years or older at baseline.', 'CONCLUSION\\nTCF7L2 type 2 diabetes susceptibility alleles are associated with islet autoantibody-negative but not autoantibody-positive new onset diabetes in young patients.', 'TRIAL REGISTRATION\\nclinicaltrials.gov Identifier: NCT00017953.', 'CONCLUSIONS\\nTreatment with pioglitazone was associated with greater beneficial effects on blood lipid levels than treatment with rosiglitazone, whereas glycemic control was equivalent between the 2 treatments.', \"CONCLUSIONS\\nExperienced clinical practitioners working in diabetes teams exhibited positive attitudes towards a Web 2.0 portal tailored for young patients with type 1 diabetes and their parents. The portal included provision of third-party information, as well as practical and social means of support. The practitioners' early and active participation provides a possible explanation for these positive attitudes. The findings encourage close collaboration with all user groups when implementing Web 2.0 systems for the care of young patients with chronic diseases, particularly type 1 diabetes. The study also highlights the need for efforts to educate clinical practitioners in the use of Web publishing, social networking, and other Web 2.0 resources. Investigations of attitudes towards implementing similar systems in the care of adults with chronic diseases are warranted.\", 'Copyright 2007 Massachusetts Medical Society.', 'CONCLUSIONS\\nBecause the effect of any antihypertensive drug, including diuretics and beta-blockers, on cardiovascular morbidity and on mortality in non-insulin-dependent diabetic patients is not known, rational treatment selection can presently be based only on surrogate end-points. Therefore, the triad of metabolic neutrality with antihypertensive and antiproteinuric efficacy supports combined verapamil-trandolapril as a potentially valuable therapy for hypertension accompanying diabetes mellitus.', '2008 Massachusetts Medical Society', 'STUDY PARTICIPANTS\\nSeven type 1 diabetic patients between 18 and 50 yr old and six matched control subjects were included in the study.', 'RESULTS\\nOf the 354 subjects randomized, 279 (79%) completed at least 9 months of therapy and, of these, 263 (94%) provided at least one diet record during the baseline period and two diet records during the treatment period. After one year, subjects on acarbose had lost 0.46 +/- 0.28 kg, which differed significantly from the 0.33 +/- 0.25 kg weight gain on placebo (P = 0.027). The difference in weight change between acarbose and placebo did not differ significantly in the different treatment strata. Being in the study had significant effects on diet, including a reduction in energy intake from 1760-1700 Kcal/d (P < 0.05), a reduction in simple sugars intake from 18.5-17.4% of energy (P < 0.001), and reductions in the number of different foods consumed (33-30, P < 0.001) and the number of meals eaten per day (4.7-4.3, P < 0.001). However, compared to placebo treatment, acarbose had no effect on energy intake, nutrient intakes, or dietary patterns.', 'RESULTS\\nIrregular menses and amenorrhea were more common in T1D than Non-DM women (22.1 vs. 14.9%, P < 0.05 and 16.6 vs. 7.0%, P < 0.001). T1D women reported less BC use than Non-DM women (79.8 vs. 89.9%, P < 0.001) and reached menarche at an older age (13.1 +/- 1.8 vs. 12.8 +/- 1.5 yr, P < 0.05). Use of BC was associated with less CAC progression in all women, but this association was stronger in T1D women (P value for interaction = 0.02). Irregular menses were associated with greater CAC progression only among T1D women.', 'MAIN OUTCOME MEASURES\\nEarly background retinopathy; blood pressure.', 'CONCLUSIONS\\nThis study demonstrates that CTLA4 49 A-G polymorphism is associated with type 1 diabetes in Han Chinese children. The CTLA4 49 G allele confers an increased risk of type 1 diabetes.', 'DATA COLLECTION AND ANALYSIS\\nTwo reviewers independently scanned the titles. Data were extracted and analysed accordingly.', 'DATA EXTRACTION\\nRelative risk estimates were derived or abstracted from each cohort study that met the inclusion criteria.', 'Copyright 2001 John Wiley & Sons, Ltd.', 'INTERVENTION\\nPatients were randomised to receive either human or porcine insulin for six weeks and were then changed over to the other type of insulin for a further six weeks.', 'CONCLUSIONS\\nApart from chance, the most probable explanation for the geographical variation in the risk for children and adolescents to develop type 1 diabetes between the municipalities in the region is that local environmental factors play a part in the process leading to the disease.', 'CONCLUSIONS\\nThe results are consistent with the recommendation of a BPA working party in 1990 that children with diabetes should be cared for by specialist paediatricians with a caseload of more than 40 children, and that children should be seen in a designated diabetic clinic.', 'RESULTS\\nMean (SD) urinary 8-iso PGF2alpha excretion rates were higher in the 21 patients with diabetes (482 [206] pg/mg of creatinine) compared with controls (275 [85] pg/mg of creatinine). In univariate analysis, only MAGE (r = 0.86; P<.001) and AUCpp (r = 0.55; P = .009) showed significant correlations with urinary 8-iso PGF2alpha excretion rates. Relationships between 8-iso PGF2alpha excretion rates and either MAGE or AUCpp remained significant after adjustment for the other markers of diabetic control in multiple linear regression analysis (multiple R2 = 0.72 for the model including MAGE and multiple R2 = 0.41 for the model including AUCpp). Standardized regression coefficients were 0.830 (P<.001) for MAGE and 0.700 (P = .003) for AUCpp.', 'PARTICIPANTS\\nHypothetical cohort of 10000 persons with newly diagnosed diabetes from the general US population.', 'MEASUREMENTS\\nRPG was measured, and each subject had a 75-g oral glucose tolerance test several weeks later. Glucose intolerance targets included diabetes, impaired glucose tolerance (IGT), and impaired fasting glucose(110) (IFG(110); fasting glucose, 110-125 mg/dl, and 2 h glucose < 140 mg/dl). Screening performance was measured by area under receiver operating characteristic curves (AROC).', 'INTERVENTIONS\\nStandardised usual care with measurements of HbA1c every three months as the control group (n=152), blood glucose self monitoring with advice for patients to contact their doctor for interpretation of results, in addition to usual care (n=150), and blood glucose self monitoring with additional training of patients in interpretation and application of the results to enhance motivation and maintain adherence to a healthy lifestyle (n=151).', 'INTERVENTIONS\\nInvited for screening for type 2 diabetes or not invited (controls), incorporating a comparative study of subgroups of screening attenders. Attenders completed questionnaires after a random blood glucose test and at 3-6 months and 12-15 months later. Controls were sent questionnaires at corresponding time points. Non-attenders were sent questionnaires at 3-6 months and 12-15 months.', 'MEASURMENTS\\nWe defined simultaneous control of outcomes using 1997 VA Guidelines (in place in 2000) (HbA1c < 9.0%; LDL-C < 130 mg/dL; systolic BP < 140 mmHg; and diastolic BP < 90 mmHg) and 2004 ADA guidelines (HbA1c < 7.0%; LDL-C < 100 mg/dL; systolic BP < 130 mmHg; and diastolic BP < 80 mmHg). A patient is considered to have simultaneous control of the intermediate outcomes for a given definition if the average of measurements for each outcome was below the defined threshold during the study period.', 'RESULTS\\nRSG treatment led to a rapid relative reduction in urinary hippurate and aromatic amino acids as well as an increase in plasma branched chain amino acids and alanine, glutamine and glutamate in the T2DM group. No RSG treatment effects were noted in the HV group. Exploratory baseline analyses showed that urine and plasma metabolites discriminated between genders and disease state. T2DM patients showed a relative increase in urinary concentrations of several amino acids, citrate, phospho(enol)pyruvate and hippurate. Putative T2DM-related changes in plasma were largely attributable to increased plasma lipids.', 'MAIN OUTCOME MEASURE\\nComposite of death or hospital admission for either acute myocardial infarction or heart failure. In a secondary analysis, each outcome was also examined individually.', '2009 Massachusetts Medical Society', 'MAIN OUTCOME MEASURES\\nSerum concentrations of Lp(a) lipoprotein, total cholesterol, high density lipoprotein cholesterol, very low density lipoprotein cholesterol, low density lipoprotein cholesterol, triglycerides, and apolipoproteins A-I, A-II, and B.', 'MAIN OUTCOME MEASURES\\nPresence of islet cell antibodies, insulin autoantibodies, and autoantibodies to glutamic acid decarboxylase (GAD65) in serum samples from twin pairs 10 years (range 0-30 years) and 9.5 years (2-30 years) after onset of disease.', 'Copyright 2004 Massachusetts Medical Society', 'MAIN OUTCOME MEASURES\\nAnalysis of progression to diabetes and expression of anti-islet autoantibodies.', 'OUTCOME MEASURES\\nNon-insulin-dependent diabetes mellitus.', 'METHOD\\nSeventy-nine patients with type 2 diabetes were recruited. Focus group interviews were conducted with 79 patients with type 2 diabetes from seven practices in Leeds, UK.', 'Copyright (c) 2004 John Wiley & Sons, Ltd.', 'CONCLUSION\\nInitial presentation of IDDM in Scotland follows a stable seasonal pattern in all but the youngest children with lower rates of presentation in holiday periods and at weekends for all age groups.', 'MAIN OUTCOME MEASURES\\nThe incidence of IDDM in this population and its variation by age and sex.', 'AIMS/HYPOTHESIS\\nIn a model of streptozotocin-induced Type 1 diabetes mellitus in rats of 9 weeks duration, we analysed time associations between the development of hyperglycaemia, early and intermediate glycosylation Amadori adducts, or AGE compared with enhancement of oxidative stress and endothelial dysfunction.', 'The nature of microproteinuria in the early years of insulin-dependent diabetes was investigated in a cross sectional study of 80 children with insulin-dependent diabetes and 40 normal children. Urinary excretion of three low molecular weight proteins: alpha-1-microglobulin, beta-2-microglobulin and kappa light chains was used as an index of proximal renal tubular function. The first urine samples of the morning were collected and excretion of proteins measured was expressed as ratio of protein to creatinine. There was a strong correlation between excretion of alpha-1-microglobulin and chi light chains and their excretion was significantly higher in diabetic children indicating decreased proximal tubular reabsorbtion. The excretion of beta-2-microglobulin was found to be an unsatisfactory index of proximal tubular function. Urinary albumin excretion was not significantly raised in diabetic children and did not correlate with urinary alpha-1-microglobulin or chi light chain excretion. Glycaemic control might influence proximal tubular function as both urinary glucose concentration and glycosylated haemoglobin showed correlations with urinary alpha-1-microglobulin excretion and with urinary chi light chain excretion.', 'The value of exercise as a provocative test for early renal disease in Type 1 (insulin-dependent) diabetes was re-evaluated. Three carefully characterized groups of males were studied: 10 non-diabetic controls, 16 diabetic patients (group 1) with normal urinary albumin excretion (less than 15 micrograms/min) and 14 Albustix-negative diabetics (group 2) with increased urinary albumin excretion (15-122 micrograms/min). Assignment to a study group was made on the basis of three 24-h urine collections, and the groups were well matched for age, weight, height, and serum creatinine concentration. The two diabetic groups were similar with regard to duration of disease (13 +/- 6 versus 16 +/- 3 years), metabolic control (HbA1c: 8.4 +/- 1.4 versus 8.7 +/- 1.3%) and degree of diabetic complications (beat-to-beat variation and retinopathy). An exercise protocol of 450 and 600 kpm/min workloads was employed. In the resting state group 2 patients had elevated systolic blood pressure compared with the normal subjects (132 +/- 13 versus 119 +/- 9 mmHg), and their glomerular filtration rate was significantly reduced compared with group 1 (123 +/- 19 versus 138 +/- 15 ml/min per 1.73 m2, p less than 0.05). During exercise the urinary albumin excretion rate increased significantly in all three groups (normal subjects: 6 +/- 0.7 to 8 +/- 1.3 (microgram/min); group 1: 6 +/- 0.6 to 9 +/- 1 microgram/min and group 2: 48 +/- 10 to 113 +/- 23 micrograms/min), the relative increase being higher in group 2 (p less than 0.01).(ABSTRACT TRUNCATED AT 250 WORDS)', 'AIMS/HYPOTHESIS\\nWe analysed the contribution of the lymphoid protein tyrosine phosphatase (LYP) Arg620Trp variant (which corresponds to the PTPN22 C1858T polymorphism) to the emergence of beta-cell-specific humoral autoimmunity and progression to type 1 diabetes in man. We also explored the heterogeneity in the disease-predisposing effect of this polymorphism in relation to known disease loci, sex and age at disease onset.', 'Although children and adolescents with type 1 diabetes are faced with the threat of the acute complications of hypoglycemia and ketoacidosis on a day-to-day basis, in the long-term, the microvascular and macrovascular complications of the disease place them at greatest risk for serious morbidity and earlier than expected mortality. The families of children with diabetes should be provided with information about the complications of diabetes beginning at the time of diagnosis, and this information needs to be reinforced throughout the follow-up period. Appropriate surveillance for the earliest evidence of microvascular disease should begin at the onset of puberty and after 3 to 5 years of diabetes. Therapeutic interventions, particularly excellent metabolic control, may be exceedingly effective in preventing complication onset or significantly retarding the rate of progression.', 'The importance of T-lymphocytes in the induction of insulitis and hyperglycemia in certain strains of mice treated with multiple subdiabetogenic doses of streptozocin has been a matter of controversy. To understand the role of T-lymphocytes, we treated thymectomized BALB/c ByJ mice with five daily doses of streptozocin (45 mg/kg) and determined the effect of treatment with monoclonal antibodies against T-lymphocyte subsets on the development of diabetes and insulitis. Hyperglycemia (mean glucose of 321 +/- 29 vs. 167 +/- 15 mg/dl in controls) and insulitis were induced in BALB/c ByJ mice given streptozocin. Thy1.2+, L3T4, and Lyt2+ cells were all identified within the islets of diabetic mice. There was a relative paucity of L3T4+ cells and an overabundance of Lyt2+ cells compared with the frequency of these cells found in lymphatic tissues or peripheral blood. Treatment with anti-L3T4 or anti-Lyt2 monoclonal antibodies caused a reduction in splenic T-lymphocyte subsets and attenuated the hyperglycemia to 212 +/- 14 and 197 +/- 16 mg/dl (P less than .001 and .01), respectively, compared with controls and prevented the insulitis induced by streptozocin. Our studies support the hypothesis that an immune response is important to the development of multi-low-dose streptozocin diabetes and indicate that treatment with monoclonal antibodies against the L3T4+ or Lyt2+ T-lymphocyte subsets can attenuate this process.', 'OBJECTIVE\\nTo assess and compare the long-term effects of the combination of candesartan and lisinopril with high-dose lisinopril on systolic blood pressure in patients with hypertension and diabetes.', 'Mesenchymal stem cells (MSCs) are pluripotent stromal cells that have the potential to give rise to cells of diverse lineages. Interestingly, MSCs can be found in virtually all postnatal tissues. The main criteria currently used to characterize and identify these cells are the capacity for self-renewal and differentiation into tissues of mesodermal origin, combined with a lack in expression of certain hematopoietic molecules. Because of their developmental plasticity, the notion of MSC-based therapeutic intervention has become an emerging strategy for the replacement of injured tissues. MSCs have also been noted to possess the ability to impart profound immunomodulatory effects in vivo. Indeed, some of the initial observations regarding MSC protection from tissue injury once thought mediated by tissue regeneration may, in reality, result from immunomodulation. Whereas the exact mechanisms underlying the immunomodulatory functions of MSC remain largely unknown, these cells have been exploited in a variety of clinical trials aimed at reducing the burden of immune-mediated disease. This article focuses on recent advances that have broadened our understanding of the immunomodulatory properties of MSC and provides insight as to their potential for clinical use as a cell-based therapy for immune-mediated disorders and, in particular, type 1 diabetes.', 'This article provides a review of literature both to identify the effects of yoga-based therapy on the management of type 2 diabetes mellitus and to examine the social context of physical activity. Findings from the review indicate that yoga has a positive short-term effect on multiple diabetes-related outcomes; however, long-term effects of yoga therapy on diabetes management remain unclear. The context of the social environment, including interpersonal relationships, community characteristics, and discrimination, influences the adoption and maintenance of health behaviors such as physical activity, including yoga practice. Further research is necessary to determine the extent of this influence.', 'Although sulfonylureas have been used extensively in the treatment of non-insulin-dependent (type II) diabetes, controversy exists as to whether these agents act primarily by increasing insulin secretion or by enhancing insulin action. To determine whether sulfonylureas potentiate insulin action in the liver, we evaluated the ability of the sulfonylurea tolazamide to affect insulin-sensitive lipogenesis utilizing primary cultures of hepatocytes prepared from both normal and nonketotic streptozotocin-diabetic rats. Hepatocytes were cultured for 16 h in serum-free media with no additions, tolazamide alone (0.3 mg/ml), or insulin (10(-10) to 10(-7)M) in the absence and presence of tolazamide. Following culture, lipogenesis and specific insulin binding were assessed. Dose-dependent increases in lipogenesis were found in hepatocytes from both normal and diabetic rats after the chronic exposure to insulin. In hepatocytes from diabetic rats, the basal and the maximal insulin-stimulated rates of lipogenesis were only 27% and 13% of normal, respectively, establishing this as a model of hepatic insulin resistance. In the presence of tolazamide, significant potentiation of insulin action was found in hepatocytes from normal and diabetic rats although hepatocytes from diabetic animals remained relatively resistant to insulin when compared with those from nondiabetic animals. While exposure to tolazamide increased insulin responsiveness in both groups of cells, no changes in insulin sensitivity (ED50) were observed. Tolazamide significantly increased insulin binding (12%) in hepatocytes from normal rats cultured in the absence of insulin, but no alterations in insulin binding were found under incubation conditions in which tolazamide potentiated insulin action. These results give the first direct evidence for an insulin-dependent action of a sulfonylurea on the liver from both normal and diabetic rats and indicate that the enhancement of insulin responsiveness occurs through postbinding mechanisms.', 'The tyrosine phosphatase IA-2 is a molecular target of pancreatic islet autoimmunity in type 1 diabetes. T-cell epitope peptides in autoantigens have potential diagnostic and therapeutic applications, and they may hold clues to environmental agents with similar sequences that could trigger or exacerbate autoimmune disease. We identified 13 epitope peptides in IA-2 by measuring peripheral blood T-cell proliferation to 68 overlapping, synthetic peptides encompassing the intracytoplasmic domain of IA-2 in six at-risk type 1 diabetes relatives selected for HLA susceptibility haplotypes. The dominant epitope, VIVMLTPLVEDGVKQC (aa 805-820), which elicited the highest T-cell responses in all at-risk relatives, has 56% identity and 100% similarity over 9 amino acids (aa) with a sequence in VP7, a major immunogenic protein of human rotavirus. Both peptides bind to HLA-DR4(*0401) and are deduced to present identical aa to the T-cell receptor. The contiguous sequence of VP7 has 75% identity and 92% similarity over 12 aa with a known T-cell epitope in glutamic acid decarboxylase (GAD), another autoantigen in type 1 diabetes. This dominant IA-2 epitope peptide also has 75-45% identity and 88-64% similarity over 8-14 aa to sequences in Dengue, cytomegalovirus, measles, hepatitis C, and canine distemper viruses, and the bacterium Haemophilus influenzae. Three other IA-2 epitope peptides are 71-100% similar over 7-12 aa to herpes, rhino-, hanta- and flaviviruses. Two others are 80-82% similar over 10-11 aa to sequences in milk, wheat, and bean proteins. Further studies should now be carried out to directly test the hypothesis that T-cell activation by rotavirus and possibly other viruses, and dietary proteins, could trigger or exacerbate beta-cell autoimmunity through molecular mimicry with IA-2 and (for rotavirus) GAD.'], 'input_ids': tensor([[15269,  4793, 10140,  ..., 50256, 50256, 50256],\n",
      "        [47542, 11053,   198,  ..., 50256, 50256, 50256],\n",
      "        [ 5673,  1268, 16289,  ..., 50256, 50256, 50256],\n",
      "        ...,\n",
      "        [ 1212,  2708,  3769,  ..., 50256, 50256, 50256],\n",
      "        [ 7003, 22443,  1647,  ..., 50256, 50256, 50256],\n",
      "        [  464,  1259,  4951,  ...,   402,  2885,    13]]), 'attention_mask': tensor([[1, 1, 1,  ..., 0, 0, 0],\n",
      "        [1, 1, 1,  ..., 0, 0, 0],\n",
      "        [1, 1, 1,  ..., 0, 0, 0],\n",
      "        ...,\n",
      "        [1, 1, 1,  ..., 0, 0, 0],\n",
      "        [1, 1, 1,  ..., 0, 0, 0],\n",
      "        [1, 1, 1,  ..., 1, 1, 1]]), 'labels': tensor([[ 4793, 10140,  8366,  ...,  -100,  -100,  -100],\n",
      "        [11053,   198,  5122,  ...,  -100,  -100,  -100],\n",
      "        [ 1268, 16289,  9858,  ...,  -100,  -100,  -100],\n",
      "        ...,\n",
      "        [ 2708,  3769,   257,  ...,  -100,  -100,  -100],\n",
      "        [22443,  1647,    75,  ...,  -100,  -100,  -100],\n",
      "        [ 1259,  4951,   500,  ...,  2885,    13,  -100]]), 'graph_label': tensor([2, 2, 3, 3, 2, 1, 3, 2, 2, 2, 2, 2, 2, 2, 2, 2, 2, 2, 2, 2, 2, 2, 3, 1,\n",
      "        3, 3, 3, 3, 2, 2, 2, 1, 2, 2, 2, 2, 2, 2, 2, 2, 1, 1, 3, 1, 2, 3, 2, 2,\n",
      "        2, 2, 2, 3, 3, 3, 3, 3, 2, 3, 3, 3, 2, 3, 3, 2, 2, 2, 2, 3, 2, 1, 1, 2,\n",
      "        2, 1, 3, 3, 2, 3, 2, 2, 2, 3, 1, 2, 3, 3, 3, 3, 3, 3, 2, 2, 3, 1, 3, 2,\n",
      "        3, 3, 3, 3, 2, 2, 2, 3, 2, 2, 2, 3, 2, 2, 1, 1, 3, 3, 2, 2, 2, 2, 2, 2,\n",
      "        3, 1, 3, 3, 3, 3, 1, 3, 3, 2, 2, 3, 3, 2, 2, 2, 1, 3, 2, 1, 3, 3, 3, 2,\n",
      "        2, 3, 2, 3, 2, 2, 2, 2, 3, 3, 3, 3, 3, 3, 3, 1, 2, 3, 2, 1, 2, 2, 2, 2,\n",
      "        3, 3, 2, 2, 1, 2, 2, 3, 3, 3, 3, 3, 2, 2, 2, 3, 3, 3, 3, 3, 3, 3, 3, 3,\n",
      "        3, 3, 3, 3, 1, 2, 2, 1, 1, 3, 3, 2, 1, 3, 2, 3, 3, 2, 2, 1, 1, 3, 3, 2,\n",
      "        2, 2, 3, 2, 2, 2, 1, 3, 1, 2, 1, 2, 1, 2, 3, 3, 2, 3, 3, 2, 1, 3, 2, 3,\n",
      "        3, 3, 2, 2, 3, 3, 2, 2, 2, 2, 3, 3, 3, 3, 3, 1, 2, 2, 2, 1, 1, 2, 3, 3,\n",
      "        2, 2, 2, 3, 1, 3, 3, 2, 2, 3, 1, 2, 2, 2, 2, 3, 2, 3, 3, 3, 1, 1, 3, 1,\n",
      "        2, 3, 3, 2, 1, 2, 2, 3, 3, 3, 3, 2, 2, 2, 2, 2, 3, 3, 3, 3, 3, 2, 3, 2,\n",
      "        2, 1, 3, 1, 1, 2, 2, 3, 2, 3, 3, 2, 2, 3, 3, 1, 2, 3, 2, 1, 1, 2, 3, 2,\n",
      "        1, 2, 2, 1, 3, 2, 2, 2, 2, 3, 1, 3, 3, 2, 2, 2, 2, 3, 2, 3, 3, 2, 3, 3,\n",
      "        1, 1, 1, 2, 2, 3, 2, 2, 2, 3, 2, 3, 3, 2, 2, 2, 2, 2, 1, 1, 3, 2, 3, 3,\n",
      "        3, 3, 2, 2, 2, 2, 3, 3, 3, 1, 3, 3, 3, 1, 2, 2, 2, 2, 2, 2, 2, 3, 3, 1,\n",
      "        2, 2, 1, 1, 1, 3, 3, 2, 2, 3, 3, 2, 3, 2, 2, 2, 2, 1, 1, 2, 3, 2, 2, 2,\n",
      "        2, 3, 3, 3, 2, 1, 2, 3, 3, 1, 1, 2, 3, 3, 3, 2, 2, 3, 3, 3, 3, 3, 3, 3,\n",
      "        3, 2, 3, 2, 1, 2, 3, 2, 2, 3, 2, 3, 1, 3, 2, 1, 1, 1, 1, 3, 2, 2, 2, 2,\n",
      "        2, 3, 3, 3, 3, 2, 2, 1, 3, 3, 3, 3, 3, 1, 2, 3, 3, 3, 3, 3, 3, 3, 2, 3,\n",
      "        3, 3, 3, 3, 3, 3, 2, 1, 1, 1, 1, 3, 1, 1, 1, 1, 2, 2, 2, 2, 2, 3, 3, 2,\n",
      "        2, 2, 1, 3, 2, 2, 3, 3, 3, 2, 3, 2, 3, 2, 2, 3, 2, 2, 2, 2, 3, 2, 2, 1,\n",
      "        3, 2, 3, 3, 2, 2, 3, 2, 3, 3, 3, 3, 3, 3, 2, 2, 2, 2, 3, 2, 2, 2, 3, 2,\n",
      "        3, 3, 3, 3, 3, 1, 1, 3, 3, 1, 1, 2, 2, 2, 1, 3, 1, 3, 3, 3, 1, 2, 3, 2,\n",
      "        2, 3, 3, 3, 2, 2, 2, 1, 1, 2, 3, 2, 3, 2, 3, 3, 2, 3, 2, 1, 2, 2, 2, 3,\n",
      "        3, 1, 1, 1, 2, 2, 1, 1, 3, 2, 3, 3, 2, 2, 3, 2, 1, 2, 2, 2, 2, 2, 3, 3,\n",
      "        2, 3, 3, 1, 3, 3, 2, 1, 3, 1, 3, 3, 3, 2, 2, 2, 2, 2, 3, 2, 2, 3, 3, 3,\n",
      "        2, 3, 3, 3, 3, 3, 3, 2, 2, 3, 2, 2, 2, 1, 2, 3, 3, 2, 3, 1, 1, 3, 3, 3,\n",
      "        2, 3, 1, 1, 2, 1, 3, 2, 2, 2, 3, 3, 2, 3, 1, 1, 3]), 'graph_neg_edge_index': tensor([[279, 623, 281,  ..., 305, 190, 255],\n",
      "        [ 28,  70, 171,  ..., 359, 399, 414]]), 'graph_node_ids': tensor([10905477, 12414951, 11556298, 11832527, 10470079,  6337899,  2653926,\n",
      "         6738599,  2859524,  3919804,  3096429,  9399900,  8394635,  8601620,\n",
      "         2065845,  3057885,  3014039,  2494458,  9075599,  9770521,  7806025,\n",
      "         9114036,  7587918,  2676665,  2263645, 15738451,  2254458,  1541385,\n",
      "        14514594, 10651256,  7761837, 17313427, 18082388,  8093606,  2512191,\n",
      "         3186714,  2401398, 16177100, 11175794, 11707602,  3965456,  1430198,\n",
      "         9794114,  1901765, 17389382,  9135935, 15004560, 12173683,  9054945,\n",
      "         9356033,  1739347, 17003360, 17031610, 17245407, 17476472, 10189543,\n",
      "          131313, 18292756, 11742409, 17020404, 16775037, 18458139, 18539917,\n",
      "        17327427, 14635033,  7790825,  9094710, 10857963,  9388398,  3556279,\n",
      "         6383915, 11943852,  9122227, 10616837, 14551916,  7657022,  3290380,\n",
      "        12941733,  3290007,  4054448,  1348306, 10546021,  2851978, 12856080,\n",
      "        11375456, 15145632,  1600835,  7872581,  7926349, 18924636, 12008682,\n",
      "         9042129, 17145742, 11473057,  3378684,  1899407, 10675357,  7622000,\n",
      "         8675629,  9842951,  2656353, 17130504, 10195930,  1634622,  8254023,\n",
      "        17965882,  7786661,  9133559, 10784221,  1385478,  8721769,  2897315,\n",
      "         1914814, 10983484,  8026281,  2547682,  8415751,  2139617,  1869820,\n",
      "         9314549, 15504997,  8550831, 17306374, 11889200,  9049482, 16609090,\n",
      "         2068089, 14960743,  8152488,  7429060,  1786627, 12937895,  2258000,\n",
      "        15381515,  1639955, 18779578, 10389859, 15793183, 16043741,  2649514,\n",
      "        18769904, 17003306, 15161771, 16273109, 11106373, 10905483, 12554547,\n",
      "        11874930, 10868936,  2569104,  9727063, 12140742, 17697384, 15616251,\n",
      "        12965108, 15655244, 17077202, 11323089,  9376887,   658620,  7718510,\n",
      "        18372903, 19956097,  7895950,  9606176,  9669786, 15642078,  6435738,\n",
      "        10406747, 10064092,  3082444, 15834701,  1570315,  1737841,  2192194,\n",
      "        12882864, 16951059, 10958757, 16060703,  1899928, 11023146,  3901180,\n",
      "         1987411, 12825962, 10622252, 10845877, 10691158, 11150629,  9839106,\n",
      "        11707690, 10768088, 15127202,  2981749, 15451743, 10414474, 10895842,\n",
      "        10888252,  3850773,  7545875,  6978807,  2268272, 15937634, 17363746,\n",
      "        19029977, 10433489, 14693979,   838199, 15491494,  8866553,  8033530,\n",
      "         2861361, 17644085,  2243134,  2163202, 12882871,  8495980,  2695377,\n",
      "         3456197,  7883951,  9094680, 16407737, 11391334,  2418197, 15565284,\n",
      "         6833751, 15905321, 14560485, 15504969,  2180758, 10388989,  9326333,\n",
      "         7609750,  2261822, 12891212, 16555581, 15867184,  6360766, 19055834,\n",
      "        15383444,  9294105, 10905494, 12651051,  3875511, 16568259, 15777779,\n",
      "        17429083, 15616802,  2451477,  3924692,  4043581, 19111066, 14693720,\n",
      "        18008060, 12513038, 17476355, 18349126, 15561941, 15343360, 18509500,\n",
      "         9734600,  8137634, 15920043,  2702912,  2404717,  3710012,  1349195,\n",
      "        12699416, 16783636,  6445927, 14713699,  8422815, 17047287, 12021142,\n",
      "        12475775,  7589832,  7034534,  7558135,  1990188, 12031987, 16443870,\n",
      "         6381541, 12819896, 12087014, 16004665, 15880139, 11781357, 12181123,\n",
      "         3044883,  7893584, 17591623, 12401734,  6818070,  6454600, 12974752,\n",
      "         3863753, 19509199,  2259217, 17506119, 10372241,  2594949, 16802132,\n",
      "         3322901,  6381192,  9787347, 17761995, 16142814,  1612199,  7776502,\n",
      "        10934451, 11423501,  8359582, 16683131, 10334323,  1682198,  8083360,\n",
      "        18474939, 14592956,  2996865, 17657474, 16585050,  8546507, 19435491,\n",
      "        19092145, 12453967, 10873423, 15458456,  8477877,  2656351, 18586907,\n",
      "        18252897,  1547917,  7739353,  7229647,  8690906, 11809615, 16081028,\n",
      "         3949802,  7860729,  8675688,  7018755, 15562143,  9115575, 16412042,\n",
      "        15111500,  2661244, 16644712,  6207270,  2239905, 12080164,  7009418,\n",
      "         8150233,  4053961,  1576813, 15793205,  9771706, 17416797,  9516221,\n",
      "        10708445,  1888242, 11481585,  6759266,  6345249,  6448759, 12975466,\n",
      "        12417628, 16110930, 14655518,  2210071,  8778001, 16776751, 12802494,\n",
      "        16670002, 19273282,  1916057, 16204372,  8559617,  8799655, 10584225,\n",
      "         9559887,  8735642, 16773565, 16030147, 18433508, 11862322, 12079853,\n",
      "        12941770, 11049955,  2354748, 10779485,  9647636,  7851072, 18401346,\n",
      "        12379575, 11161631, 18654634, 16682971,  7895463,  6791599, 17703632,\n",
      "        10342337, 12519837, 10744651,  9794372,  1955097, 18400966, 11735640,\n",
      "         8243848,  7031154,  1513113,  1644246,   275862,  7008780,    99482,\n",
      "        11424235, 18364392, 12828818, 10480766,  9287053,  9685778,  2731460,\n",
      "        16970554, 15806321, 19768110, 16828235, 15877293,  2344352,  2931994,\n",
      "           98828,  2689121, 18346973,  7043386, 10074012,  9169400, 10480769,\n",
      "        18205259, 10477212,  7580637, 19706162, 15503050,  1918382, 19578398,\n",
      "        18638371,  1966737, 16903915, 19858481, 18806884, 12133154, 11874938,\n",
      "        18728082,  9294791,  8762212,  8070610,  7556989, 18089694,  3898828,\n",
      "        17487288,  9158162, 10671941, 10531848,  7589885,  2200729, 16247001,\n",
      "        18986536, 15492944, 10433063,  9075818, 17943268, 19060908, 12739028,\n",
      "        18669812,  8943488, 16034613,  6461461,   179906, 12970107, 10643211,\n",
      "        17203405,  9244304, 11737058,   705775,  2299984, 14730479, 16401311,\n",
      "        11473043,  8817106, 18319310, 15793182,  3292589,  9702469, 19119252,\n",
      "        12712243, 16202877, 11704924, 10821782,  1833011, 17462100, 16801570,\n",
      "        15132888, 19292929, 18445251, 19289805, 19209188,  7358225, 18561508,\n",
      "        12087008,  8720610,  1559409,  3102297, 16873750,  8941652,  3891786,\n",
      "         8349807,  1397717,  8318685,  2913290,  3121350,  2221011, 18769499,\n",
      "        12963802,  8168637, 14616779, 18694972, 17931054,  9447411,  1324601,\n",
      "         2370888,  3325324,  9068300, 10488743,  9301346,  7911033, 18552604,\n",
      "         9158104,  8405738, 17488363, 17671643, 17503332, 18759852, 18346983,\n",
      "          510129, 17663782, 15734872, 16614815,  7972005, 10540156,  9539991,\n",
      "        15386819, 11420205, 15868769, 17697317, 16697661,  2953760, 17175680,\n",
      "        11427629, 15616247, 11952022, 18835928,  3289293,  7821730, 14578288,\n",
      "        15539803, 16834874, 12830569, 18393965, 17337497, 11140008, 15851427,\n",
      "        11935714, 10609124,  7851224, 19718502, 14581148, 16620276, 15305888,\n",
      "        18502305, 18252823, 19756162,  9706120, 12361494, 14514648, 19688338,\n",
      "        10469241,  2961642, 17135629, 19001303,  8462769,  2156685, 18547236,\n",
      "        16759309, 18646147, 19060128, 12841358, 17438340, 19171813, 15019860,\n",
      "        15305887, 15362508, 16331117,  1742694, 15082736, 12196423, 16277163,\n",
      "        19056611,  8163045,  2144835,  7806021,  7821744, 19344500,  6493613,\n",
      "         1932903, 17257275, 17676306, 16494646, 18840781, 16978494, 19050058,\n",
      "        19125193, 18985156, 10753043,  2991415, 18414395, 15842729, 10566601,\n",
      "        17493545, 16873790, 18728230,  9028712, 11035359,  1933705,  9022080,\n",
      "         2144301,  6500187, 10421233, 19143811, 10398549, 16999648, 19050249,\n",
      "        18194666, 18497871, 17991456,  8342628, 16990215, 18660851, 12955714,\n",
      "         7850272, 18349069, 17076990, 10336573,  1833119,  7851070, 19056609,\n",
      "         1801104, 18782902, 17290034,  8729151, 18406405, 18664535, 17977959,\n",
      "        18078023, 16882276, 19475778, 15677778,  6592119, 18198228, 19403464,\n",
      "        16300853, 18430204, 19653885, 17630266, 17672892,  8900242,  8432414,\n",
      "        19156219, 18825272, 18335280, 15677784, 15461902, 14574451,  8894475,\n",
      "         3606192, 12153522, 15833140, 18053255,  2057278,  7895458,  1533230,\n",
      "         7020102,  6594299, 20003208, 11212851, 19898642, 14744819, 10915836,\n",
      "        16236379, 19690342, 18644075,  1967433, 18287369,  8590990,  2150210,\n",
      "        17311546,  7982267,  1860554,  2309858, 19143810, 12935776, 12529398,\n",
      "        17763840, 17563730, 10903125,  7685354,  1445271, 19019231]), 'graph_x': tensor([[-2.0463e-01,  1.5597e+00, -5.7121e-01,  ...,  1.6765e+00,\n",
      "          2.1233e+00,  8.7787e-01],\n",
      "        [-1.6201e-01,  3.1174e+00, -9.8976e-01,  ...,  8.6106e-01,\n",
      "          2.4904e+00,  3.9419e-02],\n",
      "        [ 3.2158e-01, -9.7230e-02,  7.8592e-01,  ...,  2.7406e+00,\n",
      "         -8.5268e-01,  8.8381e-01],\n",
      "        ...,\n",
      "        [-2.4929e-01, -2.7510e-01, -5.0084e-02,  ..., -8.0411e-03,\n",
      "          2.8448e-03,  1.9544e-02],\n",
      "        [-2.4390e-01, -2.7485e-01, -4.8088e-02,  ..., -2.2393e-01,\n",
      "          4.0521e-01, -4.0407e-01],\n",
      "        [-2.0495e-01, -2.7596e-01, -4.0052e-02,  ..., -3.5431e-02,\n",
      "          9.1454e-01, -2.6481e-01]]), 'graph_edge_index': tensor([[  0,   1,   1,  ..., 712, 712, 712],\n",
      "        [  1,   0, 360,  ..., 244, 471, 591]]), 'graph_sim_mutual': tensor([[1.0000, 0.0000, 0.0000,  ..., 0.0000, 0.0000, 0.0000],\n",
      "        [0.0000, 1.0000, 0.0000,  ..., 0.0000, 0.0000, 0.0000],\n",
      "        [0.0000, 0.0000, 1.0000,  ..., 0.0000, 0.0000, 0.0000],\n",
      "        ...,\n",
      "        [0.0000, 0.0000, 0.0000,  ..., 1.0000, 0.0000, 0.0000],\n",
      "        [0.0000, 0.0000, 0.0000,  ..., 0.0000, 1.0000, 0.0000],\n",
      "        [0.0000, 0.0000, 0.0000,  ..., 0.0000, 0.0000, 1.0000]])}\n"
     ]
    }
   ],
   "source": [
    "print(next(iter(dm.val_dataloader())))"
   ]
  },
  {
   "cell_type": "code",
   "execution_count": 8,
   "id": "67d74f4c-2ca8-4355-9ea3-c480206d670a",
   "metadata": {},
   "outputs": [],
   "source": [
    "del dm"
   ]
  },
  {
   "cell_type": "markdown",
   "id": "7abbe56a-f50e-4bcd-b368-7c4384dab4cd",
   "metadata": {},
   "source": [
    "## Masked"
   ]
  },
  {
   "cell_type": "code",
   "execution_count": null,
   "id": "284dd0c4-edda-44d4-b5c6-7405a365b333",
   "metadata": {},
   "outputs": [],
   "source": [
    "dm = cg.utils.datamodule_from_yaml('configs/eval-datasets/pubmed/masked.yaml')['dm']"
   ]
  },
  {
   "cell_type": "code",
   "execution_count": null,
   "id": "661b4481-341e-431d-8913-891202b1dbca",
   "metadata": {
    "scrolled": true,
    "tags": []
   },
   "outputs": [],
   "source": [
    "print(next(iter(dm.val_dataloader())))"
   ]
  },
  {
   "cell_type": "code",
   "execution_count": null,
   "id": "548f21ff-e6a5-439f-b106-fd39bd4715f8",
   "metadata": {},
   "outputs": [],
   "source": [
    "del dm"
   ]
  },
  {
   "cell_type": "markdown",
   "id": "8b84f46c-c49e-48d8-8a06-d564192d7982",
   "metadata": {},
   "source": [
    "# TRex"
   ]
  },
  {
   "cell_type": "markdown",
   "id": "04db2612-0093-4454-bb36-d97fcf0f8e3a",
   "metadata": {},
   "source": [
    "## Causal"
   ]
  },
  {
   "cell_type": "code",
   "execution_count": null,
   "id": "173e41ac-8eab-4e1e-b6bd-c20aa7035f42",
   "metadata": {},
   "outputs": [],
   "source": [
    "dm = cg.utils.datamodule_from_yaml('configs/eval-datasets/trex/causal.yaml')['dm']\n",
    "\n",
    "# these don't differ between masked and causal; we only need to do it once\n",
    "stats['trex'] = {\n",
    "    'num_edges': dm._get_edgelist().shape[0],\n",
    "    'num_texts': len(dm.dataset.text),\n",
    "    'num_nodes': dm.dataset.graph_data.node_ids.shape[0],\n",
    "}"
   ]
  },
  {
   "cell_type": "code",
   "execution_count": null,
   "id": "c366e667-6940-4065-9ef7-5ac57c8b6b97",
   "metadata": {
    "scrolled": true,
    "tags": []
   },
   "outputs": [],
   "source": [
    "print(next(iter(dm.val_dataloader())))"
   ]
  },
  {
   "cell_type": "code",
   "execution_count": null,
   "id": "151025a4-2316-406c-813f-a999a95f5b82",
   "metadata": {},
   "outputs": [],
   "source": [
    "del dm"
   ]
  },
  {
   "cell_type": "markdown",
   "id": "5db62f84-eac9-4a25-af16-795fc76e7554",
   "metadata": {},
   "source": [
    "## Masked"
   ]
  },
  {
   "cell_type": "code",
   "execution_count": null,
   "id": "392d4fb1-a277-4a42-9fa7-ae09e8e282f2",
   "metadata": {},
   "outputs": [],
   "source": [
    "dm = cg.utils.datamodule_from_yaml('configs/eval-datasets/trex/masked.yaml')['dm']"
   ]
  },
  {
   "cell_type": "code",
   "execution_count": null,
   "id": "0832634e-1d2a-492e-b201-005346d7c379",
   "metadata": {
    "scrolled": true,
    "tags": []
   },
   "outputs": [],
   "source": [
    "print(next(iter(dm.val_dataloader())))"
   ]
  },
  {
   "cell_type": "code",
   "execution_count": null,
   "id": "e5fa2415-ee4a-41fc-ac65-cbd8d918fba7",
   "metadata": {},
   "outputs": [],
   "source": [
    "del dm"
   ]
  },
  {
   "cell_type": "markdown",
   "id": "e24c90ac-d703-49ab-9eee-1b314f7b2461",
   "metadata": {},
   "source": [
    "# Write out dataset stats\n",
    "\n",
    "To copy into the LaTeX doc"
   ]
  },
  {
   "cell_type": "code",
   "execution_count": 9,
   "id": "6f9edc7d-7fcc-4eea-85ac-c50d7f160cbc",
   "metadata": {},
   "outputs": [],
   "source": [
    "tmp = pd.DataFrame(pd.Series({\n",
    "    d + '_' + k : stats[d][k]\n",
    "    for d in stats\n",
    "    for k in stats[d]\n",
    "}), columns=['value'])\n",
    "\n",
    "tmp.index.name = 'datavar'\n",
    "tmp = tmp.reset_index()\n",
    "\n",
    "tmp.to_csv('data/dataset-stats.csv', index=False)"
   ]
  },
  {
   "cell_type": "code",
   "execution_count": 10,
   "id": "e0936c5e-1e41-4444-a786-1b7d72dd242b",
   "metadata": {},
   "outputs": [
    {
     "name": "stdout",
     "output_type": "stream",
     "text": [
      "datavar,value\n",
      "pubmed_num_edges,61110\n",
      "pubmed_num_texts,59381\n",
      "pubmed_num_nodes,19716\n"
     ]
    }
   ],
   "source": [
    "!cat data/dataset-stats.csv"
   ]
  },
  {
   "cell_type": "code",
   "execution_count": null,
   "id": "5a3798a3-210b-4f52-92b6-0306bf036938",
   "metadata": {},
   "outputs": [],
   "source": []
  }
 ],
 "metadata": {
  "kernelspec": {
   "display_name": "congrat",
   "language": "python",
   "name": "python3"
  },
  "language_info": {
   "codemirror_mode": {
    "name": "ipython",
    "version": 3
   },
   "file_extension": ".py",
   "mimetype": "text/x-python",
   "name": "python",
   "nbconvert_exporter": "python",
   "pygments_lexer": "ipython3",
   "version": "3.11.13"
  }
 },
 "nbformat": 4,
 "nbformat_minor": 5
}
