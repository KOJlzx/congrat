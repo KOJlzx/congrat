{
 "cells": [
  {
   "cell_type": "code",
   "execution_count": 1,
   "id": "1b3c874e-9130-4c4a-b46a-bd5d4aa53a67",
   "metadata": {
    "tags": []
   },
   "outputs": [],
   "source": [
    "import os\n",
    "\n",
    "import numpy as np\n",
    "import pandas as pd\n",
    "\n",
    "import torch\n",
    "import torch.nn as nn\n",
    "import torch.nn.functional as F\n",
    "\n",
    "import pytorch_lightning as pl\n",
    "import torch_geometric as pyg\n",
    "\n",
    "import sklearn.metrics as mt\n",
    "\n",
    "from tqdm.notebook import tqdm\n",
    "\n",
    "import clip_graph as cg\n",
    "\n",
    "import utils as ut"
   ]
  },
  {
   "cell_type": "code",
   "execution_count": 2,
   "id": "a107a912-4c1c-4a3a-bced-1ab02b5cc48a",
   "metadata": {
    "tags": []
   },
   "outputs": [],
   "source": [
    "os.chdir(os.path.expanduser('~/lizaixi/congrat'))"
   ]
  },
  {
   "cell_type": "code",
   "execution_count": 3,
   "id": "b5460a31-0d54-42ca-bd40-974165a25097",
   "metadata": {
    "tags": []
   },
   "outputs": [],
   "source": [
    "device = 'cpu'"
   ]
  },
  {
   "cell_type": "code",
   "execution_count": 4,
   "id": "008d5219-357b-4f31-ac22-d509c7b257d5",
   "metadata": {
    "tags": []
   },
   "outputs": [
    {
     "name": "stderr",
     "output_type": "stream",
     "text": [
      "Seed set to 2969591811\n"
     ]
    },
    {
     "data": {
      "text/plain": [
       "2969591811"
      ]
     },
     "execution_count": 4,
     "metadata": {},
     "output_type": "execute_result"
    }
   ],
   "source": [
    "pl.seed_everything(2969591811)"
   ]
  },
  {
   "cell_type": "markdown",
   "id": "98d7e81a-d6e6-48bc-818f-0cb7788b665f",
   "metadata": {
    "tags": []
   },
   "source": [
    "# What should we evaluate?"
   ]
  },
  {
   "cell_type": "code",
   "execution_count": 5,
   "id": "3595a559-d7f9-477d-b178-c9e822d90aa4",
   "metadata": {},
   "outputs": [],
   "source": [
    "datasets = {\n",
    "    'pubmed': {\n",
    "        'svd_init_dataset': 'configs/eval-datasets/pubmed/causal.yaml',\n",
    "        'svd_init_baseline': 'lightning_logs/gnn-pretrain/pubmed/version_2/',\n",
    "        'svd_init_key': 'x',\n",
    "        \n",
    "        'models': {\n",
    "            'causal': {\n",
    "                'base': 'lightning_logs/clip-graph/inductive-causal/pubmed/version_15/',\n",
    "                'sim10': 'lightning_logs/clip-graph/inductive-causal/pubmed/version_21/',\n",
    "            },\n",
    "        },\n",
    "    },\n",
    "}"
   ]
  },
  {
   "cell_type": "markdown",
   "id": "210e5f5d-bf47-4597-aee6-8eed13a5a14e",
   "metadata": {},
   "source": [
    "# Do the evaluation"
   ]
  },
  {
   "cell_type": "code",
   "execution_count": 6,
   "id": "63b92634-0832-49ce-889a-af91b5fa1b0c",
   "metadata": {
    "tags": []
   },
   "outputs": [],
   "source": [
    "def test(z, pos_edge_index, neg_edge_index=None, eps=1e-15):\n",
    "    if neg_edge_index is None:\n",
    "        neg_edge_index = pyg.utils.negative_sampling(pos_edge_index, z.size(0))\n",
    "    \n",
    "    pos_y = z.new_ones(pos_edge_index.size(1))\n",
    "    neg_y = z.new_zeros(neg_edge_index.size(1))\n",
    "    y = torch.cat([pos_y, neg_y], dim=0).long()\n",
    "    y = y.detach().cpu().numpy()\n",
    "\n",
    "    decoder = pyg.nn.models.autoencoder.InnerProductDecoder()\n",
    "    pos_dec = decoder(z, pos_edge_index, sigmoid=True)\n",
    "    neg_dec = decoder(z, neg_edge_index, sigmoid=True)\n",
    "    pred = torch.cat([pos_dec, neg_dec], dim=0)\n",
    "    pred = pred.detach().cpu().numpy()\n",
    "\n",
    "    return {\n",
    "        'auc': mt.roc_auc_score(y, pred),\n",
    "        'ap': mt.average_precision_score(y, pred),\n",
    "        \n",
    "        'recon': (\n",
    "            -torch.log(pos_dec + eps).mean() +\n",
    "            -torch.log(1 - neg_dec + eps).mean()\n",
    "        ).item(),\n",
    "        \n",
    "        # very good scores from our model, but poorly calibrated;\n",
    "        # let's just report the AUC/AP\n",
    "        # 'accuracy': mt.accuracy_score(y, pred > 0.5),\n",
    "        # 'precision': mt.precision_score(y, pred > 0.5),\n",
    "        # 'recall': mt.recall_score(y, pred > 0.5),\n",
    "        # 'f1': mt.f1_score(y, pred > 0.5),\n",
    "    }"
   ]
  },
  {
   "cell_type": "code",
   "execution_count": 8,
   "id": "6e2e01ce-807b-49b3-ad93-f3eab538ca1d",
   "metadata": {
    "tags": []
   },
   "outputs": [
    {
     "data": {
      "application/vnd.jupyter.widget-view+json": {
       "model_id": "1618260a7f6d455ca5931d175ab2b670",
       "version_major": 2,
       "version_minor": 0
      },
      "text/plain": [
       "  0%|          | 0/1 [00:00<?, ?it/s]"
      ]
     },
     "metadata": {},
     "output_type": "display_data"
    },
    {
     "name": "stderr",
     "output_type": "stream",
     "text": [
      "/home/neulab/anaconda3/envs/congrat/lib/python3.11/site-packages/torch/storage.py:414: FutureWarning: You are using `torch.load` with `weights_only=False` (the current default value), which uses the default pickle module implicitly. It is possible to construct malicious pickle data which will execute arbitrary code during unpickling (See https://github.com/pytorch/pytorch/blob/main/SECURITY.md#untrusted-models for more details). In a future release, the default value for `weights_only` will be flipped to `True`. This limits the functions that could be executed during unpickling. Arbitrary objects will no longer be allowed to be loaded via this mode unless they are explicitly allowlisted by the user via `torch.serialization.add_safe_globals`. We recommend you start setting `weights_only=True` for any use case where you don't have full control of the loaded file. Please open an issue on GitHub for any issues related to this experimental feature.\n",
      "  return torch.load(io.BytesIO(b))\n",
      "Seed set to 2969591811\n",
      "Seed set to 2969591811\n"
     ]
    },
    {
     "name": "stdout",
     "output_type": "stream",
     "text": [
      "++++++++++++++++++++ lightning_logs/gnn-pretrain/pubmed/version_2/checkpoints/epoch=19-step=20.ckpt <class 'clip_graph.lit.LitGAE'>\n",
      "++++++++++++++++++++ lightning_logs/gnn-pretrain/pubmed/version_2/checkpoints/epoch=19-step=20.ckpt <class 'clip_graph.lit.LitGAE'>\n"
     ]
    },
    {
     "data": {
      "application/vnd.jupyter.widget-view+json": {
       "model_id": "0e52a91d948a4121824e8cf2deee97a2",
       "version_major": 2,
       "version_minor": 0
      },
      "text/plain": [
       "  0%|          | 0/1 [00:00<?, ?it/s]"
      ]
     },
     "metadata": {},
     "output_type": "display_data"
    },
    {
     "data": {
      "application/vnd.jupyter.widget-view+json": {
       "model_id": "ac57b9de9d984986b1e3e735567c27a6",
       "version_major": 2,
       "version_minor": 0
      },
      "text/plain": [
       "  0%|          | 0/2 [00:00<?, ?it/s]"
      ]
     },
     "metadata": {},
     "output_type": "display_data"
    },
    {
     "name": "stderr",
     "output_type": "stream",
     "text": [
      "Seed set to 2969591811\n"
     ]
    },
    {
     "name": "stdout",
     "output_type": "stream",
     "text": [
      "++++++++++++++++++++ lightning_logs/clip-graph/inductive-causal/pubmed/version_15/checkpoints/epoch=7-step=73496.ckpt <class 'clip_graph.lit.LitClipGraph'>\n"
     ]
    },
    {
     "name": "stderr",
     "output_type": "stream",
     "text": [
      "Seed set to 2969591811\n"
     ]
    },
    {
     "name": "stdout",
     "output_type": "stream",
     "text": [
      "++++++++++++++++++++ lightning_logs/clip-graph/inductive-causal/pubmed/version_21/checkpoints/epoch=7-step=73496.ckpt <class 'clip_graph.lit.LitClipGraph'>\n"
     ]
    },
    {
     "data": {
      "application/vnd.jupyter.widget-view+json": {
       "model_id": "df772d1494d248f484bff1bb53d35b3c",
       "version_major": 2,
       "version_minor": 0
      },
      "text/plain": [
       "  0%|          | 0/4 [00:00<?, ?it/s]"
      ]
     },
     "metadata": {},
     "output_type": "display_data"
    }
   ],
   "source": [
    "results = []\n",
    "\n",
    "for dataset, paths in tqdm(datasets.items()):\n",
    "    #\n",
    "    # Dataset and specific objects to input to models\n",
    "    #\n",
    "    \n",
    "    #clip_graph.data.datamodule.PubmedGraphTextDataModule\n",
    "    dm = cg.utils.datamodule_from_yaml(paths['svd_init_dataset'])['dm']\n",
    "\n",
    "    tx = getattr(dm.train_dataset.dataset.graph_data, paths['svd_init_key']).to(device)\n",
    "    tei = dm.train_dataset.dataset.graph_data.edge_index.to(device)\n",
    "    tnei = dm.train_dataset.dataset.graph_data.neg_edge_index.to(device)\n",
    "\n",
    "    vx = getattr(dm.test_dataset.dataset.graph_data, paths['svd_init_key']).to(device)\n",
    "    vei = dm.test_dataset.dataset.graph_data.edge_index.to(device)\n",
    "    vnei = dm.test_dataset.dataset.graph_data.neg_edge_index.to(device)\n",
    "\n",
    "    #\n",
    "    # Baselines\n",
    "    #\n",
    "    \n",
    "    ## Fine-tuned for graph autoencoding\n",
    "    gn_model = cg.scoring.interpret_ckpt_dir(paths['svd_init_baseline'], dm)['model'].model.encoder\n",
    "    gn_model = gn_model.to(device)\n",
    "    \n",
    "    ## Same architecture, randomly initialized, totally untrained\n",
    "    ckpt = cg.scoring.interpret_ckpt_dir(paths['svd_init_baseline'], dm)\n",
    "    cls = getattr(cg.models, ckpt['config']['model']['init_args']['model_class_name'])\n",
    "    params = ckpt['config']['model']['init_args']['model_params']\n",
    "    bl_model = cls(**params)\n",
    "    bl_model = bl_model.to(device)\n",
    "\n",
    "    #\n",
    "    # Generate embeddings\n",
    "    #\n",
    "\n",
    "    embs = {}\n",
    "\n",
    "    ## First, baselines\n",
    "    with torch.no_grad():\n",
    "        embs[f'{dataset}-baseline'] = gn_model(vx, vei)['output']\n",
    "        embs[f'{dataset}-untrained'] = bl_model(vx, vei)['output']\n",
    "        \n",
    "    ## Other models\n",
    "    for lmtype in tqdm(paths['models'].keys()):\n",
    "        for mod, path in tqdm(paths['models'][lmtype].items()):\n",
    "            # print(\"--_____________________\")\n",
    "            # print(path, dm)\n",
    "            #lightning_logs/clip-graph/inductive-causal/pubmed/version_21/ \n",
    "            # {Train dataloader: size=511}\n",
    "            # {Validation dataloader: size=32}\n",
    "            # {Test dataloader: size=84}\n",
    "            # {Predict dataloader: None}\n",
    "            cg_model = cg.scoring.interpret_ckpt_dir(path, dm)['model'].model\n",
    "            cg_model = cg_model.to(device)\n",
    "            embs[f'{dataset}-{lmtype}_{mod}'] = F.normalize(cg_model.embed_nodes(vx, vei), p=2, dim=1)\n",
    "\n",
    "    res = pd.Series({\n",
    "        k : test(v, vei, vnei)\n",
    "        for k, v in tqdm(embs.items())\n",
    "    }).apply(pd.Series)\n",
    "    \n",
    "    res['dataset'] = res.index.str.split('-').map(lambda s: s[0])\n",
    "    res['model'] = res.index.str.split('-').map(lambda s: s[1])\n",
    "    res = res.reset_index(drop=True).set_index(['dataset', 'model'])\n",
    "    \n",
    "    results += [res]\n",
    "\n",
    "results = pd.concat(results, axis=0)\n",
    "results = results.sort_index()\n",
    "\n",
    "results.to_csv('data/link-prediction-eval.csv', index=True)"
   ]
  },
  {
   "cell_type": "markdown",
   "id": "e5f0bed4-83e1-4fe5-bade-59747459f5c8",
   "metadata": {},
   "source": [
    "# Examine results"
   ]
  },
  {
   "cell_type": "code",
   "execution_count": 9,
   "id": "0c6f13a3-5b2b-480e-aa79-78079f3797f6",
   "metadata": {},
   "outputs": [],
   "source": [
    "results = pd.read_csv('data/link-prediction-eval.csv')\n",
    "results = results.set_index(['dataset', 'model'])"
   ]
  },
  {
   "cell_type": "markdown",
   "id": "dd492f43-cc18-4494-b811-26070b273589",
   "metadata": {},
   "source": [
    "## Display"
   ]
  },
  {
   "cell_type": "code",
   "execution_count": 10,
   "id": "f4ed0071-da8a-4529-8995-f1989e8c80e1",
   "metadata": {},
   "outputs": [
    {
     "data": {
      "text/html": [
       "<div>\n",
       "<style scoped>\n",
       "    .dataframe tbody tr th:only-of-type {\n",
       "        vertical-align: middle;\n",
       "    }\n",
       "\n",
       "    .dataframe tbody tr th {\n",
       "        vertical-align: top;\n",
       "    }\n",
       "\n",
       "    .dataframe thead th {\n",
       "        text-align: right;\n",
       "    }\n",
       "</style>\n",
       "<table border=\"1\" class=\"dataframe\">\n",
       "  <thead>\n",
       "    <tr style=\"text-align: right;\">\n",
       "      <th></th>\n",
       "      <th></th>\n",
       "      <th>auc</th>\n",
       "      <th>ap</th>\n",
       "      <th>recon</th>\n",
       "    </tr>\n",
       "    <tr>\n",
       "      <th>dataset</th>\n",
       "      <th>model</th>\n",
       "      <th></th>\n",
       "      <th></th>\n",
       "      <th></th>\n",
       "    </tr>\n",
       "  </thead>\n",
       "  <tbody>\n",
       "    <tr>\n",
       "      <th rowspan=\"4\" valign=\"top\">pubmed</th>\n",
       "      <th>baseline</th>\n",
       "      <td>0.759655</td>\n",
       "      <td>0.800513</td>\n",
       "      <td>1.767621</td>\n",
       "    </tr>\n",
       "    <tr>\n",
       "      <th>causal_base</th>\n",
       "      <td>0.962295</td>\n",
       "      <td>0.953642</td>\n",
       "      <td>1.271247</td>\n",
       "    </tr>\n",
       "    <tr>\n",
       "      <th>causal_sim10</th>\n",
       "      <td>0.962773</td>\n",
       "      <td>0.954242</td>\n",
       "      <td>1.274712</td>\n",
       "    </tr>\n",
       "    <tr>\n",
       "      <th>untrained</th>\n",
       "      <td>0.536332</td>\n",
       "      <td>0.520224</td>\n",
       "      <td>29.225744</td>\n",
       "    </tr>\n",
       "  </tbody>\n",
       "</table>\n",
       "</div>"
      ],
      "text/plain": [
       "                           auc        ap      recon\n",
       "dataset model                                      \n",
       "pubmed  baseline      0.759655  0.800513   1.767621\n",
       "        causal_base   0.962295  0.953642   1.271247\n",
       "        causal_sim10  0.962773  0.954242   1.274712\n",
       "        untrained     0.536332  0.520224  29.225744"
      ]
     },
     "metadata": {},
     "output_type": "display_data"
    }
   ],
   "source": [
    "with pd.option_context('display.max_rows', None):\n",
    "    display(results)"
   ]
  },
  {
   "cell_type": "markdown",
   "id": "6b85d282-be37-45c2-acdb-82cb0a2733f5",
   "metadata": {},
   "source": [
    "## Tables for paper"
   ]
  },
  {
   "cell_type": "code",
   "execution_count": 15,
   "id": "2b67bb12-41f4-4af3-b2eb-84842a71e18f",
   "metadata": {},
   "outputs": [
    {
     "name": "stderr",
     "output_type": "stream",
     "text": [
      "/tmp/ipykernel_1875611/4258940796.py:74: PerformanceWarning: dropping on a non-lexsorted multi-index without a level parameter may impact performance.\n",
      "  tmp = tmp.drop('alpha', axis=1)\n"
     ]
    }
   ],
   "source": [
    "mods = [\n",
    "    'baseline', 'untrained',\n",
    "    'causal_base', \n",
    "]\n",
    "\n",
    "tmp = results.loc[pd.IndexSlice[:, mods], :].sort_index()\n",
    "tmp = tmp['auc'].reset_index().copy()\n",
    "\n",
    "model_map = {\n",
    "    **{\n",
    "        k : k\n",
    "        for k in tmp['model'].unique()\n",
    "        if k not in ('baseline', 'untrained')\n",
    "    },\n",
    "    \n",
    "    **{\n",
    "        'baseline': 'baseline_svd',\n",
    "        'untrained': 'baseline_untrained',\n",
    "    }\n",
    "}\n",
    "\n",
    "tmp['model'] = tmp['model'].map(model_map)\n",
    "tmp['type'] = tmp['model'].apply(lambda s: s.split('_')[0])\n",
    "tmp['model'] = tmp['model'].apply(lambda s: s.split('_')[1])\n",
    "\n",
    "tmp = tmp.loc[tmp['model'] != 'untrained', :]\n",
    "\n",
    "tmp = tmp.set_index(['dataset', 'type', 'model'])\n",
    "tmp = tmp.sort_index()\n",
    "tmp = tmp.unstack(0)\n",
    "tmp.columns = tmp.columns.droplevel(0)\n",
    "tmp = tmp.loc[['causal', 'baseline'], :]\n",
    "\n",
    "tmp.index = tmp.index.set_levels(tmp.index.levels[0].map({\n",
    "    'causal': 'Causal',\n",
    "    'baseline': 'GNN Autoencoder',\n",
    "}), level=0)\n",
    "\n",
    "tmp.index = tmp.index.set_levels(tmp.index.levels[1].map({\n",
    "    'base': r'$\\alpha = 0$',\n",
    "    'sim10': r'$\\alpha = 0.1$',\n",
    "    'svd': 'SVD',\n",
    "    'untrained': 'Untrained GNN',\n",
    "}), level=1)\n",
    "\n",
    "tmp.index.names = ['', '']\n",
    "tmp.index = tmp.index.swaplevel()\n",
    "tmp = tmp.sort_index()\n",
    "\n",
    "tmp = tmp[['pubmed']]\n",
    "\n",
    "tmp.columns = tmp.columns.map({\n",
    "    'pubmed': 'Undirected-Pubmed',\n",
    "    'trex': 'Undirected-TRex',\n",
    "    'twitter_small': 'Undirected-Twitter',\n",
    "\n",
    "    'pubmed_directed': 'Directed-Pubmed',\n",
    "    'trex_directed': 'Directed-TRex',\n",
    "    'twitter_small_directed': 'Directed-Twitter'\n",
    "})\n",
    "\n",
    "tmp.columns = pd.MultiIndex.from_frame(pd.DataFrame(tmp.columns.to_series().reset_index(drop=True).str.split('-').tolist()))\n",
    "\n",
    "tmp.columns.name = ''\n",
    "tmp.columns.names = ['', '']\n",
    "\n",
    "tmp.index.names = ['alpha', 'txt']\n",
    "tmp = tmp.reset_index()\n",
    "tmp['txt'] = 'ConGraT-' + tmp['txt']\n",
    "tmp['txt'] = tmp['txt'] + ' (' + tmp['alpha'] + ')'\n",
    "\n",
    "tmp.loc[tmp['txt'] == 'ConGraT-GNN Autoencoder (Baseline)', 'txt'] = 'GAT Autoencoder (Baseline)'\n",
    "\n",
    "tmp = tmp.drop('alpha', axis=1)\n",
    "\n",
    "# tmp = tmp.apply(np.roll, shift=1)\n",
    "\n",
    "tmp = tmp.set_index('txt')\n",
    "tmp.index.name = ''"
   ]
  },
  {
   "cell_type": "code",
   "execution_count": 16,
   "id": "2ec6f481-b351-46aa-b00b-c495d933b6a5",
   "metadata": {},
   "outputs": [
    {
     "name": "stderr",
     "output_type": "stream",
     "text": [
      "/tmp/ipykernel_1875611/2449844411.py:3: FutureWarning: Series.__getitem__ treating keys as positions is deprecated. In a future version, integer keys will always be treated as labels (consistent with DataFrame behavior). To access a value by position, use `ser.iloc[pos]`\n",
      "  ut.bold_above_thresh(s[:-1], s[-2]),\n"
     ]
    },
    {
     "data": {
      "text/html": [
       "<style type=\"text/css\">\n",
       "</style>\n",
       "<table id=\"T_5d12a\">\n",
       "  <thead>\n",
       "    <tr>\n",
       "      <th class=\"index_name level0\" ></th>\n",
       "      <th id=\"T_5d12a_level0_col0\" class=\"col_heading level0 col0\" >Undirected</th>\n",
       "    </tr>\n",
       "    <tr>\n",
       "      <th class=\"index_name level1\" ></th>\n",
       "      <th id=\"T_5d12a_level1_col0\" class=\"col_heading level1 col0\" >Pubmed</th>\n",
       "    </tr>\n",
       "    <tr>\n",
       "      <th class=\"index_name level0\" ></th>\n",
       "      <th class=\"blank col0\" >&nbsp;</th>\n",
       "    </tr>\n",
       "  </thead>\n",
       "  <tbody>\n",
       "    <tr>\n",
       "      <th id=\"T_5d12a_level0_row0\" class=\"row_heading level0 row0\" >ConGraT-Causal ($\\alpha = 0$)</th>\n",
       "      <td id=\"T_5d12a_row0_col0\" class=\"data row0 col0\" >0.962</td>\n",
       "    </tr>\n",
       "    <tr>\n",
       "      <th id=\"T_5d12a_level0_row1\" class=\"row_heading level0 row1\" >ConGraT-GNN Autoencoder (SVD)</th>\n",
       "      <td id=\"T_5d12a_row1_col0\" class=\"data row1 col0\" >0.760</td>\n",
       "    </tr>\n",
       "  </tbody>\n",
       "</table>\n"
      ],
      "text/plain": [
       "<pandas.io.formats.style.Styler at 0x7ff12f897dd0>"
      ]
     },
     "metadata": {},
     "output_type": "display_data"
    }
   ],
   "source": [
    "def bold_except_last_row(s):\n",
    "    return pd.concat([\n",
    "        ut.bold_above_thresh(s[:-1], s[-2]),\n",
    "        pd.Series([''], index=[s.index[-1]]),\n",
    "    ])\n",
    "\n",
    "tab = tmp.style \\\n",
    "    .format(precision=3, na_rep='--') \\\n",
    "    .apply(bold_except_last_row, axis=0)\n",
    "    \n",
    "with pd.option_context('display.html.use_mathjax', True):\n",
    "    display(tab)"
   ]
  },
  {
   "cell_type": "code",
   "execution_count": 17,
   "id": "f632fc88-a556-4696-a288-7b1039aae9e4",
   "metadata": {},
   "outputs": [
    {
     "name": "stdout",
     "output_type": "stream",
     "text": [
      "\\begin{table*}[ht]\n",
      "\\centering\n",
      "\\label{tab:link-prediction}\n",
      "\\begin{tabular}{lcccccc}\n",
      "\\toprule\n",
      " & Undirected \\\\\n",
      " & Pubmed \\\\\n",
      " &  \\\\\n",
      "\\midrule\n",
      "ConGraT-Causal ($\\alpha = 0$) & 0.962 \\\\\n",
      "ConGraT-GNN Autoencoder (SVD) & 0.760 \\\\\n",
      "\\bottomrule\n",
      "\\end{tabular}\n",
      "\\end{table*}\n",
      "\n"
     ]
    },
    {
     "name": "stderr",
     "output_type": "stream",
     "text": [
      "/tmp/ipykernel_1875611/2449844411.py:3: FutureWarning: Series.__getitem__ treating keys as positions is deprecated. In a future version, integer keys will always be treated as labels (consistent with DataFrame behavior). To access a value by position, use `ser.iloc[pos]`\n",
      "  ut.bold_above_thresh(s[:-1], s[-2]),\n"
     ]
    }
   ],
   "source": [
    "print(tab.to_latex(\n",
    "        hrules = True,\n",
    "        column_format = 'lcccccc',\n",
    "        position = 'ht',\n",
    "        label = 'tab:link-prediction',\n",
    "        multicol_align = '|c',\n",
    "        position_float = 'centering',\n",
    "        environment = 'table*',\n",
    "        convert_css = True,\n",
    "    ))"
   ]
  },
  {
   "cell_type": "code",
   "execution_count": null,
   "id": "faf490bc-9363-4fe0-8b1d-f293366264c9",
   "metadata": {},
   "outputs": [],
   "source": []
  }
 ],
 "metadata": {
  "kernelspec": {
   "display_name": "congrat",
   "language": "python",
   "name": "python3"
  },
  "language_info": {
   "codemirror_mode": {
    "name": "ipython",
    "version": 3
   },
   "file_extension": ".py",
   "mimetype": "text/x-python",
   "name": "python",
   "nbconvert_exporter": "python",
   "pygments_lexer": "ipython3",
   "version": "3.11.13"
  },
  "widgets": {
   "application/vnd.jupyter.widget-state+json": {
    "state": {},
    "version_major": 2,
    "version_minor": 0
   }
  }
 },
 "nbformat": 4,
 "nbformat_minor": 5
}
